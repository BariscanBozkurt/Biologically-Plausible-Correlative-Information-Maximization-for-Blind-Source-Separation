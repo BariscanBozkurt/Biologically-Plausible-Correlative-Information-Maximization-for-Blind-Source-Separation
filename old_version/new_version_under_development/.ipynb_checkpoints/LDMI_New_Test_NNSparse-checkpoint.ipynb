{
 "cells": [
  {
   "cell_type": "code",
   "execution_count": 1,
   "id": "ddf55b3e",
   "metadata": {},
   "outputs": [],
   "source": [
    "from IPython import display\n",
    "from IPython.display import clear_output\n",
    "import pylab as pl\n",
    "import numpy as np\n",
    "import matplotlib.pyplot as plt\n",
    "from numba import njit, jit\n",
    "from time import time\n",
    "# from helpers import *\n",
    "from LDMIBSSv2 import *\n",
    "# np.random.seed(13)\n",
    "%load_ext autoreload\n",
    "%autoreload 2"
   ]
  },
  {
   "cell_type": "code",
   "execution_count": 2,
   "id": "af4e7f8a",
   "metadata": {},
   "outputs": [
    {
     "name": "stdout",
     "output_type": "stream",
     "text": [
      "The following is the correlation matrix of sources\n"
     ]
    },
    {
     "data": {
      "text/latex": [
       "$\\displaystyle \\begin{bmatrix} \n",
       " 1.000 & -0.093 & -0.094 & -0.093 & -0.095 & \\\\\n",
       " -0.093 & 1.000 & -0.093 & -0.093 & -0.092 & \\\\\n",
       " -0.094 & -0.093 & 1.000 & -0.093 & -0.093 & \\\\\n",
       " -0.093 & -0.093 & -0.093 & 1.000 & -0.092 & \\\\\n",
       " -0.095 & -0.092 & -0.093 & -0.092 & 1.000 & \\\\\n",
       "\\end{bmatrix}$"
      ],
      "text/plain": [
       "<IPython.core.display.Math object>"
      ]
     },
     "metadata": {},
     "output_type": "display_data"
    },
    {
     "data": {
      "text/plain": [
       "<matplotlib.collections.PathCollection at 0x7fa72cbe4a90>"
      ]
     },
     "execution_count": 2,
     "metadata": {},
     "output_type": "execute_result"
    },
    {
     "data": {
      "image/png": "[encoded data removed]",
      "text/plain": [
       "<Figure size 432x288 with 1 Axes>"
      ]
     },
     "metadata": {
      "needs_background": "light"
     },
     "output_type": "display_data"
    }
   ],
   "source": [
    "N = 500000\n",
    "NumberofSources = 5\n",
    "NumberofMixtures = 10\n",
    "S = generate_correlated_copula_sources(rho = 0.0, df = 4, n_sources = NumberofSources, size_sources = N , decreasing_correlation = True)\n",
    "S = 4 * S - 2\n",
    "S = ProjectRowstoL1NormBall(S.T).T\n",
    "S = S* (S>=0)\n",
    "\n",
    "print(\"The following is the correlation matrix of sources\")\n",
    "display_matrix(np.corrcoef(S))\n",
    "\n",
    "plt.scatter(S[0,:], S[2,:])"
   ]
  },
  {
   "cell_type": "code",
   "execution_count": 3,
   "id": "2054121b",
   "metadata": {},
   "outputs": [
    {
     "name": "stdout",
     "output_type": "stream",
     "text": [
      "The following is the mixture matrix A\n"
     ]
    },
    {
     "data": {
      "text/latex": [
       "$\\displaystyle \\begin{bmatrix} \n",
       " -2.432 & 0.806 & -1.139 & 0.782 & -1.842 & \\\\\n",
       " 1.143 & 0.886 & -0.390 & -1.853 & -0.343 & \\\\\n",
       " 1.324 & 0.658 & -0.531 & 0.227 & 1.093 & \\\\\n",
       " -1.232 & 1.232 & 0.935 & -1.395 & -2.511 & \\\\\n",
       " 1.398 & -0.346 & -0.908 & 1.219 & 0.202 & \\\\\n",
       " 0.496 & -0.137 & -1.352 & -0.407 & -0.894 & \\\\\n",
       " 0.130 & 0.496 & 0.474 & -0.582 & 0.123 & \\\\\n",
       " 0.210 & -0.192 & -1.514 & -1.144 & 0.094 & \\\\\n",
       " 0.605 & 0.235 & 0.529 & -1.622 & 0.613 & \\\\\n",
       " 0.386 & 1.380 & -0.407 & -2.091 & -1.449 & \\\\\n",
       "\\end{bmatrix}$"
      ],
      "text/plain": [
       "<IPython.core.display.Math object>"
      ]
     },
     "metadata": {},
     "output_type": "display_data"
    },
    {
     "name": "stdout",
     "output_type": "stream",
     "text": [
      "Input SNR is : 23.575698504651818\n"
     ]
    }
   ],
   "source": [
    "# Generate Mxr random mixing from i.i.d N(0,1)\n",
    "A = np.random.randn(NumberofMixtures,NumberofSources)\n",
    "X = np.dot(A,S)\n",
    "\n",
    "print(\"The following is the mixture matrix A\")\n",
    "display_matrix(A)\n",
    "\n",
    "SNR = 30 # dB\n",
    "NoiseAmp = (10 ** (-SNR/20))# * np.sqrt(NumberofSources)\n",
    "NoisePart = NoiseAmp * np.random.randn(X.shape[0], X.shape[1])\n",
    "X = X  + NoisePart\n",
    "SNRinp = 10 * np.log10(np.sum(np.var(X, axis = 1)) / np.sum(np.var(NoisePart, axis = 1)))\n",
    "print(\"Input SNR is : {}\".format(SNRinp))"
   ]
  },
  {
   "cell_type": "code",
   "execution_count": 4,
   "id": "766e7d62",
   "metadata": {},
   "outputs": [],
   "source": [
    "lambday = 1 - 1e-1/10\n",
    "lambdae = 1 - 1e-7/10\n",
    "beta = 30\n",
    "s_dim = S.shape[0]\n",
    "x_dim = X.shape[0]\n",
    "\n",
    "# Inverse output covariance\n",
    "By = 5 * np.eye(s_dim)\n",
    "# Inverse error covariance\n",
    "Be = 1 * np.eye(s_dim)\n",
    "\n",
    "debug_iteration_point = 1000\n",
    "model = OnlineLDMIBSS(s_dim = s_dim, x_dim = x_dim, muW = 1e-3, lambday = lambday,\n",
    "                      lambdae = lambdae, beta = beta, By = By, Be = Be, neural_OUTPUT_COMP_TOL = 1e-6,\n",
    "                      set_ground_truth = True, S = S, A = A)"
   ]
  },
  {
   "cell_type": "code",
   "execution_count": null,
   "id": "3d958643",
   "metadata": {},
   "outputs": [
    {
     "data": {
      "image/png": "[encoded data removed]",
      "text/plain": [
       "<Figure size 432x288 with 1 Axes>"
      ]
     },
     "metadata": {},
     "output_type": "display_data"
    },
    {
     "name": "stderr",
     "output_type": "stream",
     "text": [
      "\r",
      "  9%|███                               | 45001/500000 [00:12<01:56, 3898.30it/s]"
     ]
    }
   ],
   "source": [
    "model.fit_batch_nnsparse(X = X, n_epochs = 1, neural_dynamic_iterations = 500,\n",
    "                             plot_in_jupyter = True, neural_lr_start = 0.1,\n",
    "                             neural_lr_stop = 0.001, debug_iteration_point = debug_iteration_point, \n",
    "                             shuffle = True)"
   ]
  },
  {
   "cell_type": "code",
   "execution_count": null,
   "id": "abed83a0",
   "metadata": {},
   "outputs": [],
   "source": []
  }
 ],
 "metadata": {
  "kernelspec": {
   "display_name": "Python 3 (ipykernel)",
   "language": "python",
   "name": "python3"
  },
  "language_info": {
   "codemirror_mode": {
    "name": "ipython",
    "version": 3
   },
   "file_extension": ".py",
   "mimetype": "text/x-python",
   "name": "python",
   "nbconvert_exporter": "python",
   "pygments_lexer": "ipython3",
   "version": "3.8.12"
  }
 },
 "nbformat": 4,
 "nbformat_minor": 5
}
