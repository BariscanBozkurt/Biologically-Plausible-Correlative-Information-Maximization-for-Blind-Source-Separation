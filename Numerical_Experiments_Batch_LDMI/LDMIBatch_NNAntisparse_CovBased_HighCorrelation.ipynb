{
 "cells": [
  {
   "cell_type": "code",
   "execution_count": 1,
   "id": "21d94d44",
   "metadata": {},
   "outputs": [],
   "source": [
    "import sys\n",
    "import os\n",
    "os.chdir(\"..\")\n",
    "os.chdir(\"./src\")\n",
    "# sys.path.append(\"./src\")"
   ]
  },
  {
   "cell_type": "code",
   "execution_count": 2,
   "id": "96d233ea",
   "metadata": {},
   "outputs": [],
   "source": [
    "from IPython import display\n",
    "from IPython.display import clear_output\n",
    "import pylab as pl\n",
    "import numpy as np\n",
    "import matplotlib.pyplot as plt\n",
    "from numba import njit, jit\n",
    "from time import time\n",
    "# from helpers import *\n",
    "from LDMIBSS import *\n",
    "# np.random.seed(100)\n",
    "%load_ext autoreload\n",
    "%autoreload 2"
   ]
  },
  {
   "cell_type": "code",
   "execution_count": 3,
   "id": "f347c550",
   "metadata": {},
   "outputs": [
    {
     "name": "stdout",
     "output_type": "stream",
     "text": [
      "The following is the correlation matrix of sources\n"
     ]
    },
    {
     "data": {
      "text/latex": [
       "$\\displaystyle \\begin{bmatrix} \n",
       " 1.000 & 0.882 & 0.884 & 0.883 & 0.882 & \\\\\n",
       " 0.882 & 1.000 & 0.884 & 0.882 & 0.884 & \\\\\n",
       " 0.884 & 0.884 & 1.000 & 0.881 & 0.881 & \\\\\n",
       " 0.883 & 0.882 & 0.881 & 1.000 & 0.879 & \\\\\n",
       " 0.882 & 0.884 & 0.881 & 0.879 & 1.000 & \\\\\n",
       "\\end{bmatrix}$"
      ],
      "text/plain": [
       "<IPython.core.display.Math object>"
      ]
     },
     "metadata": {},
     "output_type": "display_data"
    },
    {
     "name": "stdout",
     "output_type": "stream",
     "text": [
      "The following is the mixture matrix A\n"
     ]
    },
    {
     "data": {
      "text/latex": [
       "$\\displaystyle \\begin{bmatrix} \n",
       " 1.028 & -1.224 & 0.297 & -1.354 & 0.859 & \\\\\n",
       " 1.441 & -1.012 & 0.077 & 0.292 & -0.418 & \\\\\n",
       " -0.376 & -0.056 & 0.970 & 1.444 & 0.073 & \\\\\n",
       " -0.621 & -0.267 & 0.160 & -1.586 & 1.764 & \\\\\n",
       " -0.006 & 0.536 & 0.208 & -0.313 & -0.393 & \\\\\n",
       " -0.819 & 0.528 & -0.810 & -1.116 & 0.347 & \\\\\n",
       " 2.843 & -0.673 & -0.573 & -0.842 & 0.320 & \\\\\n",
       " -0.336 & -1.860 & 0.590 & -1.224 & 0.080 & \\\\\n",
       "\\end{bmatrix}$"
      ],
      "text/plain": [
       "<IPython.core.display.Math object>"
      ]
     },
     "metadata": {},
     "output_type": "display_data"
    },
    {
     "name": "stdout",
     "output_type": "stream",
     "text": [
      "Input SNR is : 23.042693538630516\n"
     ]
    }
   ],
   "source": [
    "N = 10000\n",
    "NumberofSources = 5\n",
    "NumberofMixtures = 8\n",
    "S = generate_correlated_copula_sources(rho = 0.9, df = 4, n_sources = NumberofSources, \n",
    "                                       size_sources = N , decreasing_correlation = False)\n",
    "print(\"The following is the correlation matrix of sources\")\n",
    "display_matrix(np.corrcoef(S))\n",
    "\n",
    "# Generate Mxr random mixing from i.i.d N(0,1)\n",
    "A = np.random.randn(NumberofMixtures,NumberofSources)\n",
    "X = np.dot(A,S)\n",
    "\n",
    "SNR = 30 # dB\n",
    "NoiseAmp = (10 ** (-SNR/20))# * np.sqrt(NumberofSources)\n",
    "NoisePart = NoiseAmp * np.random.randn(X.shape[0], X.shape[1])\n",
    "X = X  + NoisePart\n",
    "SNRinp = 10 * np.log10(np.sum(np.var(X, axis = 1)) / np.sum(np.var(NoisePart, axis = 1)))\n",
    "print(\"The following is the mixture matrix A\")\n",
    "display_matrix(A)\n",
    "print(\"Input SNR is : {}\".format(SNRinp))"
   ]
  },
  {
   "cell_type": "code",
   "execution_count": 4,
   "id": "83583247",
   "metadata": {},
   "outputs": [],
   "source": [
    "s_dim = S.shape[0]\n",
    "x_dim = X.shape[0]\n",
    "debug_iteration_point = 200\n",
    "model = LDMIBSS(s_dim = s_dim, x_dim = x_dim,\n",
    "                set_ground_truth = True, S = S, A = A)"
   ]
  },
  {
   "cell_type": "code",
   "execution_count": 5,
   "id": "bb6210bf",
   "metadata": {
    "scrolled": true
   },
   "outputs": [
    {
     "data": {
      "image/png": "[encoded data removed]",
      "text/plain": [
       "<Figure size 432x288 with 1 Axes>"
      ]
     },
     "metadata": {},
     "output_type": "display_data"
    },
    {
     "data": {
      "image/png": "[encoded data removed]",
      "text/plain": [
       "<Figure size 432x288 with 1 Axes>"
      ]
     },
     "metadata": {
      "needs_background": "light"
     },
     "output_type": "display_data"
    }
   ],
   "source": [
    "model.fit_batch_nnantisparse(X, epsilon = 1e-5, mu_start = 100, n_iterations = 10000, \n",
    "                           method = \"covariance\", debug_iteration_point = debug_iteration_point,\n",
    "                           plot_in_jupyter = True)"
   ]
  },
  {
   "cell_type": "code",
   "execution_count": 6,
   "id": "5859cc50",
   "metadata": {},
   "outputs": [
    {
     "data": {
      "text/plain": [
       "26.223596331062147"
      ]
     },
     "execution_count": 6,
     "metadata": {},
     "output_type": "execute_result"
    }
   ],
   "source": [
    "W = model.W\n",
    "Y = W @ X\n",
    "10 * np.log10(CalculateSINR(Y, S)[0])"
   ]
  },
  {
   "cell_type": "code",
   "execution_count": 7,
   "id": "8bba655d",
   "metadata": {},
   "outputs": [
    {
     "data": {
      "text/plain": [
       "(20.505649345365953, 5)"
      ]
     },
     "execution_count": 7,
     "metadata": {},
     "output_type": "execute_result"
    }
   ],
   "source": [
    "CalculateSIR(A,W)"
   ]
  },
  {
   "cell_type": "code",
   "execution_count": 8,
   "id": "f42fc0cb",
   "metadata": {},
   "outputs": [
    {
     "data": {
      "text/plain": [
       "array([28.6123734 , 25.96474422, 24.29491256, 27.05207292, 25.93235899])"
      ]
     },
     "execution_count": 8,
     "metadata": {},
     "output_type": "execute_result"
    }
   ],
   "source": [
    "Y = W @ X\n",
    "Y.shape, X.shape, S.shape\n",
    "Y_ = signed_and_permutation_corrected_sources(S.T,Y.T).T\n",
    "snr(S.T, Y_.T)"
   ]
  },
  {
   "cell_type": "code",
   "execution_count": null,
   "id": "b3570145",
   "metadata": {},
   "outputs": [],
   "source": []
  }
 ],
 "metadata": {
  "kernelspec": {
   "display_name": "Python 3 (ipykernel)",
   "language": "python",
   "name": "python3"
  },
  "language_info": {
   "codemirror_mode": {
    "name": "ipython",
    "version": 3
   },
   "file_extension": ".py",
   "mimetype": "text/x-python",
   "name": "python",
   "nbconvert_exporter": "python",
   "pygments_lexer": "ipython3",
   "version": "3.8.12"
  }
 },
 "nbformat": 4,
 "nbformat_minor": 5
}
