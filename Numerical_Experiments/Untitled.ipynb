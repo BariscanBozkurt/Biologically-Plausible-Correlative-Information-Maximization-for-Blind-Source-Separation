{
 "cells": [
  {
   "cell_type": "code",
   "execution_count": 1,
   "id": "086ad0c1",
   "metadata": {},
   "outputs": [],
   "source": [
    "import sys\n",
    "import os\n",
    "os.chdir(\"..\")\n",
    "os.chdir(\"./src\")\n",
    "# sys.path.append(\"./src\")"
   ]
  },
  {
   "cell_type": "code",
   "execution_count": 2,
   "id": "0e51fe02",
   "metadata": {},
   "outputs": [],
   "source": [
    "from IPython import display\n",
    "from IPython.display import clear_output\n",
    "import pylab as pl\n",
    "import numpy as np\n",
    "import matplotlib.pyplot as plt\n",
    "from numba import njit, jit\n",
    "from time import time\n",
    "# from helpers import *\n",
    "from LDMIBSS import *\n",
    "# np.random.seed(13)\n",
    "%load_ext autoreload\n",
    "%autoreload 2"
   ]
  },
  {
   "cell_type": "code",
   "execution_count": 3,
   "id": "9ba77d4d",
   "metadata": {},
   "outputs": [
    {
     "name": "stdout",
     "output_type": "stream",
     "text": [
      "The following is the correlation matrix of sources\n"
     ]
    },
    {
     "data": {
      "text/latex": [
       "$\\displaystyle \\begin{bmatrix} \n",
       " 1.000 & 0.469 & 0.233 & 0.116 & 0.059 & \\\\\n",
       " 0.469 & 1.000 & 0.468 & 0.233 & 0.115 & \\\\\n",
       " 0.233 & 0.468 & 1.000 & 0.470 & 0.231 & \\\\\n",
       " 0.116 & 0.233 & 0.470 & 1.000 & 0.466 & \\\\\n",
       " 0.059 & 0.115 & 0.231 & 0.466 & 1.000 & \\\\\n",
       "\\end{bmatrix}$"
      ],
      "text/plain": [
       "<IPython.core.display.Math object>"
      ]
     },
     "metadata": {},
     "output_type": "display_data"
    },
    {
     "name": "stdout",
     "output_type": "stream",
     "text": [
      "The following is the mixture matrix A\n"
     ]
    },
    {
     "data": {
      "text/latex": [
       "$\\displaystyle \\begin{bmatrix} \n",
       " 0.170 & -0.098 & 2.536 & 0.867 & 1.116 & \\\\\n",
       " -2.034 & 2.082 & 0.196 & 0.411 & 1.664 & \\\\\n",
       " -0.247 & 1.312 & 0.276 & -0.942 & 0.669 & \\\\\n",
       " 0.097 & -1.052 & -1.420 & -1.248 & -0.549 & \\\\\n",
       " -0.832 & 0.054 & 0.068 & -1.484 & -1.787 & \\\\\n",
       " -1.100 & -0.091 & -0.470 & 1.133 & 2.012 & \\\\\n",
       " -0.783 & -1.483 & 0.448 & 1.421 & 0.581 & \\\\\n",
       " 0.591 & 1.974 & 1.084 & 0.331 & 0.958 & \\\\\n",
       " 0.211 & -0.144 & 1.461 & -0.093 & 1.479 & \\\\\n",
       " 0.342 & 0.604 & -0.544 & 0.748 & 1.051 & \\\\\n",
       "\\end{bmatrix}$"
      ],
      "text/plain": [
       "<IPython.core.display.Math object>"
      ]
     },
     "metadata": {},
     "output_type": "display_data"
    },
    {
     "name": "stdout",
     "output_type": "stream",
     "text": [
      "Input SNR is : 33.99383590854762\n"
     ]
    }
   ],
   "source": [
    "N = 500000\n",
    "NumberofSources = 5\n",
    "NumberofMixtures = 10\n",
    "S = generate_correlated_copula_sources(rho = 0.5, df = 4, n_sources = NumberofSources, size_sources = N , decreasing_correlation = True)\n",
    "S = 2 * S -1 \n",
    "print(\"The following is the correlation matrix of sources\")\n",
    "display_matrix(np.corrcoef(S))\n",
    "\n",
    "# Generate Mxr random mixing from i.i.d N(0,1)\n",
    "A = np.random.randn(NumberofMixtures,NumberofSources)\n",
    "X = np.dot(A,S)\n",
    "\n",
    "SNR = 30 # dB\n",
    "NoiseAmp = (10 ** (-SNR/20))# * np.sqrt(NumberofSources)\n",
    "NoisePart = NoiseAmp * np.random.randn(X.shape[0], X.shape[1])\n",
    "X = X  + NoisePart\n",
    "SNRinp = 10 * np.log10(np.sum(np.var(X, axis = 1)) / np.sum(np.var(NoisePart, axis = 1)))\n",
    "print(\"The following is the mixture matrix A\")\n",
    "display_matrix(A)\n",
    "print(\"Input SNR is : {}\".format(SNRinp))"
   ]
  },
  {
   "cell_type": "code",
   "execution_count": null,
   "id": "068c68ec",
   "metadata": {},
   "outputs": [
    {
     "data": {
      "image/png": "[encoded data removed]",
      "text/plain": [
       "<Figure size 432x288 with 1 Axes>"
      ]
     },
     "metadata": {},
     "output_type": "display_data"
    }
   ],
   "source": [
    "muW =2e-3\n",
    "p = 1\n",
    "bet = 30\n",
    "r = NumberofSources\n",
    "M = NumberofMixtures\n",
    "debug_iteration_point = 500\n",
    "\n",
    "modelWhitening = OnlineWhiten(s_dim = r, x_dim = M, muW = muW, p = p, bet = bet)\n",
    "\n",
    "modelWhitening.fit_batch_whiten(X = X, n_epochs = 1, neural_dynamic_iterations = 150, neural_lr_start = .1, \n",
    "                       neural_lr_stop = 1e-3, shuffle = True, required_SIR = 90,\n",
    "                       debug_iteration_point = debug_iteration_point, plot_in_jupyter = True)"
   ]
  },
  {
   "cell_type": "code",
   "execution_count": null,
   "id": "8e068147",
   "metadata": {},
   "outputs": [],
   "source": [
    "Wpre = model.Winv\n",
    "X = Wpre @ X\n",
    "A = Wpre @ A"
   ]
  },
  {
   "cell_type": "code",
   "execution_count": null,
   "id": "1e8de25c",
   "metadata": {},
   "outputs": [],
   "source": [
    "lambday = 1 - 1e-5/10\n",
    "lambdae = 1 - 1e-6/10\n",
    "\n",
    "s_dim = S.shape[0]\n",
    "x_dim = X.shape[0]\n",
    "\n",
    "# Inverse output covariance\n",
    "By = 5 * np.eye(s_dim)\n",
    "# Inverse error covariance\n",
    "Be = 100 * np.eye(s_dim)\n",
    "\n",
    "debug_iteration_point = 1000\n",
    "model = OnlineLDMIBSS(s_dim = s_dim, x_dim = x_dim, muW = 2e-3, lambday = lambday,\n",
    "                      lambdae = lambdae, By = By, Be = Be, neural_OUTPUT_COMP_TOL = 1e-7,\n",
    "                      set_ground_truth = True, S = S, A = A)"
   ]
  },
  {
   "cell_type": "code",
   "execution_count": null,
   "id": "5590a490",
   "metadata": {},
   "outputs": [],
   "source": [
    "model.fit_batch_antisparse(X = X, n_epochs = 1, neural_dynamic_iterations = 5,\n",
    "                           plot_in_jupyter = True, neural_lr_start = 1.5,\n",
    "                           neural_lr_stop = 0.001, debug_iteration_point = debug_iteration_point, \n",
    "                           shuffle = True)"
   ]
  },
  {
   "cell_type": "code",
   "execution_count": null,
   "id": "06f5cad3",
   "metadata": {},
   "outputs": [],
   "source": []
  }
 ],
 "metadata": {
  "kernelspec": {
   "display_name": "Python 3 (ipykernel)",
   "language": "python",
   "name": "python3"
  },
  "language_info": {
   "codemirror_mode": {
    "name": "ipython",
    "version": 3
   },
   "file_extension": ".py",
   "mimetype": "text/x-python",
   "name": "python",
   "nbconvert_exporter": "python",
   "pygments_lexer": "ipython3",
   "version": "3.8.12"
  }
 },
 "nbformat": 4,
 "nbformat_minor": 5
}
