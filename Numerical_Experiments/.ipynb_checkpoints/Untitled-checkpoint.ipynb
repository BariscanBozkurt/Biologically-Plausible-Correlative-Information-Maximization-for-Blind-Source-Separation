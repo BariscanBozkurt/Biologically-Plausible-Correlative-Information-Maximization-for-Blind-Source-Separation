{
 "cells": [
  {
   "cell_type": "code",
   "execution_count": 1,
   "id": "29f3b451",
   "metadata": {},
   "outputs": [],
   "source": [
    "import sys\n",
    "import os\n",
    "os.chdir(\"..\")\n",
    "os.chdir(\"./src\")\n",
    "# sys.path.append(\"./src\")"
   ]
  },
  {
   "cell_type": "code",
   "execution_count": 2,
   "id": "7e271090",
   "metadata": {},
   "outputs": [],
   "source": [
    "from IPython import display\n",
    "from IPython.display import clear_output\n",
    "import pylab as pl\n",
    "import numpy as np\n",
    "import matplotlib.pyplot as plt\n",
    "from numba import njit, jit\n",
    "from time import time\n",
    "# from helpers import *\n",
    "from LDMIBSS import *\n",
    "# np.random.seed(13)\n",
    "%load_ext autoreload\n",
    "%autoreload 2"
   ]
  },
  {
   "cell_type": "code",
   "execution_count": 3,
   "id": "68054d1c",
   "metadata": {},
   "outputs": [
    {
     "name": "stdout",
     "output_type": "stream",
     "text": [
      "The following is the correlation matrix of sources\n"
     ]
    },
    {
     "data": {
      "text/latex": [
       "$\\displaystyle \\begin{bmatrix} \n",
       " 1.000 & 0.470 & 0.234 & 0.116 & 0.057 & \\\\\n",
       " 0.470 & 1.000 & 0.470 & 0.232 & 0.117 & \\\\\n",
       " 0.234 & 0.470 & 1.000 & 0.468 & 0.233 & \\\\\n",
       " 0.116 & 0.232 & 0.468 & 1.000 & 0.469 & \\\\\n",
       " 0.057 & 0.117 & 0.233 & 0.469 & 1.000 & \\\\\n",
       "\\end{bmatrix}$"
      ],
      "text/plain": [
       "<IPython.core.display.Math object>"
      ]
     },
     "metadata": {},
     "output_type": "display_data"
    },
    {
     "name": "stdout",
     "output_type": "stream",
     "text": [
      "The following is the mixture matrix A\n"
     ]
    },
    {
     "data": {
      "text/latex": [
       "$\\displaystyle \\begin{bmatrix} \n",
       " -0.833 & -1.092 & -0.683 & -0.464 & 1.637 & \\\\\n",
       " 0.167 & -0.547 & 0.940 & -0.715 & 1.322 & \\\\\n",
       " -1.519 & 1.347 & -1.097 & -0.178 & 0.394 & \\\\\n",
       " 0.686 & 0.612 & 1.618 & 0.501 & 1.575 & \\\\\n",
       " -2.245 & 0.247 & 3.359 & 0.465 & -0.331 & \\\\\n",
       " -1.068 & -0.725 & 0.769 & -0.332 & -1.438 & \\\\\n",
       " 0.411 & 1.144 & -0.167 & -0.331 & -1.505 & \\\\\n",
       " -1.225 & 0.611 & 0.147 & 0.980 & -0.243 & \\\\\n",
       " -0.353 & -2.294 & 0.913 & 0.203 & -0.786 & \\\\\n",
       " -1.561 & 1.422 & -0.093 & -0.993 & 0.760 & \\\\\n",
       "\\end{bmatrix}$"
      ],
      "text/plain": [
       "<IPython.core.display.Math object>"
      ]
     },
     "metadata": {},
     "output_type": "display_data"
    },
    {
     "name": "stdout",
     "output_type": "stream",
     "text": [
      "Input SNR is : 32.673145078619484\n"
     ]
    }
   ],
   "source": [
    "N = 500000\n",
    "NumberofSources = 5\n",
    "NumberofMixtures = 10\n",
    "S = generate_correlated_copula_sources(rho = 0.5, df = 4, n_sources = NumberofSources, size_sources = N , decreasing_correlation = True)\n",
    "S = 2 * S -1 \n",
    "print(\"The following is the correlation matrix of sources\")\n",
    "display_matrix(np.corrcoef(S))\n",
    "\n",
    "# Generate Mxr random mixing from i.i.d N(0,1)\n",
    "A = np.random.randn(NumberofMixtures,NumberofSources)\n",
    "X = np.dot(A,S)\n",
    "\n",
    "SNR = 30 # dB\n",
    "NoiseAmp = (10 ** (-SNR/20))# * np.sqrt(NumberofSources)\n",
    "NoisePart = NoiseAmp * np.random.randn(X.shape[0], X.shape[1])\n",
    "X = X  + NoisePart\n",
    "SNRinp = 10 * np.log10(np.sum(np.var(X, axis = 1)) / np.sum(np.var(NoisePart, axis = 1)))\n",
    "print(\"The following is the mixture matrix A\")\n",
    "display_matrix(A)\n",
    "print(\"Input SNR is : {}\".format(SNRinp))"
   ]
  },
  {
   "cell_type": "code",
   "execution_count": 4,
   "id": "a48b7892",
   "metadata": {},
   "outputs": [
    {
     "ename": "NameError",
     "evalue": "name 'r' is not defined",
     "output_type": "error",
     "traceback": [
      "\u001b[0;31m---------------------------------------------------------------------------\u001b[0m",
      "\u001b[0;31mNameError\u001b[0m                                 Traceback (most recent call last)",
      "Input \u001b[0;32mIn [4]\u001b[0m, in \u001b[0;36m<module>\u001b[0;34m\u001b[0m\n\u001b[1;32m      3\u001b[0m bet \u001b[38;5;241m=\u001b[39m \u001b[38;5;241m30\u001b[39m\n\u001b[1;32m      5\u001b[0m debug_iteration_point \u001b[38;5;241m=\u001b[39m \u001b[38;5;241m500\u001b[39m\n\u001b[0;32m----> 7\u001b[0m modelWhitening \u001b[38;5;241m=\u001b[39m OnlineWhiten(s_dim \u001b[38;5;241m=\u001b[39m \u001b[43mr\u001b[49m, x_dim \u001b[38;5;241m=\u001b[39m M, muW \u001b[38;5;241m=\u001b[39m muW, p \u001b[38;5;241m=\u001b[39m p, bet \u001b[38;5;241m=\u001b[39m bet)\n\u001b[1;32m      9\u001b[0m modelWhitening\u001b[38;5;241m.\u001b[39mfit_batch_whiten(X \u001b[38;5;241m=\u001b[39m X, Rxx \u001b[38;5;241m=\u001b[39m Rxx, n_epochs \u001b[38;5;241m=\u001b[39m \u001b[38;5;241m1\u001b[39m, neural_dynamic_iterations \u001b[38;5;241m=\u001b[39m \u001b[38;5;241m150\u001b[39m, neural_lr_start \u001b[38;5;241m=\u001b[39m \u001b[38;5;241m.1\u001b[39m, \n\u001b[1;32m     10\u001b[0m                        neural_lr_stop \u001b[38;5;241m=\u001b[39m \u001b[38;5;241m1e-3\u001b[39m, shuffle \u001b[38;5;241m=\u001b[39m \u001b[38;5;28;01mTrue\u001b[39;00m, required_SIR \u001b[38;5;241m=\u001b[39m \u001b[38;5;241m90\u001b[39m,\n\u001b[1;32m     11\u001b[0m                        debug_iteration_point \u001b[38;5;241m=\u001b[39m debug_iteration_point, plot_in_jupyter \u001b[38;5;241m=\u001b[39m \u001b[38;5;28;01mTrue\u001b[39;00m)\n",
      "\u001b[0;31mNameError\u001b[0m: name 'r' is not defined"
     ]
    }
   ],
   "source": [
    "muW =2e-3\n",
    "p = 1\n",
    "bet = 30\n",
    "r = NumberofSources\n",
    "M = NumberofMixtures\n",
    "debug_iteration_point = 500\n",
    "\n",
    "modelWhitening = OnlineWhiten(s_dim = r, x_dim = M, muW = muW, p = p, bet = bet)\n",
    "\n",
    "modelWhitening.fit_batch_whiten(X = X, Rxx = Rxx, n_epochs = 1, neural_dynamic_iterations = 150, neural_lr_start = .1, \n",
    "                       neural_lr_stop = 1e-3, shuffle = True, required_SIR = 90,\n",
    "                       debug_iteration_point = debug_iteration_point, plot_in_jupyter = True)"
   ]
  },
  {
   "cell_type": "code",
   "execution_count": null,
   "id": "b5c6f50a",
   "metadata": {},
   "outputs": [],
   "source": [
    "Wpre = model.Winv\n",
    "X = Wpre @ X\n",
    "A = Wpre @ A"
   ]
  },
  {
   "cell_type": "code",
   "execution_count": null,
   "id": "c2a80cca",
   "metadata": {},
   "outputs": [],
   "source": [
    "lambday = 1 - 1e-5/10\n",
    "lambdae = 1 - 1e-6/10\n",
    "\n",
    "s_dim = S.shape[0]\n",
    "x_dim = X.shape[0]\n",
    "\n",
    "# Inverse output covariance\n",
    "By = 5 * np.eye(s_dim)\n",
    "# Inverse error covariance\n",
    "Be = 100 * np.eye(s_dim)\n",
    "\n",
    "debug_iteration_point = 1000\n",
    "model = OnlineLDMIBSS(s_dim = s_dim, x_dim = x_dim, muW = 2e-3, lambday = lambday,\n",
    "                      lambdae = lambdae, By = By, Be = Be, neural_OUTPUT_COMP_TOL = 1e-7,\n",
    "                      set_ground_truth = True, S = S, A = A)"
   ]
  },
  {
   "cell_type": "code",
   "execution_count": null,
   "id": "955d30ff",
   "metadata": {},
   "outputs": [],
   "source": [
    "model.fit_batch_antisparse(X = X, n_epochs = 1, neural_dynamic_iterations = 5,\n",
    "                           plot_in_jupyter = True, neural_lr_start = 1.5,\n",
    "                           neural_lr_stop = 0.001, debug_iteration_point = debug_iteration_point, \n",
    "                           shuffle = True)"
   ]
  },
  {
   "cell_type": "code",
   "execution_count": null,
   "id": "04ba45b0",
   "metadata": {},
   "outputs": [],
   "source": []
  }
 ],
 "metadata": {
  "kernelspec": {
   "display_name": "Python 3 (ipykernel)",
   "language": "python",
   "name": "python3"
  },
  "language_info": {
   "codemirror_mode": {
    "name": "ipython",
    "version": 3
   },
   "file_extension": ".py",
   "mimetype": "text/x-python",
   "name": "python",
   "nbconvert_exporter": "python",
   "pygments_lexer": "ipython3",
   "version": "3.8.12"
  }
 },
 "nbformat": 4,
 "nbformat_minor": 5
}
