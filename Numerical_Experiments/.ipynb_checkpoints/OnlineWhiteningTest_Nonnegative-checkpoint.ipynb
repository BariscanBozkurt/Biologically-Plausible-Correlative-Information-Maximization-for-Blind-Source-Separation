{
 "cells": [
  {
   "cell_type": "code",
   "execution_count": 1,
   "id": "ce397fec",
   "metadata": {},
   "outputs": [],
   "source": [
    "import sys\n",
    "import os\n",
    "os.chdir(\"..\")\n",
    "os.chdir(\"./src\")\n",
    "# sys.path.append(\"./src\")"
   ]
  },
  {
   "cell_type": "code",
   "execution_count": 2,
   "id": "f0d82b7a",
   "metadata": {},
   "outputs": [],
   "source": [
    "from IPython import display\n",
    "from IPython.display import clear_output\n",
    "import pylab as pl\n",
    "import numpy as np\n",
    "import matplotlib.pyplot as plt\n",
    "from numba import njit, jit\n",
    "from time import time\n",
    "# from helpers import *\n",
    "from LDMIBSS import *\n",
    "# np.random.seed(13)\n",
    "%load_ext autoreload\n",
    "%autoreload 2"
   ]
  },
  {
   "cell_type": "code",
   "execution_count": 3,
   "id": "8977b7f1",
   "metadata": {},
   "outputs": [],
   "source": [
    "# Number of sources\n",
    "r=5\n",
    "# Number of mixtures\n",
    "M=10\n",
    "# Number of samples\n",
    "N=500000\n",
    "# SNR level\n",
    "SNR=30 #dB\n",
    "NoiseAmp=(10**(-SNR/20))*np.sqrt(r)\n",
    "\n",
    "#Define number of sampling points\n",
    "n_samples = N\n",
    "#Degrees of freedom\n",
    "df = 4\n",
    "\n",
    "S = generate_correlated_copula_sources(rho = 0.7, df = 4, n_sources = r, size_sources = N , decreasing_correlation = True)\n",
    "# S = 2* S - 1\n",
    "#######################################################\n",
    "#              GENERATE MIXINGS                       #\n",
    "#######################################################\n",
    "# Generate Mxr random mixing from i.i.d N(0,1)\n",
    "Hm=np.random.randn(M,r)\n",
    "# Mixtures\n",
    "HS=np.dot(Hm,S)\n",
    "NoisePart=NoiseAmp*np.random.randn(HS.shape[0],HS.shape[1])\n",
    "X=HS+NoisePart\n",
    "SNRinp=10*np.log10(np.sum(np.var(HS,axis=1))/np.sum(np.var(NoisePart,axis=1)))\n",
    "\n",
    "# Mean of Mixtures\n",
    "mX=np.mean(X,axis=1).reshape((M,1))\n",
    "# Covariance of Mixtures\n",
    "Rxx=np.dot(X,X.T)/N-np.dot(mX,mX.T)\n",
    "# Eigenvalue Decomposition\n",
    "d,V=np.linalg.eig(Rxx)\n",
    "D=np.diag(d)\n",
    "#Sorting indexis for eigenvalues from large to small\n",
    "ie=np.argsort(-d)\n",
    "# Inverse square root of eigenvalues\n",
    "ddinv=1/np.sqrt(d[ie[:r]])\n",
    "# Prewhitining matrix\n",
    "Wpre=np.dot(np.diag(ddinv),V[:,ie[:r]].T)/np.sqrt(12)\n",
    "# Whitened Mixtures\n",
    "H=np.dot(Wpre,X)"
   ]
  },
  {
   "cell_type": "code",
   "execution_count": 4,
   "id": "48ffd59d",
   "metadata": {},
   "outputs": [],
   "source": [
    "muW = 2e-3\n",
    "p = 3\n",
    "bet = 0.1\n",
    "\n",
    "debug_iteration_point = 500\n",
    "\n",
    "model = OnlineWhiten(s_dim = r, x_dim = M, muW = muW, p = p, bet = bet)"
   ]
  },
  {
   "cell_type": "code",
   "execution_count": null,
   "id": "254b484d",
   "metadata": {},
   "outputs": [
    {
     "data": {
      "image/png": "[encoded data removed]",
      "text/plain": [
       "<Figure size 432x288 with 1 Axes>"
      ]
     },
     "metadata": {},
     "output_type": "display_data"
    },
    {
     "name": "stderr",
     "output_type": "stream",
     "text": [
      "\r",
      " 49%|████████████████▎                | 246501/500000 [01:33<01:30, 2790.61it/s]"
     ]
    }
   ],
   "source": [
    "model.fit_batch_whiten(X = X, n_epochs = 1, neural_dynamic_iterations = 35, neural_lr_start = .05, \n",
    "                       neural_lr_stop = 1e-3, shuffle = True, required_SIR = 90,\n",
    "                       debug_iteration_point = debug_iteration_point, plot_in_jupyter = True)"
   ]
  },
  {
   "cell_type": "code",
   "execution_count": null,
   "id": "47a17fb4",
   "metadata": {},
   "outputs": [],
   "source": [
    "W = model.compute_overall_mapping()"
   ]
  },
  {
   "cell_type": "code",
   "execution_count": null,
   "id": "34e86f61",
   "metadata": {},
   "outputs": [],
   "source": [
    "display_matrix(np.corrcoef(X))"
   ]
  },
  {
   "cell_type": "code",
   "execution_count": null,
   "id": "4512dced",
   "metadata": {},
   "outputs": [],
   "source": [
    "display_matrix(np.corrcoef(model.Winv @ X))"
   ]
  },
  {
   "cell_type": "code",
   "execution_count": null,
   "id": "9394e8b7",
   "metadata": {},
   "outputs": [],
   "source": [
    "display_matrix(np.corrcoef(W @ X))"
   ]
  },
  {
   "cell_type": "code",
   "execution_count": null,
   "id": "b7665ad3",
   "metadata": {},
   "outputs": [],
   "source": [
    "np.std((model.Winv @ X) / np.std(model.Winv @ X, axis = 1).reshape(-1, 1), axis = 1)"
   ]
  },
  {
   "cell_type": "code",
   "execution_count": null,
   "id": "2867d542",
   "metadata": {},
   "outputs": [],
   "source": [
    "X_ = (model.Winv @ X) / np.std(model.Winv @ X, axis = 1).reshape(-1, 1)\n",
    "display_matrix(np.corrcoef(X_))"
   ]
  },
  {
   "cell_type": "code",
   "execution_count": null,
   "id": "e3f8ae30",
   "metadata": {},
   "outputs": [],
   "source": [
    "np.std(X, axis = 1)"
   ]
  }
 ],
 "metadata": {
  "kernelspec": {
   "display_name": "Python 3 (ipykernel)",
   "language": "python",
   "name": "python3"
  },
  "language_info": {
   "codemirror_mode": {
    "name": "ipython",
    "version": 3
   },
   "file_extension": ".py",
   "mimetype": "text/x-python",
   "name": "python",
   "nbconvert_exporter": "python",
   "pygments_lexer": "ipython3",
   "version": "3.8.12"
  }
 },
 "nbformat": 4,
 "nbformat_minor": 5
}
