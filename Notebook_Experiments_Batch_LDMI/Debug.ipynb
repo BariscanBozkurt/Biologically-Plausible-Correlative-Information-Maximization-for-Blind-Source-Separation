{
 "cells": [
  {
   "cell_type": "code",
   "execution_count": 1,
   "id": "28b49803",
   "metadata": {},
   "outputs": [],
   "source": [
    "import sys\n",
    "import os\n",
    "os.chdir(\"..\")\n",
    "os.chdir(\"./src\")\n",
    "# sys.path.append(\"./src\")"
   ]
  },
  {
   "cell_type": "code",
   "execution_count": 2,
   "id": "cc02310d",
   "metadata": {},
   "outputs": [],
   "source": [
    "from IPython import display\n",
    "from IPython.display import clear_output\n",
    "import pylab as pl\n",
    "import numpy as np\n",
    "import matplotlib.pyplot as plt\n",
    "from numba import njit, jit\n",
    "from time import time\n",
    "# from helpers import *\n",
    "from LDMIBSS import *\n",
    "%load_ext autoreload\n",
    "%autoreload 2"
   ]
  },
  {
   "cell_type": "code",
   "execution_count": 3,
   "id": "3516d085",
   "metadata": {},
   "outputs": [
    {
     "name": "stdout",
     "output_type": "stream",
     "text": [
      "The following is the correlation matrix of sources\n"
     ]
    },
    {
     "data": {
      "text/latex": [
       "$\\displaystyle \\begin{bmatrix} \n",
       " 1.000 & 0.882 & 0.881 & 0.882 & 0.881 & \\\\\n",
       " 0.882 & 1.000 & 0.882 & 0.882 & 0.882 & \\\\\n",
       " 0.881 & 0.882 & 1.000 & 0.882 & 0.882 & \\\\\n",
       " 0.882 & 0.882 & 0.882 & 1.000 & 0.882 & \\\\\n",
       " 0.881 & 0.882 & 0.882 & 0.882 & 1.000 & \\\\\n",
       "\\end{bmatrix}$"
      ],
      "text/plain": [
       "<IPython.core.display.Math object>"
      ]
     },
     "metadata": {},
     "output_type": "display_data"
    },
    {
     "name": "stdout",
     "output_type": "stream",
     "text": [
      "The following is the mixture matrix A\n"
     ]
    },
    {
     "data": {
      "text/latex": [
       "$\\displaystyle \\begin{bmatrix} \n",
       " -0.355 & -0.336 & 0.873 & -0.818 & 2.224 & \\\\\n",
       " 1.504 & 0.603 & 0.053 & -2.550 & 0.726 & \\\\\n",
       " -1.001 & -1.888 & 2.073 & 0.885 & 0.007 & \\\\\n",
       " -1.106 & 0.420 & -0.410 & -1.138 & -0.260 & \\\\\n",
       " 2.202 & 1.294 & 1.420 & -1.513 & 1.389 & \\\\\n",
       " 1.926 & 2.224 & 0.076 & -0.149 & -0.446 & \\\\\n",
       " -0.002 & -0.255 & -0.303 & -1.434 & 0.454 & \\\\\n",
       " 0.618 & 1.399 & -2.762 & -1.894 & -1.165 & \\\\\n",
       "\\end{bmatrix}$"
      ],
      "text/plain": [
       "<IPython.core.display.Math object>"
      ]
     },
     "metadata": {},
     "output_type": "display_data"
    },
    {
     "name": "stdout",
     "output_type": "stream",
     "text": [
      "Input SNR is : 29.994621074794864\n"
     ]
    }
   ],
   "source": [
    "N = 500000\n",
    "NumberofSources = 5\n",
    "NumberofMixtures = 8\n",
    "S = generate_correlated_copula_sources(rho = 0.9, df = 4, n_sources = NumberofSources, \n",
    "                                       size_sources = N , decreasing_correlation = False)\n",
    "\n",
    "print(\"The following is the correlation matrix of sources\")\n",
    "display_matrix(np.corrcoef(S))\n",
    "\n",
    "# Generate Mxr random mixing from i.i.d N(0,1)\n",
    "A = np.random.randn(NumberofMixtures,NumberofSources)\n",
    "X = np.dot(A,S)\n",
    "\n",
    "SNR = 30\n",
    "X, NoisePart = addWGN(X, SNR, return_noise = True)\n",
    "\n",
    "SNRinp = 10 * np.log10(np.sum(np.mean((X - NoisePart)**2, axis = 1)) / np.sum(np.mean(NoisePart**2, axis = 1)))\n",
    "print(\"The following is the mixture matrix A\")\n",
    "display_matrix(A)\n",
    "print(\"Input SNR is : {}\".format(SNRinp))"
   ]
  },
  {
   "cell_type": "code",
   "execution_count": 8,
   "id": "fa687966",
   "metadata": {},
   "outputs": [],
   "source": [
    "def calculateCorrNp(X):\n",
    "    samples = X.shape[1]\n",
    "    RX = (1/samples) * np.dot(X, X.T)\n",
    "    return RX\n",
    "\n",
    "@njit()\n",
    "def calculateCorr(X):\n",
    "    samples = X.shape[1]\n",
    "    RX = (1/samples) * np.dot(X, X.T)\n",
    "    return RX"
   ]
  },
  {
   "cell_type": "code",
   "execution_count": 9,
   "id": "d3c1205b",
   "metadata": {},
   "outputs": [
    {
     "name": "stdout",
     "output_type": "stream",
     "text": [
      "8.99 ms ± 10.4 µs per loop (mean ± std. dev. of 7 runs, 100 loops each)\n"
     ]
    }
   ],
   "source": [
    "%timeit calculateCorrNp(X)"
   ]
  },
  {
   "cell_type": "code",
   "execution_count": 11,
   "id": "8e0faf89",
   "metadata": {},
   "outputs": [
    {
     "name": "stdout",
     "output_type": "stream",
     "text": [
      "8.14 ms ± 16.5 µs per loop (mean ± std. dev. of 7 runs, 100 loops each)\n"
     ]
    }
   ],
   "source": [
    "%timeit calculateCorr(X)"
   ]
  },
  {
   "cell_type": "code",
   "execution_count": null,
   "id": "20f7d1f5",
   "metadata": {},
   "outputs": [],
   "source": []
  }
 ],
 "metadata": {
  "kernelspec": {
   "display_name": "Python 3",
   "language": "python",
   "name": "python3"
  },
  "language_info": {
   "codemirror_mode": {
    "name": "ipython",
    "version": 3
   },
   "file_extension": ".py",
   "mimetype": "text/x-python",
   "name": "python",
   "nbconvert_exporter": "python",
   "pygments_lexer": "ipython3",
   "version": "3.6.13"
  }
 },
 "nbformat": 4,
 "nbformat_minor": 5
}
