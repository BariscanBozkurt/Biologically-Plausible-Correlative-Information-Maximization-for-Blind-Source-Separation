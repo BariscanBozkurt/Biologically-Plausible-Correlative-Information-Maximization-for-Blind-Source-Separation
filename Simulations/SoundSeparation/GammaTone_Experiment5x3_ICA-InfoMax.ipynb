{
 "cells": [
  {
   "cell_type": "code",
   "execution_count": 1,
   "id": "e81426c4",
   "metadata": {},
   "outputs": [],
   "source": [
    "import sys\n",
    "import os\n",
    "sys.path.append(\"../../src\")\n",
    "sys.path.append(\"../../data\")\n",
    "import numpy as np\n",
    "import matplotlib.pyplot as plt\n",
    "import matplotlib.image as mpimg\n",
    "\n",
    "import IPython\n",
    "from IPython import display\n",
    "import pylab as pl\n",
    "from scipy.io import wavfile\n",
    "import pywt\n",
    "from brian2 import *\n",
    "from brian2hears import *\n",
    "\n",
    "from ICA import *\n",
    "from general_utils import *\n",
    "from visualization_utils import * \n",
    "from bss_utils import *\n",
    "\n",
    "import warnings\n",
    "warnings.filterwarnings(\"ignore\")\n",
    "\n",
    "notebook_name = 'Sound Separation'"
   ]
  },
  {
   "cell_type": "code",
   "execution_count": 2,
   "id": "d316221b",
   "metadata": {},
   "outputs": [
    {
     "name": "stdout",
     "output_type": "stream",
     "text": [
      "(7, 32851)\n"
     ]
    },
    {
     "data": {
      "text/latex": [
       "$\\displaystyle \\begin{bmatrix} \n",
       " 1.000 & -0.008 & 0.051 & -0.006 & -0.002 & -0.006 & 0.005 & \\\\\n",
       " -0.008 & 1.000 & -0.017 & -0.000 & -0.004 & 0.007 & -0.007 & \\\\\n",
       " 0.051 & -0.017 & 1.000 & 0.003 & -0.016 & -0.002 & -0.005 & \\\\\n",
       " -0.006 & -0.000 & 0.003 & 1.000 & -0.055 & 0.018 & -0.004 & \\\\\n",
       " -0.002 & -0.004 & -0.016 & -0.055 & 1.000 & -0.019 & 0.020 & \\\\\n",
       " -0.006 & 0.007 & -0.002 & 0.018 & -0.019 & 1.000 & 0.020 & \\\\\n",
       " 0.005 & -0.007 & -0.005 & -0.004 & 0.020 & 0.020 & 1.000 & \\\\\n",
       "\\end{bmatrix}$"
      ],
      "text/plain": [
       "<IPython.core.display.Math object>"
      ]
     },
     "metadata": {},
     "output_type": "display_data"
    }
   ],
   "source": [
    "sound_paths = '../../data/Sounds'\n",
    "sounds = []\n",
    "\n",
    "rate, a = wavfile.read(os.path.join(sound_paths, 'MA02_04.wav'))\n",
    "rate, b = wavfile.read(os.path.join(sound_paths, 'MH43_06.wav'))\n",
    "rate, c = wavfile.read(os.path.join(sound_paths, 'MH43_09.wav'))\n",
    "rate, d = wavfile.read(os.path.join(sound_paths, 'FA01_03.wav'))\n",
    "rate, e = wavfile.read(os.path.join(sound_paths, 'FJ55_04.wav'))\n",
    "rate, f = wavfile.read(os.path.join(sound_paths, 'MD19_07.wav'))\n",
    "rate, g = wavfile.read(os.path.join(sound_paths, 'MH43_08.wav'))\n",
    "\n",
    "a = a.astype('float64')\n",
    "b = b.astype('float64')\n",
    "c = c.astype('float64')\n",
    "d = d.astype('float64')\n",
    "e = e.astype('float64')\n",
    "f = f.astype('float64')\n",
    "g = g.astype('float64')\n",
    "\n",
    "a_max = np.max(a)\n",
    "b_max = np.max(b)\n",
    "c_max = np.max(c)\n",
    "d_max = np.max(d)\n",
    "e_max = np.max(e)\n",
    "f_max = np.max(f)\n",
    "g_max = np.max(g)\n",
    "\n",
    "a /= a_max\n",
    "b /= b_max\n",
    "c /= c_max\n",
    "d /= d_max\n",
    "e /= e_max\n",
    "f /= f_max\n",
    "g /= g_max\n",
    "\n",
    "shortest = min(len(a), len(b), len(c),  len(d),  len(e), len(f), len(g))\n",
    "a = a[:shortest]#[:,0]\n",
    "b = b[:shortest]#[:,0]\n",
    "c = c[:shortest]#[:,0]\n",
    "d = d[:shortest]\n",
    "e = e[:shortest]\n",
    "f = f[:shortest]\n",
    "g = g[:shortest]\n",
    "\n",
    "all_sound_data = np.stack((a, b, c, d, e, f, g))\n",
    "\n",
    "print(all_sound_data.shape)\n",
    "display_matrix(np.corrcoef(all_sound_data))"
   ]
  },
  {
   "cell_type": "code",
   "execution_count": 3,
   "id": "3b462021",
   "metadata": {},
   "outputs": [],
   "source": [
    "def compute_vectorized_gammatone_of_rows(S, samplerate, n_center_frequencies, time_constant_of_filters = 1.019,\n",
    "                                         min_freq = 20, max_freq = 20000, power_normalization_in_freq_domain = False):\n",
    "    n_sources = S.shape[0]\n",
    "    n_samples = S.shape[1]\n",
    "    b1 =time_constant_of_filters\n",
    "    center_frequencies = erbspace(min_freq*Hz, max_freq*Hz, n_center_frequencies)\n",
    "    \n",
    "    GammaToneMatrix = np.zeros((n_sources, n_samples * n_center_frequencies))\n",
    "    \n",
    "    for jj in range(n_sources):\n",
    "        gammatone = Gammatone(Sound(S[jj,:], samplerate = samplerate*Hz), center_frequencies, b=b1)\n",
    "        gt_mon = gammatone.process().T\n",
    "        GammaToneMatrix[jj, :] = gt_mon.reshape(-1)\n",
    "    \n",
    "    gamma_tone_max = np.abs(GammaToneMatrix).max(axis = 1).reshape(-1,1)\n",
    "    S = S / gamma_tone_max\n",
    "    if power_normalization_in_freq_domain:\n",
    "        for jj in range(n_sources):\n",
    "            gammatone = Gammatone(Sound(S[jj,:], samplerate = samplerate*Hz), center_frequencies, b=b1)\n",
    "            gt_mon = gammatone.process().T\n",
    "            GammaToneMatrix[jj, :] = gt_mon.reshape(-1)\n",
    "    return GammaToneMatrix, gamma_tone_max"
   ]
  },
  {
   "cell_type": "code",
   "execution_count": 4,
   "id": "a9108e5b",
   "metadata": {},
   "outputs": [],
   "source": [
    "# np.random.seed(431)"
   ]
  },
  {
   "cell_type": "code",
   "execution_count": 5,
   "id": "c50af1d7",
   "metadata": {},
   "outputs": [
    {
     "data": {
      "text/plain": [
       "<matplotlib.collections.PathCollection at 0x2b4e74358ee0>"
      ]
     },
     "execution_count": 5,
     "metadata": {},
     "output_type": "execute_result"
    },
    {
     "data": {
      "image/png": "[encoded data removed]",
      "text/plain": [
       "<Figure size 432x288 with 1 Axes>"
      ]
     },
     "metadata": {
      "needs_background": "light"
     },
     "output_type": "display_data"
    }
   ],
   "source": [
    "S = all_sound_data[np.random.choice(all_sound_data.shape[0], size=3, replace=False, p=None),:]\n",
    "nbr_center_frequencies = 10\n",
    "b1 = 1.019  #factor determining the time constant of the filters\n",
    "\n",
    "S_gammaTone, S_gammaToneMax = compute_vectorized_gammatone_of_rows(S, samplerate = 16000, \n",
    "                                                                   n_center_frequencies = nbr_center_frequencies,\n",
    "                                                                   time_constant_of_filters = b1, \n",
    "                                                                   min_freq = 20, max_freq = 20000, \n",
    "                                                                   power_normalization_in_freq_domain = True)\n",
    "S = S / S_gammaToneMax\n",
    "\n",
    "plt.scatter(S_gammaTone[0,:], S_gammaTone[1,:])"
   ]
  },
  {
   "cell_type": "code",
   "execution_count": 6,
   "id": "c80511b4",
   "metadata": {},
   "outputs": [
    {
     "name": "stdout",
     "output_type": "stream",
     "text": [
      "The following is the mixture matrix A\n"
     ]
    },
    {
     "data": {
      "text/latex": [
       "$\\displaystyle \\begin{bmatrix} \n",
       " 0.643 & -0.699 & 0.146 & \\\\\n",
       " -0.341 & -1.737 & 2.207 & \\\\\n",
       " -0.262 & -0.549 & -0.684 & \\\\\n",
       " 1.662 & -0.274 & -0.054 & \\\\\n",
       " 0.337 & -0.481 & 1.776 & \\\\\n",
       "\\end{bmatrix}$"
      ],
      "text/plain": [
       "<IPython.core.display.Math object>"
      ]
     },
     "metadata": {},
     "output_type": "display_data"
    },
    {
     "name": "stdout",
     "output_type": "stream",
     "text": [
      "Input SNR is : 40.018446262367604\n",
      "Row standard deviation of mixtures : [0.32721318 0.8462122  0.27453321 0.51631533 0.48354118]\n"
     ]
    }
   ],
   "source": [
    "NumberofMixtures = 5\n",
    "NumberofSources = S.shape[0]\n",
    "\n",
    "A = np.random.randn(NumberofMixtures,NumberofSources)\n",
    "X = np.dot(A,S)\n",
    "SNR = 40\n",
    "\n",
    "Xnoisy, NoisePart = addWGN(X, SNR, return_noise=True)\n",
    "\n",
    "SNRinp = 10 * np.log10(\n",
    "    np.sum(np.mean((Xnoisy - NoisePart) ** 2, axis=1))\n",
    "    / np.sum(np.mean(NoisePart**2, axis=1))\n",
    ")\n",
    "\n",
    "print(\"The following is the mixture matrix A\")\n",
    "display_matrix(A)\n",
    "print(\"Input SNR is : {}\".format(SNRinp))\n",
    "\n",
    "print(\"Row standard deviation of mixtures : {}\".format(X.std(1)))"
   ]
  },
  {
   "cell_type": "code",
   "execution_count": 7,
   "id": "9a7c1dd1",
   "metadata": {},
   "outputs": [],
   "source": [
    "X_gammaTone, _ = compute_vectorized_gammatone_of_rows( X, samplerate = 16000, \n",
    "                                                       n_center_frequencies = nbr_center_frequencies,\n",
    "                                                       time_constant_of_filters = b1, \n",
    "                                                       min_freq = 20, max_freq = 20000, \n",
    "                                                       power_normalization_in_freq_domain = False)"
   ]
  },
  {
   "cell_type": "markdown",
   "id": "84a43c1e",
   "metadata": {},
   "source": [
    "# In Time Domain"
   ]
  },
  {
   "cell_type": "code",
   "execution_count": 8,
   "id": "93140673",
   "metadata": {},
   "outputs": [
    {
     "name": "stdout",
     "output_type": "stream",
     "text": [
      "Creating RawArray with float64 data, n_channels=5, n_times=32851\n",
      "    Range : 0 ... 32850 =      0.000 ...    16.425 secs\n",
      "Ready.\n"
     ]
    }
   ],
   "source": [
    "Y = fit_icainfomax(\n",
    "                    X,\n",
    "                    NumberofSources)"
   ]
  },
  {
   "cell_type": "code",
   "execution_count": 9,
   "id": "5a04d59d",
   "metadata": {},
   "outputs": [],
   "source": [
    "W_ICA = (Y @ np.linalg.pinv(X))"
   ]
  },
  {
   "cell_type": "code",
   "execution_count": 10,
   "id": "a24fbd14",
   "metadata": {},
   "outputs": [
    {
     "name": "stdout",
     "output_type": "stream",
     "text": [
      "Component SNR Values : [33.18484765 40.74617936 53.93828044]\n",
      "\n",
      "Overall SINR : 37.10732795126381\n"
     ]
    }
   ],
   "source": [
    "Y = W_ICA @ X\n",
    "Y = signed_and_permutation_corrected_sources(S,Y)\n",
    "coef_ = ((Y * S).sum(axis=1) / (Y * Y).sum(axis=1)).reshape(-1, 1)\n",
    "Y = coef_ * Y\n",
    "\n",
    "SNR_levels = snr(S, Y)\n",
    "    \n",
    "SINR = 10*np.log10(CalculateSINRjit(Y, S, False)[0])\n",
    "print(\"Component SNR Values : {}\\n\".format(SNR_levels))\n",
    "print(\"Overall SINR : {}\".format(SINR))"
   ]
  },
  {
   "cell_type": "markdown",
   "id": "245892ca",
   "metadata": {},
   "source": [
    "# With GammaTone"
   ]
  },
  {
   "cell_type": "code",
   "execution_count": 11,
   "id": "3a6ac8cb",
   "metadata": {},
   "outputs": [
    {
     "name": "stdout",
     "output_type": "stream",
     "text": [
      "Creating RawArray with float64 data, n_channels=5, n_times=328510\n",
      "    Range : 0 ... 328509 =      0.000 ...   164.255 secs\n",
      "Ready.\n"
     ]
    }
   ],
   "source": [
    "Y_gammaTone = fit_icainfomax(\n",
    "                                X_gammaTone,\n",
    "                                NumberofSources)"
   ]
  },
  {
   "cell_type": "code",
   "execution_count": 12,
   "id": "871fe51e",
   "metadata": {},
   "outputs": [],
   "source": [
    "W_ICA = (Y_gammaTone @ np.linalg.pinv(X_gammaTone))"
   ]
  },
  {
   "cell_type": "code",
   "execution_count": 13,
   "id": "5b3cc575",
   "metadata": {},
   "outputs": [
    {
     "name": "stdout",
     "output_type": "stream",
     "text": [
      "Component SNR Values : [36.17273457 44.25999994 52.96124429]\n",
      "\n",
      "Overall SINR : 40.169216847201454\n"
     ]
    }
   ],
   "source": [
    "Y = W_ICA @ X\n",
    "Y = signed_and_permutation_corrected_sources(S,Y)\n",
    "coef_ = ((Y * S).sum(axis=1) / (Y * Y).sum(axis=1)).reshape(-1, 1)\n",
    "Y = coef_ * Y\n",
    "\n",
    "SNR_levels = snr(S, Y)\n",
    "    \n",
    "SINR = 10*np.log10(CalculateSINRjit(Y, S, False)[0])\n",
    "print(\"Component SNR Values : {}\\n\".format(SNR_levels))\n",
    "print(\"Overall SINR : {}\".format(SINR))"
   ]
  },
  {
   "cell_type": "code",
   "execution_count": 14,
   "id": "cac97438",
   "metadata": {},
   "outputs": [],
   "source": [
    "# Y_gammaTone = signed_and_permutation_corrected_sources(S_gammaTone,Y_gammaTone)\n",
    "# coef_ = ((Y_gammaTone * S_gammaTone).sum(axis=1) / (Y_gammaTone * Y_gammaTone).sum(axis=1)).reshape(-1, 1)\n",
    "# Y_gammaTone = coef_ * Y_gammaTone\n",
    "\n",
    "# # ICA_GammaTone_Matrix = \n",
    "# SNR_levels = snr(S_gammaTone, Y_gammaTone)\n",
    "\n",
    "# SINR = 10*np.log10(CalculateSINRjit(Y_gammaTone, S_gammaTone, False)[0])\n",
    "# print(\"Component SNR Values : {}\\n\".format(SNR_levels))\n",
    "# print(\"Overall SINR : {}\".format(SINR))"
   ]
  },
  {
   "cell_type": "code",
   "execution_count": null,
   "id": "ccf3350e",
   "metadata": {},
   "outputs": [],
   "source": []
  }
 ],
 "metadata": {
  "kernelspec": {
   "display_name": "Python 3 (ipykernel)",
   "language": "python",
   "name": "python3"
  },
  "language_info": {
   "codemirror_mode": {
    "name": "ipython",
    "version": 3
   },
   "file_extension": ".py",
   "mimetype": "text/x-python",
   "name": "python",
   "nbconvert_exporter": "python",
   "pygments_lexer": "ipython3",
   "version": "3.8.12"
  }
 },
 "nbformat": 4,
 "nbformat_minor": 5
}
