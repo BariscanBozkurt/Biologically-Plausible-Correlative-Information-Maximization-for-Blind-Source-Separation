{
 "cells": [
  {
   "cell_type": "code",
   "execution_count": 1,
   "id": "e81426c4",
   "metadata": {},
   "outputs": [],
   "source": [
    "import sys\n",
    "import os\n",
    "sys.path.append(\"../../src\")\n",
    "sys.path.append(\"../../data\")\n",
    "import numpy as np\n",
    "import matplotlib.pyplot as plt\n",
    "import matplotlib.image as mpimg\n",
    "\n",
    "import IPython\n",
    "from IPython import display\n",
    "import pylab as pl\n",
    "from scipy.io import wavfile\n",
    "import pywt\n",
    "from brian2 import *\n",
    "from brian2hears import *\n",
    "\n",
    "from CorInfoMaxBSS import *\n",
    "from general_utils import *\n",
    "from visualization_utils import * \n",
    "from bss_utils import *\n",
    "\n",
    "import warnings\n",
    "warnings.filterwarnings(\"ignore\")\n",
    "\n",
    "notebook_name = 'Sound Separation'"
   ]
  },
  {
   "cell_type": "code",
   "execution_count": 2,
   "id": "d316221b",
   "metadata": {},
   "outputs": [
    {
     "name": "stdout",
     "output_type": "stream",
     "text": [
      "(7, 32851)\n"
     ]
    },
    {
     "data": {
      "text/latex": [
       "$\\displaystyle \\begin{bmatrix} \n",
       " 1.000 & -0.008 & 0.051 & -0.006 & -0.002 & -0.006 & 0.005 & \\\\\n",
       " -0.008 & 1.000 & -0.017 & -0.000 & -0.004 & 0.007 & -0.007 & \\\\\n",
       " 0.051 & -0.017 & 1.000 & 0.003 & -0.016 & -0.002 & -0.005 & \\\\\n",
       " -0.006 & -0.000 & 0.003 & 1.000 & -0.055 & 0.018 & -0.004 & \\\\\n",
       " -0.002 & -0.004 & -0.016 & -0.055 & 1.000 & -0.019 & 0.020 & \\\\\n",
       " -0.006 & 0.007 & -0.002 & 0.018 & -0.019 & 1.000 & 0.020 & \\\\\n",
       " 0.005 & -0.007 & -0.005 & -0.004 & 0.020 & 0.020 & 1.000 & \\\\\n",
       "\\end{bmatrix}$"
      ],
      "text/plain": [
       "<IPython.core.display.Math object>"
      ]
     },
     "metadata": {},
     "output_type": "display_data"
    }
   ],
   "source": [
    "sound_paths = '../../data/Sounds'\n",
    "sounds = []\n",
    "\n",
    "rate, a = wavfile.read(os.path.join(sound_paths, 'MA02_04.wav'))\n",
    "rate, b = wavfile.read(os.path.join(sound_paths, 'MH43_06.wav'))\n",
    "rate, c = wavfile.read(os.path.join(sound_paths, 'MH43_09.wav'))\n",
    "rate, d = wavfile.read(os.path.join(sound_paths, 'FA01_03.wav'))\n",
    "rate, e = wavfile.read(os.path.join(sound_paths, 'FJ55_04.wav'))\n",
    "rate, f = wavfile.read(os.path.join(sound_paths, 'MD19_07.wav'))\n",
    "rate, g = wavfile.read(os.path.join(sound_paths, 'MH43_08.wav'))\n",
    "\n",
    "a = a.astype('float64')\n",
    "b = b.astype('float64')\n",
    "c = c.astype('float64')\n",
    "d = d.astype('float64')\n",
    "e = e.astype('float64')\n",
    "f = f.astype('float64')\n",
    "g = g.astype('float64')\n",
    "\n",
    "a_max = np.max(a)\n",
    "b_max = np.max(b)\n",
    "c_max = np.max(c)\n",
    "d_max = np.max(d)\n",
    "e_max = np.max(e)\n",
    "f_max = np.max(f)\n",
    "g_max = np.max(g)\n",
    "\n",
    "a /= a_max\n",
    "b /= b_max\n",
    "c /= c_max\n",
    "d /= d_max\n",
    "e /= e_max\n",
    "f /= f_max\n",
    "g /= g_max\n",
    "\n",
    "shortest = min(len(a), len(b), len(c),  len(d),  len(e), len(f), len(g))\n",
    "a = a[:shortest]#[:,0]\n",
    "b = b[:shortest]#[:,0]\n",
    "c = c[:shortest]#[:,0]\n",
    "d = d[:shortest]\n",
    "e = e[:shortest]\n",
    "f = f[:shortest]\n",
    "g = g[:shortest]\n",
    "\n",
    "all_sound_data = np.stack((a, b, c, d, e, f, g))\n",
    "\n",
    "print(all_sound_data.shape)\n",
    "display_matrix(np.corrcoef(all_sound_data))"
   ]
  },
  {
   "cell_type": "code",
   "execution_count": 3,
   "id": "2634e767",
   "metadata": {},
   "outputs": [],
   "source": [
    "def compute_vectorized_gammatone_of_rows(S, samplerate, n_center_frequencies, time_constant_of_filters = 1.019,\n",
    "                                         min_freq = 20, max_freq = 20000, power_normalization_in_freq_domain = False):\n",
    "    n_sources = S.shape[0]\n",
    "    n_samples = S.shape[1]\n",
    "    b1 =time_constant_of_filters\n",
    "    center_frequencies = erbspace(min_freq*Hz, max_freq*Hz, n_center_frequencies)\n",
    "    \n",
    "    GammaToneMatrix = np.zeros((n_sources, n_samples * n_center_frequencies))\n",
    "    \n",
    "    for jj in range(n_sources):\n",
    "        gammatone = Gammatone(Sound(S[jj,:], samplerate = samplerate*Hz), center_frequencies, b=b1)\n",
    "        gt_mon = gammatone.process().T\n",
    "        GammaToneMatrix[jj, :] = gt_mon.reshape(-1)\n",
    "    \n",
    "    gamma_tone_max = np.abs(GammaToneMatrix).max(axis = 1).reshape(-1,1)\n",
    "    S = S / gamma_tone_max\n",
    "    if power_normalization_in_freq_domain:\n",
    "        for jj in range(n_sources):\n",
    "            gammatone = Gammatone(Sound(S[jj,:], samplerate = samplerate*Hz), center_frequencies, b=b1)\n",
    "            gt_mon = gammatone.process().T\n",
    "            GammaToneMatrix[jj, :] = gt_mon.reshape(-1)\n",
    "    return GammaToneMatrix, gamma_tone_max"
   ]
  },
  {
   "cell_type": "code",
   "execution_count": 4,
   "id": "c53890e6",
   "metadata": {},
   "outputs": [],
   "source": [
    "np.random.seed(478)"
   ]
  },
  {
   "cell_type": "code",
   "execution_count": 5,
   "id": "7a32b996",
   "metadata": {},
   "outputs": [
    {
     "data": {
      "text/plain": [
       "<matplotlib.collections.PathCollection at 0x2b2c2d195520>"
      ]
     },
     "execution_count": 5,
     "metadata": {},
     "output_type": "execute_result"
    },
    {
     "data": {
      "image/png": "[encoded data removed]",
      "text/plain": [
       "<Figure size 432x288 with 1 Axes>"
      ]
     },
     "metadata": {
      "needs_background": "light"
     },
     "output_type": "display_data"
    }
   ],
   "source": [
    "S = all_sound_data[np.random.choice(all_sound_data.shape[0], size=3, replace=False, p=None),:]\n",
    "nbr_center_frequencies = 10\n",
    "b1 = 1.019  #factor determining the time constant of the filters\n",
    "\n",
    "S_gammaTone, S_gammaToneMax = compute_vectorized_gammatone_of_rows(S, samplerate = 16000, \n",
    "                                                                   n_center_frequencies = nbr_center_frequencies,\n",
    "                                                                   time_constant_of_filters = b1, \n",
    "                                                                   min_freq = 20, max_freq = 20000, \n",
    "                                                                   power_normalization_in_freq_domain = False)\n",
    "S = S / S_gammaToneMax\n",
    "\n",
    "plt.scatter(S_gammaTone[0,:], S_gammaTone[1,:])"
   ]
  },
  {
   "cell_type": "code",
   "execution_count": 6,
   "id": "3c29a658",
   "metadata": {},
   "outputs": [
    {
     "name": "stdout",
     "output_type": "stream",
     "text": [
      "The following is the mixture matrix A\n"
     ]
    },
    {
     "data": {
      "text/latex": [
       "$\\displaystyle \\begin{bmatrix} \n",
       " 0.238 & -0.560 & -0.114 & \\\\\n",
       " 1.770 & 0.765 & -0.032 & \\\\\n",
       " 0.104 & -0.968 & -0.270 & \\\\\n",
       " -1.377 & 0.168 & 1.105 & \\\\\n",
       " 1.093 & -1.392 & -0.961 & \\\\\n",
       "\\end{bmatrix}$"
      ],
      "text/plain": [
       "<IPython.core.display.Math object>"
      ]
     },
     "metadata": {},
     "output_type": "display_data"
    },
    {
     "name": "stdout",
     "output_type": "stream",
     "text": [
      "Input SNR is : 40.00615309557659\n",
      "Row standard deviation of mixtures : [0.11310392 0.21454583 0.19178252 0.18166744 0.3134865 ]\n"
     ]
    }
   ],
   "source": [
    "# np.random.seed(250)\n",
    "NumberofMixtures = 5\n",
    "NumberofSources = S.shape[0]\n",
    "\n",
    "A = np.random.randn(NumberofMixtures,NumberofSources)\n",
    "X = np.dot(A,S)\n",
    "SNR = 40\n",
    "\n",
    "Xnoisy, NoisePart = addWGN(X, SNR, return_noise=True)\n",
    "\n",
    "SNRinp = 10 * np.log10(\n",
    "    np.sum(np.mean((Xnoisy - NoisePart) ** 2, axis=1))\n",
    "    / np.sum(np.mean(NoisePart**2, axis=1))\n",
    ")\n",
    "\n",
    "print(\"The following is the mixture matrix A\")\n",
    "display_matrix(A)\n",
    "print(\"Input SNR is : {}\".format(SNRinp))\n",
    "\n",
    "print(\"Row standard deviation of mixtures : {}\".format(X.std(1)))"
   ]
  },
  {
   "cell_type": "code",
   "execution_count": 7,
   "id": "4d96872b",
   "metadata": {},
   "outputs": [],
   "source": [
    "X_gammaTone, _ = compute_vectorized_gammatone_of_rows( X, samplerate = 16000, \n",
    "                                                       n_center_frequencies = nbr_center_frequencies,\n",
    "                                                       time_constant_of_filters = b1, \n",
    "                                                       min_freq = 20, max_freq = 20000, \n",
    "                                                       power_normalization_in_freq_domain = False)"
   ]
  },
  {
   "cell_type": "code",
   "execution_count": 8,
   "id": "322471ff",
   "metadata": {},
   "outputs": [
    {
     "ename": "ValueError",
     "evalue": "operands could not be broadcast together with shapes (5,328510) (3,1) ",
     "output_type": "error",
     "traceback": [
      "\u001b[0;31m---------------------------------------------------------------------------\u001b[0m",
      "\u001b[0;31mValueError\u001b[0m                                Traceback (most recent call last)",
      "Input \u001b[0;32mIn [8]\u001b[0m, in \u001b[0;36m<module>\u001b[0;34m\u001b[0m\n\u001b[1;32m     12\u001b[0m modelCorInfoMax \u001b[38;5;241m=\u001b[39m OnlineCorInfoMax( s_dim \u001b[38;5;241m=\u001b[39m s_dim, x_dim \u001b[38;5;241m=\u001b[39m x_dim, muW \u001b[38;5;241m=\u001b[39m \u001b[38;5;241m50\u001b[39m\u001b[38;5;241m*\u001b[39m\u001b[38;5;241m1e-3\u001b[39m, lambday \u001b[38;5;241m=\u001b[39m lambday,\n\u001b[1;32m     13\u001b[0m                                     lambdae \u001b[38;5;241m=\u001b[39m lambdae, By \u001b[38;5;241m=\u001b[39m By, Be \u001b[38;5;241m=\u001b[39m Be, neural_OUTPUT_COMP_TOL \u001b[38;5;241m=\u001b[39m \u001b[38;5;241m1e-6\u001b[39m,\n\u001b[1;32m     14\u001b[0m                                     set_ground_truth \u001b[38;5;241m=\u001b[39m \u001b[38;5;28;01mTrue\u001b[39;00m, S \u001b[38;5;241m=\u001b[39m S_gammaTone, A \u001b[38;5;241m=\u001b[39m A)\n\u001b[1;32m     15\u001b[0m \u001b[38;5;28;01mwith\u001b[39;00m Timer() \u001b[38;5;28;01mas\u001b[39;00m t:\n\u001b[0;32m---> 16\u001b[0m     modelCorInfoMax\u001b[38;5;241m.\u001b[39mfit_batch_sparse(       X \u001b[38;5;241m=\u001b[39m \u001b[43mX_gammaTone\u001b[49m\u001b[38;5;241;43m/\u001b[39;49m\u001b[43m \u001b[49m\u001b[43mS_gammaToneMax\u001b[49m, n_epochs \u001b[38;5;241m=\u001b[39m \u001b[38;5;241m2\u001b[39m, \n\u001b[1;32m     17\u001b[0m                                             neural_dynamic_iterations \u001b[38;5;241m=\u001b[39m \u001b[38;5;241m500\u001b[39m,\n\u001b[1;32m     18\u001b[0m                                             plot_in_jupyter \u001b[38;5;241m=\u001b[39m \u001b[38;5;28;01mTrue\u001b[39;00m,\n\u001b[1;32m     19\u001b[0m                                             neural_lr_start \u001b[38;5;241m=\u001b[39m \u001b[38;5;241m0.25\u001b[39m,\n\u001b[1;32m     20\u001b[0m                                             neural_lr_stop \u001b[38;5;241m=\u001b[39m \u001b[38;5;241m0.01\u001b[39m, \n\u001b[1;32m     21\u001b[0m                                             debug_iteration_point \u001b[38;5;241m=\u001b[39m debug_iteration_point, \n\u001b[1;32m     22\u001b[0m                                             shuffle \u001b[38;5;241m=\u001b[39m \u001b[38;5;28;01mTrue\u001b[39;00m)\n",
      "\u001b[0;31mValueError\u001b[0m: operands could not be broadcast together with shapes (5,328510) (3,1) "
     ]
    }
   ],
   "source": [
    "s_dim = S.shape[0]\n",
    "x_dim = X.shape[0]\n",
    "debug_iteration_point = 10000\n",
    "\n",
    "lambday = 1 - 1e-1/50\n",
    "lambdae = 1 - 1e-1/50\n",
    "# Inverse output covariance\n",
    "By = 1 * np.eye(s_dim)\n",
    "# Inverse error covariance\n",
    "Be = 2000 * np.eye(s_dim)\n",
    "\n",
    "modelCorInfoMax = OnlineCorInfoMax( s_dim = s_dim, x_dim = x_dim, muW = 50*1e-3, lambday = lambday,\n",
    "                                    lambdae = lambdae, By = By, Be = Be, neural_OUTPUT_COMP_TOL = 1e-6,\n",
    "                                    set_ground_truth = True, S = S_gammaTone, A = A)\n",
    "with Timer() as t:\n",
    "    modelCorInfoMax.fit_batch_sparse(       X = X_gammaTone, n_epochs = 2, \n",
    "                                            neural_dynamic_iterations = 500,\n",
    "                                            plot_in_jupyter = True,\n",
    "                                            neural_lr_start = 0.25,\n",
    "                                            neural_lr_stop = 0.01, \n",
    "                                            debug_iteration_point = debug_iteration_point, \n",
    "                                            shuffle = True)"
   ]
  },
  {
   "cell_type": "code",
   "execution_count": null,
   "id": "8e5945ee",
   "metadata": {},
   "outputs": [],
   "source": [
    "Wf = modelCorInfoMax.compute_overall_mapping(return_mapping = True)\n",
    "Y = Wf @ X\n",
    "Y_ = signed_and_permutation_corrected_sources(S, Y)\n",
    "coef_ = ((Y_ * S).sum(axis=1) / (Y_ * Y_).sum(axis=1)).reshape(-1, 1)\n",
    "Y_ = coef_ * Y_\n",
    "\n",
    "print(\"Component SNR Values : {}\\n\".format(snr_jit(S, Y_)))\n",
    "\n",
    "SINR = 10 * np.log10(CalculateSINRjit(Y_, S)[0])\n",
    "\n",
    "print(\"Overall SINR : {}\".format(SINR))"
   ]
  },
  {
   "cell_type": "code",
   "execution_count": null,
   "id": "743c86fb",
   "metadata": {},
   "outputs": [],
   "source": []
  }
 ],
 "metadata": {
  "kernelspec": {
   "display_name": "Python 3 (ipykernel)",
   "language": "python",
   "name": "python3"
  },
  "language_info": {
   "codemirror_mode": {
    "name": "ipython",
    "version": 3
   },
   "file_extension": ".py",
   "mimetype": "text/x-python",
   "name": "python",
   "nbconvert_exporter": "python",
   "pygments_lexer": "ipython3",
   "version": "3.8.12"
  }
 },
 "nbformat": 4,
 "nbformat_minor": 5
}
