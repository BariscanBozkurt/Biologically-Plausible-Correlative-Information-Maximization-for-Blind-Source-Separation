{
 "cells": [
  {
   "cell_type": "code",
   "execution_count": 1,
   "id": "753d084e",
   "metadata": {},
   "outputs": [],
   "source": [
    "import sys\n",
    "sys.path.insert(0, '../Results')\n",
    "sys.path.insert(0, '../../src')\n",
    "import pandas as pd\n",
    "import numpy as np\n",
    "import matplotlib.pyplot as plt\n",
    "import pickle\n",
    "import os\n",
    "from visualization_utils import perc, SetPlotRC, ApplyFont"
   ]
  },
  {
   "cell_type": "code",
   "execution_count": 2,
   "id": "c80f8315",
   "metadata": {},
   "outputs": [],
   "source": [
    "if not os.path.exists(\"Figures\"):\n",
    "    os.mkdir(\"Figures\")"
   ]
  },
  {
   "cell_type": "markdown",
   "id": "8da8c941",
   "metadata": {},
   "source": [
    "# Sparse Number of Mixtures"
   ]
  },
  {
   "cell_type": "code",
   "execution_count": 3,
   "id": "db8dddc2",
   "metadata": {},
   "outputs": [],
   "source": [
    "df_nmixtures_results = pd.read_pickle(r\"../Results/simulation_results_sparse_nmixturesV1.pkl\")#.iloc[:6*45]"
   ]
  },
  {
   "cell_type": "code",
   "execution_count": 4,
   "id": "317a685c",
   "metadata": {},
   "outputs": [
    {
     "data": {
      "text/html": [
       "<div>\n",
       "<style scoped>\n",
       "    .dataframe tbody tr th:only-of-type {\n",
       "        vertical-align: middle;\n",
       "    }\n",
       "\n",
       "    .dataframe tbody tr th {\n",
       "        vertical-align: top;\n",
       "    }\n",
       "\n",
       "    .dataframe thead th {\n",
       "        text-align: right;\n",
       "    }\n",
       "</style>\n",
       "<table border=\"1\" class=\"dataframe\">\n",
       "  <thead>\n",
       "    <tr style=\"text-align: right;\">\n",
       "      <th></th>\n",
       "      <th>NMixtures</th>\n",
       "      <th>count</th>\n",
       "      <th>SINR</th>\n",
       "    </tr>\n",
       "  </thead>\n",
       "  <tbody>\n",
       "    <tr>\n",
       "      <th>0</th>\n",
       "      <td>5</td>\n",
       "      <td>50</td>\n",
       "      <td>16.316831</td>\n",
       "    </tr>\n",
       "    <tr>\n",
       "      <th>1</th>\n",
       "      <td>6</td>\n",
       "      <td>50</td>\n",
       "      <td>23.508782</td>\n",
       "    </tr>\n",
       "    <tr>\n",
       "      <th>2</th>\n",
       "      <td>7</td>\n",
       "      <td>50</td>\n",
       "      <td>26.176946</td>\n",
       "    </tr>\n",
       "    <tr>\n",
       "      <th>3</th>\n",
       "      <td>8</td>\n",
       "      <td>50</td>\n",
       "      <td>27.912176</td>\n",
       "    </tr>\n",
       "    <tr>\n",
       "      <th>4</th>\n",
       "      <td>9</td>\n",
       "      <td>50</td>\n",
       "      <td>29.035127</td>\n",
       "    </tr>\n",
       "    <tr>\n",
       "      <th>5</th>\n",
       "      <td>10</td>\n",
       "      <td>50</td>\n",
       "      <td>29.896630</td>\n",
       "    </tr>\n",
       "  </tbody>\n",
       "</table>\n",
       "</div>"
      ],
      "text/plain": [
       "   NMixtures  count       SINR\n",
       "0          5     50  16.316831\n",
       "1          6     50  23.508782\n",
       "2          7     50  26.176946\n",
       "3          8     50  27.912176\n",
       "4          9     50  29.035127\n",
       "5         10     50  29.896630"
      ]
     },
     "execution_count": 4,
     "metadata": {},
     "output_type": "execute_result"
    }
   ],
   "source": [
    "results = df_nmixtures_results[['NMixtures', 'SINR']].groupby(['NMixtures']).agg({'NMixtures':'size', 'SINR':'mean'}).rename(columns={'NMixtures':'count','SINR':'SINR'}).reset_index()\n",
    "\n",
    "results"
   ]
  },
  {
   "cell_type": "code",
   "execution_count": 5,
   "id": "a9e1f4d4",
   "metadata": {},
   "outputs": [
    {
     "ename": "FileNotFoundError",
     "evalue": "[Errno 2] No such file or directory: 'Figures/CorInfoMax_Sparse_NMixtures_Ablation_uncorrelated.pdf'",
     "output_type": "error",
     "traceback": [
      "\u001b[0;31m---------------------------------------------------------------------------\u001b[0m",
      "\u001b[0;31mFileNotFoundError\u001b[0m                         Traceback (most recent call last)",
      "Input \u001b[0;32mIn [5]\u001b[0m, in \u001b[0;36m<module>\u001b[0;34m\u001b[0m\n\u001b[1;32m     28\u001b[0m plt\u001b[38;5;241m.\u001b[39maxis([\u001b[38;5;241m5\u001b[39m, \u001b[38;5;241m10\u001b[39m,\u001b[38;5;241m7\u001b[39m,\u001b[38;5;241m33\u001b[39m])\n\u001b[1;32m     30\u001b[0m ApplyFont(plt\u001b[38;5;241m.\u001b[39mgca())\n\u001b[0;32m---> 31\u001b[0m \u001b[43mplt\u001b[49m\u001b[38;5;241;43m.\u001b[39;49m\u001b[43msavefig\u001b[49m\u001b[43m(\u001b[49m\u001b[38;5;124;43m'\u001b[39;49m\u001b[38;5;124;43mFigures/CorInfoMax_Sparse_NMixtures_Ablation_uncorrelated.pdf\u001b[39;49m\u001b[38;5;124;43m'\u001b[39;49m\u001b[43m,\u001b[49m\u001b[43m \u001b[49m\u001b[38;5;28;43mformat\u001b[39;49m\u001b[38;5;241;43m=\u001b[39;49m\u001b[38;5;124;43m'\u001b[39;49m\u001b[38;5;124;43mpdf\u001b[39;49m\u001b[38;5;124;43m'\u001b[39;49m\u001b[43m)\u001b[49m\n",
      "File \u001b[0;32m~/.conda/envs/wsm/lib/python3.8/site-packages/matplotlib/pyplot.py:958\u001b[0m, in \u001b[0;36msavefig\u001b[0;34m(*args, **kwargs)\u001b[0m\n\u001b[1;32m    955\u001b[0m \u001b[38;5;129m@_copy_docstring_and_deprecators\u001b[39m(Figure\u001b[38;5;241m.\u001b[39msavefig)\n\u001b[1;32m    956\u001b[0m \u001b[38;5;28;01mdef\u001b[39;00m \u001b[38;5;21msavefig\u001b[39m(\u001b[38;5;241m*\u001b[39margs, \u001b[38;5;241m*\u001b[39m\u001b[38;5;241m*\u001b[39mkwargs):\n\u001b[1;32m    957\u001b[0m     fig \u001b[38;5;241m=\u001b[39m gcf()\n\u001b[0;32m--> 958\u001b[0m     res \u001b[38;5;241m=\u001b[39m \u001b[43mfig\u001b[49m\u001b[38;5;241;43m.\u001b[39;49m\u001b[43msavefig\u001b[49m\u001b[43m(\u001b[49m\u001b[38;5;241;43m*\u001b[39;49m\u001b[43margs\u001b[49m\u001b[43m,\u001b[49m\u001b[43m \u001b[49m\u001b[38;5;241;43m*\u001b[39;49m\u001b[38;5;241;43m*\u001b[39;49m\u001b[43mkwargs\u001b[49m\u001b[43m)\u001b[49m\n\u001b[1;32m    959\u001b[0m     fig\u001b[38;5;241m.\u001b[39mcanvas\u001b[38;5;241m.\u001b[39mdraw_idle()   \u001b[38;5;66;03m# need this if 'transparent=True' to reset colors\u001b[39;00m\n\u001b[1;32m    960\u001b[0m     \u001b[38;5;28;01mreturn\u001b[39;00m res\n",
      "File \u001b[0;32m~/.conda/envs/wsm/lib/python3.8/site-packages/matplotlib/figure.py:3019\u001b[0m, in \u001b[0;36mFigure.savefig\u001b[0;34m(self, fname, transparent, **kwargs)\u001b[0m\n\u001b[1;32m   3015\u001b[0m     \u001b[38;5;28;01mfor\u001b[39;00m ax \u001b[38;5;129;01min\u001b[39;00m \u001b[38;5;28mself\u001b[39m\u001b[38;5;241m.\u001b[39maxes:\n\u001b[1;32m   3016\u001b[0m         stack\u001b[38;5;241m.\u001b[39menter_context(\n\u001b[1;32m   3017\u001b[0m             ax\u001b[38;5;241m.\u001b[39mpatch\u001b[38;5;241m.\u001b[39m_cm_set(facecolor\u001b[38;5;241m=\u001b[39m\u001b[38;5;124m'\u001b[39m\u001b[38;5;124mnone\u001b[39m\u001b[38;5;124m'\u001b[39m, edgecolor\u001b[38;5;241m=\u001b[39m\u001b[38;5;124m'\u001b[39m\u001b[38;5;124mnone\u001b[39m\u001b[38;5;124m'\u001b[39m))\n\u001b[0;32m-> 3019\u001b[0m \u001b[38;5;28;43mself\u001b[39;49m\u001b[38;5;241;43m.\u001b[39;49m\u001b[43mcanvas\u001b[49m\u001b[38;5;241;43m.\u001b[39;49m\u001b[43mprint_figure\u001b[49m\u001b[43m(\u001b[49m\u001b[43mfname\u001b[49m\u001b[43m,\u001b[49m\u001b[43m \u001b[49m\u001b[38;5;241;43m*\u001b[39;49m\u001b[38;5;241;43m*\u001b[39;49m\u001b[43mkwargs\u001b[49m\u001b[43m)\u001b[49m\n",
      "File \u001b[0;32m~/.conda/envs/wsm/lib/python3.8/site-packages/matplotlib/backend_bases.py:2319\u001b[0m, in \u001b[0;36mFigureCanvasBase.print_figure\u001b[0;34m(self, filename, dpi, facecolor, edgecolor, orientation, format, bbox_inches, pad_inches, bbox_extra_artists, backend, **kwargs)\u001b[0m\n\u001b[1;32m   2315\u001b[0m \u001b[38;5;28;01mtry\u001b[39;00m:\n\u001b[1;32m   2316\u001b[0m     \u001b[38;5;66;03m# _get_renderer may change the figure dpi (as vector formats\u001b[39;00m\n\u001b[1;32m   2317\u001b[0m     \u001b[38;5;66;03m# force the figure dpi to 72), so we need to set it again here.\u001b[39;00m\n\u001b[1;32m   2318\u001b[0m     \u001b[38;5;28;01mwith\u001b[39;00m cbook\u001b[38;5;241m.\u001b[39m_setattr_cm(\u001b[38;5;28mself\u001b[39m\u001b[38;5;241m.\u001b[39mfigure, dpi\u001b[38;5;241m=\u001b[39mdpi):\n\u001b[0;32m-> 2319\u001b[0m         result \u001b[38;5;241m=\u001b[39m \u001b[43mprint_method\u001b[49m\u001b[43m(\u001b[49m\n\u001b[1;32m   2320\u001b[0m \u001b[43m            \u001b[49m\u001b[43mfilename\u001b[49m\u001b[43m,\u001b[49m\n\u001b[1;32m   2321\u001b[0m \u001b[43m            \u001b[49m\u001b[43mfacecolor\u001b[49m\u001b[38;5;241;43m=\u001b[39;49m\u001b[43mfacecolor\u001b[49m\u001b[43m,\u001b[49m\n\u001b[1;32m   2322\u001b[0m \u001b[43m            \u001b[49m\u001b[43medgecolor\u001b[49m\u001b[38;5;241;43m=\u001b[39;49m\u001b[43medgecolor\u001b[49m\u001b[43m,\u001b[49m\n\u001b[1;32m   2323\u001b[0m \u001b[43m            \u001b[49m\u001b[43morientation\u001b[49m\u001b[38;5;241;43m=\u001b[39;49m\u001b[43morientation\u001b[49m\u001b[43m,\u001b[49m\n\u001b[1;32m   2324\u001b[0m \u001b[43m            \u001b[49m\u001b[43mbbox_inches_restore\u001b[49m\u001b[38;5;241;43m=\u001b[39;49m\u001b[43m_bbox_inches_restore\u001b[49m\u001b[43m,\u001b[49m\n\u001b[1;32m   2325\u001b[0m \u001b[43m            \u001b[49m\u001b[38;5;241;43m*\u001b[39;49m\u001b[38;5;241;43m*\u001b[39;49m\u001b[43mkwargs\u001b[49m\u001b[43m)\u001b[49m\n\u001b[1;32m   2326\u001b[0m \u001b[38;5;28;01mfinally\u001b[39;00m:\n\u001b[1;32m   2327\u001b[0m     \u001b[38;5;28;01mif\u001b[39;00m bbox_inches \u001b[38;5;129;01mand\u001b[39;00m restore_bbox:\n",
      "File \u001b[0;32m~/.conda/envs/wsm/lib/python3.8/site-packages/matplotlib/backend_bases.py:1648\u001b[0m, in \u001b[0;36m_check_savefig_extra_args.<locals>.wrapper\u001b[0;34m(*args, **kwargs)\u001b[0m\n\u001b[1;32m   1640\u001b[0m     _api\u001b[38;5;241m.\u001b[39mwarn_deprecated(\n\u001b[1;32m   1641\u001b[0m         \u001b[38;5;124m'\u001b[39m\u001b[38;5;124m3.3\u001b[39m\u001b[38;5;124m'\u001b[39m, name\u001b[38;5;241m=\u001b[39mname, removal\u001b[38;5;241m=\u001b[39m\u001b[38;5;124m'\u001b[39m\u001b[38;5;124m3.6\u001b[39m\u001b[38;5;124m'\u001b[39m,\n\u001b[1;32m   1642\u001b[0m         message\u001b[38;5;241m=\u001b[39m\u001b[38;5;124m'\u001b[39m\u001b[38;5;132;01m%(name)s\u001b[39;00m\u001b[38;5;124m() got unexpected keyword argument \u001b[39m\u001b[38;5;124m\"\u001b[39m\u001b[38;5;124m'\u001b[39m\n\u001b[1;32m   1643\u001b[0m                 \u001b[38;5;241m+\u001b[39m arg \u001b[38;5;241m+\u001b[39m \u001b[38;5;124m'\u001b[39m\u001b[38;5;124m\"\u001b[39m\u001b[38;5;124m which is no longer supported as of \u001b[39m\u001b[38;5;124m'\u001b[39m\n\u001b[1;32m   1644\u001b[0m                 \u001b[38;5;124m'\u001b[39m\u001b[38;5;132;01m%(since)s\u001b[39;00m\u001b[38;5;124m and will become an error \u001b[39m\u001b[38;5;124m'\u001b[39m\n\u001b[1;32m   1645\u001b[0m                 \u001b[38;5;124m'\u001b[39m\u001b[38;5;132;01m%(removal)s\u001b[39;00m\u001b[38;5;124m'\u001b[39m)\n\u001b[1;32m   1646\u001b[0m     kwargs\u001b[38;5;241m.\u001b[39mpop(arg)\n\u001b[0;32m-> 1648\u001b[0m \u001b[38;5;28;01mreturn\u001b[39;00m \u001b[43mfunc\u001b[49m\u001b[43m(\u001b[49m\u001b[38;5;241;43m*\u001b[39;49m\u001b[43margs\u001b[49m\u001b[43m,\u001b[49m\u001b[43m \u001b[49m\u001b[38;5;241;43m*\u001b[39;49m\u001b[38;5;241;43m*\u001b[39;49m\u001b[43mkwargs\u001b[49m\u001b[43m)\u001b[49m\n",
      "File \u001b[0;32m~/.conda/envs/wsm/lib/python3.8/site-packages/matplotlib/_api/deprecation.py:386\u001b[0m, in \u001b[0;36mdelete_parameter.<locals>.wrapper\u001b[0;34m(*inner_args, **inner_kwargs)\u001b[0m\n\u001b[1;32m    381\u001b[0m \u001b[38;5;129m@functools\u001b[39m\u001b[38;5;241m.\u001b[39mwraps(func)\n\u001b[1;32m    382\u001b[0m \u001b[38;5;28;01mdef\u001b[39;00m \u001b[38;5;21mwrapper\u001b[39m(\u001b[38;5;241m*\u001b[39minner_args, \u001b[38;5;241m*\u001b[39m\u001b[38;5;241m*\u001b[39minner_kwargs):\n\u001b[1;32m    383\u001b[0m     \u001b[38;5;28;01mif\u001b[39;00m \u001b[38;5;28mlen\u001b[39m(inner_args) \u001b[38;5;241m<\u001b[39m\u001b[38;5;241m=\u001b[39m name_idx \u001b[38;5;129;01mand\u001b[39;00m name \u001b[38;5;129;01mnot\u001b[39;00m \u001b[38;5;129;01min\u001b[39;00m inner_kwargs:\n\u001b[1;32m    384\u001b[0m         \u001b[38;5;66;03m# Early return in the simple, non-deprecated case (much faster than\u001b[39;00m\n\u001b[1;32m    385\u001b[0m         \u001b[38;5;66;03m# calling bind()).\u001b[39;00m\n\u001b[0;32m--> 386\u001b[0m         \u001b[38;5;28;01mreturn\u001b[39;00m \u001b[43mfunc\u001b[49m\u001b[43m(\u001b[49m\u001b[38;5;241;43m*\u001b[39;49m\u001b[43minner_args\u001b[49m\u001b[43m,\u001b[49m\u001b[43m \u001b[49m\u001b[38;5;241;43m*\u001b[39;49m\u001b[38;5;241;43m*\u001b[39;49m\u001b[43minner_kwargs\u001b[49m\u001b[43m)\u001b[49m\n\u001b[1;32m    387\u001b[0m     arguments \u001b[38;5;241m=\u001b[39m signature\u001b[38;5;241m.\u001b[39mbind(\u001b[38;5;241m*\u001b[39minner_args, \u001b[38;5;241m*\u001b[39m\u001b[38;5;241m*\u001b[39minner_kwargs)\u001b[38;5;241m.\u001b[39marguments\n\u001b[1;32m    388\u001b[0m     \u001b[38;5;28;01mif\u001b[39;00m is_varargs \u001b[38;5;129;01mand\u001b[39;00m arguments\u001b[38;5;241m.\u001b[39mget(name):\n",
      "File \u001b[0;32m~/.conda/envs/wsm/lib/python3.8/site-packages/matplotlib/backends/backend_pdf.py:2778\u001b[0m, in \u001b[0;36mFigureCanvasPdf.print_pdf\u001b[0;34m(self, filename, dpi, bbox_inches_restore, metadata)\u001b[0m\n\u001b[1;32m   2776\u001b[0m     file \u001b[38;5;241m=\u001b[39m filename\u001b[38;5;241m.\u001b[39m_file\n\u001b[1;32m   2777\u001b[0m \u001b[38;5;28;01melse\u001b[39;00m:\n\u001b[0;32m-> 2778\u001b[0m     file \u001b[38;5;241m=\u001b[39m \u001b[43mPdfFile\u001b[49m\u001b[43m(\u001b[49m\u001b[43mfilename\u001b[49m\u001b[43m,\u001b[49m\u001b[43m \u001b[49m\u001b[43mmetadata\u001b[49m\u001b[38;5;241;43m=\u001b[39;49m\u001b[43mmetadata\u001b[49m\u001b[43m)\u001b[49m\n\u001b[1;32m   2779\u001b[0m \u001b[38;5;28;01mtry\u001b[39;00m:\n\u001b[1;32m   2780\u001b[0m     file\u001b[38;5;241m.\u001b[39mnewPage(width, height)\n",
      "File \u001b[0;32m~/.conda/envs/wsm/lib/python3.8/site-packages/matplotlib/backends/backend_pdf.py:654\u001b[0m, in \u001b[0;36mPdfFile.__init__\u001b[0;34m(self, filename, metadata)\u001b[0m\n\u001b[1;32m    652\u001b[0m \u001b[38;5;28mself\u001b[39m\u001b[38;5;241m.\u001b[39moriginal_file_like \u001b[38;5;241m=\u001b[39m \u001b[38;5;28;01mNone\u001b[39;00m\n\u001b[1;32m    653\u001b[0m \u001b[38;5;28mself\u001b[39m\u001b[38;5;241m.\u001b[39mtell_base \u001b[38;5;241m=\u001b[39m \u001b[38;5;241m0\u001b[39m\n\u001b[0;32m--> 654\u001b[0m fh, opened \u001b[38;5;241m=\u001b[39m \u001b[43mcbook\u001b[49m\u001b[38;5;241;43m.\u001b[39;49m\u001b[43mto_filehandle\u001b[49m\u001b[43m(\u001b[49m\u001b[43mfilename\u001b[49m\u001b[43m,\u001b[49m\u001b[43m \u001b[49m\u001b[38;5;124;43m\"\u001b[39;49m\u001b[38;5;124;43mwb\u001b[39;49m\u001b[38;5;124;43m\"\u001b[39;49m\u001b[43m,\u001b[49m\u001b[43m \u001b[49m\u001b[43mreturn_opened\u001b[49m\u001b[38;5;241;43m=\u001b[39;49m\u001b[38;5;28;43;01mTrue\u001b[39;49;00m\u001b[43m)\u001b[49m\n\u001b[1;32m    655\u001b[0m \u001b[38;5;28;01mif\u001b[39;00m \u001b[38;5;129;01mnot\u001b[39;00m opened:\n\u001b[1;32m    656\u001b[0m     \u001b[38;5;28;01mtry\u001b[39;00m:\n",
      "File \u001b[0;32m~/.conda/envs/wsm/lib/python3.8/site-packages/matplotlib/cbook/__init__.py:451\u001b[0m, in \u001b[0;36mto_filehandle\u001b[0;34m(fname, flag, return_opened, encoding)\u001b[0m\n\u001b[1;32m    449\u001b[0m         fh \u001b[38;5;241m=\u001b[39m bz2\u001b[38;5;241m.\u001b[39mBZ2File(fname, flag)\n\u001b[1;32m    450\u001b[0m     \u001b[38;5;28;01melse\u001b[39;00m:\n\u001b[0;32m--> 451\u001b[0m         fh \u001b[38;5;241m=\u001b[39m \u001b[38;5;28;43mopen\u001b[39;49m\u001b[43m(\u001b[49m\u001b[43mfname\u001b[49m\u001b[43m,\u001b[49m\u001b[43m \u001b[49m\u001b[43mflag\u001b[49m\u001b[43m,\u001b[49m\u001b[43m \u001b[49m\u001b[43mencoding\u001b[49m\u001b[38;5;241;43m=\u001b[39;49m\u001b[43mencoding\u001b[49m\u001b[43m)\u001b[49m\n\u001b[1;32m    452\u001b[0m     opened \u001b[38;5;241m=\u001b[39m \u001b[38;5;28;01mTrue\u001b[39;00m\n\u001b[1;32m    453\u001b[0m \u001b[38;5;28;01melif\u001b[39;00m \u001b[38;5;28mhasattr\u001b[39m(fname, \u001b[38;5;124m'\u001b[39m\u001b[38;5;124mseek\u001b[39m\u001b[38;5;124m'\u001b[39m):\n",
      "\u001b[0;31mFileNotFoundError\u001b[0m: [Errno 2] No such file or directory: 'Figures/CorInfoMax_Sparse_NMixtures_Ablation_uncorrelated.pdf'"
     ]
    },
    {
     "name": "stderr",
     "output_type": "stream",
     "text": [
      "findfont: Font family ['Times New Roman'] not found. Falling back to DejaVu Sans.\n",
      "findfont: Font family ['Times New Roman'] not found. Falling back to DejaVu Sans.\n"
     ]
    },
    {
     "data": {
      "image/png": "[encoded data removed]",
      "text/plain": [
       "<Figure size 800x480 with 1 Axes>"
      ]
     },
     "metadata": {
      "needs_background": "light"
     },
     "output_type": "display_data"
    }
   ],
   "source": [
    "data= []\n",
    "nmixtures_list = [5, 6, 7, 8, 9, 10]\n",
    "for nmixtures_list__ in nmixtures_list:\n",
    "    data.append(df_nmixtures_results.loc[df_nmixtures_results['NMixtures'] == nmixtures_list__]['SINR'].values.tolist())\n",
    "    \n",
    "data = np.stack(data, axis = 1)\n",
    "\n",
    "# compute the mean, 25/75 percentiles, and standard deviation\n",
    "mean_, perc_25, perc_75, std_data = perc(data)\n",
    "\n",
    "SINRresults = df_nmixtures_results[['NMixtures', 'SINR']].groupby(['NMixtures']).agg({'NMixtures':'size', 'SINR':'mean'}).rename(columns={'NMixtures':'count','SINR':'SINR'}).reset_index()\n",
    "\n",
    "nmixtures_list = np.array(SINRresults['NMixtures'].values, dtype = np.float64)\n",
    "SINR = np.array(SINRresults['SINR'].values, dtype = np.float64)\n",
    "\n",
    "SetPlotRC()\n",
    "fh2=plt.figure(figsize=(10, 6), dpi=80)\n",
    "plt.plot(nmixtures_list, SINR,\"-o\", linewidth=4, markersize = 13,color='#006BB2')\n",
    "plt.fill_between(nmixtures_list,  SINR + std_data, SINR - std_data, alpha=0.25, linewidth=0, color='#006BB2')\n",
    "plt.grid()\n",
    "plt.xlabel(\"Number of Mixtures\",fontsize=25)\n",
    "plt.ylabel(\"SINR (dB)\",fontsize=25)\n",
    "\n",
    "plt.grid(linewidth=2)\n",
    "plt.xticks(nmixtures_list, [\"5\", \"6\", \"7\", \"8\", \"9\", \"10\"])\n",
    "plt.xticks(fontsize=20)\n",
    "plt.yticks(fontsize=20)\n",
    "plt.axis([5, 10,7,33])\n",
    "\n",
    "ApplyFont(plt.gca())\n",
    "plt.savefig('Figures/CorInfoMax_Sparse_NMixtures_Ablation_uncorrelated.pdf', format='pdf')"
   ]
  },
  {
   "cell_type": "code",
   "execution_count": null,
   "id": "dc1ce877",
   "metadata": {},
   "outputs": [],
   "source": [
    "# df_nmixtures_results = pd.read_pickle(r\"../Results/simulation_results_sparse_nmixturesV2.pkl\").iloc[:6*45]\n",
    "# results = df_nmixtures_results[['NMixtures', 'SINR']].groupby(['NMixtures']).agg({'NMixtures':'size', 'SINR':'mean'}).rename(columns={'NMixtures':'count','SINR':'SINR'}).reset_index()\n",
    "\n",
    "# results"
   ]
  },
  {
   "cell_type": "code",
   "execution_count": null,
   "id": "fa233ccc",
   "metadata": {},
   "outputs": [],
   "source": [
    "df_nmixtures_results = pd.read_pickle(r\"../Results/simulation_results_nnantisparse_nmixturesV1.pkl\")\n",
    "df_nmixtures_results2 = pd.read_pickle(r\"../Results/simulation_results_nnantisparse_nmixturesV2.pkl\")\n",
    "df_nmixtures_results = df_nmixtures_results.loc[df_nmixtures_results['trial'] != 7]\n",
    "df_nmixtures_results = pd.concat([df_nmixtures_results, df_nmixtures_results.iloc[:6]])"
   ]
  },
  {
   "cell_type": "code",
   "execution_count": null,
   "id": "906ecfaa",
   "metadata": {},
   "outputs": [],
   "source": [
    "results = df_nmixtures_results[['NMixtures', 'SINR']].groupby(['NMixtures']).agg({'NMixtures':'size', 'SINR':'mean'}).rename(columns={'NMixtures':'count','SINR':'SINR'}).reset_index()\n",
    "\n",
    "results"
   ]
  },
  {
   "cell_type": "code",
   "execution_count": null,
   "id": "8a0918f7",
   "metadata": {},
   "outputs": [],
   "source": [
    "data= []\n",
    "nmixtures_list = [5, 6, 7, 8, 9, 10]\n",
    "for nmixtures_list__ in nmixtures_list:\n",
    "    data.append(df_nmixtures_results.loc[df_nmixtures_results['NMixtures'] == nmixtures_list__]['SINR'].values.tolist())\n",
    "    \n",
    "data = np.stack(data, axis = 1)\n",
    "\n",
    "# compute the mean, 25/75 percentiles, and standard deviation\n",
    "mean_, perc_25, perc_75, std_data = perc(data)\n",
    "\n",
    "SINRresults = df_nmixtures_results[['NMixtures', 'SINR']].groupby(['NMixtures']).agg({'NMixtures':'size', 'SINR':'mean'}).rename(columns={'NMixtures':'count','SINR':'SINR'}).reset_index()\n",
    "\n",
    "nmixtures_list = np.array(SINRresults['NMixtures'].values, dtype = np.float64)\n",
    "SINR = np.array(SINRresults['SINR'].values, dtype = np.float64)\n",
    "\n",
    "SetPlotRC()\n",
    "fh2=plt.figure(figsize=(10, 6), dpi=80)\n",
    "plt.plot(nmixtures_list, SINR,\"-o\", linewidth=4, markersize = 13,color='#006BB2')\n",
    "plt.fill_between(nmixtures_list,  SINR + std_data, SINR - std_data, alpha=0.25, linewidth=0, color='#006BB2')\n",
    "plt.grid()\n",
    "plt.xlabel(\"Number of Mixtures\",fontsize=25)\n",
    "plt.ylabel(\"SINR (dB)\",fontsize=25)\n",
    "\n",
    "plt.grid(linewidth=2)\n",
    "plt.xticks(nmixtures_list, [\"5\", \"6\", \"7\", \"8\", \"9\", \"10\"])\n",
    "plt.xticks(fontsize=20)\n",
    "plt.yticks(fontsize=20)\n",
    "plt.axis([5, 10,7,33])\n",
    "\n",
    "ApplyFont(plt.gca())\n",
    "plt.savefig('Figures/CorInfoMax_NNAnti_NMixtures_Ablation_uncorrelated.pdf', format='pdf')"
   ]
  },
  {
   "cell_type": "code",
   "execution_count": null,
   "id": "2d8661b2",
   "metadata": {},
   "outputs": [],
   "source": [
    "# df_nmixtures_results = pd.read_pickle(r\"../Results/simulation_results_nnantisparse_nmixturesV2.pkl\")\n",
    "\n",
    "# results = df_nmixtures_results[['NMixtures', 'SINR']].groupby(['NMixtures']).agg({'NMixtures':'size', 'SINR':'mean'}).rename(columns={'NMixtures':'count','SINR':'SINR'}).reset_index()\n",
    "\n",
    "# results"
   ]
  },
  {
   "cell_type": "markdown",
   "id": "8fe56d7a",
   "metadata": {},
   "source": [
    "# $\\mu_W$ learning rate selection NN-Antisparse"
   ]
  },
  {
   "cell_type": "code",
   "execution_count": null,
   "id": "f40e376b",
   "metadata": {},
   "outputs": [],
   "source": [
    "df_muW_results = pd.read_pickle(r\"../Results/simulation_results_muWSelectionV1.pkl\")\n",
    "\n",
    "print(df_muW_results.shape[0]//4)\n",
    "df_muW_results = df_muW_results.iloc[:4*(df_muW_results.shape[0]//4)]\n",
    "# df_muW_results = df_muW_results.iloc[:4*19]\n",
    "df_muW_results['SINR'].hist()"
   ]
  },
  {
   "cell_type": "code",
   "execution_count": null,
   "id": "af5234f3",
   "metadata": {},
   "outputs": [],
   "source": [
    "print(df_muW_results.loc[df_muW_results['SINR'] == -999].shape)"
   ]
  },
  {
   "cell_type": "code",
   "execution_count": null,
   "id": "f4ef0f99",
   "metadata": {},
   "outputs": [],
   "source": [
    "results = df_muW_results[['muW', 'SINR']].groupby(['muW']).agg({'muW':'size', 'SINR':'mean'}).rename(columns={'muW':'count','SINR':'SINR'}).reset_index()\n",
    "\n",
    "results"
   ]
  },
  {
   "cell_type": "code",
   "execution_count": null,
   "id": "bf465e8e",
   "metadata": {},
   "outputs": [],
   "source": [
    "data= []\n",
    "muW_list = [0.005, 0.01, 0.03, 0.05]\n",
    "for muW__ in muW_list:\n",
    "    data.append(df_muW_results.loc[df_muW_results['muW'] == muW__]['SINR'].values.tolist())\n",
    "    \n",
    "data = np.stack(data, axis = 1)\n",
    "\n",
    "# compute the mean, 25/75 percentiles, and standard deviation\n",
    "mean_, perc_25, perc_75, std_data = perc(data)\n",
    "\n",
    "SINRresults = df_muW_results[['muW', 'SINR']].groupby(['muW']).agg({'muW':'size', 'SINR':'mean'}).rename(columns={'muW':'count','SINR':'SINR'}).reset_index()\n",
    "\n",
    "muW_list = np.array(SINRresults['muW'].values, dtype = np.float64)\n",
    "SINR = np.array(SINRresults['SINR'].values, dtype = np.float64)\n",
    "\n",
    "SetPlotRC()\n",
    "fh2=plt.figure(figsize=(10, 6), dpi=80)\n",
    "plt.plot(muW_list, SINR,\"-o\", linewidth=4, markersize = 13,color='#006BB2')\n",
    "plt.fill_between(muW_list,  SINR + std_data, SINR - std_data, alpha=0.25, linewidth=0, color='#006BB2')\n",
    "plt.grid()\n",
    "plt.xlabel(\"$\\mu_W$\",fontsize=25)\n",
    "plt.ylabel(\"SINR (dB)\",fontsize=25)\n",
    "\n",
    "plt.grid(linewidth=2)\n",
    "plt.xticks(muW_list, [\"5e-3\", \"1e-2\", \"3e-2\", \"5e-2\"])\n",
    "plt.xticks(fontsize=20)\n",
    "plt.yticks(fontsize=20)\n",
    "plt.axis([0.005, 0.05,21,31])\n",
    "\n",
    "ApplyFont(plt.gca())\n",
    "# plt.savefig('Figures/CorInfoMax_NNAnti_muW_Ablation_uncorrelated.pdf', format='pdf')"
   ]
  },
  {
   "cell_type": "code",
   "execution_count": null,
   "id": "8babe1a4",
   "metadata": {},
   "outputs": [],
   "source": [
    "df_muW_results = pd.read_pickle(r\"../Results/simulation_results_muWSelectionV2.pkl\")#.iloc[:12]\n",
    "\n",
    "print(df_muW_results.shape[0]//4)\n",
    "df_muW_results = df_muW_results.iloc[:4*(df_muW_results.shape[0]//4)]\n",
    "# df_muW_results = df_muW_results.iloc[:4*19]\n",
    "df_muW_results['SINR'].hist()"
   ]
  },
  {
   "cell_type": "code",
   "execution_count": null,
   "id": "918546ee",
   "metadata": {},
   "outputs": [],
   "source": [
    "results = df_muW_results[['muW', 'SINR']].groupby(['muW']).agg({'muW':'size', 'SINR':'mean'}).rename(columns={'muW':'count','SINR':'SINR'}).reset_index()\n",
    "\n",
    "results"
   ]
  },
  {
   "cell_type": "code",
   "execution_count": null,
   "id": "97c8f1fc",
   "metadata": {},
   "outputs": [],
   "source": [
    "data= []\n",
    "muW_list = [0.005, 0.01, 0.03, 0.05]\n",
    "for muW__ in muW_list:\n",
    "    data.append(df_muW_results.loc[df_muW_results['muW'] == muW__]['SINR'].values.tolist())\n",
    "    \n",
    "data = np.stack(data, axis = 1)\n",
    "\n",
    "# compute the mean, 25/75 percentiles, and standard deviation\n",
    "mean_, perc_25, perc_75, std_data = perc(data)\n",
    "\n",
    "SINRresults = df_muW_results[['muW', 'SINR']].groupby(['muW']).agg({'muW':'size', 'SINR':'mean'}).rename(columns={'muW':'count','SINR':'SINR'}).reset_index()\n",
    "\n",
    "muW_list = np.array(SINRresults['muW'].values, dtype = np.float64)\n",
    "SINR = np.array(SINRresults['SINR'].values, dtype = np.float64)\n",
    "\n",
    "SetPlotRC()\n",
    "fh2=plt.figure(figsize=(10, 6), dpi=80)\n",
    "plt.plot(muW_list, SINR,\"-o\", linewidth=4, markersize = 13,color='#006BB2')\n",
    "plt.fill_between(muW_list,  SINR + std_data, SINR - std_data, alpha=0.25, linewidth=0, color='#006BB2')\n",
    "plt.grid()\n",
    "plt.xlabel(\"$\\mu_W$\",fontsize=25)\n",
    "plt.ylabel(\"SINR (dB)\",fontsize=25)\n",
    "\n",
    "plt.grid(linewidth=2)\n",
    "plt.xticks(muW_list, [\"5e-3\", \"1e-2\", \"3e-2\", \"5e-2\"])\n",
    "plt.xticks(fontsize=20)\n",
    "plt.yticks(fontsize=20)\n",
    "plt.axis([0.005, 0.05,21,31])\n",
    "\n",
    "ApplyFont(plt.gca())\n",
    "# plt.savefig('Figures/CorInfoMax_NNAnti_muW_Ablation_correlated.pdf', format='pdf')"
   ]
  },
  {
   "cell_type": "markdown",
   "id": "138f6ac8",
   "metadata": {},
   "source": [
    "# $B_e$ Initialization NN-Antisparse"
   ]
  },
  {
   "cell_type": "code",
   "execution_count": null,
   "id": "bc61acfe",
   "metadata": {},
   "outputs": [],
   "source": [
    "df_Be_results = pd.read_pickle(r\"../Results/simulation_results_Be_InitializationV1.pkl\")#.iloc[:12]\n",
    "\n",
    "print(df_Be_results.shape[0]//4)\n",
    "df_Be_results = df_Be_results.iloc[:4*(df_Be_results.shape[0]//4)]\n",
    "# df_Be_results = df_Be_results.iloc[:4*19]\n",
    "df_Be_results['SINR'].hist()"
   ]
  },
  {
   "cell_type": "code",
   "execution_count": null,
   "id": "cabd8bc5",
   "metadata": {},
   "outputs": [],
   "source": [
    "results = df_Be_results[['Be_gain', 'SINR']].groupby(['Be_gain']).agg({'Be_gain':'size', 'SINR':'mean'}).rename(columns={'Be_gain':'count','SINR':'SINR'}).reset_index()\n",
    "\n",
    "results"
   ]
  },
  {
   "cell_type": "code",
   "execution_count": null,
   "id": "c73b1fe0",
   "metadata": {},
   "outputs": [],
   "source": [
    "data= []\n",
    "Be_gain_list = [1000, 2000, 5000, 10000]\n",
    "for Be_gain in Be_gain_list:\n",
    "    data.append(df_Be_results.loc[df_Be_results['Be_gain'] == Be_gain]['SINR'].values.tolist())\n",
    "    \n",
    "data = np.stack(data, axis = 1)\n",
    "\n",
    "# compute the mean, 25/75 percentiles, and standard deviation\n",
    "mean_, perc_25, perc_75, std_data = perc(data)\n",
    "\n",
    "SINRresults = df_Be_results[['Be_gain', 'SINR']].groupby(['Be_gain']).agg({'Be_gain':'size', 'SINR':'mean'}).rename(columns={'Be_gain':'count','SINR':'SINR'}).reset_index()\n",
    "\n",
    "Be_gain_list = np.array(SINRresults['Be_gain'].values, dtype = np.float64)\n",
    "SINR = np.array(SINRresults['SINR'].values, dtype = np.float64)\n",
    "\n",
    "SetPlotRC()\n",
    "fh2=plt.figure(figsize=(10, 6), dpi=80)\n",
    "plt.semilogx(Be_gain_list, SINR,\"-o\", linewidth=4, markersize = 13,color='#006BB2')\n",
    "plt.fill_between(Be_gain_list,  SINR + std_data, SINR - std_data, alpha=0.25, linewidth=0, color='#006BB2')\n",
    "plt.grid()\n",
    "plt.xlabel(\"$B_e$ Gain\",fontsize=25)\n",
    "plt.ylabel(\"SINR (dB)\",fontsize=25)\n",
    "\n",
    "plt.grid(linewidth=2)\n",
    "plt.xticks(Be_gain_list, [\"1e3\", \"2e3\", \"5e3\", \"1e4\"])\n",
    "plt.xticks(fontsize=20)\n",
    "plt.yticks(fontsize=20)\n",
    "plt.axis([1000, 10000,21,31])\n",
    "\n",
    "ApplyFont(plt.gca())\n",
    "# plt.savefig('Figures/CorInfoMax_NNAnti_Be_Ablation_uncorrelated.pdf', format='pdf')"
   ]
  },
  {
   "cell_type": "code",
   "execution_count": null,
   "id": "30d656d4",
   "metadata": {},
   "outputs": [],
   "source": [
    "df_Be_results = pd.read_pickle(r\"../Results/simulation_results_Be_InitializationV2.pkl\")#.iloc[:12]\n",
    "\n",
    "print(df_Be_results.shape[0]//4)\n",
    "df_Be_results = df_Be_results.iloc[:4*(df_Be_results.shape[0]//4)]\n",
    "df_Be_results['SINR'].hist()"
   ]
  },
  {
   "cell_type": "code",
   "execution_count": null,
   "id": "2b69e5cc",
   "metadata": {},
   "outputs": [],
   "source": [
    "results = df_Be_results[['Be_gain', 'SINR']].groupby(['Be_gain']).agg({'Be_gain':'size', 'SINR':'mean'}).rename(columns={'Be_gain':'count','SINR':'SINR'}).reset_index()\n",
    "\n",
    "results"
   ]
  },
  {
   "cell_type": "code",
   "execution_count": null,
   "id": "984142f4",
   "metadata": {},
   "outputs": [],
   "source": [
    "data= []\n",
    "Be_gain_list = [1000, 2000, 5000, 10000]\n",
    "for Be_gain in Be_gain_list:\n",
    "    data.append(df_Be_results.loc[df_Be_results['Be_gain'] == Be_gain]['SINR'].values.tolist())\n",
    "    \n",
    "data = np.stack(data, axis = 1)\n",
    "\n",
    "# compute the mean, 25/75 percentiles, and standard deviation\n",
    "mean_, perc_25, perc_75, std_data = perc(data)\n",
    "\n",
    "SINRresults = df_Be_results[['Be_gain', 'SINR']].groupby(['Be_gain']).agg({'Be_gain':'size', 'SINR':'mean'}).rename(columns={'Be_gain':'count','SINR':'SINR'}).reset_index()\n",
    "\n",
    "Be_gain_list = np.array(SINRresults['Be_gain'].values, dtype = np.float64)\n",
    "SINR = np.array(SINRresults['SINR'].values, dtype = np.float64)\n",
    "\n",
    "SetPlotRC()\n",
    "fh2=plt.figure(figsize=(10, 6), dpi=80)\n",
    "plt.semilogx(Be_gain_list, SINR,\"-o\", linewidth=4, markersize = 13,color='#006BB2')\n",
    "plt.fill_between(Be_gain_list,  SINR + std_data, SINR - std_data, alpha=0.25, linewidth=0, color='#006BB2')\n",
    "plt.grid()\n",
    "plt.xlabel(\"$B_e$ Gain\",fontsize=25)\n",
    "plt.ylabel(\"SINR (dB)\",fontsize=25)\n",
    "\n",
    "plt.grid(linewidth=2)\n",
    "plt.xticks(Be_gain_list, [\"1e3\", \"2e3\", \"5e3\", \"1e4\"])\n",
    "plt.xticks(fontsize=20)\n",
    "plt.yticks(fontsize=20)\n",
    "plt.axis([1000, 10000,21,31])\n",
    "\n",
    "ApplyFont(plt.gca())\n",
    "# plt.savefig('Figures/CorInfoMax_NNAnti_Be_Ablation_correlated.pdf', format='pdf')"
   ]
  },
  {
   "cell_type": "code",
   "execution_count": null,
   "id": "50fb2a5a",
   "metadata": {},
   "outputs": [],
   "source": []
  }
 ],
 "metadata": {
  "kernelspec": {
   "display_name": "Python 3 (ipykernel)",
   "language": "python",
   "name": "python3"
  },
  "language_info": {
   "codemirror_mode": {
    "name": "ipython",
    "version": 3
   },
   "file_extension": ".py",
   "mimetype": "text/x-python",
   "name": "python",
   "nbconvert_exporter": "python",
   "pygments_lexer": "ipython3",
   "version": "3.8.12"
  }
 },
 "nbformat": 4,
 "nbformat_minor": 5
}
