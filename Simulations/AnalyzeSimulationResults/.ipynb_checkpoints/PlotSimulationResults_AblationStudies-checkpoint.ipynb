{
 "cells": [
  {
   "cell_type": "code",
   "execution_count": 1,
   "id": "753d084e",
   "metadata": {},
   "outputs": [],
   "source": [
    "import sys\n",
    "sys.path.insert(0, '../Results')\n",
    "sys.path.insert(0, '../../src')\n",
    "import pandas as pd\n",
    "import numpy as np\n",
    "import matplotlib.pyplot as plt\n",
    "import pickle\n",
    "import os\n",
    "from visualization_utils import perc, SetPlotRC, ApplyFont"
   ]
  },
  {
   "cell_type": "code",
   "execution_count": 2,
   "id": "c80f8315",
   "metadata": {},
   "outputs": [],
   "source": [
    "if not os.path.exists(\"Figures\"):\n",
    "    os.mkdir(\"Figures\")"
   ]
  },
  {
   "cell_type": "markdown",
   "id": "8fe56d7a",
   "metadata": {},
   "source": [
    "# $\\mu_W$ learning rate selection NN-Antisparse"
   ]
  },
  {
   "cell_type": "code",
   "execution_count": 16,
   "id": "f40e376b",
   "metadata": {},
   "outputs": [
    {
     "name": "stdout",
     "output_type": "stream",
     "text": [
      "31\n"
     ]
    },
    {
     "data": {
      "text/plain": [
       "<AxesSubplot:>"
      ]
     },
     "execution_count": 16,
     "metadata": {},
     "output_type": "execute_result"
    },
    {
     "data": {
      "image/png": "[encoded data removed]",
      "text/plain": [
       "<Figure size 432x288 with 1 Axes>"
      ]
     },
     "metadata": {
      "needs_background": "light"
     },
     "output_type": "display_data"
    }
   ],
   "source": [
    "df_muW_results = pd.read_pickle(r\"../Results/simulation_results_muWSelectionV1.pkl\")\n",
    "\n",
    "print(df_muW_results.shape[0]//4)\n",
    "df_muW_results = df_muW_results.iloc[:4*(df_muW_results.shape[0]//4)]\n",
    "# df_muW_results = df_muW_results.iloc[:4*19]\n",
    "df_muW_results['SINR'].hist()"
   ]
  },
  {
   "cell_type": "code",
   "execution_count": 17,
   "id": "af5234f3",
   "metadata": {},
   "outputs": [
    {
     "name": "stdout",
     "output_type": "stream",
     "text": [
      "(0, 13)\n"
     ]
    }
   ],
   "source": [
    "print(df_muW_results.loc[df_muW_results['SINR'] == -999].shape)"
   ]
  },
  {
   "cell_type": "code",
   "execution_count": 18,
   "id": "f4ef0f99",
   "metadata": {},
   "outputs": [
    {
     "data": {
      "text/html": [
       "<div>\n",
       "<style scoped>\n",
       "    .dataframe tbody tr th:only-of-type {\n",
       "        vertical-align: middle;\n",
       "    }\n",
       "\n",
       "    .dataframe tbody tr th {\n",
       "        vertical-align: top;\n",
       "    }\n",
       "\n",
       "    .dataframe thead th {\n",
       "        text-align: right;\n",
       "    }\n",
       "</style>\n",
       "<table border=\"1\" class=\"dataframe\">\n",
       "  <thead>\n",
       "    <tr style=\"text-align: right;\">\n",
       "      <th></th>\n",
       "      <th>muW</th>\n",
       "      <th>count</th>\n",
       "      <th>SINR</th>\n",
       "    </tr>\n",
       "  </thead>\n",
       "  <tbody>\n",
       "    <tr>\n",
       "      <th>0</th>\n",
       "      <td>0.005</td>\n",
       "      <td>19</td>\n",
       "      <td>23.929465</td>\n",
       "    </tr>\n",
       "    <tr>\n",
       "      <th>1</th>\n",
       "      <td>0.010</td>\n",
       "      <td>19</td>\n",
       "      <td>25.494063</td>\n",
       "    </tr>\n",
       "    <tr>\n",
       "      <th>2</th>\n",
       "      <td>0.030</td>\n",
       "      <td>19</td>\n",
       "      <td>27.534538</td>\n",
       "    </tr>\n",
       "    <tr>\n",
       "      <th>3</th>\n",
       "      <td>0.050</td>\n",
       "      <td>19</td>\n",
       "      <td>28.441054</td>\n",
       "    </tr>\n",
       "  </tbody>\n",
       "</table>\n",
       "</div>"
      ],
      "text/plain": [
       "     muW  count       SINR\n",
       "0  0.005     19  23.929465\n",
       "1  0.010     19  25.494063\n",
       "2  0.030     19  27.534538\n",
       "3  0.050     19  28.441054"
      ]
     },
     "execution_count": 18,
     "metadata": {},
     "output_type": "execute_result"
    }
   ],
   "source": [
    "results = df_muW_results[['muW', 'SINR']].groupby(['muW']).agg({'muW':'size', 'SINR':'mean'}).rename(columns={'muW':'count','SINR':'SINR'}).reset_index()\n",
    "\n",
    "results"
   ]
  },
  {
   "cell_type": "code",
   "execution_count": 6,
   "id": "bf465e8e",
   "metadata": {},
   "outputs": [
    {
     "name": "stderr",
     "output_type": "stream",
     "text": [
      "findfont: Font family ['Times New Roman'] not found. Falling back to DejaVu Sans.\n",
      "findfont: Font family ['Times New Roman'] not found. Falling back to DejaVu Sans.\n"
     ]
    },
    {
     "data": {
      "image/png": "[encoded data removed]",
      "text/plain": [
       "<Figure size 800x480 with 1 Axes>"
      ]
     },
     "metadata": {
      "needs_background": "light"
     },
     "output_type": "display_data"
    }
   ],
   "source": [
    "data= []\n",
    "muW_list = [0.005, 0.01, 0.03, 0.05]\n",
    "for muW__ in muW_list:\n",
    "    data.append(df_muW_results.loc[df_muW_results['muW'] == muW__]['SINR'].values.tolist())\n",
    "    \n",
    "data = np.stack(data, axis = 1)\n",
    "\n",
    "# compute the mean, 25/75 percentiles, and standard deviation\n",
    "mean_, perc_25, perc_75, std_data = perc(data)\n",
    "\n",
    "SINRresults = df_muW_results[['muW', 'SINR']].groupby(['muW']).agg({'muW':'size', 'SINR':'mean'}).rename(columns={'muW':'count','SINR':'SINR'}).reset_index()\n",
    "\n",
    "muW_list = np.array(SINRresults['muW'].values, dtype = np.float64)\n",
    "SINR = np.array(SINRresults['SINR'].values, dtype = np.float64)\n",
    "\n",
    "SetPlotRC()\n",
    "fh2=plt.figure(figsize=(10, 6), dpi=80)\n",
    "plt.plot(muW_list, SINR,\"-o\", linewidth=4, markersize = 13,color='#006BB2')\n",
    "plt.fill_between(muW_list,  SINR + std_data, SINR - std_data, alpha=0.25, linewidth=0, color='#006BB2')\n",
    "plt.grid()\n",
    "plt.xlabel(\"$\\mu_W$\",fontsize=25)\n",
    "plt.ylabel(\"SINR (dB)\",fontsize=25)\n",
    "\n",
    "plt.grid(linewidth=2)\n",
    "plt.xticks(muW_list, [\"5e-3\", \"1e-2\", \"3e-2\", \"5e-2\"])\n",
    "plt.xticks(fontsize=20)\n",
    "plt.yticks(fontsize=20)\n",
    "plt.axis([0.005, 0.05,21,31])\n",
    "\n",
    "ApplyFont(plt.gca())\n",
    "plt.savefig('Figures/CorInfoMax_NNAnti_muW_Ablation_uncorrelated.pdf', format='pdf')"
   ]
  },
  {
   "cell_type": "code",
   "execution_count": 21,
   "id": "8babe1a4",
   "metadata": {},
   "outputs": [
    {
     "name": "stdout",
     "output_type": "stream",
     "text": [
      "33\n"
     ]
    },
    {
     "data": {
      "text/plain": [
       "<AxesSubplot:>"
      ]
     },
     "execution_count": 21,
     "metadata": {},
     "output_type": "execute_result"
    },
    {
     "data": {
      "image/png": "[encoded data removed]",
      "text/plain": [
       "<Figure size 432x288 with 1 Axes>"
      ]
     },
     "metadata": {
      "needs_background": "light"
     },
     "output_type": "display_data"
    }
   ],
   "source": [
    "df_muW_results = pd.read_pickle(r\"../Results/simulation_results_muWSelectionV2.pkl\")#.iloc[:12]\n",
    "\n",
    "print(df_muW_results.shape[0]//4)\n",
    "df_muW_results = df_muW_results.iloc[:4*(df_muW_results.shape[0]//4)]\n",
    "# df_muW_results = df_muW_results.iloc[:4*19]\n",
    "df_muW_results['SINR'].hist()"
   ]
  },
  {
   "cell_type": "code",
   "execution_count": 22,
   "id": "918546ee",
   "metadata": {},
   "outputs": [
    {
     "data": {
      "text/html": [
       "<div>\n",
       "<style scoped>\n",
       "    .dataframe tbody tr th:only-of-type {\n",
       "        vertical-align: middle;\n",
       "    }\n",
       "\n",
       "    .dataframe tbody tr th {\n",
       "        vertical-align: top;\n",
       "    }\n",
       "\n",
       "    .dataframe thead th {\n",
       "        text-align: right;\n",
       "    }\n",
       "</style>\n",
       "<table border=\"1\" class=\"dataframe\">\n",
       "  <thead>\n",
       "    <tr style=\"text-align: right;\">\n",
       "      <th></th>\n",
       "      <th>muW</th>\n",
       "      <th>count</th>\n",
       "      <th>SINR</th>\n",
       "    </tr>\n",
       "  </thead>\n",
       "  <tbody>\n",
       "    <tr>\n",
       "      <th>0</th>\n",
       "      <td>0.005</td>\n",
       "      <td>19</td>\n",
       "      <td>23.666415</td>\n",
       "    </tr>\n",
       "    <tr>\n",
       "      <th>1</th>\n",
       "      <td>0.010</td>\n",
       "      <td>19</td>\n",
       "      <td>25.566788</td>\n",
       "    </tr>\n",
       "    <tr>\n",
       "      <th>2</th>\n",
       "      <td>0.030</td>\n",
       "      <td>19</td>\n",
       "      <td>27.319564</td>\n",
       "    </tr>\n",
       "    <tr>\n",
       "      <th>3</th>\n",
       "      <td>0.050</td>\n",
       "      <td>19</td>\n",
       "      <td>25.723630</td>\n",
       "    </tr>\n",
       "  </tbody>\n",
       "</table>\n",
       "</div>"
      ],
      "text/plain": [
       "     muW  count       SINR\n",
       "0  0.005     19  23.666415\n",
       "1  0.010     19  25.566788\n",
       "2  0.030     19  27.319564\n",
       "3  0.050     19  25.723630"
      ]
     },
     "execution_count": 22,
     "metadata": {},
     "output_type": "execute_result"
    }
   ],
   "source": [
    "results = df_muW_results[['muW', 'SINR']].groupby(['muW']).agg({'muW':'size', 'SINR':'mean'}).rename(columns={'muW':'count','SINR':'SINR'}).reset_index()\n",
    "\n",
    "results"
   ]
  },
  {
   "cell_type": "code",
   "execution_count": 9,
   "id": "97c8f1fc",
   "metadata": {},
   "outputs": [
    {
     "name": "stderr",
     "output_type": "stream",
     "text": [
      "findfont: Font family ['Times New Roman'] not found. Falling back to DejaVu Sans.\n",
      "findfont: Font family ['Times New Roman'] not found. Falling back to DejaVu Sans.\n"
     ]
    },
    {
     "data": {
      "image/png": "[encoded data removed]",
      "text/plain": [
       "<Figure size 800x480 with 1 Axes>"
      ]
     },
     "metadata": {
      "needs_background": "light"
     },
     "output_type": "display_data"
    }
   ],
   "source": [
    "data= []\n",
    "muW_list = [0.005, 0.01, 0.03, 0.05]\n",
    "for muW__ in muW_list:\n",
    "    data.append(df_muW_results.loc[df_muW_results['muW'] == muW__]['SINR'].values.tolist())\n",
    "    \n",
    "data = np.stack(data, axis = 1)\n",
    "\n",
    "# compute the mean, 25/75 percentiles, and standard deviation\n",
    "mean_, perc_25, perc_75, std_data = perc(data)\n",
    "\n",
    "SINRresults = df_muW_results[['muW', 'SINR']].groupby(['muW']).agg({'muW':'size', 'SINR':'mean'}).rename(columns={'muW':'count','SINR':'SINR'}).reset_index()\n",
    "\n",
    "muW_list = np.array(SINRresults['muW'].values, dtype = np.float64)\n",
    "SINR = np.array(SINRresults['SINR'].values, dtype = np.float64)\n",
    "\n",
    "SetPlotRC()\n",
    "fh2=plt.figure(figsize=(10, 6), dpi=80)\n",
    "plt.plot(muW_list, SINR,\"-o\", linewidth=4, markersize = 13,color='#006BB2')\n",
    "plt.fill_between(muW_list,  SINR + std_data, SINR - std_data, alpha=0.25, linewidth=0, color='#006BB2')\n",
    "plt.grid()\n",
    "plt.xlabel(\"$\\mu_W$\",fontsize=25)\n",
    "plt.ylabel(\"SINR (dB)\",fontsize=25)\n",
    "\n",
    "plt.grid(linewidth=2)\n",
    "plt.xticks(muW_list, [\"5e-3\", \"1e-2\", \"3e-2\", \"5e-2\"])\n",
    "plt.xticks(fontsize=20)\n",
    "plt.yticks(fontsize=20)\n",
    "plt.axis([0.005, 0.05,21,31])\n",
    "\n",
    "ApplyFont(plt.gca())\n",
    "# plt.savefig('Figures/CorInfoMax_NNAnti_muW_Ablation_correlated.pdf', format='pdf')"
   ]
  },
  {
   "cell_type": "markdown",
   "id": "138f6ac8",
   "metadata": {},
   "source": [
    "# $B_e$ Initialization NN-Antisparse"
   ]
  },
  {
   "cell_type": "code",
   "execution_count": 19,
   "id": "bc61acfe",
   "metadata": {},
   "outputs": [
    {
     "name": "stdout",
     "output_type": "stream",
     "text": [
      "20\n"
     ]
    },
    {
     "data": {
      "text/plain": [
       "<AxesSubplot:>"
      ]
     },
     "execution_count": 19,
     "metadata": {},
     "output_type": "execute_result"
    },
    {
     "data": {
      "image/png": "[encoded data removed]",
      "text/plain": [
       "<Figure size 432x288 with 1 Axes>"
      ]
     },
     "metadata": {
      "needs_background": "light"
     },
     "output_type": "display_data"
    }
   ],
   "source": [
    "df_Be_results = pd.read_pickle(r\"../Results/simulation_results_Be_InitializationV1.pkl\")#.iloc[:12]\n",
    "\n",
    "print(df_Be_results.shape[0]//4)\n",
    "df_Be_results = df_Be_results.iloc[:4*(df_Be_results.shape[0]//4)]\n",
    "# df_Be_results = df_Be_results.iloc[:4*19]\n",
    "df_Be_results['SINR'].hist()"
   ]
  },
  {
   "cell_type": "code",
   "execution_count": 20,
   "id": "cabd8bc5",
   "metadata": {},
   "outputs": [
    {
     "data": {
      "text/html": [
       "<div>\n",
       "<style scoped>\n",
       "    .dataframe tbody tr th:only-of-type {\n",
       "        vertical-align: middle;\n",
       "    }\n",
       "\n",
       "    .dataframe tbody tr th {\n",
       "        vertical-align: top;\n",
       "    }\n",
       "\n",
       "    .dataframe thead th {\n",
       "        text-align: right;\n",
       "    }\n",
       "</style>\n",
       "<table border=\"1\" class=\"dataframe\">\n",
       "  <thead>\n",
       "    <tr style=\"text-align: right;\">\n",
       "      <th></th>\n",
       "      <th>Be_gain</th>\n",
       "      <th>count</th>\n",
       "      <th>SINR</th>\n",
       "    </tr>\n",
       "  </thead>\n",
       "  <tbody>\n",
       "    <tr>\n",
       "      <th>0</th>\n",
       "      <td>1000</td>\n",
       "      <td>19</td>\n",
       "      <td>28.402836</td>\n",
       "    </tr>\n",
       "    <tr>\n",
       "      <th>1</th>\n",
       "      <td>2000</td>\n",
       "      <td>19</td>\n",
       "      <td>27.534538</td>\n",
       "    </tr>\n",
       "    <tr>\n",
       "      <th>2</th>\n",
       "      <td>5000</td>\n",
       "      <td>19</td>\n",
       "      <td>26.115585</td>\n",
       "    </tr>\n",
       "    <tr>\n",
       "      <th>3</th>\n",
       "      <td>10000</td>\n",
       "      <td>19</td>\n",
       "      <td>24.947567</td>\n",
       "    </tr>\n",
       "  </tbody>\n",
       "</table>\n",
       "</div>"
      ],
      "text/plain": [
       "   Be_gain  count       SINR\n",
       "0     1000     19  28.402836\n",
       "1     2000     19  27.534538\n",
       "2     5000     19  26.115585\n",
       "3    10000     19  24.947567"
      ]
     },
     "execution_count": 20,
     "metadata": {},
     "output_type": "execute_result"
    }
   ],
   "source": [
    "results = df_Be_results[['Be_gain', 'SINR']].groupby(['Be_gain']).agg({'Be_gain':'size', 'SINR':'mean'}).rename(columns={'Be_gain':'count','SINR':'SINR'}).reset_index()\n",
    "\n",
    "results"
   ]
  },
  {
   "cell_type": "code",
   "execution_count": 12,
   "id": "c73b1fe0",
   "metadata": {},
   "outputs": [
    {
     "data": {
      "image/png": "[encoded data removed]",
      "text/plain": [
       "<Figure size 800x480 with 1 Axes>"
      ]
     },
     "metadata": {
      "needs_background": "light"
     },
     "output_type": "display_data"
    }
   ],
   "source": [
    "data= []\n",
    "Be_gain_list = [1000, 2000, 5000, 10000]\n",
    "for Be_gain in Be_gain_list:\n",
    "    data.append(df_Be_results.loc[df_Be_results['Be_gain'] == Be_gain]['SINR'].values.tolist())\n",
    "    \n",
    "data = np.stack(data, axis = 1)\n",
    "\n",
    "# compute the mean, 25/75 percentiles, and standard deviation\n",
    "mean_, perc_25, perc_75, std_data = perc(data)\n",
    "\n",
    "SINRresults = df_Be_results[['Be_gain', 'SINR']].groupby(['Be_gain']).agg({'Be_gain':'size', 'SINR':'mean'}).rename(columns={'Be_gain':'count','SINR':'SINR'}).reset_index()\n",
    "\n",
    "Be_gain_list = np.array(SINRresults['Be_gain'].values, dtype = np.float64)\n",
    "SINR = np.array(SINRresults['SINR'].values, dtype = np.float64)\n",
    "\n",
    "SetPlotRC()\n",
    "fh2=plt.figure(figsize=(10, 6), dpi=80)\n",
    "plt.semilogx(Be_gain_list, SINR,\"-o\", linewidth=4, markersize = 13,color='#006BB2')\n",
    "plt.fill_between(Be_gain_list,  SINR + std_data, SINR - std_data, alpha=0.25, linewidth=0, color='#006BB2')\n",
    "plt.grid()\n",
    "plt.xlabel(\"$B_e$ Gain\",fontsize=25)\n",
    "plt.ylabel(\"SINR (dB)\",fontsize=25)\n",
    "\n",
    "plt.grid(linewidth=2)\n",
    "plt.xticks(Be_gain_list, [\"1e3\", \"2e3\", \"5e3\", \"1e4\"])\n",
    "plt.xticks(fontsize=20)\n",
    "plt.yticks(fontsize=20)\n",
    "plt.axis([1000, 10000,21,31])\n",
    "\n",
    "ApplyFont(plt.gca())\n",
    "# plt.savefig('Figures/CorInfoMax_NNAnti_Be_Ablation_uncorrelated.pdf', format='pdf')"
   ]
  },
  {
   "cell_type": "code",
   "execution_count": 13,
   "id": "30d656d4",
   "metadata": {},
   "outputs": [
    {
     "name": "stdout",
     "output_type": "stream",
     "text": [
      "19\n"
     ]
    },
    {
     "data": {
      "text/plain": [
       "<AxesSubplot:>"
      ]
     },
     "execution_count": 13,
     "metadata": {},
     "output_type": "execute_result"
    },
    {
     "data": {
      "image/png": "[encoded data removed]",
      "text/plain": [
       "<Figure size 432x288 with 1 Axes>"
      ]
     },
     "metadata": {
      "needs_background": "light"
     },
     "output_type": "display_data"
    }
   ],
   "source": [
    "df_Be_results = pd.read_pickle(r\"../Results/simulation_results_Be_InitializationV2.pkl\")#.iloc[:12]\n",
    "\n",
    "print(df_Be_results.shape[0]//4)\n",
    "df_Be_results = df_Be_results.iloc[:4*(df_Be_results.shape[0]//4)]\n",
    "df_Be_results['SINR'].hist()"
   ]
  },
  {
   "cell_type": "code",
   "execution_count": 14,
   "id": "2b69e5cc",
   "metadata": {},
   "outputs": [
    {
     "data": {
      "text/html": [
       "<div>\n",
       "<style scoped>\n",
       "    .dataframe tbody tr th:only-of-type {\n",
       "        vertical-align: middle;\n",
       "    }\n",
       "\n",
       "    .dataframe tbody tr th {\n",
       "        vertical-align: top;\n",
       "    }\n",
       "\n",
       "    .dataframe thead th {\n",
       "        text-align: right;\n",
       "    }\n",
       "</style>\n",
       "<table border=\"1\" class=\"dataframe\">\n",
       "  <thead>\n",
       "    <tr style=\"text-align: right;\">\n",
       "      <th></th>\n",
       "      <th>Be_gain</th>\n",
       "      <th>count</th>\n",
       "      <th>SINR</th>\n",
       "    </tr>\n",
       "  </thead>\n",
       "  <tbody>\n",
       "    <tr>\n",
       "      <th>0</th>\n",
       "      <td>1000</td>\n",
       "      <td>19</td>\n",
       "      <td>26.576053</td>\n",
       "    </tr>\n",
       "    <tr>\n",
       "      <th>1</th>\n",
       "      <td>2000</td>\n",
       "      <td>19</td>\n",
       "      <td>27.319564</td>\n",
       "    </tr>\n",
       "    <tr>\n",
       "      <th>2</th>\n",
       "      <td>5000</td>\n",
       "      <td>19</td>\n",
       "      <td>27.268835</td>\n",
       "    </tr>\n",
       "    <tr>\n",
       "      <th>3</th>\n",
       "      <td>10000</td>\n",
       "      <td>19</td>\n",
       "      <td>26.381355</td>\n",
       "    </tr>\n",
       "  </tbody>\n",
       "</table>\n",
       "</div>"
      ],
      "text/plain": [
       "   Be_gain  count       SINR\n",
       "0     1000     19  26.576053\n",
       "1     2000     19  27.319564\n",
       "2     5000     19  27.268835\n",
       "3    10000     19  26.381355"
      ]
     },
     "execution_count": 14,
     "metadata": {},
     "output_type": "execute_result"
    }
   ],
   "source": [
    "results = df_Be_results[['Be_gain', 'SINR']].groupby(['Be_gain']).agg({'Be_gain':'size', 'SINR':'mean'}).rename(columns={'Be_gain':'count','SINR':'SINR'}).reset_index()\n",
    "\n",
    "results"
   ]
  },
  {
   "cell_type": "code",
   "execution_count": 15,
   "id": "984142f4",
   "metadata": {},
   "outputs": [
    {
     "data": {
      "image/png": "[encoded data removed]",
      "text/plain": [
       "<Figure size 800x480 with 1 Axes>"
      ]
     },
     "metadata": {
      "needs_background": "light"
     },
     "output_type": "display_data"
    }
   ],
   "source": [
    "data= []\n",
    "Be_gain_list = [1000, 2000, 5000, 10000]\n",
    "for Be_gain in Be_gain_list:\n",
    "    data.append(df_Be_results.loc[df_Be_results['Be_gain'] == Be_gain]['SINR'].values.tolist())\n",
    "    \n",
    "data = np.stack(data, axis = 1)\n",
    "\n",
    "# compute the mean, 25/75 percentiles, and standard deviation\n",
    "mean_, perc_25, perc_75, std_data = perc(data)\n",
    "\n",
    "SINRresults = df_Be_results[['Be_gain', 'SINR']].groupby(['Be_gain']).agg({'Be_gain':'size', 'SINR':'mean'}).rename(columns={'Be_gain':'count','SINR':'SINR'}).reset_index()\n",
    "\n",
    "Be_gain_list = np.array(SINRresults['Be_gain'].values, dtype = np.float64)\n",
    "SINR = np.array(SINRresults['SINR'].values, dtype = np.float64)\n",
    "\n",
    "SetPlotRC()\n",
    "fh2=plt.figure(figsize=(10, 6), dpi=80)\n",
    "plt.semilogx(Be_gain_list, SINR,\"-o\", linewidth=4, markersize = 13,color='#006BB2')\n",
    "plt.fill_between(Be_gain_list,  SINR + std_data, SINR - std_data, alpha=0.25, linewidth=0, color='#006BB2')\n",
    "plt.grid()\n",
    "plt.xlabel(\"$B_e$ Gain\",fontsize=25)\n",
    "plt.ylabel(\"SINR (dB)\",fontsize=25)\n",
    "\n",
    "plt.grid(linewidth=2)\n",
    "plt.xticks(Be_gain_list, [\"1e3\", \"2e3\", \"5e3\", \"1e4\"])\n",
    "plt.xticks(fontsize=20)\n",
    "plt.yticks(fontsize=20)\n",
    "plt.axis([1000, 10000,21,31])\n",
    "\n",
    "ApplyFont(plt.gca())\n",
    "# plt.savefig('Figures/CorInfoMax_NNAnti_Be_Ablation_correlated.pdf', format='pdf')"
   ]
  }
 ],
 "metadata": {
  "kernelspec": {
   "display_name": "Python 3 (ipykernel)",
   "language": "python",
   "name": "python3"
  },
  "language_info": {
   "codemirror_mode": {
    "name": "ipython",
    "version": 3
   },
   "file_extension": ".py",
   "mimetype": "text/x-python",
   "name": "python",
   "nbconvert_exporter": "python",
   "pygments_lexer": "ipython3",
   "version": "3.8.12"
  }
 },
 "nbformat": 4,
 "nbformat_minor": 5
}
