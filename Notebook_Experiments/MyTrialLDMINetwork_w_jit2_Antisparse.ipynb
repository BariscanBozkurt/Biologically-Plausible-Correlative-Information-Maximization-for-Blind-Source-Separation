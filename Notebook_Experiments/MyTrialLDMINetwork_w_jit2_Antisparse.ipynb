{
 "cells": [
  {
   "cell_type": "code",
   "execution_count": 1,
   "metadata": {},
   "outputs": [],
   "source": [
    "from IPython import display\n",
    "from IPython.display import clear_output\n",
    "import pylab as pl\n",
    "import numpy as np\n",
    "import matplotlib.pyplot as plt\n",
    "from numba import njit, jit\n",
    "from time import time\n",
    "from helpers import *\n",
    "np.random.seed(13)"
   ]
  },
  {
   "cell_type": "code",
   "execution_count": 2,
   "metadata": {},
   "outputs": [
    {
     "name": "stdout",
     "output_type": "stream",
     "text": [
      "The following is the mixture matrix A\n"
     ]
    },
    {
     "data": {
      "text/latex": [
       "$\\displaystyle \\begin{bmatrix} \n",
       " -0.271 & -0.297 & 0.357 & 0.694 & -0.644 & \\\\\n",
       " -0.229 & -0.350 & -0.277 & -0.585 & 0.276 & \\\\\n",
       " -1.295 & 0.042 & -0.470 & 0.162 & 0.512 & \\\\\n",
       " 0.288 & 0.820 & 0.451 & 0.278 & -0.261 & \\\\\n",
       " -0.699 & 1.864 & -0.299 & 0.738 & 0.503 & \\\\\n",
       " -0.258 & 0.219 & 0.165 & 0.802 & 1.107 & \\\\\n",
       " -0.286 & -1.373 & -2.209 & 0.794 & 2.193 & \\\\\n",
       " 1.842 & -0.800 & 0.685 & -1.518 & 0.293 & \\\\\n",
       "\\end{bmatrix}$"
      ],
      "text/plain": [
       "<IPython.core.display.Math object>"
      ]
     },
     "metadata": {},
     "output_type": "display_data"
    }
   ],
   "source": [
    "N = 500000\n",
    "# Generate sufficiently scattered source signals\n",
    "S = np.random.uniform(-1.1,1.1, size = (5,N))\n",
    "S = S*(S>=-1)*(S<=1) + (S >1)*1\n",
    "# Number of Source and Mixtures\n",
    "NumberofSources = S.shape[0]\n",
    "NumberofMixtures = 8\n",
    "\n",
    "# INPUT_STD = 0.35\n",
    "# A = np.random.standard_normal(size=(NumberofMixtures,NumberofSources))\n",
    "# X = A @ S\n",
    "# for M in range(A.shape[0]):\n",
    "#     stdx = np.std(X[M,:])\n",
    "#     A[M,:] = A[M,:]/stdx * INPUT_STD\n",
    "\n",
    "# # A = np.abs(A)\n",
    "# X = A @ S\n",
    "# Mixtures\n",
    "# Generate Mxr random mixing from i.i.d N(0,1)\n",
    "A=np.random.randn(NumberofMixtures,NumberofSources)\n",
    "X=np.dot(A,S)\n",
    "X=X+0.01*np.random.randn(X.shape[0],X.shape[1])\n",
    "print('The following is the mixture matrix A')\n",
    "display_matrix(A)"
   ]
  },
  {
   "cell_type": "code",
   "execution_count": 3,
   "metadata": {},
   "outputs": [],
   "source": [
    "#ALGORITHM PARAMETERS\n",
    "#Ry forgetting factor\n",
    "lambday = 1 - 1e-5 /10\n",
    "#Re forgetting factor\n",
    "lambdae = 1 - 1e-6 /10\n",
    "\n",
    "gamy = (1-lambday)/lambday\n",
    "game = (1-lambdae)/lambdae\n",
    "\n",
    "# W feedforward synapses learning step size\n",
    "muW = 2e-3\n",
    "# muW = 1e-6\n",
    "# Output computation stepsize\n",
    "muv = 1.0\n",
    "# Display Periods\n",
    "DISPLAY_PERIOD = 200\n",
    "# Hopefield parameter\n",
    "h = 1 / gamy\n",
    "# Output Computation Iterations\n",
    "NumberofOutputIterations = 250\n",
    "# ALGORTITHM STATE INITIALIZATION\n",
    "# Inverse output covariance\n",
    "By = 5 * np.eye(NumberofSources)\n",
    "# Inverse error covariance\n",
    "Be = 100 * np.eye(NumberofSources)\n",
    "# Feedforward Synapses\n",
    "# W=np.eye(r,M)*2\n",
    "# W = np.random.randn(NumberofSources,NumberofMixtures)/4\n",
    "# Wu = np.zeros((NumberofSources,NumberofMixtures))\n",
    "\n",
    "W = np.random.randn(NumberofSources,NumberofMixtures)\n",
    "Wu = np.zeros((NumberofSources,NumberofMixtures))\n",
    "# WScalings = 0.0033\n",
    "# W = np.random.standard_normal(size = (NumberofSources, NumberofMixtures))\n",
    "for k in range(W.shape[0]):\n",
    "    W[k,:] =  W[k,:]/np.linalg.norm(W[k,:])\n",
    "# WScalings = 0.0033\n",
    "# W = np.random.standard_normal(size = (NumberofSources, NumberofMixtures))\n",
    "# for k in range(W.shape[0]):\n",
    "#     W[k,:] = WScalings * W[k,:]/np.linalg.norm(W[k,:])\n",
    "# SIR list\n",
    "SIRlist = np.zeros(N)\n",
    "SIRflist = np.zeros(N)\n",
    "erlist = np.zeros(N)\n",
    "erflist = np.zeros(N)\n",
    "Belist = np.zeros(N)\n",
    "SIRflisto = 0\n",
    "erflisto = 0"
   ]
  },
  {
   "cell_type": "code",
   "execution_count": 4,
   "metadata": {},
   "outputs": [],
   "source": [
    "@njit\n",
    "def run_neural_dynamics_antisparse(yk, yke, My, gamy, Be, game, vk, muv, n_iterations = 250,\n",
    "                                   lr_start = 1.5, lr_stop = 0.001, tol = 1e-8):\n",
    "    \n",
    "    def ProjectOntoLInfty(X, thresh = 1.0):\n",
    "        return X*(X>=-thresh)*(X<=thresh)+(X>thresh)*thresh-thresh*(X<-thresh)\n",
    "    \n",
    "    for j in range(n_iterations):\n",
    "        muv = max(lr_start/(1 + j * 0.005), lr_stop)\n",
    "        ykold = yk\n",
    "        #Find error\n",
    "        ek = yk - yke\n",
    "        # Gradient of the entropy cost H(y)\n",
    "        grady = gamy * np.dot(My, yk)\n",
    "        # Gradient for H(yk|xk)\n",
    "        grade = game * np.dot(Be, ek)\n",
    "        # Overall gradient\n",
    "        gradv = -vk + grady - grade\n",
    "        # Update v\n",
    "        vk = vk + muv * gradv / np.linalg.norm(gradv) / (j+1)\n",
    "        \n",
    "        yk = ProjectOntoLInfty(vk / (h * gamy))\n",
    "        if np.linalg.norm(yk - ykold) < tol * np.linalg.norm(ykold):\n",
    "            break\n",
    "        \n",
    "    return yk, ek\n",
    "\n",
    "# @njit\n",
    "# def run_neural_dynamics_antisparse(yk, yke, My, gamy, Be, game, vk, muv, n_iterations = 750, tol = 1e-8):\n",
    "#     def ProjectOntoLInfty(X, thresh = 1.0):\n",
    "#         return X*(X>=-thresh)*(X<=thresh)+(X>thresh)*thresh-thresh*(X<-thresh)\n",
    "    \n",
    "#     for j in range(n_iterations):\n",
    "#         ykold = yk\n",
    "#         #Find error\n",
    "#         ek = yk - yke\n",
    "#         # Gradient of the entropy cost H(y)\n",
    "#         grady = gamy * np.dot(My, yk)\n",
    "#         # Gradient for H(yk|xk)\n",
    "#         grade = game * np.dot(Be, ek)\n",
    "#         # Overall gradient\n",
    "#         gradv = -vk + grady - grade\n",
    "#         # Update v\n",
    "#         vk = vk + muv * gradv / np.linalg.norm(gradv) / (j+1)\n",
    "        \n",
    "#         yk = ProjectOntoLInfty(vk / (h * gamy))\n",
    "#         if np.linalg.norm(yk - ykold) < tol * np.linalg.norm(ykold):\n",
    "#             break\n",
    "        \n",
    "#     return yk, ek"
   ]
  },
  {
   "cell_type": "code",
   "execution_count": null,
   "metadata": {},
   "outputs": [
    {
     "data": {
      "image/png": "[encoded data removed]",
      "text/plain": [
       "<Figure size 1200x480 with 1 Axes>"
      ]
     },
     "metadata": {},
     "output_type": "display_data"
    }
   ],
   "source": [
    "plt.figure(figsize = (15, 6), dpi = 80)\n",
    "for k in range(N):\n",
    "    # Get the current input\n",
    "    xk = X[:,k]\n",
    "    xk = np.reshape(xk, (NumberofMixtures, 1))\n",
    "    # Initialize membrane voltage\n",
    "    vk = np.zeros((NumberofSources, 1))\n",
    "    # Initialize Output\n",
    "    yk = 2.0 * np.random.rand(NumberofSources, 1) - 1.0;\n",
    "    yk = np.random.uniform(-1.1,1.1, size = (NumberofSources,1))\n",
    "#     yk = np.zeros((NumberofSources,1))\n",
    "#     yk = yk/3\n",
    "    vk = h * yk * gamy\n",
    "#     vk = np.random.uniform(-1.1,1.1, size = (NumberofSources,1))\n",
    "    yke = np.dot(W, xk)\n",
    "    yk = yk/3\n",
    "    # Compute output\n",
    "    ynormlist = np.zeros(NumberofOutputIterations)\n",
    "    # Output recurrent weights\n",
    "    My = By + h * np.eye(NumberofSources)\n",
    "    NumberofOutputIterations_ = np.int64(5+np.min([np.ceil(k/50000.0),NumberofOutputIterations]))\n",
    "\n",
    "    t0 = time()\n",
    "    yk, ek = run_neural_dynamics_antisparse(yk, yke, My, gamy, Be, game, vk, muv, \n",
    "                                            NumberofOutputIterations_)\n",
    "    t1 = time()\n",
    "\n",
    "#     Wu = 0.01 * np.dot(ek,xk.T)\n",
    "    W = (1 - 1e-6) * W + muW * (np.dot(ek,xk.T) - Wu) #+ 0.0001 * np.random.randn(NumberofSources,NumberofMixtures)#/np.sqrt(k/100+1)\n",
    "#     Wu = 0.01 * np.dot(ek,xk.T)#/10/100\n",
    "\n",
    "    ee = np.dot(Be,ek)\n",
    "    Be = 1 / lambdae * (Be - game * np.dot(ee, ee.T))\n",
    "    # By\n",
    "    zk = np.dot(By,yk)\n",
    "    By = 1 / lambday * (By - gamy * np.dot(zk, zk.T))\n",
    "    Wf = np.linalg.inv(game * Be - gamy * By) @ Be @ W * game\n",
    "    SIRv,rankP = CalculateSIR(A, Wf)\n",
    "    SIRlist[k] = SIRv \n",
    "    if (np.mod(k,DISPLAY_PERIOD) == 0):\n",
    "        pl.clf()\n",
    "        pl.plot(SIRlist[:k])\n",
    "        pl.grid()\n",
    "        clear_output(wait=True)\n",
    "        display(pl.gcf())    "
   ]
  },
  {
   "cell_type": "code",
   "execution_count": null,
   "metadata": {},
   "outputs": [],
   "source": [
    "muW"
   ]
  },
  {
   "cell_type": "code",
   "execution_count": null,
   "metadata": {},
   "outputs": [],
   "source": []
  }
 ],
 "metadata": {
  "kernelspec": {
   "display_name": "Python 3",
   "language": "python",
   "name": "python3"
  },
  "language_info": {
   "codemirror_mode": {
    "name": "ipython",
    "version": 3
   },
   "file_extension": ".py",
   "mimetype": "text/x-python",
   "name": "python",
   "nbconvert_exporter": "python",
   "pygments_lexer": "ipython3",
   "version": "3.7.11"
  }
 },
 "nbformat": 4,
 "nbformat_minor": 4
}
