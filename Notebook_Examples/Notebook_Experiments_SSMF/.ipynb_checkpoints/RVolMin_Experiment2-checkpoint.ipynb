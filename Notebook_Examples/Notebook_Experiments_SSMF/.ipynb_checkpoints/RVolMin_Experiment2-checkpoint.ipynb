{
 "cells": [
  {
   "cell_type": "code",
   "execution_count": 1,
   "id": "344262e7",
   "metadata": {},
   "outputs": [],
   "source": [
    "import sys\n",
    "import os\n",
    "os.chdir(\"..\")\n",
    "os.chdir(\"..\")\n",
    "os.chdir(\"./src\")\n",
    "# sys.path.append(\"./src\")"
   ]
  },
  {
   "cell_type": "code",
   "execution_count": 2,
   "id": "30e12a2a",
   "metadata": {},
   "outputs": [],
   "source": [
    "import numpy as np\n",
    "import matplotlib.pyplot as plt\n",
    "from IPython import display\n",
    "import pylab as pl\n",
    "\n",
    "from SSMF import *\n",
    "from PMF import *\n",
    "from general_utils import *\n",
    "from visualization_utils import * \n",
    "\n",
    "import warnings\n",
    "warnings.filterwarnings(\"ignore\")\n",
    "\n",
    "notebook_name = 'Sparse'"
   ]
  },
  {
   "cell_type": "code",
   "execution_count": 3,
   "id": "fcf08e99",
   "metadata": {},
   "outputs": [
    {
     "name": "stdout",
     "output_type": "stream",
     "text": [
      "The following is the mixture matrix A\n"
     ]
    },
    {
     "data": {
      "text/latex": [
       "$\\displaystyle \\begin{bmatrix} \n",
       " -0.257 & 2.169 & -0.521 & 2.145 & -0.311 & 0.043 & 0.464 & 0.876 & 0.903 & -1.463 & \\\\\n",
       " -0.625 & 2.162 & -0.266 & 0.497 & -0.439 & -1.202 & 0.376 & -0.918 & -0.129 & -1.228 & \\\\\n",
       " -0.732 & -0.291 & -0.359 & 0.435 & -0.878 & -1.130 & -0.339 & 0.175 & -1.613 & -1.594 & \\\\\n",
       " 1.258 & -1.527 & -0.476 & 0.745 & -0.430 & 1.113 & -2.470 & 1.272 & -1.138 & -0.347 & \\\\\n",
       " -1.319 & -0.579 & 1.031 & -0.053 & 0.452 & 0.514 & -0.281 & 0.104 & -0.807 & 1.819 & \\\\\n",
       " 0.026 & -0.601 & -0.142 & 0.128 & -1.212 & 0.306 & 0.203 & -0.585 & -1.403 & -2.109 & \\\\\n",
       " -0.349 & 0.263 & -1.566 & 1.584 & -0.161 & 0.633 & -0.483 & -0.732 & -0.677 & -0.524 & \\\\\n",
       " 1.108 & -0.307 & 1.894 & 0.028 & 0.173 & -0.053 & -0.137 & 0.292 & 0.861 & 0.065 & \\\\\n",
       " -0.719 & -0.484 & 0.771 & 0.154 & -0.115 & 0.893 & -0.255 & 0.909 & 0.800 & -0.151 & \\\\\n",
       " -2.072 & 0.224 & -2.211 & -1.190 & -0.859 & 1.191 & 0.032 & -1.841 & 0.537 & -0.853 & \\\\\n",
       " 0.920 & -0.589 & 1.943 & 0.551 & 0.115 & -1.048 & -0.977 & -0.756 & -0.609 & -0.995 & \\\\\n",
       " -0.607 & -0.544 & 0.278 & 0.170 & -1.099 & 0.358 & -1.346 & 0.017 & 0.518 & -0.362 & \\\\\n",
       " 1.527 & -1.568 & -0.145 & -1.810 & -1.331 & 0.024 & 1.875 & -0.323 & 0.925 & -0.109 & \\\\\n",
       " -0.300 & 0.959 & 1.055 & -1.061 & -0.612 & -1.810 & 0.331 & 0.348 & -0.662 & -1.704 & \\\\\n",
       " 2.638 & 1.554 & 1.428 & -1.615 & -0.673 & -0.900 & -0.064 & 1.791 & 1.619 & 1.455 & \\\\\n",
       " -1.044 & 0.650 & -1.072 & 1.317 & 0.634 & -0.358 & 1.897 & -0.869 & 0.589 & -1.606 & \\\\\n",
       " -0.863 & 0.021 & -0.771 & -2.335 & -0.022 & -0.692 & 0.769 & 0.751 & -0.350 & 1.113 & \\\\\n",
       " 0.537 & -0.719 & 1.195 & 0.648 & -2.571 & -0.003 & 0.085 & 0.305 & -0.301 & 0.251 & \\\\\n",
       " 0.302 & 0.203 & 0.327 & -0.351 & -2.616 & 0.624 & 0.417 & 1.129 & -1.723 & -1.548 & \\\\\n",
       " -0.867 & -1.235 & 1.789 & -0.650 & 0.741 & -0.899 & 0.625 & -0.745 & 0.799 & -1.146 & \\\\\n",
       " 0.428 & 1.554 & 0.555 & 0.248 & 0.756 & 0.558 & -0.101 & 0.655 & 0.472 & 0.822 & \\\\\n",
       " 0.304 & 0.825 & 0.157 & 0.037 & 0.261 & 1.163 & -0.111 & 0.691 & 0.509 & -0.670 & \\\\\n",
       " 1.038 & 0.849 & 1.109 & -1.118 & 0.458 & 0.458 & 1.643 & 1.195 & -0.503 & 2.057 & \\\\\n",
       " 0.819 & -0.626 & -1.557 & -0.025 & -0.156 & 1.047 & -2.204 & -0.802 & -1.284 & 2.603 & \\\\\n",
       " 1.333 & 0.269 & -0.218 & 0.500 & -1.938 & 0.834 & 0.343 & -0.530 & 1.956 & -0.919 & \\\\\n",
       " 0.888 & -0.051 & -0.335 & 0.937 & 0.889 & 0.391 & -1.538 & 0.783 & 0.032 & 0.471 & \\\\\n",
       " 1.011 & -1.371 & -0.114 & 0.647 & -0.598 & 0.411 & 0.175 & -0.259 & 0.169 & -2.159 & \\\\\n",
       " -0.733 & -0.898 & 0.826 & -2.580 & 1.638 & -0.685 & -0.301 & 1.083 & -0.371 & -1.515 & \\\\\n",
       " -0.257 & 1.771 & 0.623 & -0.415 & 1.568 & 0.197 & 1.823 & 1.049 & -0.896 & 1.022 & \\\\\n",
       " 0.410 & 0.812 & -0.888 & 2.579 & 0.594 & -1.843 & -0.787 & -1.589 & -0.119 & -1.220 & \\\\\n",
       " -1.046 & -0.359 & -0.160 & 1.357 & -0.262 & 2.309 & 0.006 & -0.515 & -0.993 & 0.886 & \\\\\n",
       " -1.120 & -0.581 & 1.393 & -1.725 & -1.173 & -1.296 & 1.995 & 0.762 & -1.410 & -0.867 & \\\\\n",
       " 0.268 & 0.157 & -2.127 & 1.384 & -2.335 & 0.526 & -0.486 & -0.580 & 0.763 & 1.160 & \\\\\n",
       " -0.122 & 0.178 & 0.813 & 1.609 & -2.577 & -0.574 & -1.064 & -0.465 & -0.149 & -0.206 & \\\\\n",
       " -1.009 & 0.522 & 0.137 & 0.845 & -0.085 & 0.846 & 1.612 & -0.120 & -1.763 & 2.618 & \\\\\n",
       " -0.622 & -0.196 & -0.556 & -0.297 & -0.879 & 1.365 & -1.358 & 1.281 & -0.171 & -0.360 & \\\\\n",
       " -0.897 & 0.479 & 0.498 & -3.009 & -0.798 & -0.835 & 0.005 & 0.937 & 0.899 & 0.672 & \\\\\n",
       " 0.129 & 0.662 & -0.670 & 0.623 & -0.294 & 0.148 & 0.325 & -0.396 & -0.045 & -0.945 & \\\\\n",
       " 0.649 & -0.589 & 0.920 & 0.433 & -0.769 & -1.394 & 0.793 & -0.341 & 1.448 & -0.839 & \\\\\n",
       " -0.068 & 1.050 & 0.182 & -1.861 & 0.110 & -1.004 & -0.289 & 1.108 & -1.466 & -1.013 & \\\\\n",
       " -0.890 & -1.938 & 0.180 & 0.716 & 0.697 & -0.310 & 0.482 & -0.070 & -0.773 & 0.174 & \\\\\n",
       " -1.978 & 0.767 & -0.778 & 0.759 & 0.111 & 0.064 & 0.511 & -2.669 & 0.978 & 1.138 & \\\\\n",
       " 0.369 & -0.570 & 0.881 & 0.423 & 0.950 & 0.172 & 0.275 & -1.089 & 0.599 & 0.487 & \\\\\n",
       " -0.962 & 0.717 & 0.011 & -0.533 & -0.431 & -3.256 & -0.432 & 0.888 & 0.151 & -0.857 & \\\\\n",
       " -1.245 & -0.840 & 0.562 & 0.064 & -2.680 & 1.080 & 1.327 & 0.809 & -0.046 & -1.830 & \\\\\n",
       " -1.117 & 1.018 & -2.192 & 0.098 & -1.135 & 1.085 & 0.495 & 0.426 & 0.140 & 2.099 & \\\\\n",
       " 0.488 & -2.132 & 0.154 & -0.209 & 2.993 & 1.020 & -0.465 & -1.110 & -1.264 & 0.591 & \\\\\n",
       " -0.361 & 0.189 & 1.361 & 1.192 & -0.186 & 0.066 & 0.956 & -0.098 & -0.090 & 1.641 & \\\\\n",
       " 0.323 & 0.081 & 0.295 & -1.505 & -0.766 & 1.109 & 0.447 & -0.889 & -0.939 & -0.108 & \\\\\n",
       " -0.007 & 0.177 & -1.401 & -0.091 & -0.106 & 0.405 & 0.642 & -0.007 & -1.191 & -0.042 & \\\\\n",
       "\\end{bmatrix}$"
      ],
      "text/plain": [
       "<IPython.core.display.Math object>"
      ]
     },
     "metadata": {},
     "output_type": "display_data"
    },
    {
     "name": "stdout",
     "output_type": "stream",
     "text": [
      "Input SNR is : 30.00750596941478\n"
     ]
    }
   ],
   "source": [
    "N = 10000\n",
    "NumberofSources = 10\n",
    "NumberofMixtures = 20\n",
    "S = np.random.exponential(scale=1.0, size=(NumberofSources,int(N)))\n",
    "S = S / np.sum(S, axis = 0)\n",
    "# Generate Mxr random mixing from i.i.d N(0,1)\n",
    "A = np.random.randn(NumberofMixtures,NumberofSources)\n",
    "X = np.dot(A,S)\n",
    "\n",
    "SNR = 30\n",
    "X, NoisePart = addWGN(X, SNR, return_noise = True)\n",
    "\n",
    "SNRinp = 10 * np.log10(np.sum(np.mean((X - NoisePart)**2, axis = 1)) / np.sum(np.mean(NoisePart**2, axis = 1)))\n",
    "print(\"The following is the mixture matrix A\")\n",
    "display_matrix(A)\n",
    "print(\"Input SNR is : {}\".format(SNRinp))"
   ]
  },
  {
   "cell_type": "code",
   "execution_count": null,
   "id": "bef12dba",
   "metadata": {},
   "outputs": [],
   "source": [
    "s_dim = S.shape[0]\n",
    "x_dim = X.shape[0]\n",
    "debug_iteration_point = 5000\n",
    "model = RVolMin(s_dim = s_dim, x_dim = x_dim,\n",
    "                set_ground_truth = True, S = S, A = A)"
   ]
  },
  {
   "cell_type": "code",
   "execution_count": null,
   "id": "a6841027",
   "metadata": {},
   "outputs": [],
   "source": [
    "model.fit_batch(X, n_iterations = 25000,\n",
    "                Lt = 1000, p = 0.01,\n",
    "#                 lambda_ = 28, tau = 1e-10, \n",
    "                debug_iteration_point = debug_iteration_point,\n",
    "                plot_in_jupyter = True)"
   ]
  },
  {
   "cell_type": "code",
   "execution_count": 6,
   "id": "95c572e0",
   "metadata": {},
   "outputs": [],
   "source": [
    "U, singulars, V = np.linalg.svd(X, full_matrices=False)\n",
    "s_dim = S.shape[0]\n",
    "x_dim = X.shape[0]\n",
    "samples = X.shape[1]\n",
    "C = V[0:s_dim,:]\n",
    "B = U[:,:s_dim]\n",
    "F = np.eye(s_dim)\n",
    "W = np.eye(samples)\n",
    "W = np.diag(np.diag(np.random.randn(samples, samples)))\n",
    "w =np.diag(W).reshape(-1,1)\n",
    "q = 1\n",
    "p = 1\n",
    "Lt = 5\n",
    "lambda_ = 0.1\n",
    "epsilon = 1e-8\n",
    "tau = 1e-8"
   ]
  },
  {
   "cell_type": "code",
   "execution_count": 7,
   "id": "78a2c892",
   "metadata": {},
   "outputs": [],
   "source": [
    "diff = C.copy()\n",
    "Cprev = C.copy()\n",
    "q_prev = q\n",
    "q = (1+math.sqrt(1+4*q*q))/2\n",
    "C = C + ((q_prev - 1)/q)*(diff)\n",
    "C = C - (np.dot(B.T,(np.dot(B, C) - X))/(Lt*np.linalg.norm(np.transpose(B)@B, 2)))\n",
    "C = ProjectColstoSimplex(C)\n",
    "diff = C - Cprev"
   ]
  },
  {
   "cell_type": "code",
   "execution_count": 8,
   "id": "79e0a1b4",
   "metadata": {},
   "outputs": [
    {
     "name": "stdout",
     "output_type": "stream",
     "text": [
      "128 ms ± 16.4 ms per loop (mean ± std. dev. of 7 runs, 1 loop each)\n"
     ]
    }
   ],
   "source": [
    "%timeit a = X @ W.T @ C.T @ np.linalg.pinv(C @ W.T @ C.T + lambda_* F)"
   ]
  },
  {
   "cell_type": "code",
   "execution_count": 9,
   "id": "ad67776f",
   "metadata": {},
   "outputs": [
    {
     "name": "stdout",
     "output_type": "stream",
     "text": [
      "1.98 ms ± 1.54 µs per loop (mean ± std. dev. of 7 runs, 100 loops each)\n"
     ]
    }
   ],
   "source": [
    "%timeit b = (X * w.T) @ C.T @ np.linalg.pinv( (C * w.T) @ C.T + lambda_ * F) "
   ]
  },
  {
   "cell_type": "code",
   "execution_count": 10,
   "id": "bfef9018",
   "metadata": {},
   "outputs": [
    {
     "name": "stdout",
     "output_type": "stream",
     "text": [
      "1.94 ms ± 38.3 µs per loop (mean ± std. dev. of 7 runs, 1,000 loops each)\n"
     ]
    }
   ],
   "source": [
    "%timeit c = np.linalg.solve(((C * w.T) @ C.T + lambda_ * F).T, ((X * w.T) @ C.T).T).T"
   ]
  },
  {
   "cell_type": "code",
   "execution_count": 11,
   "id": "80249e5f",
   "metadata": {},
   "outputs": [
    {
     "ename": "NameError",
     "evalue": "name 'a' is not defined",
     "output_type": "error",
     "traceback": [
      "\u001b[0;31m---------------------------------------------------------------------------\u001b[0m",
      "\u001b[0;31mNameError\u001b[0m                                 Traceback (most recent call last)",
      "Input \u001b[0;32mIn [11]\u001b[0m, in \u001b[0;36m<module>\u001b[0;34m\u001b[0m\n\u001b[0;32m----> 1\u001b[0m np\u001b[38;5;241m.\u001b[39mlinalg\u001b[38;5;241m.\u001b[39mnorm(\u001b[43ma\u001b[49m \u001b[38;5;241m-\u001b[39m c)\n",
      "\u001b[0;31mNameError\u001b[0m: name 'a' is not defined"
     ]
    }
   ],
   "source": [
    "np.linalg.norm(a - c)"
   ]
  },
  {
   "cell_type": "code",
   "execution_count": null,
   "id": "72918ada",
   "metadata": {},
   "outputs": [],
   "source": [
    "k = -2\n",
    "(np.linalg.norm(X[:,k] - B @ C[:,k])**2 + epsilon) **((p - 2)/2)"
   ]
  },
  {
   "cell_type": "code",
   "execution_count": null,
   "id": "85abf6f5",
   "metadata": {},
   "outputs": [],
   "source": [
    "np.ones(10,1)"
   ]
  },
  {
   "cell_type": "code",
   "execution_count": null,
   "id": "29223d18",
   "metadata": {},
   "outputs": [],
   "source": [
    "((p / 2) * (np.sum((X - B @ C) ** 2, axis = 0) + epsilon)**((p - 2)/2))[:,np.newaxis]"
   ]
  }
 ],
 "metadata": {
  "kernelspec": {
   "display_name": "Python 3 (ipykernel)",
   "language": "python",
   "name": "python3"
  },
  "language_info": {
   "codemirror_mode": {
    "name": "ipython",
    "version": 3
   },
   "file_extension": ".py",
   "mimetype": "text/x-python",
   "name": "python",
   "nbconvert_exporter": "python",
   "pygments_lexer": "ipython3",
   "version": "3.8.12"
  }
 },
 "nbformat": 4,
 "nbformat_minor": 5
}
