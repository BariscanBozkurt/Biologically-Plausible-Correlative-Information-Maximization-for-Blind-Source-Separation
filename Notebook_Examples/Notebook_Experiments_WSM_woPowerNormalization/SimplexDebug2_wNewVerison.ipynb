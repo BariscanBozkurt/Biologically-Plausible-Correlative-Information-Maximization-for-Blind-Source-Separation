{
 "cells": [
  {
   "cell_type": "code",
   "execution_count": 1,
   "id": "57101e03",
   "metadata": {},
   "outputs": [],
   "source": [
    "import sys\n",
    "import os\n",
    "os.chdir(\"..\")\n",
    "os.chdir(\"./src\")\n",
    "# sys.path.append(\"./src\")\n",
    "\n",
    "import numpy as np\n",
    "import matplotlib.pyplot as plt\n",
    "from IPython import display\n",
    "import pylab as pl\n",
    "\n",
    "from WSMBSS import *\n",
    "from general_utils import *\n",
    "from visualization_utils import * \n",
    "\n",
    "import warnings\n",
    "warnings.filterwarnings(\"ignore\")\n",
    "\n",
    "notebook_name = 'Simplex'"
   ]
  },
  {
   "cell_type": "code",
   "execution_count": 2,
   "id": "1169d766",
   "metadata": {},
   "outputs": [
    {
     "name": "stdout",
     "output_type": "stream",
     "text": [
      "The following is the mixture matrix A\n"
     ]
    },
    {
     "data": {
      "text/latex": [
       "$\\displaystyle \\begin{bmatrix} \n",
       " 0.620 & 0.200 & 0.224 & -0.668 & -1.776 & \\\\\n",
       " 1.999 & -0.037 & 0.073 & 1.757 & 1.877 & \\\\\n",
       " 1.226 & -0.350 & 0.227 & 0.567 & -2.736 & \\\\\n",
       " 0.273 & -0.496 & 0.552 & -0.583 & -0.826 & \\\\\n",
       " 0.455 & -0.299 & -0.226 & -0.866 & -0.082 & \\\\\n",
       " 0.176 & 0.129 & -0.081 & -0.758 & 0.782 & \\\\\n",
       " 0.164 & -0.412 & 2.023 & -0.103 & 0.954 & \\\\\n",
       " -0.979 & -1.159 & -0.291 & 1.123 & 1.468 & \\\\\n",
       " -0.458 & 0.470 & -0.680 & -0.388 & -1.406 & \\\\\n",
       " -1.651 & 0.045 & -0.371 & 1.505 & 1.573 & \\\\\n",
       "\\end{bmatrix}$"
      ],
      "text/plain": [
       "<IPython.core.display.Math object>"
      ]
     },
     "metadata": {},
     "output_type": "display_data"
    },
    {
     "data": {
      "image/png": "[encoded data removed]",
      "text/plain": [
       "<Figure size 432x288 with 1 Axes>"
      ]
     },
     "metadata": {
      "needs_background": "light"
     },
     "output_type": "display_data"
    }
   ],
   "source": [
    "NumberofSources = 5\n",
    "NumberofMixtures = 10\n",
    "N = 500000\n",
    "np.random.seed(0)\n",
    "# https://stackoverflow.com/questions/65154622/sample-uniformly-at-random-from-a-simplex-in-python\n",
    "S = np.random.exponential(scale=1.0, size=(NumberofSources,int(N)))\n",
    "S = S / np.sum(S, axis = 0)\n",
    "\n",
    "SNR=30\n",
    "A = np.random.randn(NumberofMixtures,NumberofSources)\n",
    "X = np.dot(A,S)\n",
    "\n",
    "# X, NoisePart = addWGN(X, SNR, return_noise = True)\n",
    "\n",
    "# SNRinp = 10 * np.log10(np.sum(np.mean((X - NoisePart)**2, axis = 1)) / np.sum(np.mean(NoisePart**2, axis = 1)))\n",
    "print(\"The following is the mixture matrix A\")\n",
    "display_matrix(A)\n",
    "# print(\"Input SNR is : {}\".format(SNRinp))\n",
    "\n",
    "plt.scatter(S[0,:], S[2,:])\n",
    "plt.show()"
   ]
  },
  {
   "cell_type": "code",
   "execution_count": 3,
   "id": "c0491664",
   "metadata": {},
   "outputs": [],
   "source": [
    "def offdiag(A, return_diag = False):\n",
    "    \"\"\"_summary_\n",
    "\n",
    "    Args:\n",
    "        A (_type_): _description_\n",
    "        return_diag (bool, optional): _description_. Defaults to False.\n",
    "\n",
    "    Returns:\n",
    "        _type_: _description_\n",
    "    \"\"\"\n",
    "    if return_diag:\n",
    "        diag = np.diag(A)\n",
    "        return A - np.diag(diag), diag\n",
    "    else:\n",
    "        return A - np.diag(diag)\n"
   ]
  },
  {
   "cell_type": "code",
   "execution_count": 4,
   "id": "b08d3b73",
   "metadata": {},
   "outputs": [],
   "source": [
    "MUS = 0.25\n",
    "gammaM_start = [MUS, MUS]\n",
    "gammaM_stop = [1e-3, 1e-3]\n",
    "gammaW_start = [MUS, MUS]\n",
    "gammaW_stop = [1e-3, 1e-3]\n",
    "\n",
    "OUTPUT_COMP_TOL = 1e-5\n",
    "MAX_OUT_ITERATIONS= 3000\n",
    "LayerGains = [1,1]\n",
    "LayerMinimumGains = [1,1]\n",
    "LayerMaximumGains = [1e6,1.001]\n",
    "WScalings = [0.0033,0.0033]\n",
    "GamScalings = [0.01,0.01]\n",
    "zeta = 1e-4\n",
    "beta = 0.5\n",
    "muD = [20, 1e-2]\n",
    "\n",
    "s_dim = S.shape[0]\n",
    "x_dim = X.shape[0]\n",
    "h_dim = s_dim\n",
    "samples = S.shape[1]\n",
    "W_HX = np.eye(h_dim, x_dim)\n",
    "W_YH = np.eye(s_dim, h_dim)"
   ]
  },
  {
   "cell_type": "code",
   "execution_count": 5,
   "id": "f8ace8a8",
   "metadata": {},
   "outputs": [],
   "source": [
    "np.random.seed(100)\n",
    "debug_iteration_point = 25000\n",
    "\n",
    "model = OnlineWSMBSS(s_dim = s_dim, x_dim = x_dim, h_dim = h_dim, \n",
    "                     gammaM_start = gammaM_start, gammaM_stop = gammaM_stop, \n",
    "                     gammaW_start = gammaW_start, gammaW_stop = gammaW_stop,\n",
    "                     beta = beta, zeta = zeta, \n",
    "                     muD = muD,WScalings = WScalings,\n",
    "                     W_HX = W_HX, W_YH = W_YH,\n",
    "                     DScalings = LayerGains, LayerMinimumGains = LayerMinimumGains,\n",
    "                     LayerMaximumGains = LayerMaximumGains,neural_OUTPUT_COMP_TOL = OUTPUT_COMP_TOL,\n",
    "                     set_ground_truth = True, S = S, A = A)"
   ]
  },
  {
   "cell_type": "code",
   "execution_count": 6,
   "id": "b7481cf4",
   "metadata": {},
   "outputs": [],
   "source": [
    "hidden_layer_gain = 2\n",
    "lr_rule = \"divide_by_slow_loop_index\"\n",
    "neural_dynamic_iterations = 750\n",
    "neural_lr_decay_multiplier = 0.005\n",
    "neural_lr_start = 0.5\n",
    "neural_lr_stop = 0.5\n",
    "stlambd_lr = 0.01\n",
    "OUTPUT_COMP_TOL = 1e-5\n",
    "\n",
    "W_HX = model.W_HX\n",
    "W_YH = model.W_YH\n",
    "M_H = model.M_H\n",
    "M_Y = model.M_Y\n",
    "D1 = model.D1\n",
    "D2 = model.D2"
   ]
  },
  {
   "cell_type": "code",
   "execution_count": 7,
   "id": "7a9225f0",
   "metadata": {},
   "outputs": [],
   "source": [
    "np.random.seed(100)\n",
    "H = np.zeros((h_dim,samples))\n",
    "Y = np.zeros((s_dim,samples))\n",
    "\n",
    "H = np.random.randn(h_dim,samples)#*0.05\n",
    "Y = np.random.randn(s_dim,samples)#*0.05\n",
    "\n",
    "i_sample = 287\n",
    "\n",
    "x_current  = X[:,i_sample] # Take one input\n",
    "y = Y[:,i_sample]\n",
    "h = H[:,i_sample]"
   ]
  },
  {
   "cell_type": "code",
   "execution_count": 8,
   "id": "ab96e4fb",
   "metadata": {},
   "outputs": [
    {
     "data": {
      "text/plain": [
       "(array([-2.,  2., -2., -2.,  2.]),\n",
       " array([0.        , 0.50079481, 0.        , 0.        , 0.50079481]),\n",
       " 583)"
      ]
     },
     "execution_count": 8,
     "metadata": {},
     "output_type": "execute_result"
    }
   ],
   "source": [
    "model.run_neural_dynamics_simplex_jit(x_current, h, y, M_H, M_Y, W_HX, W_YH, D1, D2, beta, zeta, \n",
    "                                        neural_dynamic_iterations, neural_lr_start, neural_lr_stop, \n",
    "                                        lr_rule, neural_lr_decay_multiplier, stlambd_lr, \n",
    "                                        hidden_layer_gain, OUTPUT_COMP_TOL)"
   ]
  },
  {
   "cell_type": "code",
   "execution_count": 9,
   "id": "ee62018d",
   "metadata": {},
   "outputs": [],
   "source": [
    "hidden_layer_gain = 2\n",
    "lr_rule = \"divide_by_slow_loop_index\"\n",
    "neural_dynamic_iterations = 10\n",
    "neural_lr_decay_multiplier = 0.005\n",
    "neural_lr_start = 0.5\n",
    "neural_lr_stop = 0.5\n",
    "stlambd_lr = 0.01\n",
    "OUTPUT_COMP_TOL = 1e-5\n",
    "\n",
    "W_HX = model.W_HX\n",
    "W_YH = model.W_YH\n",
    "M_H = model.M_H\n",
    "M_Y = model.M_Y\n",
    "D1 = model.D1\n",
    "D2 = model.D2"
   ]
  },
  {
   "cell_type": "code",
   "execution_count": 10,
   "id": "c7e4317e",
   "metadata": {},
   "outputs": [],
   "source": [
    "np.random.seed(100)\n",
    "H = np.random.randn(h_dim,samples)\n",
    "Y = np.random.randn(s_dim,samples)\n",
    "    \n",
    "i_sample = 0\n",
    "\n",
    "x_current  = X[:,i_sample] # Take one input\n",
    "y = Y[:,i_sample]\n",
    "h = H[:,i_sample]"
   ]
  },
  {
   "cell_type": "code",
   "execution_count": 11,
   "id": "0776c114",
   "metadata": {},
   "outputs": [
    {
     "data": {
      "text/plain": [
       "array([-0.49714629,  1.24079097, -0.47421845, -0.27091309, -0.23725804,\n",
       "        0.07902261,  0.6619771 ,  0.32515113, -0.64859556,  0.47434392])"
      ]
     },
     "execution_count": 11,
     "metadata": {},
     "output_type": "execute_result"
    }
   ],
   "source": [
    "x_current"
   ]
  },
  {
   "cell_type": "code",
   "execution_count": 12,
   "id": "41b09070",
   "metadata": {},
   "outputs": [
    {
     "data": {
      "text/latex": [
       "$\\displaystyle \\begin{bmatrix} \n",
       " -1.188 & -0.550 & -0.940 & -0.828 & 0.109 & \\\\\n",
       " 0.508 & -0.862 & 1.249 & -0.080 & -0.890 & \\\\\n",
       " -0.882 & 0.019 & 0.238 & 0.014 & -1.636 & \\\\\n",
       " -1.044 & 0.613 & 0.736 & 1.027 & -1.432 & \\\\\n",
       " -1.841 & 0.366 & -0.332 & -0.689 & 2.035 & \\\\\n",
       "\\end{bmatrix}$"
      ],
      "text/plain": [
       "<IPython.core.display.Math object>"
      ]
     },
     "metadata": {},
     "output_type": "display_data"
    },
    {
     "data": {
      "text/latex": [
       "$\\displaystyle \\begin{bmatrix} \n",
       " -1.750 & 0.343 & 1.153 & -0.252 & 0.981 & 0.514 & 0.221 & -1.070 & -0.189 & 0.255 & \\\\\n",
       " -0.458 & 0.435 & -0.584 & 0.817 & 0.673 & -0.104 & -0.531 & 1.030 & -0.438 & -1.118 & \\\\\n",
       " 1.619 & 1.542 & -0.252 & -0.842 & 0.185 & 0.937 & 0.731 & 1.362 & -0.326 & 0.056 & \\\\\n",
       " 0.222 & -1.443 & -0.756 & 0.816 & 0.750 & -0.456 & 1.190 & -1.691 & -1.356 & -1.232 & \\\\\n",
       " -0.544 & -0.668 & 0.007 & -0.613 & 1.300 & -1.733 & -0.983 & 0.358 & -1.614 & 1.471 & \\\\\n",
       "\\end{bmatrix}$"
      ],
      "text/plain": [
       "<IPython.core.display.Math object>"
      ]
     },
     "metadata": {},
     "output_type": "display_data"
    },
    {
     "data": {
      "text/latex": [
       "$\\displaystyle \\begin{bmatrix} \n",
       " -1.705 & -1.136 & -2.973 & 0.033 & -0.249 & \\\\\n",
       " -0.450 & 0.132 & 0.022 & 0.317 & -0.752 & \\\\\n",
       " -1.296 & 0.095 & -0.424 & -1.186 & -0.365 & \\\\\n",
       " -1.271 & 1.586 & 0.693 & -1.958 & -0.135 & \\\\\n",
       " -1.541 & 2.047 & -1.397 & -1.097 & -0.239 & \\\\\n",
       "\\end{bmatrix}$"
      ],
      "text/plain": [
       "<IPython.core.display.Math object>"
      ]
     },
     "metadata": {},
     "output_type": "display_data"
    },
    {
     "data": {
      "text/latex": [
       "$\\displaystyle \\begin{bmatrix} \n",
       " -0.551 & 0.750 & -1.307 & 0.581 & -1.105 & \\\\\n",
       " 0.690 & 0.687 & -1.567 & 0.905 & 0.779 & \\\\\n",
       " 0.428 & 0.109 & 0.028 & -0.579 & -1.199 & \\\\\n",
       " -1.706 & 0.369 & 1.877 & -0.377 & 1.832 & \\\\\n",
       " 0.003 & -0.076 & 0.004 & -0.185 & -2.487 & \\\\\n",
       "\\end{bmatrix}$"
      ],
      "text/plain": [
       "<IPython.core.display.Math object>"
      ]
     },
     "metadata": {},
     "output_type": "display_data"
    }
   ],
   "source": [
    "np.random.seed(100)\n",
    "W_HX = np.random.randn(*W_HX.shape)\n",
    "W_YH = np.random.randn(*W_YH.shape)\n",
    "M_H = np.random.randn(*M_H.shape)\n",
    "M_Y = np.random.randn(*M_Y.shape)\n",
    "M_hat_H, Gamma_H = offdiag(M_H, True)\n",
    "M_hat_Y, Gamma_Y = offdiag(M_Y, True)\n",
    "display_matrix(W_YH)\n",
    "display_matrix(W_HX)\n",
    "display_matrix(M_Y)\n",
    "display_matrix(M_H)"
   ]
  },
  {
   "cell_type": "code",
   "execution_count": 13,
   "id": "1c55d9d6",
   "metadata": {},
   "outputs": [
    {
     "data": {
      "text/plain": [
       "(array([[1.],\n",
       "        [1.],\n",
       "        [1.],\n",
       "        [1.],\n",
       "        [1.]]),\n",
       " array([[1.],\n",
       "        [1.],\n",
       "        [1.],\n",
       "        [1.],\n",
       "        [1.]]))"
      ]
     },
     "execution_count": 13,
     "metadata": {},
     "output_type": "execute_result"
    }
   ],
   "source": [
    "D1, D2"
   ]
  },
  {
   "cell_type": "code",
   "execution_count": 14,
   "id": "8d6c43d1",
   "metadata": {},
   "outputs": [
    {
     "data": {
      "text/plain": [
       "array([[-3.91303541,  0.        ,  0.        ,  0.        ,  0.        ],\n",
       "       [ 0.        , -1.78062765,  0.        ,  0.        ,  0.        ],\n",
       "       [ 0.        ,  0.        , -5.50000429,  0.        ,  0.        ],\n",
       "       [ 0.        ,  0.        ,  0.        , -6.85610975,  0.        ],\n",
       "       [ 0.        ,  0.        ,  0.        ,  0.        , -2.94631813]])"
      ]
     },
     "execution_count": 14,
     "metadata": {},
     "output_type": "execute_result"
    }
   ],
   "source": [
    "(1 - zeta) * beta * np.diag(np.diag(M_H @ np.diag(D1.reshape(-1,)) @ M_H - W_HX @ W_HX.T))"
   ]
  },
  {
   "cell_type": "code",
   "execution_count": 15,
   "id": "367e351e",
   "metadata": {},
   "outputs": [
    {
     "data": {
      "text/plain": [
       "array([ 7.09458367,  4.65564004,  9.18068708, 11.77415739, 11.67292577])"
      ]
     },
     "execution_count": 15,
     "metadata": {},
     "output_type": "execute_result"
    }
   ],
   "source": [
    "(np.diag(W_HX @ W_HX.T))"
   ]
  },
  {
   "cell_type": "code",
   "execution_count": 16,
   "id": "9849603a",
   "metadata": {},
   "outputs": [
    {
     "data": {
      "text/plain": [
       "array([ 7.09458367,  4.65564004,  9.18068708, 11.77415739, 11.67292577])"
      ]
     },
     "execution_count": 16,
     "metadata": {},
     "output_type": "execute_result"
    }
   ],
   "source": [
    "np.sum(np.abs(W_HX)**2,axis=1)"
   ]
  },
  {
   "cell_type": "code",
   "execution_count": 17,
   "id": "27ae3b22",
   "metadata": {},
   "outputs": [
    {
     "data": {
      "text/plain": [
       "array([ 4.1317322 ,  4.82813791,  1.96975898, 10.06612804,  6.22595732])"
      ]
     },
     "execution_count": 17,
     "metadata": {},
     "output_type": "execute_result"
    }
   ],
   "source": [
    "(np.diag(M_H @ M_H.T))"
   ]
  },
  {
   "cell_type": "code",
   "execution_count": 18,
   "id": "44ca7bb8",
   "metadata": {},
   "outputs": [
    {
     "data": {
      "text/plain": [
       "array([ 4.1317322 ,  4.82813791,  1.96975898, 10.06612804,  6.22595732])"
      ]
     },
     "execution_count": 18,
     "metadata": {},
     "output_type": "execute_result"
    }
   ],
   "source": [
    "np.sum((np.abs(M_H)**2),axis=1)"
   ]
  },
  {
   "cell_type": "code",
   "execution_count": 19,
   "id": "20527fd5",
   "metadata": {},
   "outputs": [
    {
     "data": {
      "text/plain": [
       "array([ 4.1317322 ,  4.82813791,  1.96975898, 10.06612804,  6.22595732])"
      ]
     },
     "execution_count": 19,
     "metadata": {},
     "output_type": "execute_result"
    }
   ],
   "source": [
    "np.diag(M_H @ np.diag(D1.reshape(-1,)) @ M_H.T)"
   ]
  },
  {
   "cell_type": "code",
   "execution_count": 20,
   "id": "e7d4ef52",
   "metadata": {},
   "outputs": [
    {
     "data": {
      "text/plain": [
       "array([ 4.1317322 ,  4.82813791,  1.96975898, 10.06612804,  6.22595732])"
      ]
     },
     "execution_count": 20,
     "metadata": {},
     "output_type": "execute_result"
    }
   ],
   "source": [
    "np.sum((np.abs(M_H)**2) * D1.T,axis=1)"
   ]
  },
  {
   "cell_type": "code",
   "execution_count": 21,
   "id": "c73befd1",
   "metadata": {},
   "outputs": [
    {
     "data": {
      "text/plain": [
       "array([[-1.48117759],\n",
       "       [ 0.08634031],\n",
       "       [-3.6050035 ],\n",
       "       [-0.85382927],\n",
       "       [-2.72311188]])"
      ]
     },
     "execution_count": 21,
     "metadata": {},
     "output_type": "execute_result"
    }
   ],
   "source": [
    "(1 - zeta) * beta * (np.sum((np.abs(M_H)**2) * D1.T,axis=1) - np.sum(np.abs(W_HX)**2,axis=1)).reshape(-1,1)  + zeta * (1/D1)"
   ]
  },
  {
   "cell_type": "code",
   "execution_count": 22,
   "id": "1e51fbfe",
   "metadata": {},
   "outputs": [
    {
     "data": {
      "text/plain": [
       "array([[ 4.902594  ],\n",
       "       [-1.23622753],\n",
       "       [-0.05003931],\n",
       "       [ 1.67521012],\n",
       "       [ 0.76311826]])"
      ]
     },
     "execution_count": 22,
     "metadata": {},
     "output_type": "execute_result"
    }
   ],
   "source": [
    "(1 - zeta) * (1 - beta) * (np.sum((np.abs(M_Y)**2) * D2.T,axis=1) - np.sum(np.abs(W_YH)**2,axis=1)).reshape(-1,1)  + zeta * (1/D2)"
   ]
  },
  {
   "cell_type": "code",
   "execution_count": 23,
   "id": "a2d61e8e",
   "metadata": {},
   "outputs": [],
   "source": [
    "mat_factor1 = (1 - zeta) * beta * (D1 * W_HX)\n",
    "mat_factor2 = ((1 - zeta) * (1 - beta) * M_hat_H  + (1- zeta) * beta * ((D1 * M_hat_H) * D1.T))\n",
    "mat_factor3 = (1 - zeta) * (1 - beta) * (W_YH.T * D2.T)\n",
    "mat_factor4 = (1 - zeta) * Gamma_H * ((1 - beta) + beta * (D1.T) ** 2)\n",
    "mat_factor5 = M_hat_Y * D2.T\n",
    "mat_factor6 = Gamma_Y * D2.T"
   ]
  },
  {
   "cell_type": "code",
   "execution_count": 24,
   "id": "e39bb43a",
   "metadata": {},
   "outputs": [
    {
     "data": {
      "text/plain": [
       "array([-1.74976547, -0.12773771,  0.53281181, -1.53948234, -1.87250186])"
      ]
     },
     "execution_count": 24,
     "metadata": {},
     "output_type": "execute_result"
    }
   ],
   "source": [
    "h"
   ]
  },
  {
   "cell_type": "code",
   "execution_count": 25,
   "id": "2b4f59d7",
   "metadata": {},
   "outputs": [
    {
     "data": {
      "text/plain": [
       "array([ 0.9635247 , -0.08773299,  0.01506835,  0.58017803,  4.65673016])"
      ]
     },
     "execution_count": 25,
     "metadata": {},
     "output_type": "execute_result"
    }
   ],
   "source": [
    "mat_factor4[0] * h"
   ]
  },
  {
   "cell_type": "code",
   "execution_count": 26,
   "id": "09ec9e73",
   "metadata": {},
   "outputs": [
    {
     "data": {
      "text/plain": [
       "array([ 0.9635247 , -0.08773299,  0.01506835,  0.58017803,  4.65673016])"
      ]
     },
     "execution_count": 26,
     "metadata": {},
     "output_type": "execute_result"
    }
   ],
   "source": [
    "(mat_factor4 * h)[0]"
   ]
  },
  {
   "cell_type": "code",
   "execution_count": 27,
   "id": "8dd3bced",
   "metadata": {},
   "outputs": [
    {
     "data": {
      "text/plain": [
       "array([ 0.57278576,  0.71134792,  0.29973427,  0.05541315, -0.26550242])"
      ]
     },
     "execution_count": 27,
     "metadata": {},
     "output_type": "execute_result"
    }
   ],
   "source": [
    "y"
   ]
  },
  {
   "cell_type": "code",
   "execution_count": 28,
   "id": "fcd099cf",
   "metadata": {},
   "outputs": [
    {
     "data": {
      "text/plain": [
       "array([[-1.70465121,  0.1324278 , -0.4237151 , -1.95808123, -0.23871287]])"
      ]
     },
     "execution_count": 28,
     "metadata": {},
     "output_type": "execute_result"
    }
   ],
   "source": [
    "mat_factor6"
   ]
  },
  {
   "cell_type": "code",
   "execution_count": 29,
   "id": "3910f324",
   "metadata": {},
   "outputs": [
    {
     "data": {
      "text/plain": [
       "array([-0.97639993,  0.09420224, -0.12700193, -0.10850345,  0.06337884])"
      ]
     },
     "execution_count": 29,
     "metadata": {},
     "output_type": "execute_result"
    }
   ],
   "source": [
    "mat_factor6[0] * y"
   ]
  },
  {
   "cell_type": "code",
   "execution_count": 30,
   "id": "3719a3f2",
   "metadata": {},
   "outputs": [
    {
     "data": {
      "text/plain": [
       "array([ 0.33338907,  0.19602026,  1.32512095, -0.72239449,  0.18416097])"
      ]
     },
     "execution_count": 30,
     "metadata": {},
     "output_type": "execute_result"
    }
   ],
   "source": [
    "mat_factor1@ x_current"
   ]
  },
  {
   "cell_type": "code",
   "execution_count": 31,
   "id": "2e609f6f",
   "metadata": {},
   "outputs": [
    {
     "data": {
      "text/plain": [
       "array([ 0.38215879, -4.89334902,  2.3736152 ,  0.50736577,  0.29133673])"
      ]
     },
     "execution_count": 31,
     "metadata": {},
     "output_type": "execute_result"
    }
   ],
   "source": [
    "mat_factor2 @ h"
   ]
  },
  {
   "cell_type": "code",
   "execution_count": 32,
   "id": "d2390e69",
   "metadata": {},
   "outputs": [
    {
     "data": {
      "text/plain": [
       "array([-0.0762816 , -0.49288666,  0.27524043, -0.14343776, -0.8400824 ])"
      ]
     },
     "execution_count": 32,
     "metadata": {},
     "output_type": "execute_result"
    }
   ],
   "source": [
    "mat_factor3 @ y"
   ]
  },
  {
   "cell_type": "code",
   "execution_count": 33,
   "id": "8e16bac8",
   "metadata": {},
   "outputs": [
    {
     "data": {
      "text/plain": [
       "array([-0.12505133,  4.59648261, -0.77325382, -1.37319802, -0.94725816])"
      ]
     },
     "execution_count": 33,
     "metadata": {},
     "output_type": "execute_result"
    }
   ],
   "source": [
    " mat_factor1 @ x_current - mat_factor2 @ h + mat_factor3 @ y"
   ]
  },
  {
   "cell_type": "code",
   "execution_count": 34,
   "id": "5ccfd016",
   "metadata": {},
   "outputs": [
    {
     "data": {
      "text/plain": [
       "array([-0.55065934,  0.68682138,  0.02828081, -0.37686566, -2.48690282])"
      ]
     },
     "execution_count": 34,
     "metadata": {},
     "output_type": "execute_result"
    }
   ],
   "source": [
    "np.diag(Gamma_H * ((1 - zeta) * (1 - beta) + (1 - zeta) * beta * D1 ** 2))"
   ]
  },
  {
   "cell_type": "code",
   "execution_count": 35,
   "id": "11c12550",
   "metadata": {},
   "outputs": [
    {
     "data": {
      "text/plain": [
       "array([-0.55065934,  0.68682138,  0.02828081, -0.37686566, -2.48690282])"
      ]
     },
     "execution_count": 35,
     "metadata": {},
     "output_type": "execute_result"
    }
   ],
   "source": [
    "mat_factor4[0]"
   ]
  },
  {
   "cell_type": "code",
   "execution_count": 36,
   "id": "932ed817",
   "metadata": {},
   "outputs": [
    {
     "data": {
      "text/plain": [
       "array([[ 0.        , -1.13626101, -2.97331547,  0.03331728, -0.24888867],\n",
       "       [-0.45017644,  0.        ,  0.02221393,  0.31736798, -0.75241418],\n",
       "       [-1.29639181,  0.09513944,  0.        , -1.18598356, -0.36546199],\n",
       "       [-1.27102304,  1.58617094,  0.69339066,  0.        , -0.13480131],\n",
       "       [-1.54061602,  2.04671397, -1.39699934, -1.09717198,  0.        ]])"
      ]
     },
     "execution_count": 36,
     "metadata": {},
     "output_type": "execute_result"
    }
   ],
   "source": [
    "mat_factor5"
   ]
  },
  {
   "cell_type": "code",
   "execution_count": 37,
   "id": "ac82c994",
   "metadata": {},
   "outputs": [
    {
     "data": {
      "text/plain": [
       "array([-1.63155468, -0.03384223, -0.64356556,  0.64391852,  0.09395648])"
      ]
     },
     "execution_count": 37,
     "metadata": {},
     "output_type": "execute_result"
    }
   ],
   "source": [
    "mat_factor5 @ y"
   ]
  },
  {
   "cell_type": "code",
   "execution_count": 38,
   "id": "9887436f",
   "metadata": {},
   "outputs": [
    {
     "data": {
      "text/plain": [
       "array([[-1.70448074,  0.13241456, -0.42367273, -1.95788543, -0.238689  ]])"
      ]
     },
     "execution_count": 38,
     "metadata": {},
     "output_type": "execute_result"
    }
   ],
   "source": [
    "(1 - zeta) * Gamma_Y * ((1 - beta) + beta * D2.T ** 2)"
   ]
  },
  {
   "cell_type": "code",
   "execution_count": 39,
   "id": "30705ffb",
   "metadata": {},
   "outputs": [
    {
     "data": {
      "text/plain": [
       "array([[-0.85224037,  0.06620728, -0.21183636, -0.97894271, -0.1193445 ]])"
      ]
     },
     "execution_count": 39,
     "metadata": {},
     "output_type": "execute_result"
    }
   ],
   "source": [
    "(1 - zeta) * Gamma_Y * ((1 - beta) * D2.T ** 2)"
   ]
  },
  {
   "cell_type": "code",
   "execution_count": 46,
   "id": "662232ba",
   "metadata": {},
   "outputs": [
    {
     "data": {
      "text/plain": [
       "array([[-1.70465121,  0.        ,  0.        ,  0.        ,  0.        ],\n",
       "       [ 0.        ,  0.1324278 ,  0.        ,  0.        ,  0.        ],\n",
       "       [ 0.        ,  0.        , -0.4237151 ,  0.        ,  0.        ],\n",
       "       [ 0.        ,  0.        ,  0.        , -1.95808123,  0.        ],\n",
       "       [ 0.        ,  0.        ,  0.        ,  0.        , -0.23871287]])"
      ]
     },
     "execution_count": 46,
     "metadata": {},
     "output_type": "execute_result"
    }
   ],
   "source": [
    "np.diag(Gamma_Y) @ np.diag(D2.reshape(-1,)) #- Gamma_Y * D2.T"
   ]
  },
  {
   "cell_type": "code",
   "execution_count": 50,
   "id": "aafee35b",
   "metadata": {},
   "outputs": [
    {
     "data": {
      "text/plain": [
       "array([[-1.70465121],\n",
       "       [ 0.1324278 ],\n",
       "       [-0.4237151 ],\n",
       "       [-1.95808123],\n",
       "       [-0.23871287]])"
      ]
     },
     "execution_count": 50,
     "metadata": {},
     "output_type": "execute_result"
    }
   ],
   "source": [
    "Gamma_Y.reshape(-1,1) * D2"
   ]
  },
  {
   "cell_type": "code",
   "execution_count": 51,
   "id": "0cd1fe4a",
   "metadata": {},
   "outputs": [
    {
     "data": {
      "text/plain": [
       "array([[-0.55065934,  0.68682138,  0.02828081, -0.37686566, -2.48690282]])"
      ]
     },
     "execution_count": 51,
     "metadata": {},
     "output_type": "execute_result"
    }
   ],
   "source": [
    "(1 - zeta) * Gamma_H * ((1 - beta) + beta * (D1.T) ** 2)"
   ]
  },
  {
   "cell_type": "code",
   "execution_count": 55,
   "id": "61619b07",
   "metadata": {},
   "outputs": [
    {
     "data": {
      "text/plain": [
       "array([[1. , 0.5, 0.5, 0.5, 0.5],\n",
       "       [0.5, 1. , 0.5, 0.5, 0.5],\n",
       "       [0.5, 0.5, 1. , 0.5, 0.5],\n",
       "       [0.5, 0.5, 0.5, 1. , 0.5],\n",
       "       [0.5, 0.5, 0.5, 0.5, 1. ]])"
      ]
     },
     "execution_count": 55,
     "metadata": {},
     "output_type": "execute_result"
    }
   ],
   "source": [
    "# (1 - zeta) * np.diag(Gamma_H) @ \n",
    "((1 - beta) + beta * np.diag(D1.reshape(-1,)) ** 2)"
   ]
  },
  {
   "cell_type": "code",
   "execution_count": 10,
   "id": "08e9b4e6",
   "metadata": {},
   "outputs": [
    {
     "data": {
      "text/plain": [
       "(array([ 2., -2.,  2.,  2., -2.]),\n",
       " array([      0.        , 1168642.02435278,       0.        ,\n",
       "         124883.01357879, 1490785.21141305]),\n",
       " 10)"
      ]
     },
     "execution_count": 10,
     "metadata": {},
     "output_type": "execute_result"
    }
   ],
   "source": [
    "model.run_neural_dynamics_simplex_jit(x_current, h, y, M_H, M_Y, W_HX, W_YH, D1, D2, beta, zeta, \n",
    "                                        neural_dynamic_iterations, neural_lr_start, neural_lr_stop, \n",
    "                                        lr_rule, neural_lr_decay_multiplier, stlambd_lr, \n",
    "                                        hidden_layer_gain, OUTPUT_COMP_TOL)"
   ]
  },
  {
   "cell_type": "code",
   "execution_count": 11,
   "id": "a99093da",
   "metadata": {},
   "outputs": [],
   "source": [
    "M_hat_H, Gamma_H = offdiag(M_H, True)\n",
    "M_hat_Y, Gamma_Y = offdiag(M_Y, True)"
   ]
  },
  {
   "cell_type": "code",
   "execution_count": 12,
   "id": "93e1464d",
   "metadata": {},
   "outputs": [
    {
     "data": {
      "text/plain": [
       "array([[-0.55065934,  0.68682138,  0.02828081, -0.37686566, -2.48690282]])"
      ]
     },
     "execution_count": 12,
     "metadata": {},
     "output_type": "execute_result"
    }
   ],
   "source": [
    "(1 - zeta) * Gamma_H * ((1 - beta) + beta * D1.T ** 2)"
   ]
  },
  {
   "cell_type": "code",
   "execution_count": 13,
   "id": "02946696",
   "metadata": {},
   "outputs": [
    {
     "data": {
      "text/plain": [
       "array([[-1.70465121,  0.        ,  0.        ,  0.        ,  0.        ],\n",
       "       [ 0.        ,  0.1324278 ,  0.        ,  0.        ,  0.        ],\n",
       "       [ 0.        ,  0.        , -0.4237151 ,  0.        ,  0.        ],\n",
       "       [ 0.        ,  0.        ,  0.        , -1.95808123,  0.        ],\n",
       "       [ 0.        ,  0.        ,  0.        ,  0.        , -0.23871287]])"
      ]
     },
     "execution_count": 13,
     "metadata": {},
     "output_type": "execute_result"
    }
   ],
   "source": [
    "np.diag((Gamma_Y * D2.T)[0])"
   ]
  },
  {
   "cell_type": "code",
   "execution_count": 14,
   "id": "3d56e264",
   "metadata": {},
   "outputs": [
    {
     "data": {
      "text/plain": [
       "array([[ 0.        , -1.13626101, -2.97331547,  0.03331728, -0.24888867],\n",
       "       [-0.45017644,  0.        ,  0.02221393,  0.31736798, -0.75241418],\n",
       "       [-1.29639181,  0.09513944,  0.        , -1.18598356, -0.36546199],\n",
       "       [-1.27102304,  1.58617094,  0.69339066,  0.        , -0.13480131],\n",
       "       [-1.54061602,  2.04671397, -1.39699934, -1.09717198,  0.        ]])"
      ]
     },
     "execution_count": 14,
     "metadata": {},
     "output_type": "execute_result"
    }
   ],
   "source": [
    "M_hat_Y * D2.T"
   ]
  }
 ],
 "metadata": {
  "kernelspec": {
   "display_name": "Python 3 (ipykernel)",
   "language": "python",
   "name": "python3"
  },
  "language_info": {
   "codemirror_mode": {
    "name": "ipython",
    "version": 3
   },
   "file_extension": ".py",
   "mimetype": "text/x-python",
   "name": "python",
   "nbconvert_exporter": "python",
   "pygments_lexer": "ipython3",
   "version": "3.8.12"
  }
 },
 "nbformat": 4,
 "nbformat_minor": 5
}
