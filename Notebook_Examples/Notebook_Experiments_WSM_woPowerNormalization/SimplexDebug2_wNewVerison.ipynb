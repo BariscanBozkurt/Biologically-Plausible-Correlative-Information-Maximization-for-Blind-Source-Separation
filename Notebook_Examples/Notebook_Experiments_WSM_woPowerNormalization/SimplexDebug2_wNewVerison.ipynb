{
 "cells": [
  {
   "cell_type": "code",
   "execution_count": null,
   "id": "57101e03",
   "metadata": {},
   "outputs": [],
   "source": [
    "import sys\n",
    "import os\n",
    "\n",
    "os.chdir(\"..\")\n",
    "os.chdir(\"./src\")\n",
    "# sys.path.append(\"./src\")\n",
    "\n",
    "import numpy as np\n",
    "import matplotlib.pyplot as plt\n",
    "from IPython import display\n",
    "import pylab as pl\n",
    "\n",
    "from WSMBSS import *\n",
    "from general_utils import *\n",
    "from visualization_utils import *\n",
    "\n",
    "import warnings\n",
    "\n",
    "warnings.filterwarnings(\"ignore\")\n",
    "\n",
    "notebook_name = \"Simplex\""
   ]
  },
  {
   "cell_type": "code",
   "execution_count": null,
   "id": "1169d766",
   "metadata": {},
   "outputs": [],
   "source": [
    "NumberofSources = 5\n",
    "NumberofMixtures = 10\n",
    "N = 500000\n",
    "np.random.seed(0)\n",
    "# https://stackoverflow.com/questions/65154622/sample-uniformly-at-random-from-a-simplex-in-python\n",
    "S = np.random.exponential(scale=1.0, size=(NumberofSources, int(N)))\n",
    "S = S / np.sum(S, axis=0)\n",
    "\n",
    "SNR = 30\n",
    "A = np.random.randn(NumberofMixtures, NumberofSources)\n",
    "X = np.dot(A, S)\n",
    "\n",
    "# X, NoisePart = addWGN(X, SNR, return_noise = True)\n",
    "\n",
    "# SNRinp = 10 * np.log10(np.sum(np.mean((X - NoisePart)**2, axis = 1)) / np.sum(np.mean(NoisePart**2, axis = 1)))\n",
    "print(\"The following is the mixture matrix A\")\n",
    "display_matrix(A)\n",
    "# print(\"Input SNR is : {}\".format(SNRinp))\n",
    "\n",
    "plt.scatter(S[0, :], S[2, :])\n",
    "plt.show()"
   ]
  },
  {
   "cell_type": "code",
   "execution_count": null,
   "id": "c0491664",
   "metadata": {},
   "outputs": [],
   "source": [
    "def offdiag(A, return_diag=False):\n",
    "    \"\"\"_summary_\n",
    "\n",
    "    Args:\n",
    "        A (_type_): _description_\n",
    "        return_diag (bool, optional): _description_. Defaults to False.\n",
    "\n",
    "    Returns:\n",
    "        _type_: _description_\n",
    "    \"\"\"\n",
    "    if return_diag:\n",
    "        diag = np.diag(A)\n",
    "        return A - np.diag(diag), diag\n",
    "    else:\n",
    "        return A - np.diag(diag)"
   ]
  },
  {
   "cell_type": "code",
   "execution_count": null,
   "id": "b08d3b73",
   "metadata": {},
   "outputs": [],
   "source": [
    "MUS = 0.25\n",
    "gammaM_start = [MUS, MUS]\n",
    "gammaM_stop = [1e-3, 1e-3]\n",
    "gammaW_start = [MUS, MUS]\n",
    "gammaW_stop = [1e-3, 1e-3]\n",
    "\n",
    "OUTPUT_COMP_TOL = 1e-5\n",
    "MAX_OUT_ITERATIONS = 3000\n",
    "LayerGains = [1, 1]\n",
    "LayerMinimumGains = [1, 1]\n",
    "LayerMaximumGains = [1e6, 1.001]\n",
    "WScalings = [0.0033, 0.0033]\n",
    "GamScalings = [0.01, 0.01]\n",
    "zeta = 1e-4\n",
    "beta = 0.5\n",
    "muD = [20, 1e-2]\n",
    "\n",
    "s_dim = S.shape[0]\n",
    "x_dim = X.shape[0]\n",
    "h_dim = s_dim\n",
    "samples = S.shape[1]\n",
    "W_HX = np.eye(h_dim, x_dim)\n",
    "W_YH = np.eye(s_dim, h_dim)"
   ]
  },
  {
   "cell_type": "code",
   "execution_count": null,
   "id": "f8ace8a8",
   "metadata": {},
   "outputs": [],
   "source": [
    "np.random.seed(100)\n",
    "debug_iteration_point = 25000\n",
    "\n",
    "model = OnlineWSMBSS(\n",
    "    s_dim=s_dim,\n",
    "    x_dim=x_dim,\n",
    "    h_dim=h_dim,\n",
    "    gammaM_start=gammaM_start,\n",
    "    gammaM_stop=gammaM_stop,\n",
    "    gammaW_start=gammaW_start,\n",
    "    gammaW_stop=gammaW_stop,\n",
    "    beta=beta,\n",
    "    zeta=zeta,\n",
    "    muD=muD,\n",
    "    WScalings=WScalings,\n",
    "    W_HX=W_HX,\n",
    "    W_YH=W_YH,\n",
    "    DScalings=LayerGains,\n",
    "    LayerMinimumGains=LayerMinimumGains,\n",
    "    LayerMaximumGains=LayerMaximumGains,\n",
    "    neural_OUTPUT_COMP_TOL=OUTPUT_COMP_TOL,\n",
    "    set_ground_truth=True,\n",
    "    S=S,\n",
    "    A=A,\n",
    ")"
   ]
  },
  {
   "cell_type": "code",
   "execution_count": null,
   "id": "b7481cf4",
   "metadata": {},
   "outputs": [],
   "source": [
    "hidden_layer_gain = 2\n",
    "lr_rule = \"divide_by_slow_loop_index\"\n",
    "neural_dynamic_iterations = 750\n",
    "neural_lr_decay_multiplier = 0.005\n",
    "neural_lr_start = 0.5\n",
    "neural_lr_stop = 0.5\n",
    "stlambd_lr = 0.01\n",
    "OUTPUT_COMP_TOL = 1e-5\n",
    "\n",
    "W_HX = model.W_HX\n",
    "W_YH = model.W_YH\n",
    "M_H = model.M_H\n",
    "M_Y = model.M_Y\n",
    "D1 = model.D1\n",
    "D2 = model.D2"
   ]
  },
  {
   "cell_type": "code",
   "execution_count": null,
   "id": "7a9225f0",
   "metadata": {},
   "outputs": [],
   "source": [
    "np.random.seed(100)\n",
    "H = np.zeros((h_dim, samples))\n",
    "Y = np.zeros((s_dim, samples))\n",
    "\n",
    "H = np.random.randn(h_dim, samples)  # *0.05\n",
    "Y = np.random.randn(s_dim, samples)  # *0.05\n",
    "\n",
    "i_sample = 287\n",
    "\n",
    "x_current = X[:, i_sample]  # Take one input\n",
    "y = Y[:, i_sample]\n",
    "h = H[:, i_sample]"
   ]
  },
  {
   "cell_type": "code",
   "execution_count": null,
   "id": "ab96e4fb",
   "metadata": {},
   "outputs": [],
   "source": [
    "model.run_neural_dynamics_simplex_jit(\n",
    "    x_current,\n",
    "    h,\n",
    "    y,\n",
    "    M_H,\n",
    "    M_Y,\n",
    "    W_HX,\n",
    "    W_YH,\n",
    "    D1,\n",
    "    D2,\n",
    "    beta,\n",
    "    zeta,\n",
    "    neural_dynamic_iterations,\n",
    "    neural_lr_start,\n",
    "    neural_lr_stop,\n",
    "    lr_rule,\n",
    "    neural_lr_decay_multiplier,\n",
    "    stlambd_lr,\n",
    "    hidden_layer_gain,\n",
    "    OUTPUT_COMP_TOL,\n",
    ")"
   ]
  },
  {
   "cell_type": "code",
   "execution_count": null,
   "id": "ee62018d",
   "metadata": {},
   "outputs": [],
   "source": [
    "hidden_layer_gain = 2\n",
    "lr_rule = \"divide_by_slow_loop_index\"\n",
    "neural_dynamic_iterations = 10\n",
    "neural_lr_decay_multiplier = 0.005\n",
    "neural_lr_start = 0.5\n",
    "neural_lr_stop = 0.5\n",
    "stlambd_lr = 0.01\n",
    "OUTPUT_COMP_TOL = 1e-5\n",
    "\n",
    "W_HX = model.W_HX\n",
    "W_YH = model.W_YH\n",
    "M_H = model.M_H\n",
    "M_Y = model.M_Y\n",
    "D1 = model.D1\n",
    "D2 = model.D2"
   ]
  },
  {
   "cell_type": "code",
   "execution_count": null,
   "id": "c7e4317e",
   "metadata": {},
   "outputs": [],
   "source": [
    "np.random.seed(100)\n",
    "H = np.random.randn(h_dim, samples)\n",
    "Y = np.random.randn(s_dim, samples)\n",
    "\n",
    "i_sample = 0\n",
    "\n",
    "x_current = X[:, i_sample]  # Take one input\n",
    "y = Y[:, i_sample]\n",
    "h = H[:, i_sample]"
   ]
  },
  {
   "cell_type": "code",
   "execution_count": null,
   "id": "0776c114",
   "metadata": {},
   "outputs": [],
   "source": [
    "x_current"
   ]
  },
  {
   "cell_type": "code",
   "execution_count": null,
   "id": "41b09070",
   "metadata": {},
   "outputs": [],
   "source": [
    "np.random.seed(100)\n",
    "W_HX = np.random.randn(*W_HX.shape)\n",
    "W_YH = np.random.randn(*W_YH.shape)\n",
    "M_H = np.random.randn(*M_H.shape)\n",
    "M_Y = np.random.randn(*M_Y.shape)\n",
    "M_hat_H, Gamma_H = offdiag(M_H, True)\n",
    "M_hat_Y, Gamma_Y = offdiag(M_Y, True)\n",
    "display_matrix(W_YH)\n",
    "display_matrix(W_HX)\n",
    "display_matrix(M_Y)\n",
    "display_matrix(M_H)"
   ]
  },
  {
   "cell_type": "code",
   "execution_count": null,
   "id": "1c55d9d6",
   "metadata": {},
   "outputs": [],
   "source": [
    "D1, D2"
   ]
  },
  {
   "cell_type": "code",
   "execution_count": null,
   "id": "8d6c43d1",
   "metadata": {},
   "outputs": [],
   "source": [
    "(1 - zeta) * beta * np.diag(\n",
    "    np.diag(\n",
    "        M_H\n",
    "        @ np.diag(\n",
    "            D1.reshape(\n",
    "                -1,\n",
    "            )\n",
    "        )\n",
    "        @ M_H\n",
    "        - W_HX @ W_HX.T\n",
    "    )\n",
    ")"
   ]
  },
  {
   "cell_type": "code",
   "execution_count": null,
   "id": "367e351e",
   "metadata": {},
   "outputs": [],
   "source": [
    "(np.diag(W_HX @ W_HX.T))"
   ]
  },
  {
   "cell_type": "code",
   "execution_count": null,
   "id": "9849603a",
   "metadata": {},
   "outputs": [],
   "source": [
    "np.sum(np.abs(W_HX) ** 2, axis=1)"
   ]
  },
  {
   "cell_type": "code",
   "execution_count": null,
   "id": "27ae3b22",
   "metadata": {},
   "outputs": [],
   "source": [
    "(np.diag(M_H @ M_H.T))"
   ]
  },
  {
   "cell_type": "code",
   "execution_count": null,
   "id": "44ca7bb8",
   "metadata": {},
   "outputs": [],
   "source": [
    "np.sum((np.abs(M_H) ** 2), axis=1)"
   ]
  },
  {
   "cell_type": "code",
   "execution_count": null,
   "id": "20527fd5",
   "metadata": {},
   "outputs": [],
   "source": [
    "np.diag(\n",
    "    M_H\n",
    "    @ np.diag(\n",
    "        D1.reshape(\n",
    "            -1,\n",
    "        )\n",
    "    )\n",
    "    @ M_H.T\n",
    ")"
   ]
  },
  {
   "cell_type": "code",
   "execution_count": null,
   "id": "e7d4ef52",
   "metadata": {},
   "outputs": [],
   "source": [
    "np.sum((np.abs(M_H) ** 2) * D1.T, axis=1)"
   ]
  },
  {
   "cell_type": "code",
   "execution_count": null,
   "id": "c73befd1",
   "metadata": {},
   "outputs": [],
   "source": [
    "(1 - zeta) * beta * (\n",
    "    np.sum((np.abs(M_H) ** 2) * D1.T, axis=1) - np.sum(np.abs(W_HX) ** 2, axis=1)\n",
    ").reshape(-1, 1) + zeta * (1 / D1)"
   ]
  },
  {
   "cell_type": "code",
   "execution_count": null,
   "id": "1e51fbfe",
   "metadata": {},
   "outputs": [],
   "source": [
    "(1 - zeta) * (1 - beta) * (\n",
    "    np.sum((np.abs(M_Y) ** 2) * D2.T, axis=1) - np.sum(np.abs(W_YH) ** 2, axis=1)\n",
    ").reshape(-1, 1) + zeta * (1 / D2)"
   ]
  },
  {
   "cell_type": "code",
   "execution_count": null,
   "id": "a2d61e8e",
   "metadata": {},
   "outputs": [],
   "source": [
    "mat_factor1 = (1 - zeta) * beta * (D1 * W_HX)\n",
    "mat_factor2 = (1 - zeta) * (1 - beta) * M_hat_H + (1 - zeta) * beta * (\n",
    "    (D1 * M_hat_H) * D1.T\n",
    ")\n",
    "mat_factor3 = (1 - zeta) * (1 - beta) * (W_YH.T * D2.T)\n",
    "mat_factor4 = (1 - zeta) * Gamma_H * ((1 - beta) + beta * (D1.T) ** 2)\n",
    "mat_factor5 = M_hat_Y * D2.T\n",
    "mat_factor6 = Gamma_Y * D2.T"
   ]
  },
  {
   "cell_type": "code",
   "execution_count": null,
   "id": "e39bb43a",
   "metadata": {},
   "outputs": [],
   "source": [
    "h"
   ]
  },
  {
   "cell_type": "code",
   "execution_count": null,
   "id": "2b4f59d7",
   "metadata": {},
   "outputs": [],
   "source": [
    "mat_factor4[0] * h"
   ]
  },
  {
   "cell_type": "code",
   "execution_count": null,
   "id": "09ec9e73",
   "metadata": {},
   "outputs": [],
   "source": [
    "(mat_factor4 * h)[0]"
   ]
  },
  {
   "cell_type": "code",
   "execution_count": null,
   "id": "8dd3bced",
   "metadata": {},
   "outputs": [],
   "source": [
    "y"
   ]
  },
  {
   "cell_type": "code",
   "execution_count": null,
   "id": "fcd099cf",
   "metadata": {},
   "outputs": [],
   "source": [
    "mat_factor6"
   ]
  },
  {
   "cell_type": "code",
   "execution_count": null,
   "id": "3910f324",
   "metadata": {},
   "outputs": [],
   "source": [
    "mat_factor6[0] * y"
   ]
  },
  {
   "cell_type": "code",
   "execution_count": null,
   "id": "3719a3f2",
   "metadata": {},
   "outputs": [],
   "source": [
    "mat_factor1 @ x_current"
   ]
  },
  {
   "cell_type": "code",
   "execution_count": null,
   "id": "2e609f6f",
   "metadata": {},
   "outputs": [],
   "source": [
    "mat_factor2 @ h"
   ]
  },
  {
   "cell_type": "code",
   "execution_count": null,
   "id": "d2390e69",
   "metadata": {},
   "outputs": [],
   "source": [
    "mat_factor3 @ y"
   ]
  },
  {
   "cell_type": "code",
   "execution_count": null,
   "id": "8e16bac8",
   "metadata": {},
   "outputs": [],
   "source": [
    "mat_factor1 @ x_current - mat_factor2 @ h + mat_factor3 @ y"
   ]
  },
  {
   "cell_type": "code",
   "execution_count": null,
   "id": "5ccfd016",
   "metadata": {},
   "outputs": [],
   "source": [
    "np.diag(Gamma_H * ((1 - zeta) * (1 - beta) + (1 - zeta) * beta * D1**2))"
   ]
  },
  {
   "cell_type": "code",
   "execution_count": null,
   "id": "11c12550",
   "metadata": {},
   "outputs": [],
   "source": [
    "mat_factor4[0]"
   ]
  },
  {
   "cell_type": "code",
   "execution_count": null,
   "id": "932ed817",
   "metadata": {},
   "outputs": [],
   "source": [
    "mat_factor5"
   ]
  },
  {
   "cell_type": "code",
   "execution_count": null,
   "id": "ac82c994",
   "metadata": {},
   "outputs": [],
   "source": [
    "mat_factor5 @ y"
   ]
  },
  {
   "cell_type": "code",
   "execution_count": null,
   "id": "9887436f",
   "metadata": {},
   "outputs": [],
   "source": [
    "(1 - zeta) * Gamma_Y * ((1 - beta) + beta * D2.T**2)"
   ]
  },
  {
   "cell_type": "code",
   "execution_count": null,
   "id": "30705ffb",
   "metadata": {},
   "outputs": [],
   "source": [
    "(1 - zeta) * Gamma_Y * ((1 - beta) * D2.T**2)"
   ]
  },
  {
   "cell_type": "code",
   "execution_count": null,
   "id": "662232ba",
   "metadata": {},
   "outputs": [],
   "source": [
    "np.diag(Gamma_Y) @ np.diag(\n",
    "    D2.reshape(\n",
    "        -1,\n",
    "    )\n",
    ")  # - Gamma_Y * D2.T"
   ]
  },
  {
   "cell_type": "code",
   "execution_count": null,
   "id": "aafee35b",
   "metadata": {},
   "outputs": [],
   "source": [
    "Gamma_Y.reshape(-1, 1) * D2"
   ]
  },
  {
   "cell_type": "code",
   "execution_count": null,
   "id": "0cd1fe4a",
   "metadata": {},
   "outputs": [],
   "source": [
    "(1 - zeta) * Gamma_H * ((1 - beta) + beta * (D1.T) ** 2)"
   ]
  },
  {
   "cell_type": "code",
   "execution_count": null,
   "id": "61619b07",
   "metadata": {},
   "outputs": [],
   "source": [
    "# (1 - zeta) * np.diag(Gamma_H) @\n",
    "(\n",
    "    (1 - beta)\n",
    "    + beta\n",
    "    * np.diag(\n",
    "        D1.reshape(\n",
    "            -1,\n",
    "        )\n",
    "    )\n",
    "    ** 2\n",
    ")"
   ]
  },
  {
   "cell_type": "code",
   "execution_count": null,
   "id": "08e9b4e6",
   "metadata": {},
   "outputs": [],
   "source": [
    "model.run_neural_dynamics_simplex_jit(\n",
    "    x_current,\n",
    "    h,\n",
    "    y,\n",
    "    M_H,\n",
    "    M_Y,\n",
    "    W_HX,\n",
    "    W_YH,\n",
    "    D1,\n",
    "    D2,\n",
    "    beta,\n",
    "    zeta,\n",
    "    neural_dynamic_iterations,\n",
    "    neural_lr_start,\n",
    "    neural_lr_stop,\n",
    "    lr_rule,\n",
    "    neural_lr_decay_multiplier,\n",
    "    stlambd_lr,\n",
    "    hidden_layer_gain,\n",
    "    OUTPUT_COMP_TOL,\n",
    ")"
   ]
  },
  {
   "cell_type": "code",
   "execution_count": null,
   "id": "a99093da",
   "metadata": {},
   "outputs": [],
   "source": [
    "M_hat_H, Gamma_H = offdiag(M_H, True)\n",
    "M_hat_Y, Gamma_Y = offdiag(M_Y, True)"
   ]
  },
  {
   "cell_type": "code",
   "execution_count": null,
   "id": "93e1464d",
   "metadata": {},
   "outputs": [],
   "source": [
    "(1 - zeta) * Gamma_H * ((1 - beta) + beta * D1.T**2)"
   ]
  },
  {
   "cell_type": "code",
   "execution_count": null,
   "id": "02946696",
   "metadata": {},
   "outputs": [],
   "source": [
    "np.diag((Gamma_Y * D2.T)[0])"
   ]
  },
  {
   "cell_type": "code",
   "execution_count": null,
   "id": "3d56e264",
   "metadata": {},
   "outputs": [],
   "source": [
    "M_hat_Y * D2.T"
   ]
  }
 ],
 "metadata": {
  "kernelspec": {
   "display_name": "Python 3 (ipykernel)",
   "language": "python",
   "name": "python3"
  },
  "language_info": {
   "codemirror_mode": {
    "name": "ipython",
    "version": 3
   },
   "file_extension": ".py",
   "mimetype": "text/x-python",
   "name": "python",
   "nbconvert_exporter": "python",
   "pygments_lexer": "ipython3",
   "version": "3.8.12"
  }
 },
 "nbformat": 4,
 "nbformat_minor": 5
}
