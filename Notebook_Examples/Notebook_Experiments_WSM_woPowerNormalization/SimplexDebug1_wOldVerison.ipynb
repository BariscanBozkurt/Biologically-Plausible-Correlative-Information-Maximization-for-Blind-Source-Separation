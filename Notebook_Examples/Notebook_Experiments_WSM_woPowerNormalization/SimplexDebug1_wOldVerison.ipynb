{
 "cells": [
  {
   "cell_type": "code",
   "execution_count": null,
   "id": "ba4d12db",
   "metadata": {},
   "outputs": [],
   "source": [
    "import sys\n",
    "import os\n",
    "\n",
    "os.chdir(\"..\")\n",
    "os.chdir(\"..\")\n",
    "os.chdir(\"./src\")\n",
    "# sys.path.append(\"./src\")\n",
    "\n",
    "import numpy as np\n",
    "import matplotlib.pyplot as plt\n",
    "from tqdm import tqdm\n",
    "from WSMBSS import *\n",
    "from numba import njit\n",
    "from IPython import display\n",
    "import pylab as pl\n",
    "import warnings\n",
    "\n",
    "warnings.filterwarnings(\"ignore\")\n",
    "# np.random.seed(874)\n",
    "# %load_ext autoreload\n",
    "# %autoreload 2\n",
    "notebook_name = \"Simplex\""
   ]
  },
  {
   "cell_type": "code",
   "execution_count": null,
   "id": "9e7ec99a",
   "metadata": {},
   "outputs": [],
   "source": [
    "NumberofSources = 5\n",
    "NumberofMixtures = 10\n",
    "N = 500000\n",
    "np.random.seed(0)\n",
    "# https://stackoverflow.com/questions/65154622/sample-uniformly-at-random-from-a-simplex-in-python\n",
    "S = np.random.exponential(scale=1.0, size=(NumberofSources, int(N)))\n",
    "S = S / np.sum(S, axis=0)\n",
    "\n",
    "SNR = 30\n",
    "A = np.random.randn(NumberofMixtures, NumberofSources)\n",
    "X = np.dot(A, S)\n",
    "\n",
    "# X, NoisePart = addWGN(X, SNR, return_noise = True)\n",
    "\n",
    "# SNRinp = 10 * np.log10(np.sum(np.mean((X - NoisePart)**2, axis = 1)) / np.sum(np.mean(NoisePart**2, axis = 1)))\n",
    "print(\"The following is the mixture matrix A\")\n",
    "display_matrix(A)\n",
    "# print(\"Input SNR is : {}\".format(SNRinp))\n",
    "\n",
    "plt.scatter(S[0, :], S[2, :])\n",
    "plt.show()"
   ]
  },
  {
   "cell_type": "code",
   "execution_count": null,
   "id": "c8aad1f9",
   "metadata": {},
   "outputs": [],
   "source": [
    "MUS = 0.25\n",
    "OUTPUT_COMP_TOL = 1e-5\n",
    "MAX_OUT_ITERATIONS = 3000\n",
    "LayerGains = [1, 1]\n",
    "LayerMinimumGains = [1, 1]\n",
    "LayerMaximumGains = [1e6, 1.001]\n",
    "WScalings = [0.0033, 0.0033]\n",
    "GamScalings = [0.01, 0.01]\n",
    "zeta = 1e-4\n",
    "beta = 0.5\n",
    "muD = [20, 1e-2]\n",
    "\n",
    "s_dim = S.shape[0]\n",
    "x_dim = X.shape[0]\n",
    "h_dim = s_dim\n",
    "samples = S.shape[1]\n",
    "W_HX = np.eye(h_dim, x_dim)\n",
    "W_YH = np.eye(s_dim, h_dim)"
   ]
  },
  {
   "cell_type": "code",
   "execution_count": null,
   "id": "ecf8eb7b",
   "metadata": {},
   "outputs": [],
   "source": [
    "debug_iteration_point = 10000\n",
    "\n",
    "model = OnlineWSMBSS(\n",
    "    s_dim=s_dim,\n",
    "    x_dim=x_dim,\n",
    "    h_dim=h_dim,\n",
    "    gamma_start=MUS,\n",
    "    beta=beta,\n",
    "    zeta=zeta,\n",
    "    muD=muD,\n",
    "    WScalings=WScalings,\n",
    "    W_HX=W_HX,\n",
    "    W_YH=W_YH,\n",
    "    DScalings=LayerGains,\n",
    "    LayerMinimumGains=LayerMinimumGains,\n",
    "    LayerMaximumGains=LayerMaximumGains,\n",
    "    neural_OUTPUT_COMP_TOL=OUTPUT_COMP_TOL,\n",
    "    set_ground_truth=True,\n",
    "    S=S,\n",
    "    A=A,\n",
    ")"
   ]
  },
  {
   "cell_type": "code",
   "execution_count": null,
   "id": "ac467b7d",
   "metadata": {},
   "outputs": [],
   "source": [
    "neural_dynamic_iterations = 750\n",
    "neural_lr_start = 0.5\n",
    "neural_lr_stop = 0.5\n",
    "stlambd_lr = 0.05\n",
    "OUTPUT_COMP_TOL = 1e-5\n",
    "\n",
    "W_HX = model.W_HX\n",
    "W_YH = model.W_YH\n",
    "M_H = model.M_H\n",
    "M_Y = model.M_Y\n",
    "D1 = model.D1\n",
    "D2 = model.D2"
   ]
  },
  {
   "cell_type": "code",
   "execution_count": null,
   "id": "8a8d411e",
   "metadata": {},
   "outputs": [],
   "source": [
    "np.random.seed(100)\n",
    "H = np.zeros((h_dim, samples))\n",
    "Y = np.zeros((s_dim, samples))\n",
    "\n",
    "H = np.random.randn(h_dim, samples)  # *0.05\n",
    "Y = np.random.randn(s_dim, samples)  # *0.05\n",
    "\n",
    "i_sample = 287\n",
    "\n",
    "x_current = X[:, i_sample]  # Take one input\n",
    "y = Y[:, i_sample]\n",
    "h = H[:, i_sample]"
   ]
  },
  {
   "cell_type": "code",
   "execution_count": null,
   "id": "6c55389c",
   "metadata": {},
   "outputs": [],
   "source": [
    "x_current"
   ]
  },
  {
   "cell_type": "code",
   "execution_count": null,
   "id": "9658c746",
   "metadata": {},
   "outputs": [],
   "source": [
    "model.run_neural_dynamics_simplex_jit(\n",
    "    x_current,\n",
    "    h,\n",
    "    y,\n",
    "    M_H,\n",
    "    M_Y,\n",
    "    W_HX,\n",
    "    W_YH,\n",
    "    D1,\n",
    "    D2,\n",
    "    beta,\n",
    "    zeta,\n",
    "    neural_dynamic_iterations,\n",
    "    neural_lr_start,\n",
    "    neural_lr_stop,\n",
    "    OUTPUT_COMP_TOL,\n",
    ")"
   ]
  },
  {
   "cell_type": "code",
   "execution_count": null,
   "id": "091c066e",
   "metadata": {},
   "outputs": [],
   "source": [
    "neural_dynamic_iterations = 10\n",
    "neural_lr_start = 0.5\n",
    "neural_lr_stop = 0.5\n",
    "stlambd_lr = 0.05\n",
    "OUTPUT_COMP_TOL = 1e-5\n",
    "\n",
    "W_HX = model.W_HX\n",
    "W_YH = model.W_YH\n",
    "M_H = model.M_H\n",
    "M_Y = model.M_Y\n",
    "D1 = model.D1\n",
    "D2 = model.D2\n",
    "\n",
    "Gamma_H = np.diag(np.diag(M_H))\n",
    "M_hat_H = M_H - Gamma_H\n",
    "\n",
    "Gamma_Y = np.diag(np.diag(M_Y))\n",
    "M_hat_Y = M_Y - Gamma_Y"
   ]
  },
  {
   "cell_type": "code",
   "execution_count": null,
   "id": "c54809f6",
   "metadata": {},
   "outputs": [],
   "source": [
    "np.random.seed(100)\n",
    "H = np.random.randn(h_dim, samples)\n",
    "Y = np.random.randn(s_dim, samples)\n",
    "\n",
    "i_sample = 0\n",
    "\n",
    "x_current = X[:, i_sample]  # Take one input\n",
    "y = Y[:, i_sample]\n",
    "h = H[:, i_sample]"
   ]
  },
  {
   "cell_type": "code",
   "execution_count": null,
   "id": "ce48f213",
   "metadata": {},
   "outputs": [],
   "source": [
    "x_current"
   ]
  },
  {
   "cell_type": "code",
   "execution_count": null,
   "id": "c46a134e",
   "metadata": {},
   "outputs": [],
   "source": [
    "np.random.seed(100)\n",
    "W_HX = np.random.randn(*W_HX.shape)\n",
    "W_YH = np.random.randn(*W_YH.shape)\n",
    "M_H = np.random.randn(*M_H.shape)\n",
    "M_Y = np.random.randn(*M_Y.shape)\n",
    "Gamma_H = np.diag(np.diag(M_H))\n",
    "M_hat_H = M_H - Gamma_H\n",
    "\n",
    "Gamma_Y = np.diag(np.diag(M_Y))\n",
    "M_hat_Y = M_Y - Gamma_Y\n",
    "display_matrix(W_YH)\n",
    "display_matrix(W_HX)\n",
    "display_matrix(M_Y)\n",
    "display_matrix(M_H)"
   ]
  },
  {
   "cell_type": "code",
   "execution_count": null,
   "id": "5cb61ee3",
   "metadata": {},
   "outputs": [],
   "source": [
    "(1 - zeta) * beta * np.diag(np.diag(M_H @ D1 @ M_H - W_HX @ W_HX.T))"
   ]
  },
  {
   "cell_type": "code",
   "execution_count": null,
   "id": "a00188c9",
   "metadata": {},
   "outputs": [],
   "source": [
    "(1 - zeta) * beta * np.diag(\n",
    "    np.diag(M_H @ D1 @ M_H - W_HX @ W_HX.T)\n",
    ") + zeta * model.dlogdet(D1)"
   ]
  },
  {
   "cell_type": "code",
   "execution_count": null,
   "id": "4fc06039",
   "metadata": {},
   "outputs": [],
   "source": [
    "(1 - zeta) * (1 - beta) * np.diag(\n",
    "    np.diag(M_Y @ D2 @ M_Y - W_YH @ W_YH.T)\n",
    ") + zeta * model.dlogdet(D2)"
   ]
  },
  {
   "cell_type": "code",
   "execution_count": null,
   "id": "d580e562",
   "metadata": {},
   "outputs": [],
   "source": [
    "h"
   ]
  },
  {
   "cell_type": "code",
   "execution_count": null,
   "id": "65c4695f",
   "metadata": {},
   "outputs": [],
   "source": [
    "((1 - beta) * Gamma_H + beta * D1 @ Gamma_H @ D1)  # @ h"
   ]
  },
  {
   "cell_type": "code",
   "execution_count": null,
   "id": "b214a152",
   "metadata": {},
   "outputs": [],
   "source": [
    "y"
   ]
  },
  {
   "cell_type": "code",
   "execution_count": null,
   "id": "94f2f04c",
   "metadata": {},
   "outputs": [],
   "source": [
    "Gamma_Y @ D2 @ y"
   ]
  },
  {
   "cell_type": "code",
   "execution_count": null,
   "id": "502c2282",
   "metadata": {},
   "outputs": [],
   "source": [
    "(1 - zeta) * beta * D1 @ W_HX @ x_current"
   ]
  },
  {
   "cell_type": "code",
   "execution_count": null,
   "id": "21309728",
   "metadata": {},
   "outputs": [],
   "source": [
    "((1 - zeta) * (1 - beta) * M_hat_H + (1 - zeta) * beta * D1 @ M_hat_H @ D1) @ h"
   ]
  },
  {
   "cell_type": "code",
   "execution_count": null,
   "id": "166c1ca9",
   "metadata": {},
   "outputs": [],
   "source": [
    "(1 - zeta) * (1 - beta) * W_YH.T @ D2 @ y"
   ]
  },
  {
   "cell_type": "code",
   "execution_count": null,
   "id": "fa0ce4d9",
   "metadata": {},
   "outputs": [],
   "source": [
    "(\n",
    "    (1 - zeta) * beta * D1 @ W_HX @ x_current\n",
    "    - ((1 - zeta) * (1 - beta) * M_hat_H + (1 - zeta) * beta * D1 @ M_hat_H @ D1) @ h\n",
    "    + (1 - zeta) * (1 - beta) * W_YH.T @ D2 @ y\n",
    ")"
   ]
  },
  {
   "cell_type": "code",
   "execution_count": null,
   "id": "996f7734",
   "metadata": {},
   "outputs": [],
   "source": [
    "np.diag(Gamma_H * ((1 - zeta) * (1 - beta) + (1 - zeta) * beta * D1**2))"
   ]
  },
  {
   "cell_type": "code",
   "execution_count": null,
   "id": "36d11b11",
   "metadata": {},
   "outputs": [],
   "source": [
    "(M_hat_Y @ D2)  # @ y"
   ]
  },
  {
   "cell_type": "code",
   "execution_count": null,
   "id": "e056aa47",
   "metadata": {},
   "outputs": [],
   "source": [
    "(M_hat_Y @ D2) @ y"
   ]
  },
  {
   "cell_type": "code",
   "execution_count": null,
   "id": "43c76933",
   "metadata": {},
   "outputs": [],
   "source": [
    "np.diag(Gamma_Y * ((1 - zeta) * (1 - beta) * D2**2))"
   ]
  },
  {
   "cell_type": "code",
   "execution_count": null,
   "id": "a1a306b4",
   "metadata": {},
   "outputs": [],
   "source": [
    "model.run_neural_dynamics_simplex_jit(\n",
    "    x_current,\n",
    "    h,\n",
    "    y,\n",
    "    M_H,\n",
    "    M_Y,\n",
    "    W_HX,\n",
    "    W_YH,\n",
    "    D1,\n",
    "    D2,\n",
    "    beta,\n",
    "    zeta,\n",
    "    neural_dynamic_iterations,\n",
    "    neural_lr_start,\n",
    "    neural_lr_stop,\n",
    "    OUTPUT_COMP_TOL,\n",
    ")"
   ]
  },
  {
   "cell_type": "code",
   "execution_count": null,
   "id": "1b1d8068",
   "metadata": {},
   "outputs": [],
   "source": [
    "np.diag(Gamma_H * ((1 - zeta) * (1 - beta) + (1 - zeta) * beta * D1**2))"
   ]
  },
  {
   "cell_type": "code",
   "execution_count": null,
   "id": "2bdb398a",
   "metadata": {},
   "outputs": [],
   "source": [
    "np.diag(Gamma_Y * (D2))"
   ]
  },
  {
   "cell_type": "code",
   "execution_count": null,
   "id": "cc40e52d",
   "metadata": {},
   "outputs": [],
   "source": [
    "(M_hat_Y @ D2)"
   ]
  }
 ],
 "metadata": {
  "kernelspec": {
   "display_name": "Python 3 (ipykernel)",
   "language": "python",
   "name": "python3"
  },
  "language_info": {
   "codemirror_mode": {
    "name": "ipython",
    "version": 3
   },
   "file_extension": ".py",
   "mimetype": "text/x-python",
   "name": "python",
   "nbconvert_exporter": "python",
   "pygments_lexer": "ipython3",
   "version": "3.8.12"
  }
 },
 "nbformat": 4,
 "nbformat_minor": 5
}
