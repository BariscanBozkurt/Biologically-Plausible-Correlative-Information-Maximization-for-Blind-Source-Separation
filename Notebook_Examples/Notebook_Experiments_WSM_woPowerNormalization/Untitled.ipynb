{
 "cells": [
  {
   "cell_type": "code",
   "execution_count": 1,
   "id": "ee2c2313",
   "metadata": {},
   "outputs": [],
   "source": [
    "import sys\n",
    "\n",
    "sys.path.insert(0, \"../../src\")\n",
    "import numpy as np\n",
    "import matplotlib.pyplot as plt\n",
    "from IPython import display\n",
    "import pylab as pl\n",
    "\n",
    "from WSMBSS import *\n",
    "from general_utils import *\n",
    "from visualization_utils import *\n",
    "\n",
    "import warnings\n",
    "\n",
    "warnings.filterwarnings(\"ignore\")\n",
    "notebook_name = \"Nonnegative_Antisparse_Copula_Debug\""
   ]
  },
  {
   "cell_type": "code",
   "execution_count": 2,
   "id": "6d06687f",
   "metadata": {},
   "outputs": [
    {
     "name": "stdout",
     "output_type": "stream",
     "text": [
      "The following is the mixture matrix A\n"
     ]
    },
    {
     "data": {
      "text/latex": [
       "$\\displaystyle \\begin{bmatrix} \n",
       " 0.502 & -0.393 & 0.485 & -2.390 & -0.770 & \\\\\n",
       " -0.937 & 2.766 & -1.424 & 1.468 & 0.193 & \\\\\n",
       " 1.990 & 0.275 & -1.172 & -0.813 & 1.044 & \\\\\n",
       " -0.291 & -1.180 & -0.926 & 1.700 & 0.992 & \\\\\n",
       " 1.372 & -2.320 & -0.504 & -0.294 & -0.376 & \\\\\n",
       " 0.126 & 0.254 & -0.804 & 0.782 & 0.146 & \\\\\n",
       " 0.801 & 0.566 & 1.393 & 0.627 & -0.780 & \\\\\n",
       " -0.093 & 0.544 & -0.200 & 0.034 & -0.021 & \\\\\n",
       " -0.212 & -0.816 & -1.588 & -0.659 & -1.005 & \\\\\n",
       " 0.919 & 0.605 & 0.930 & 2.141 & 1.688 & \\\\\n",
       "\\end{bmatrix}$"
      ],
      "text/plain": [
       "<IPython.core.display.Math object>"
      ]
     },
     "metadata": {},
     "output_type": "display_data"
    },
    {
     "name": "stdout",
     "output_type": "stream",
     "text": [
      "Input SNR is : 30.003923293737166\n"
     ]
    }
   ],
   "source": [
    "rho = 0.0\n",
    "N = 500000\n",
    "NumberofSources = 5\n",
    "NumberofMixtures = 10\n",
    "\n",
    "SNR = 30  # dB\n",
    "\n",
    "S = generate_correlated_copula_sources(\n",
    "    rho=rho,\n",
    "    df=4,\n",
    "    n_sources=NumberofSources,\n",
    "    size_sources=N,\n",
    "    decreasing_correlation=False,\n",
    ")\n",
    "\n",
    "A = np.random.standard_normal(size=(NumberofMixtures, NumberofSources))\n",
    "X = A @ S\n",
    "\n",
    "X, NoisePart = addWGN(X, SNR, return_noise=True)\n",
    "\n",
    "SNRinp = 10 * np.log10(\n",
    "    np.sum(np.mean((X - NoisePart) ** 2, axis=1))\n",
    "    / np.sum(np.mean(NoisePart**2, axis=1))\n",
    ")\n",
    "\n",
    "print(\"The following is the mixture matrix A\")\n",
    "display_matrix(A)\n",
    "print(\"Input SNR is : {}\".format(SNRinp))"
   ]
  },
  {
   "cell_type": "code",
   "execution_count": 3,
   "id": "3a0ff033",
   "metadata": {},
   "outputs": [],
   "source": [
    "gamma_start = 0.05\n",
    "gamma_stop = 1e-3\n",
    "\n",
    "gammaM_start = np.array([gamma_start, gamma_start])\n",
    "gammaM_stop = np.array([gamma_stop, gamma_stop])\n",
    "gammaW_start = np.array([gamma_start, gamma_start])\n",
    "gammaW_stop = np.array([gamma_stop, gamma_stop])\n",
    "\n",
    "OUTPUT_COMP_TOL = 1e-6\n",
    "MAX_OUT_ITERATIONS = 3000\n",
    "LayerGains = [0.5, 0.5]\n",
    "LayerGains = [1, 1]\n",
    "LayerMinimumGains = [0.2, 0.2]\n",
    "LayerMaximumGains = [1e6, 5001]\n",
    "WScalings = [0.005, 0.005]\n",
    "GamScalings = [1, 1]\n",
    "zeta = 1 * 1e-3\n",
    "beta = 0.5\n",
    "muD = [0.01, 0.01]\n",
    "\n",
    "s_dim = S.shape[0]\n",
    "x_dim = X.shape[0]\n",
    "h_dim = s_dim\n",
    "samples = S.shape[1]\n",
    "W_HX = np.eye(h_dim, x_dim)\n",
    "W_YH = np.eye(s_dim, h_dim)\n",
    "\n",
    "# OPTIONS FOR synaptic_lr_rule: \"constant\", \"divide_by_log_index\", \"divide_by_index\"\n",
    "synaptic_lr_rule = \"divide_by_log_index\"\n",
    "# OPTIONS FOR neural_loop_lr_rule: \"constant\", \"divide_by_loop_index\", \"divide_by_slow_loop_index\"\n",
    "neural_loop_lr_rule = \"divide_by_slow_loop_index\"\n",
    "\n",
    "synaptic_lr_decay_divider = 5000\n",
    "neural_lr_decay_multiplier = 0.005\n",
    "hidden_layer_gain = 10"
   ]
  },
  {
   "cell_type": "code",
   "execution_count": 4,
   "id": "53addf5a",
   "metadata": {},
   "outputs": [],
   "source": [
    "debug_iteration_point = 25000\n",
    "model = OnlineWSMBSS(\n",
    "    s_dim=s_dim,\n",
    "    x_dim=x_dim,\n",
    "    h_dim=h_dim,\n",
    "    gammaM_start=gammaM_start,\n",
    "    gammaM_stop=gammaM_stop,\n",
    "    gammaW_start=gammaW_start,\n",
    "    gammaW_stop=gammaW_stop,\n",
    "    beta=beta,\n",
    "    zeta=zeta,\n",
    "    muD=muD,\n",
    "    WScalings=WScalings,\n",
    "    GamScalings=GamScalings,\n",
    "    W_HX=W_HX,\n",
    "    W_YH=W_YH,\n",
    "    DScalings=LayerGains,\n",
    "    LayerMinimumGains=LayerMinimumGains,\n",
    "    LayerMaximumGains=LayerMaximumGains,\n",
    "    neural_OUTPUT_COMP_TOL=OUTPUT_COMP_TOL,\n",
    "    set_ground_truth=True,\n",
    "    S=S,\n",
    "    A=A,\n",
    ")"
   ]
  },
  {
   "cell_type": "code",
   "execution_count": 5,
   "id": "61e80164",
   "metadata": {},
   "outputs": [],
   "source": [
    "W_HX = model.W_HX\n",
    "W_YH = model.W_YH\n",
    "M_H = model.M_H\n",
    "M_Y = model.M_Y\n",
    "D1 = model.D1\n",
    "D2 = model.D2\n",
    "\n",
    "np.random.seed(100)\n",
    "H = np.zeros((h_dim, samples))\n",
    "Y = np.zeros((s_dim, samples))\n",
    "\n",
    "# H = np.random.randn(h_dim, samples)  # *0.05\n",
    "# Y = np.random.randn(s_dim, samples)  # *0.05\n",
    "\n",
    "i_sample = 287\n",
    "\n",
    "x_current = X[:, i_sample]  # Take one input\n",
    "y = Y[:, i_sample]\n",
    "h = H[:, i_sample]\n",
    "\n",
    "neural_dynamic_iterations = 750\n",
    "neural_lr_decay_multiplier = 0.005\n",
    "neural_lr_start = 0.5\n",
    "neural_lr_stop = 0.001\n",
    "neural_OUTPUT_COMP_TOL = 1e-5"
   ]
  },
  {
   "cell_type": "code",
   "execution_count": 6,
   "id": "ee0fcf7b",
   "metadata": {},
   "outputs": [],
   "source": [
    "h,y, oc = model.run_neural_dynamics_nnantisparse_jit(\n",
    "                    x_current=x_current,\n",
    "                    h=h,\n",
    "                    y=y,\n",
    "                    M_H=M_H,\n",
    "                    M_Y=M_Y,\n",
    "                    W_HX=W_HX,\n",
    "                    W_YH=W_YH,\n",
    "                    D1=D1,\n",
    "                    D2=D2,\n",
    "                    beta=beta,\n",
    "                    zeta=zeta,\n",
    "                    neural_dynamic_iterations=neural_dynamic_iterations,\n",
    "                    lr_start=neural_lr_start,\n",
    "                    lr_stop=neural_lr_stop,\n",
    "                    lr_rule=neural_loop_lr_rule,\n",
    "                    lr_decay_multiplier=neural_lr_decay_multiplier,\n",
    "                    hidden_layer_gain=hidden_layer_gain,\n",
    "                    OUTPUT_COMP_TOL=neural_OUTPUT_COMP_TOL,\n",
    ")"
   ]
  },
  {
   "cell_type": "code",
   "execution_count": 7,
   "id": "fd498e78",
   "metadata": {},
   "outputs": [
    {
     "data": {
      "text/plain": [
       "(array([-0.01484513, -0.74788565,  0.9415959 , -0.27612382,  0.38055214]),\n",
       " array([0.        , 0.        , 0.94157714, 0.        , 0.38054455]))"
      ]
     },
     "execution_count": 7,
     "metadata": {},
     "output_type": "execute_result"
    }
   ],
   "source": [
    "h, y"
   ]
  },
  {
   "cell_type": "code",
   "execution_count": 10,
   "id": "16e8f63b",
   "metadata": {},
   "outputs": [],
   "source": [
    "i_sample = 0\n",
    "MU_MH = np.max(\n",
    "    [\n",
    "        gammaM_start[0]\n",
    "        / (1 + np.log(2 + (i_sample // synaptic_lr_decay_divider))),\n",
    "        gammaM_stop[0],\n",
    "    ]\n",
    ")\n",
    "MU_MY = np.max(\n",
    "    [\n",
    "        gammaM_start[1]\n",
    "        / (1 + np.log(2 + (i_sample // synaptic_lr_decay_divider))),\n",
    "        gammaM_stop[1],\n",
    "    ]\n",
    ")\n",
    "MU_WHX = np.max(\n",
    "    [\n",
    "        gammaW_start[0]\n",
    "        / (1 + np.log(2 + (i_sample // synaptic_lr_decay_divider))),\n",
    "        gammaW_stop[0],\n",
    "    ]\n",
    ")\n",
    "MU_WYH = np.max(\n",
    "    [\n",
    "        gammaW_start[1]\n",
    "        / (1 + np.log(2 + (i_sample // synaptic_lr_decay_divider))),\n",
    "        gammaW_stop[1],\n",
    "    ]\n",
    ")\n",
    "\n",
    "M_H = (1 - MU_MH) * M_H + MU_MH * np.outer(h, h)\n",
    "W_HX = (1 - MU_WHX) * W_HX + MU_WHX * np.outer(h, x_current)\n",
    "\n",
    "M_Y = (1 - MU_MY) * M_Y + MU_MY * np.outer(y, y)\n",
    "W_YH = (1 - MU_WYH) * W_YH + MU_WYH * np.outer(y, h)\n",
    "        \n",
    "D1derivative = (1 - zeta) * beta * (\n",
    "            np.sum((np.abs(M_H) ** 2) * D1.T, axis=1)\n",
    "            - np.sum(np.abs(W_HX) ** 2, axis=1)\n",
    "        ).reshape(-1, 1) + zeta * (\n",
    "            1 / D1\n",
    "        ) \n",
    "\n",
    "D2derivative = (1 - zeta) * (1 - beta) * (\n",
    "            np.sum((np.abs(M_Y) ** 2) * D2.T, axis=1)\n",
    "            - np.sum(np.abs(W_YH) ** 2, axis=1)\n",
    "        ).reshape(-1, 1) + zeta * (\n",
    "            1 / D2\n",
    "        )"
   ]
  },
  {
   "cell_type": "code",
   "execution_count": 26,
   "id": "e429a572",
   "metadata": {},
   "outputs": [
    {
     "data": {
      "text/plain": [
       "array([[1.],\n",
       "       [1.],\n",
       "       [1.],\n",
       "       [1.],\n",
       "       [1.]])"
      ]
     },
     "execution_count": 26,
     "metadata": {},
     "output_type": "execute_result"
    }
   ],
   "source": [
    "D1"
   ]
  },
  {
   "cell_type": "code",
   "execution_count": 15,
   "id": "e2cb8d75",
   "metadata": {},
   "outputs": [],
   "source": [
    "D1secondderivative = []\n",
    "for i in range(D1derivative.shape[0]):\n",
    "    D1secondderivative.append((1 - zeta) * beta * (M_H[i,i]**2) * D1[i,0] - zeta * (1 / (D1[i,0]**2)))"
   ]
  },
  {
   "cell_type": "code",
   "execution_count": 18,
   "id": "87cc917d",
   "metadata": {},
   "outputs": [
    {
     "data": {
      "text/plain": [
       "array([0.46944063, 0.48558435, 0.49516024, 0.47161974, 0.47358967])"
      ]
     },
     "execution_count": 18,
     "metadata": {},
     "output_type": "execute_result"
    }
   ],
   "source": [
    "np.array(D1secondderivative)"
   ]
  },
  {
   "cell_type": "code",
   "execution_count": 21,
   "id": "33d407c7",
   "metadata": {},
   "outputs": [
    {
     "data": {
      "text/plain": [
       "array([[0.001],\n",
       "       [0.001],\n",
       "       [0.001],\n",
       "       [0.001],\n",
       "       [0.001]])"
      ]
     },
     "execution_count": 21,
     "metadata": {},
     "output_type": "execute_result"
    }
   ],
   "source": [
    "zeta * (1 / (D1 ** 2))"
   ]
  },
  {
   "cell_type": "code",
   "execution_count": 35,
   "id": "8d3f0f10",
   "metadata": {},
   "outputs": [
    {
     "data": {
      "text/plain": [
       "array([[ 0.0009916 ],\n",
       "       [-0.02031645],\n",
       "       [-0.00740695],\n",
       "       [-0.00190571],\n",
       "       [-0.00037321]])"
      ]
     },
     "execution_count": 35,
     "metadata": {},
     "output_type": "execute_result"
    }
   ],
   "source": [
    "D1derivative "
   ]
  },
  {
   "cell_type": "code",
   "execution_count": 36,
   "id": "3346c4a7",
   "metadata": {},
   "outputs": [
    {
     "data": {
      "text/plain": [
       "array([[0.46944063],\n",
       "       [0.48558435],\n",
       "       [0.49516024],\n",
       "       [0.47161974],\n",
       "       [0.47358967]])"
      ]
     },
     "execution_count": 36,
     "metadata": {},
     "output_type": "execute_result"
    }
   ],
   "source": [
    "((1 - zeta) * beta *(np.diag(M_H) ** 2)[:,np.newaxis] * D1 - zeta * (1 / (D1 ** 2)))"
   ]
  },
  {
   "cell_type": "code",
   "execution_count": 37,
   "id": "0c127ef1",
   "metadata": {},
   "outputs": [
    {
     "data": {
      "text/plain": [
       "array([[ 0.0021123 ],\n",
       "       [-0.04183917],\n",
       "       [-0.01495869],\n",
       "       [-0.00404078],\n",
       "       [-0.00078805]])"
      ]
     },
     "execution_count": 37,
     "metadata": {},
     "output_type": "execute_result"
    }
   ],
   "source": [
    "D1derivative / ((1 - zeta) * beta *(np.diag(M_H) ** 2)[:,np.newaxis] * D1 - zeta * (1 / (D1 ** 2)))"
   ]
  },
  {
   "cell_type": "code",
   "execution_count": null,
   "id": "11bbdcee",
   "metadata": {},
   "outputs": [],
   "source": []
  }
 ],
 "metadata": {
  "kernelspec": {
   "display_name": "Python 3 (ipykernel)",
   "language": "python",
   "name": "python3"
  },
  "language_info": {
   "codemirror_mode": {
    "name": "ipython",
    "version": 3
   },
   "file_extension": ".py",
   "mimetype": "text/x-python",
   "name": "python",
   "nbconvert_exporter": "python",
   "pygments_lexer": "ipython3",
   "version": "3.8.12"
  }
 },
 "nbformat": 4,
 "nbformat_minor": 5
}
