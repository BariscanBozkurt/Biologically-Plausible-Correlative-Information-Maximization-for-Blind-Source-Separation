{
 "cells": [
  {
   "cell_type": "code",
   "execution_count": 1,
   "id": "a52d542c",
   "metadata": {},
   "outputs": [],
   "source": [
    "import sys\n",
    "\n",
    "sys.path.insert(0, \"../../src\")\n",
    "import numpy as np\n",
    "import matplotlib.pyplot as plt\n",
    "from IPython import display\n",
    "import pylab as pl\n",
    "\n",
    "from WSMBSS import *\n",
    "from general_utils import *\n",
    "from visualization_utils import *\n",
    "\n",
    "import warnings\n",
    "\n",
    "warnings.filterwarnings(\"ignore\")\n",
    "notebook_name = \"Nonnegative_Antisparse_Copula_Debug\""
   ]
  },
  {
   "cell_type": "code",
   "execution_count": 2,
   "id": "79363f74",
   "metadata": {},
   "outputs": [
    {
     "name": "stdout",
     "output_type": "stream",
     "text": [
      "The following is the mixture matrix A\n"
     ]
    },
    {
     "data": {
      "text/latex": [
       "$\\displaystyle \\begin{bmatrix} \n",
       " -0.066 & -0.851 & -0.824 & 1.235 & -0.597 & \\\\\n",
       " -1.285 & -1.581 & -0.341 & 1.456 & 1.834 & \\\\\n",
       " 0.810 & 0.324 & -0.370 & -0.303 & 1.431 & \\\\\n",
       " 1.335 & -0.993 & -0.244 & 0.912 & 0.067 & \\\\\n",
       " -0.762 & -2.140 & -1.606 & -0.117 & -0.023 & \\\\\n",
       " 0.096 & -0.670 & -2.069 & -0.261 & 1.310 & \\\\\n",
       " -0.031 & 0.705 & -0.964 & 0.272 & 0.143 & \\\\\n",
       " 0.048 & -1.899 & 0.076 & 2.007 & 0.120 & \\\\\n",
       " -0.283 & -0.775 & -0.614 & 0.877 & -1.334 & \\\\\n",
       " -1.385 & 0.700 & 0.246 & -0.716 & -0.495 & \\\\\n",
       "\\end{bmatrix}$"
      ],
      "text/plain": [
       "<IPython.core.display.Math object>"
      ]
     },
     "metadata": {},
     "output_type": "display_data"
    },
    {
     "name": "stdout",
     "output_type": "stream",
     "text": [
      "Input SNR is : 30.00500996939232\n"
     ]
    }
   ],
   "source": [
    "rho = 0.0\n",
    "N = 500000\n",
    "NumberofSources = 5\n",
    "NumberofMixtures = 10\n",
    "\n",
    "SNR = 30  # dB\n",
    "\n",
    "S = generate_correlated_copula_sources(\n",
    "    rho=rho,\n",
    "    df=4,\n",
    "    n_sources=NumberofSources,\n",
    "    size_sources=N,\n",
    "    decreasing_correlation=False,\n",
    ")\n",
    "\n",
    "A = np.random.standard_normal(size=(NumberofMixtures, NumberofSources))\n",
    "X = A @ S\n",
    "\n",
    "X, NoisePart = addWGN(X, SNR, return_noise=True)\n",
    "\n",
    "SNRinp = 10 * np.log10(\n",
    "    np.sum(np.mean((X - NoisePart) ** 2, axis=1))\n",
    "    / np.sum(np.mean(NoisePart**2, axis=1))\n",
    ")\n",
    "\n",
    "print(\"The following is the mixture matrix A\")\n",
    "display_matrix(A)\n",
    "print(\"Input SNR is : {}\".format(SNRinp))"
   ]
  },
  {
   "cell_type": "code",
   "execution_count": 3,
   "id": "3591c00b",
   "metadata": {},
   "outputs": [],
   "source": [
    "gamma_start = 0.05\n",
    "gamma_stop = 1e-3\n",
    "\n",
    "gammaM_start = np.array([gamma_start, gamma_start])\n",
    "gammaM_stop = np.array([gamma_stop, gamma_stop])\n",
    "gammaW_start = np.array([gamma_start, gamma_start])\n",
    "gammaW_stop = np.array([gamma_stop, gamma_stop])\n",
    "\n",
    "OUTPUT_COMP_TOL = 1e-6\n",
    "MAX_OUT_ITERATIONS = 3000\n",
    "LayerGains = [0.5, 0.5]\n",
    "LayerGains = [1, 1]\n",
    "LayerMinimumGains = [0.2, 0.2]\n",
    "LayerMaximumGains = [1e6, 5001]\n",
    "WScalings = [0.005, 0.005]\n",
    "GamScalings = [1, 1]\n",
    "zeta = 1 * 1e-3\n",
    "beta = 0.5\n",
    "muD = [0.01, 0.01]\n",
    "\n",
    "s_dim = S.shape[0]\n",
    "x_dim = X.shape[0]\n",
    "h_dim = s_dim\n",
    "samples = S.shape[1]\n",
    "W_HX = np.eye(h_dim, x_dim)\n",
    "W_YH = np.eye(s_dim, h_dim)\n",
    "\n",
    "# OPTIONS FOR synaptic_lr_rule: \"constant\", \"divide_by_log_index\", \"divide_by_index\"\n",
    "synaptic_lr_rule = \"divide_by_log_index\"\n",
    "# OPTIONS FOR neural_loop_lr_rule: \"constant\", \"divide_by_loop_index\", \"divide_by_slow_loop_index\"\n",
    "neural_loop_lr_rule = \"divide_by_slow_loop_index\"\n",
    "\n",
    "synaptic_lr_decay_divider = 5000\n",
    "neural_lr_decay_multiplier = 0.005\n",
    "hidden_layer_gain = 10"
   ]
  },
  {
   "cell_type": "code",
   "execution_count": 4,
   "id": "44529c78",
   "metadata": {},
   "outputs": [],
   "source": [
    "debug_iteration_point = 25000\n",
    "model = OnlineWSMBSS(\n",
    "    s_dim=s_dim,\n",
    "    x_dim=x_dim,\n",
    "    h_dim=h_dim,\n",
    "    gammaM_start=gammaM_start,\n",
    "    gammaM_stop=gammaM_stop,\n",
    "    gammaW_start=gammaW_start,\n",
    "    gammaW_stop=gammaW_stop,\n",
    "    beta=beta,\n",
    "    zeta=zeta,\n",
    "    muD=muD,\n",
    "    WScalings=WScalings,\n",
    "    GamScalings=GamScalings,\n",
    "    W_HX=W_HX,\n",
    "    W_YH=W_YH,\n",
    "    DScalings=LayerGains,\n",
    "    LayerMinimumGains=LayerMinimumGains,\n",
    "    LayerMaximumGains=LayerMaximumGains,\n",
    "    neural_OUTPUT_COMP_TOL=OUTPUT_COMP_TOL,\n",
    "    set_ground_truth=True,\n",
    "    S=S,\n",
    "    A=A,\n",
    ")"
   ]
  },
  {
   "cell_type": "code",
   "execution_count": 5,
   "id": "3ecd0d71",
   "metadata": {},
   "outputs": [],
   "source": [
    "W_HX = model.W_HX\n",
    "W_YH = model.W_YH\n",
    "M_H = model.M_H\n",
    "M_Y = model.M_Y\n",
    "D1 = model.D1\n",
    "D2 = model.D2\n",
    "\n",
    "np.random.seed(100)\n",
    "H = np.zeros((h_dim, samples))\n",
    "Y = np.zeros((s_dim, samples))\n",
    "\n",
    "# H = np.random.randn(h_dim, samples)  # *0.05\n",
    "# Y = np.random.randn(s_dim, samples)  # *0.05\n",
    "\n",
    "i_sample = 287\n",
    "\n",
    "x_current = X[:, i_sample]  # Take one input\n",
    "y = Y[:, i_sample]\n",
    "h = H[:, i_sample]\n",
    "\n",
    "neural_dynamic_iterations = 750\n",
    "neural_lr_decay_multiplier = 0.005\n",
    "neural_lr_start = 0.5\n",
    "neural_lr_stop = 0.001\n",
    "neural_OUTPUT_COMP_TOL = 1e-5"
   ]
  },
  {
   "cell_type": "code",
   "execution_count": 6,
   "id": "13a79d57",
   "metadata": {},
   "outputs": [],
   "source": [
    "h,y, oc = model.run_neural_dynamics_nnantisparse_jit(\n",
    "                    x_current=x_current,\n",
    "                    h=h,\n",
    "                    y=y,\n",
    "                    M_H=M_H,\n",
    "                    M_Y=M_Y,\n",
    "                    W_HX=W_HX,\n",
    "                    W_YH=W_YH,\n",
    "                    D1=D1,\n",
    "                    D2=D2,\n",
    "                    beta=beta,\n",
    "                    zeta=zeta,\n",
    "                    neural_dynamic_iterations=neural_dynamic_iterations,\n",
    "                    lr_start=neural_lr_start,\n",
    "                    lr_stop=neural_lr_stop,\n",
    "                    lr_rule=neural_loop_lr_rule,\n",
    "                    lr_decay_multiplier=neural_lr_decay_multiplier,\n",
    "                    hidden_layer_gain=hidden_layer_gain,\n",
    "                    OUTPUT_COMP_TOL=neural_OUTPUT_COMP_TOL,\n",
    ")"
   ]
  },
  {
   "cell_type": "code",
   "execution_count": 7,
   "id": "28d77bcc",
   "metadata": {},
   "outputs": [
    {
     "data": {
      "text/plain": [
       "(array([-0.04087635,  0.16059504,  0.18028417,  0.22572402, -0.36664767]),\n",
       " array([0.        , 0.16059229, 0.18028109, 0.22572016, 0.        ]))"
      ]
     },
     "execution_count": 7,
     "metadata": {},
     "output_type": "execute_result"
    }
   ],
   "source": [
    "h, y"
   ]
  },
  {
   "cell_type": "code",
   "execution_count": 8,
   "id": "aa2131f4",
   "metadata": {},
   "outputs": [],
   "source": [
    "i_sample = 0\n",
    "MU_MH = np.max(\n",
    "    [\n",
    "        gammaM_start[0]\n",
    "        / (1 + np.log(2 + (i_sample // synaptic_lr_decay_divider))),\n",
    "        gammaM_stop[0],\n",
    "    ]\n",
    ")\n",
    "MU_MY = np.max(\n",
    "    [\n",
    "        gammaM_start[1]\n",
    "        / (1 + np.log(2 + (i_sample // synaptic_lr_decay_divider))),\n",
    "        gammaM_stop[1],\n",
    "    ]\n",
    ")\n",
    "MU_WHX = np.max(\n",
    "    [\n",
    "        gammaW_start[0]\n",
    "        / (1 + np.log(2 + (i_sample // synaptic_lr_decay_divider))),\n",
    "        gammaW_stop[0],\n",
    "    ]\n",
    ")\n",
    "MU_WYH = np.max(\n",
    "    [\n",
    "        gammaW_start[1]\n",
    "        / (1 + np.log(2 + (i_sample // synaptic_lr_decay_divider))),\n",
    "        gammaW_stop[1],\n",
    "    ]\n",
    ")\n",
    "\n",
    "D1derivative = (1 - zeta) * beta * (\n",
    "            np.sum((np.abs(M_H) ** 2) * D1.T, axis=1)\n",
    "            - np.sum(np.abs(W_HX) ** 2, axis=1)\n",
    "        ).reshape(-1, 1) + zeta * (\n",
    "            1 / D1\n",
    "        ) \n",
    "\n",
    "D2derivative = (1 - zeta) * (1 - beta) * (\n",
    "            np.sum((np.abs(M_Y) ** 2) * D2.T, axis=1)\n",
    "            - np.sum(np.abs(W_YH) ** 2, axis=1)\n",
    "        ).reshape(-1, 1) + zeta * (\n",
    "            1 / D2\n",
    "        )"
   ]
  },
  {
   "cell_type": "code",
   "execution_count": 9,
   "id": "c1b6de47",
   "metadata": {},
   "outputs": [
    {
     "data": {
      "text/plain": [
       "array([[1.4995],\n",
       "       [1.4995],\n",
       "       [1.4995],\n",
       "       [1.4995],\n",
       "       [1.4995]])"
      ]
     },
     "execution_count": 9,
     "metadata": {},
     "output_type": "execute_result"
    }
   ],
   "source": [
    "D1derivative"
   ]
  }
 ],
 "metadata": {
  "kernelspec": {
   "display_name": "Python 3 (ipykernel)",
   "language": "python",
   "name": "python3"
  },
  "language_info": {
   "codemirror_mode": {
    "name": "ipython",
    "version": 3
   },
   "file_extension": ".py",
   "mimetype": "text/x-python",
   "name": "python",
   "nbconvert_exporter": "python",
   "pygments_lexer": "ipython3",
   "version": "3.8.12"
  }
 },
 "nbformat": 4,
 "nbformat_minor": 5
}
