{
 "cells": [
  {
   "cell_type": "markdown",
   "id": "8018a642",
   "metadata": {},
   "source": [
    "# Import Required Libraries"
   ]
  },
  {
   "cell_type": "code",
   "execution_count": null,
   "id": "3e77b841",
   "metadata": {},
   "outputs": [],
   "source": [
    "import sys\n",
    "\n",
    "sys.path.insert(0, \"../../src\")\n",
    "import numpy as np\n",
    "import matplotlib.pyplot as plt\n",
    "from IPython import display\n",
    "import pylab as pl\n",
    "\n",
    "from WSMBSS import *\n",
    "from general_utils import *\n",
    "from visualization_utils import *\n",
    "\n",
    "import warnings\n",
    "\n",
    "warnings.filterwarnings(\"ignore\")\n",
    "# np.random.seed(100)\n",
    "# %load_ext autoreload\n",
    "# %autoreload 2\n",
    "notebook_name = \"Sparse\""
   ]
  },
  {
   "cell_type": "markdown",
   "id": "d0071175",
   "metadata": {},
   "source": [
    "# Source Generation and Mixing Scenario"
   ]
  },
  {
   "cell_type": "code",
   "execution_count": null,
   "id": "1351ebbf",
   "metadata": {},
   "outputs": [],
   "source": [
    "N = 500000\n",
    "NumberofSources = 5\n",
    "NumberofMixtures = 10\n",
    "\n",
    "S = 2 * np.random.uniform(size=(NumberofSources, int(N))) - 1\n",
    "S = ProjectRowstoL1NormBall(S.T).T\n",
    "\n",
    "A = np.random.standard_normal(size=(NumberofMixtures, NumberofSources))\n",
    "X = A @ S\n",
    "\n",
    "SNR = 30\n",
    "X, NoisePart = addWGN(X, SNR, return_noise=True)\n",
    "SNRinp = 10 * np.log10(\n",
    "    np.sum(np.mean((X - NoisePart) ** 2, axis=1))\n",
    "    / np.sum(np.mean(NoisePart**2, axis=1))\n",
    ")\n",
    "\n",
    "print(\"The following is the mixture matrix A\")\n",
    "display_matrix(A)\n",
    "print(\"Input SNR is : {}\".format(SNRinp))\n",
    "\n",
    "plt.scatter(S[0, :], S[2, :])\n",
    "plt.show()"
   ]
  },
  {
   "cell_type": "markdown",
   "id": "bf42a1cf",
   "metadata": {},
   "source": [
    "# Visualize Generated Sources and Mixtures"
   ]
  },
  {
   "cell_type": "code",
   "execution_count": null,
   "id": "1f0df841",
   "metadata": {},
   "outputs": [],
   "source": [
    "subplot_1D_signals(\n",
    "    S[:, 0:100], title=\"Original Signals\", figsize=(15.2, 9), colorcode=None\n",
    ")\n",
    "subplot_1D_signals(\n",
    "    X[:, 0:100], title=\"Mixture Signals\", figsize=(15, 18), colorcode=None\n",
    ")"
   ]
  },
  {
   "cell_type": "markdown",
   "id": "6f3e665e",
   "metadata": {},
   "source": [
    "# Algorithm Hyperparameter Selection and Weight Initialization"
   ]
  },
  {
   "cell_type": "code",
   "execution_count": null,
   "id": "03a2b34e",
   "metadata": {},
   "outputs": [],
   "source": [
    "# MUS = 0.25\n",
    "# OUTPUT_COMP_TOL = 1e-5\n",
    "# MAX_OUT_ITERATIONS= 3000\n",
    "# LayerGains = [4,1]\n",
    "# LayerMinimumGains = [1e-3,1e-3]\n",
    "# LayerMaximumGains = [1e6,100]\n",
    "# WScalings = [0.0033,0.0033]\n",
    "# GamScalings = [0.01,0.01]\n",
    "# zeta = 1e-5\n",
    "# beta = 0.5\n",
    "# muD = [1e-2, 1e-3]\n",
    "\n",
    "# s_dim = S.shape[0]\n",
    "# x_dim = X.shape[0]\n",
    "# h_dim = s_dim\n",
    "# samples = S.shape[1]\n",
    "# W_HX = np.eye(h_dim, x_dim)\n",
    "# W_YH = np.eye(s_dim, h_dim)\n",
    "# MUS = 0.25\n",
    "# OUTPUT_COMP_TOL = 1e-5\n",
    "# MAX_OUT_ITERATIONS= 3000\n",
    "# LayerGains = [1,1]\n",
    "# LayerMinimumGains = [1,1]\n",
    "# LayerMaximumGains = [1e6,1.001]\n",
    "# WScalings = [0.0033,0.0033]\n",
    "# GamScalings = [0.01,0.01]\n",
    "# zeta = 1e-4\n",
    "# beta = 0.5\n",
    "# muD = [20, 1e-2]\n",
    "\n",
    "# s_dim = S.shape[0]\n",
    "# x_dim = X.shape[0]\n",
    "# h_dim = s_dim\n",
    "# samples = S.shape[1]\n",
    "# W_HX = np.eye(h_dim, x_dim)\n",
    "# W_YH = np.eye(s_dim, h_dim)\n",
    "\n",
    "# gamma_start = 0.1\n",
    "# gamma_stop = 1e-3\n",
    "# OUTPUT_COMP_TOL = 1e-6\n",
    "# MAX_OUT_ITERATIONS= 3000\n",
    "# LayerGains = [0.5,0.5]\n",
    "# LayerMinimumGains = [0.2,0.2]\n",
    "# LayerMaximumGains = [1e6,5]\n",
    "# WScalings = [0.005,0.005]\n",
    "# GamScalings = [2,1]\n",
    "# zeta = 5*1e-3\n",
    "# beta = 0.5\n",
    "# muD = [0.01, 0.01]\n",
    "\n",
    "# s_dim = S.shape[0]\n",
    "# x_dim = X.shape[0]\n",
    "# h_dim = s_dim\n",
    "# samples = S.shape[1]\n",
    "# W_HX = np.eye(h_dim, x_dim)\n",
    "# W_YH = np.eye(s_dim, h_dim)\n",
    "\n",
    "MUS = 0.1\n",
    "gammaM_start = [MUS, MUS]\n",
    "gammaM_stop = [1e-3, 1e-3]\n",
    "gammaW_start = [MUS, MUS]\n",
    "gammaW_stop = [1e-3, 1e-3]\n",
    "\n",
    "OUTPUT_COMP_TOL = 1e-5\n",
    "LayerGains = [1, 1]\n",
    "LayerMinimumGains = [1, 1]\n",
    "LayerMaximumGains = [1e6, 1.001]\n",
    "WScalings = [0.0033, 0.0033]\n",
    "GamScalings = [1, 1]\n",
    "zeta = 1e-3\n",
    "beta = 0.5\n",
    "muD = [0.1, 1e-2]\n",
    "\n",
    "s_dim = S.shape[0]\n",
    "x_dim = X.shape[0]\n",
    "h_dim = s_dim\n",
    "samples = S.shape[1]\n",
    "W_HX = np.eye(h_dim, x_dim)\n",
    "W_YH = np.eye(s_dim, h_dim)\n",
    "\n",
    "# OPTIONS FOR synaptic_lr_rule: \"constant\", \"divide_by_log_index\", \"divide_by_index\"\n",
    "synaptic_lr_rule = \"divide_by_log_index\"\n",
    "# OPTIONS FOR neural_loop_lr_rule: \"constant\", \"divide_by_loop_index\", \"divide_by_slow_loop_index\"\n",
    "neural_loop_lr_rule = \"constant\""
   ]
  },
  {
   "cell_type": "markdown",
   "id": "88aa7a36",
   "metadata": {},
   "source": [
    "# Run WSM Algorithm on Mixture Signals"
   ]
  },
  {
   "cell_type": "code",
   "execution_count": null,
   "id": "929143a0",
   "metadata": {},
   "outputs": [],
   "source": [
    "# debug_iteration_point = 25000\n",
    "# modelWSM = OnlineWSMBSS( s_dim = s_dim, x_dim = x_dim, h_dim = h_dim,\n",
    "#                          gamma_start = gamma_start, gamma_stop = gamma_stop, beta = beta, zeta = zeta,\n",
    "#                          muD = muD,WScalings = WScalings, GamScalings = GamScalings,\n",
    "#                          W_HX = W_HX, W_YH = W_YH,\n",
    "#                          DScalings = LayerGains, LayerMinimumGains = LayerMinimumGains,\n",
    "#                          LayerMaximumGains = LayerMaximumGains,neural_OUTPUT_COMP_TOL = OUTPUT_COMP_TOL,\n",
    "#                          set_ground_truth = True, S = S, A = A)\n",
    "\n",
    "# modelWSM.fit_batch_sparse(X, n_epochs = 1, neural_lr_start = 0.9, neural_lr_stop = 0.5,\n",
    "#                         shuffle = False,\n",
    "#                        debug_iteration_point = debug_iteration_point,\n",
    "#                        plot_in_jupyter = True)\n",
    "\n",
    "debug_iteration_point = 25000\n",
    "modelWSM = OnlineWSMBSS(\n",
    "    s_dim=s_dim,\n",
    "    x_dim=x_dim,\n",
    "    h_dim=h_dim,\n",
    "    gammaM_start=gammaM_start,\n",
    "    gammaM_stop=gammaM_stop,\n",
    "    gammaW_start=gammaW_start,\n",
    "    gammaW_stop=gammaW_stop,\n",
    "    beta=beta,\n",
    "    zeta=zeta,\n",
    "    muD=muD,\n",
    "    WScalings=WScalings,\n",
    "    GamScalings=GamScalings,\n",
    "    #                          W_HX = W_HX, W_YH = W_YH,\n",
    "    DScalings=LayerGains,\n",
    "    LayerMinimumGains=LayerMinimumGains,\n",
    "    LayerMaximumGains=LayerMaximumGains,\n",
    "    neural_OUTPUT_COMP_TOL=OUTPUT_COMP_TOL,\n",
    "    set_ground_truth=True,\n",
    "    S=S,\n",
    "    A=A,\n",
    ")\n",
    "\n",
    "\n",
    "modelWSM.fit_batch_sparse(\n",
    "    X,\n",
    "    n_epochs=1,\n",
    "    neural_dynamic_iterations=750,\n",
    "    neural_lr_start=0.3,\n",
    "    neural_lr_stop=0.05,\n",
    "    synaptic_lr_rule=synaptic_lr_rule,\n",
    "    neural_loop_lr_rule=neural_loop_lr_rule,\n",
    "    debug_iteration_point=debug_iteration_point,\n",
    "    hidden_layer_gain=10,\n",
    "    plot_in_jupyter=True,\n",
    ")"
   ]
  },
  {
   "cell_type": "markdown",
   "id": "401d9cde",
   "metadata": {},
   "source": [
    "# Visualize SNR Convergence of Each Source Component"
   ]
  },
  {
   "cell_type": "code",
   "execution_count": null,
   "id": "856f95e3",
   "metadata": {},
   "outputs": [],
   "source": [
    "mpl.rcParams[\"xtick.labelsize\"] = 18\n",
    "mpl.rcParams[\"ytick.labelsize\"] = 18\n",
    "plot_convergence_plot(\n",
    "    modelWSM.SNR_list,\n",
    "    xlabel=\"Number of Iterations / {}\".format(debug_iteration_point),\n",
    "    ylabel=\"SINR (dB)\",\n",
    "    title=\"SINR Convergence Plot\",\n",
    "    colorcode=None,\n",
    "    linewidth=1.8,\n",
    ")"
   ]
  },
  {
   "cell_type": "markdown",
   "id": "e98e3c6e",
   "metadata": {},
   "source": [
    "# Calculate Resulting Component SNRs and Overall SINR"
   ]
  },
  {
   "cell_type": "code",
   "execution_count": null,
   "id": "ff3bdf25",
   "metadata": {},
   "outputs": [],
   "source": [
    "Wf = modelWSM.compute_overall_mapping(return_mapping=True)\n",
    "Y = Wf @ X\n",
    "Y_ = signed_and_permutation_corrected_sources(S, Y)\n",
    "coef_ = ((Y_ * S).sum(axis=1) / (Y_ * Y_).sum(axis=1)).reshape(-1, 1)\n",
    "Y_ = coef_ * Y_\n",
    "\n",
    "print(\"Component SNR Values : {}\\n\".format(snr_jit(S, Y_)))\n",
    "\n",
    "SINRwsm = 10 * np.log10(CalculateSINRjit(Y_, S)[0])\n",
    "\n",
    "print(\"Overall SINR : {}\".format(SINRwsm))"
   ]
  },
  {
   "cell_type": "markdown",
   "id": "1f1072c7",
   "metadata": {},
   "source": [
    "# Vizualize Extracted Signals Compared to Original Sources"
   ]
  },
  {
   "cell_type": "code",
   "execution_count": null,
   "id": "0b221b05",
   "metadata": {},
   "outputs": [],
   "source": [
    "subplot_1D_signals(\n",
    "    Y_[:, 0:100],\n",
    "    title=\"Extracted Signals (Sign and Permutation Corrected)\",\n",
    "    figsize=(15.2, 9),\n",
    "    colorcode=None,\n",
    ")\n",
    "subplot_1D_signals(\n",
    "    S[:, 0:100], title=\"Original Signals\", figsize=(15.2, 9), colorcode=None\n",
    ")"
   ]
  }
 ],
 "metadata": {
  "kernelspec": {
   "display_name": "Python 3 (ipykernel)",
   "language": "python",
   "name": "python3"
  },
  "language_info": {
   "codemirror_mode": {
    "name": "ipython",
    "version": 3
   },
   "file_extension": ".py",
   "mimetype": "text/x-python",
   "name": "python",
   "nbconvert_exporter": "python",
   "pygments_lexer": "ipython3",
   "version": "3.8.12"
  }
 },
 "nbformat": 4,
 "nbformat_minor": 5
}
