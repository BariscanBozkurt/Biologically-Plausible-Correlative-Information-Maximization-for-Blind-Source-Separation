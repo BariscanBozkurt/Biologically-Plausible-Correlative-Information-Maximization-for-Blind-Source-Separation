{
 "cells": [
  {
   "cell_type": "markdown",
   "id": "b44796f7",
   "metadata": {},
   "source": [
    "# Import Required Libraries"
   ]
  },
  {
   "cell_type": "code",
   "execution_count": 1,
   "id": "110e2898",
   "metadata": {},
   "outputs": [],
   "source": [
    "import sys\n",
    "\n",
    "sys.path.insert(0, \"../../src\")\n",
    "import numpy as np\n",
    "import matplotlib.pyplot as plt\n",
    "from IPython import display\n",
    "import pylab as pl\n",
    "\n",
    "from WSMBSS import *\n",
    "from general_utils import *\n",
    "from visualization_utils import *\n",
    "from polytope_utils import *\n",
    "\n",
    "import warnings\n",
    "\n",
    "warnings.filterwarnings(\"ignore\")\n",
    "# np.random.seed(100)\n",
    "# %load_ext autoreload\n",
    "# %autoreload 2\n",
    "notebook_name = \"General_Polytope\""
   ]
  },
  {
   "cell_type": "markdown",
   "id": "21daeb4c",
   "metadata": {},
   "source": [
    "# Source Generation and Mixing Scenario"
   ]
  },
  {
   "cell_type": "code",
   "execution_count": 2,
   "id": "28771f1d",
   "metadata": {},
   "outputs": [
    {
     "ename": "NameError",
     "evalue": "name 'generate_practical_polytope' is not defined",
     "output_type": "error",
     "traceback": [
      "\u001b[0;31m---------------------------------------------------------------------------\u001b[0m",
      "\u001b[0;31mNameError\u001b[0m                                 Traceback (most recent call last)",
      "Input \u001b[0;32mIn [2]\u001b[0m, in \u001b[0;36m<module>\u001b[0;34m\u001b[0m\n\u001b[1;32m      4\u001b[0m nonnegative_dims \u001b[38;5;241m=\u001b[39m np\u001b[38;5;241m.\u001b[39marray([\u001b[38;5;241m2\u001b[39m])\n\u001b[1;32m      5\u001b[0m relative_sparse_dims_list \u001b[38;5;241m=\u001b[39m [np\u001b[38;5;241m.\u001b[39marray([\u001b[38;5;241m0\u001b[39m, \u001b[38;5;241m1\u001b[39m]), np\u001b[38;5;241m.\u001b[39marray([\u001b[38;5;241m1\u001b[39m, \u001b[38;5;241m2\u001b[39m])]\n\u001b[0;32m----> 6\u001b[0m (A, b), V \u001b[38;5;241m=\u001b[39m \u001b[43mgenerate_practical_polytope\u001b[49m(\n\u001b[1;32m      7\u001b[0m     dim, antisparse_dims, nonnegative_dims, relative_sparse_dims_list\n\u001b[1;32m      8\u001b[0m )\n\u001b[1;32m      9\u001b[0m S \u001b[38;5;241m=\u001b[39m generate_uniform_points_in_polytope(V, \u001b[38;5;241m500000\u001b[39m)\n",
      "\u001b[0;31mNameError\u001b[0m: name 'generate_practical_polytope' is not defined"
     ]
    }
   ],
   "source": [
    "dim = 3\n",
    "\n",
    "antisparse_dims = np.array([0, 1])\n",
    "nonnegative_dims = np.array([2])\n",
    "relative_sparse_dims_list = [np.array([0, 1]), np.array([1, 2])]\n",
    "(A, b), V = generate_practical_polytope(\n",
    "    dim, antisparse_dims, nonnegative_dims, relative_sparse_dims_list\n",
    ")\n",
    "S = generate_uniform_points_in_polytope(V, 500000)"
   ]
  },
  {
   "cell_type": "code",
   "execution_count": null,
   "id": "5a4b6f81",
   "metadata": {},
   "outputs": [],
   "source": [
    "plt.figure(figsize=(20, 5))\n",
    "plt.subplot(1, 3, 1)\n",
    "plt.scatter(S[0, :], S[1, :])\n",
    "plt.xlabel(\"$S_{:,1}$\", fontsize=25)\n",
    "plt.ylabel(\"$S_{:,2}$\", fontsize=25)\n",
    "plt.grid(linewidth=0.2)\n",
    "plt.subplot(1, 3, 2)\n",
    "plt.scatter(S[0, :], S[2, :])\n",
    "plt.xlabel(\"$S_{:,1}$\", fontsize=25)\n",
    "plt.ylabel(\"$S_{:,3}$\", fontsize=25)\n",
    "plt.grid(linewidth=0.2)\n",
    "plt.subplot(1, 3, 3)\n",
    "plt.scatter(S[1, :], S[2, :])\n",
    "plt.xlabel(\"$S_{:,2}$\", fontsize=25)\n",
    "plt.ylabel(\"$S_{:,3}$\", fontsize=25)\n",
    "plt.grid(linewidth=0.2)\n",
    "\n",
    "plt.suptitle(\"Scatter Plot of Source Components\", fontsize=30)\n",
    "# plt.savefig('Pex_source_components.pdf', format='pdf', dpi = 1200)"
   ]
  },
  {
   "cell_type": "code",
   "execution_count": null,
   "id": "477a887c",
   "metadata": {},
   "outputs": [],
   "source": [
    "N = 500000\n",
    "NumberofSources = 3\n",
    "NumberofMixtures = 6\n",
    "\n",
    "INPUT_STD = 0.5\n",
    "\n",
    "A, X = WSM_Mixing_Scenario(S, NumberofMixtures, INPUT_STD)\n",
    "\n",
    "SNR = 30\n",
    "X, NoisePart = addWGN(X, SNR, return_noise=True)\n",
    "SNRinp = 10 * np.log10(\n",
    "    np.sum(np.mean((X - NoisePart) ** 2, axis=1))\n",
    "    / np.sum(np.mean(NoisePart**2, axis=1))\n",
    ")\n",
    "\n",
    "print(\"The following is the mixture matrix A\")\n",
    "display_matrix(A)\n",
    "print(\"Input SNR is : {}\".format(SNRinp))"
   ]
  },
  {
   "cell_type": "markdown",
   "id": "bc269185",
   "metadata": {},
   "source": [
    "# Visualize Generated Sources and Mixtures"
   ]
  },
  {
   "cell_type": "code",
   "execution_count": null,
   "id": "535002db",
   "metadata": {},
   "outputs": [],
   "source": [
    "subplot_1D_signals(\n",
    "    S[:, 0:100], title=\"Original Signals\", figsize=(15.2, 9), colorcode=None\n",
    ")\n",
    "subplot_1D_signals(\n",
    "    X[:, 0:100], title=\"Mixture Signals\", figsize=(15, 9), colorcode=None\n",
    ")"
   ]
  },
  {
   "cell_type": "markdown",
   "id": "39aca478",
   "metadata": {},
   "source": [
    "# Algorithm Hyperparameter Selection and Weight Initialization"
   ]
  },
  {
   "cell_type": "code",
   "execution_count": null,
   "id": "5862f094",
   "metadata": {},
   "outputs": [],
   "source": [
    "MUS = 0.25\n",
    "gammaM_start = [MUS, MUS]\n",
    "gammaM_stop = [1e-3, 1e-3]\n",
    "gammaW_start = [MUS, MUS]\n",
    "gammaW_stop = [1e-3, 1e-3]\n",
    "OUTPUT_COMP_TOL = 1e-5\n",
    "MAX_OUT_ITERATIONS = 3000\n",
    "LayerGains = [4, 1]\n",
    "LayerMinimumGains = [1e-6, 1]\n",
    "LayerMaximumGains = [1e6, 1.001]\n",
    "WScalings = [0.0033, 0.0033]\n",
    "GamScalings = [0.02, 0.02]\n",
    "zeta = 1 * 1e-4\n",
    "beta = 0.5\n",
    "muD = [5.725, 0]\n",
    "\n",
    "s_dim = S.shape[0]\n",
    "x_dim = X.shape[0]\n",
    "h_dim = s_dim\n",
    "samples = S.shape[1]\n",
    "# OPTIONS FOR synaptic_lr_rule: \"constant\", \"divide_by_log_index\", \"divide_by_index\"\n",
    "synaptic_lr_rule = \"divide_by_log_index\"\n",
    "# OPTIONS FOR neural_loop_lr_rule: \"constant\", \"divide_by_loop_index\", \"divide_by_slow_loop_index\"\n",
    "neural_loop_lr_rule = \"constant\""
   ]
  },
  {
   "cell_type": "markdown",
   "id": "1a03cd45",
   "metadata": {},
   "source": [
    "# Run WSM Algorithm on Mixture Signals"
   ]
  },
  {
   "cell_type": "code",
   "execution_count": null,
   "id": "878c98d5",
   "metadata": {},
   "outputs": [],
   "source": [
    "debug_iteration_point = 25000\n",
    "modelWSM = OnlineWSMBSS(\n",
    "    s_dim=s_dim,\n",
    "    x_dim=x_dim,\n",
    "    h_dim=h_dim,\n",
    "    gammaM_start=gammaM_start,\n",
    "    gammaM_stop=gammaM_stop,\n",
    "    gammaW_start=gammaW_start,\n",
    "    gammaW_stop=gammaW_stop,\n",
    "    beta=beta,\n",
    "    zeta=zeta,\n",
    "    muD=muD,\n",
    "    WScalings=WScalings,\n",
    "    GamScalings=GamScalings,\n",
    "    DScalings=LayerGains,\n",
    "    LayerMinimumGains=LayerMinimumGains,\n",
    "    LayerMaximumGains=LayerMaximumGains,\n",
    "    neural_OUTPUT_COMP_TOL=OUTPUT_COMP_TOL,\n",
    "    set_ground_truth=True,\n",
    "    S=S,\n",
    "    A=A,\n",
    ")\n",
    "\n",
    "modelWSM.fit_batch_general_polytope(\n",
    "    X,\n",
    "    n_epochs=1,\n",
    "    signed_dims=antisparse_dims,\n",
    "    nn_dims=nonnegative_dims,\n",
    "    sparse_dims_list=relative_sparse_dims_list,\n",
    "    neural_lr_start=0.5,\n",
    "    synaptic_lr_rule=synaptic_lr_rule,\n",
    "    neural_loop_lr_rule=neural_loop_lr_rule,\n",
    "    debug_iteration_point=debug_iteration_point,\n",
    "    plot_in_jupyter=True,\n",
    ")"
   ]
  },
  {
   "cell_type": "markdown",
   "id": "f26682c0",
   "metadata": {},
   "source": [
    "# Visualize SNR Convergence of Each Source Component"
   ]
  },
  {
   "cell_type": "code",
   "execution_count": null,
   "id": "539ab2f1",
   "metadata": {},
   "outputs": [],
   "source": [
    "mpl.rcParams[\"xtick.labelsize\"] = 18\n",
    "mpl.rcParams[\"ytick.labelsize\"] = 18\n",
    "plot_convergence_plot(\n",
    "    modelWSM.SNR_list,\n",
    "    xlabel=\"Number of Iterations / {}\".format(debug_iteration_point),\n",
    "    ylabel=\"SINR (dB)\",\n",
    "    title=\"SINR Convergence Plot\",\n",
    "    colorcode=None,\n",
    "    linewidth=1.8,\n",
    ")"
   ]
  },
  {
   "cell_type": "markdown",
   "id": "94a2d0f2",
   "metadata": {},
   "source": [
    "# Calculate Resulting Component SNRs and Overall SINR"
   ]
  },
  {
   "cell_type": "code",
   "execution_count": null,
   "id": "6b54699f",
   "metadata": {},
   "outputs": [],
   "source": [
    "Wf = modelWSM.compute_overall_mapping(return_mapping=True)\n",
    "Y = Wf @ X\n",
    "Y_ = signed_and_permutation_corrected_sources(S, Y)\n",
    "coef_ = ((Y_ * S).sum(axis=1) / (Y_ * Y_).sum(axis=1)).reshape(-1, 1)\n",
    "Y_ = coef_ * Y_\n",
    "\n",
    "print(\"Component SNR Values : {}\\n\".format(snr_jit(S, Y_)))\n",
    "\n",
    "SINRwsm = 10 * np.log10(CalculateSINRjit(Y_, S)[0])\n",
    "\n",
    "print(\"Overall SINR : {}\".format(SINRwsm))"
   ]
  },
  {
   "cell_type": "markdown",
   "id": "b5747823",
   "metadata": {},
   "source": [
    "# Vizualize Extracted Signals Compared to Original Sources"
   ]
  },
  {
   "cell_type": "code",
   "execution_count": null,
   "id": "2552894c",
   "metadata": {},
   "outputs": [],
   "source": [
    "subplot_1D_signals(\n",
    "    Y_[:, 0:100],\n",
    "    title=\"Extracted Signals (Sign and Permutation Corrected)\",\n",
    "    figsize=(15.2, 9),\n",
    "    colorcode=None,\n",
    ")\n",
    "subplot_1D_signals(\n",
    "    S[:, 0:100], title=\"Original Signals\", figsize=(15.2, 9), colorcode=None\n",
    ")"
   ]
  },
  {
   "cell_type": "markdown",
   "id": "5d3d08e5",
   "metadata": {},
   "source": [
    "# Visualization for Paper"
   ]
  },
  {
   "cell_type": "code",
   "execution_count": null,
   "id": "38991ad8",
   "metadata": {},
   "outputs": [],
   "source": [
    "# def SetPlotRC():\n",
    "#     #If fonttype = 1 doesn't work with LaTeX, try fonttype 42.\n",
    "#     plt.rc('pdf',fonttype = 42)\n",
    "#     plt.rc('ps',fonttype = 42)\n",
    "# #     plt.rc('eps',fonttype = 1)\n",
    "\n",
    "# def ApplyFont(ax, xlabel_text_size = 25.0, ylabel_text_size = 25.0, title_text_size = 19.0, x_ticks_text_size = 20, yticks_text_size = 20):\n",
    "\n",
    "#     ticks = ax.get_xticklabels() + ax.get_yticklabels()\n",
    "#     text_size = 20.0\n",
    "# #     xlabel_text_size = 25.0\n",
    "# #     ylabel_text_size = 25.0\n",
    "# #     title_text_size = 19.0\n",
    "\n",
    "#     for t in ticks:\n",
    "#         t.set_fontname('Times New Roman')\n",
    "#         t.set_fontsize(text_size)\n",
    "\n",
    "#     txt = ax.get_xlabel()\n",
    "#     txt_obj = ax.set_xlabel(txt)\n",
    "#     txt_obj.set_fontname('Times New Roman')\n",
    "#     txt_obj.set_fontsize(xlabel_text_size)\n",
    "\n",
    "#     txt = ax.get_ylabel()\n",
    "#     txt_obj = ax.set_ylabel(txt)\n",
    "#     txt_obj.set_fontname('Times New Roman')\n",
    "#     txt_obj.set_fontsize(ylabel_text_size)\n",
    "\n",
    "#     txt = ax.get_xticks()\n",
    "#     txt_xlabel = txt\n",
    "# #     txt_obj = ax.set_xticks(txt)\n",
    "#     txt_obj.set_fontname('Times New Roman')\n",
    "#     txt_obj.set_fontsize(x_ticks_text_size)\n",
    "\n",
    "#     txt = ax.get_yticks()\n",
    "# #     txt_obj = ax.set_yticks(txt)\n",
    "#     txt_obj.set_fontname('Times New Roman')\n",
    "#     txt_obj.set_fontsize(yticks_text_size)\n",
    "\n",
    "\n",
    "#     txt = ax.get_title()\n",
    "#     txt_obj = ax.set_title(txt)\n",
    "#     txt_obj.set_fontname('Times New Roman')\n",
    "#     txt_obj.set_fontsize(yticks_text_size)"
   ]
  },
  {
   "cell_type": "code",
   "execution_count": null,
   "id": "236827a0",
   "metadata": {},
   "outputs": [],
   "source": [
    "# xlabel_text_size = 25.0\n",
    "# ylabel_text_size = 25.0\n",
    "# title_text_size = 25.0\n",
    "# x_ticks_text_size = 45\n",
    "# yticks_text_size = 25.0\n",
    "\n",
    "# SetPlotRC()\n",
    "# plt.figure(figsize = (20,5))\n",
    "# plt.subplot(1,3,1)\n",
    "# plt.scatter(S[0,:], S[1,:])\n",
    "# plt.xlabel(\"$S_{:,1}$\", fontsize = 25)\n",
    "# plt.ylabel(\"$S_{:,2}$\", fontsize = 25)\n",
    "# plt.grid(linewidth=.2)\n",
    "# ApplyFont(pl.gca(),xlabel_text_size, ylabel_text_size, title_text_size, x_ticks_text_size, yticks_text_size)\n",
    "# plt.subplot(1,3,2)\n",
    "# plt.scatter(S[0,:], S[2,:])\n",
    "# plt.xlabel(\"$S_{:,1}$\", fontsize = 25)\n",
    "# plt.ylabel(\"$S_{:,3}$\", fontsize = 25)\n",
    "# plt.grid(linewidth=.2)\n",
    "# ApplyFont(pl.gca(),xlabel_text_size, ylabel_text_size, title_text_size, x_ticks_text_size, yticks_text_size)\n",
    "# plt.subplot(1,3,3)\n",
    "# plt.scatter(S[1,:], S[2,:])\n",
    "# plt.xlabel(\"$S_{:,2}$\", fontsize = 25)\n",
    "# plt.ylabel(\"$S_{:,3}$\", fontsize = 25)\n",
    "# plt.grid(linewidth=.2)\n",
    "# plt.subplots_adjust(wspace=0.3, hspace=0.1)\n",
    "# plt.suptitle(\"Scatter Plot of Source Components\", fontsize = 30)\n",
    "# ApplyFont(pl.gca(),xlabel_text_size, ylabel_text_size, title_text_size, x_ticks_text_size, yticks_text_size)\n",
    "\n",
    "# plt.savefig('Pex_source_components.pdf', format='pdf')"
   ]
  },
  {
   "cell_type": "code",
   "execution_count": null,
   "id": "09a2d466",
   "metadata": {},
   "outputs": [],
   "source": [
    "# SIR_list = modelWSM.SIR_list\n",
    "# SNR_list = modelWSM.SNR_list\n",
    "# D1minlist = modelWSM.D1minlist\n",
    "# D2minlist = modelWSM.D2minlist"
   ]
  },
  {
   "cell_type": "code",
   "execution_count": null,
   "id": "48ac079f",
   "metadata": {},
   "outputs": [],
   "source": [
    "# import matplotlib.pyplot as pl"
   ]
  },
  {
   "cell_type": "code",
   "execution_count": null,
   "id": "58c9847f",
   "metadata": {},
   "outputs": [],
   "source": [
    "# xlabel_text_size = 45.0\n",
    "# ylabel_text_size = 45.0\n",
    "# title_text_size = 45.0\n",
    "# x_ticks_text_size = 45\n",
    "# yticks_text_size = 45\n",
    "\n",
    "# debug_iteration_point = \"10K\"\n",
    "# SetPlotRC()\n",
    "# pl.figure(figsize = (40,30))\n",
    "# pl.subplot(2,2,1)\n",
    "# pl.plot(np.array(SIR_list), linewidth = 5)\n",
    "# pl.xlabel(\"Number of Iterations / {}\".format(debug_iteration_point), fontsize = 45)\n",
    "# pl.ylabel(\"SINR (dB)\", fontsize = 45)\n",
    "# pl.title(\"SINR Behavior\", fontsize = 45)\n",
    "# pl.grid()\n",
    "# pl.xticks(fontsize=45)\n",
    "# pl.yticks(fontsize=45)\n",
    "# ApplyFont(pl.gca(),xlabel_text_size, ylabel_text_size, title_text_size, x_ticks_text_size, yticks_text_size)\n",
    "# pl.subplot(2,2,2)\n",
    "# pl.plot(np.array(SNR_list), linewidth = 5)\n",
    "# pl.grid()\n",
    "# pl.title(\"Component SNR Behavior\", fontsize = 45)\n",
    "# pl.ylabel(\"SNR (dB)\", fontsize = 45)\n",
    "# pl.xlabel(\"Number of Iterations / {}\".format(debug_iteration_point), fontsize = 45)\n",
    "# pl.xticks(fontsize=45)\n",
    "# pl.yticks(fontsize=45)\n",
    "# pl.legend([\"Source 1\", \"Source 2\", \"Source 3\"],fontsize = \"large\", prop={'size': 60})\n",
    "# ApplyFont(pl.gca(),xlabel_text_size, ylabel_text_size, title_text_size, x_ticks_text_size, yticks_text_size)\n",
    "\n",
    "# pl.subplot(2,2,3)\n",
    "# pl.plot(np.array(D1minlist), linewidth = 5)\n",
    "# pl.grid()\n",
    "# pl.title(\"Diagonal Values of D1\", fontsize = 45)\n",
    "# pl.xlabel(\"Number of Iterations / {}\".format(debug_iteration_point), fontsize = 45)\n",
    "# pl.xticks(fontsize=45)\n",
    "# pl.yticks(fontsize=45)\n",
    "# ApplyFont(pl.gca(),xlabel_text_size, ylabel_text_size, title_text_size, x_ticks_text_size, yticks_text_size)\n",
    "\n",
    "# pl.subplot(2,2,4)\n",
    "# pl.plot(np.array(D2minlist), linewidth = 5)\n",
    "# pl.grid()\n",
    "# pl.title(\"Diagonal Values of D2\", fontsize = 45)\n",
    "# pl.xlabel(\"Number of Iterations / {}\".format(debug_iteration_point), fontsize = 45)\n",
    "# pl.xticks(fontsize=45)\n",
    "# pl.yticks(fontsize=45)\n",
    "# ApplyFont(pl.gca(),xlabel_text_size, ylabel_text_size, title_text_size, x_ticks_text_size, yticks_text_size)\n",
    "\n",
    "# pl.savefig('Pex_example_SINRConvergence.pdf', format='pdf')"
   ]
  },
  {
   "cell_type": "code",
   "execution_count": null,
   "id": "4eaea3d4",
   "metadata": {},
   "outputs": [],
   "source": [
    "# xlabel_text_size = 25.0\n",
    "# ylabel_text_size = 10.0\n",
    "# title_text_size = 30.0\n",
    "# x_ticks_text_size = 45\n",
    "# yticks_text_size = 45\n",
    "\n",
    "# SetPlotRC()\n",
    "# plt.figure(figsize = (20,5))\n",
    "# plt.subplot(1,3,1)\n",
    "# plt.scatter(S[0,:], S[1,:])\n",
    "# plt.xlabel(\"$S_{:,1}$\", fontsize = 25)\n",
    "# plt.ylabel(\"$S_{:,2}$\", fontsize = 25)\n",
    "# plt.grid(linewidth=.2)\n",
    "# ApplyFont(pl.gca(),xlabel_text_size, ylabel_text_size, title_text_size, x_ticks_text_size, yticks_text_size)\n",
    "# plt.subplot(1,3,2)\n",
    "# plt.scatter(S[0,:], S[2,:])\n",
    "# plt.xlabel(\"$S_{:,1}$\", fontsize = 25)\n",
    "# plt.ylabel(\"$S_{:,3}$\", fontsize = 25)\n",
    "# plt.grid(linewidth=.2)\n",
    "# ApplyFont(pl.gca(),xlabel_text_size, ylabel_text_size, title_text_size, x_ticks_text_size, yticks_text_size)\n",
    "# plt.subplot(1,3,3)\n",
    "# plt.scatter(S[1,:], S[2,:])\n",
    "# plt.xlabel(\"$S_{:,2}$\", fontsize = 25)\n",
    "# plt.ylabel(\"$S_{:,3}$\", fontsize = 25)\n",
    "# plt.grid(linewidth=.2)\n",
    "\n",
    "# plt.suptitle(\"Scatter Plot of Source Components\", fontsize = 30)\n",
    "# ApplyFont(pl.gca(),xlabel_text_size, ylabel_text_size, title_text_size, x_ticks_text_size, yticks_text_size)\n",
    "\n",
    "# # plt.savefig('Pex_source_components.pdf', format='pdf', dpi = 1200)"
   ]
  }
 ],
 "metadata": {
  "kernelspec": {
   "display_name": "Python 3 (ipykernel)",
   "language": "python",
   "name": "python3"
  },
  "language_info": {
   "codemirror_mode": {
    "name": "ipython",
    "version": 3
   },
   "file_extension": ".py",
   "mimetype": "text/x-python",
   "name": "python",
   "nbconvert_exporter": "python",
   "pygments_lexer": "ipython3",
   "version": "3.8.12"
  }
 },
 "nbformat": 4,
 "nbformat_minor": 5
}
