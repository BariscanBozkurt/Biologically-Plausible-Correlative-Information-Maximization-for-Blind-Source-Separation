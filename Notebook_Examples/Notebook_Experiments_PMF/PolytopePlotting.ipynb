{
 "cells": [
  {
   "cell_type": "code",
   "execution_count": null,
   "id": "bf8e7177",
   "metadata": {},
   "outputs": [],
   "source": [
    "import sys\n",
    "import os\n",
    "\n",
    "os.chdir(\"..\")\n",
    "os.chdir(\"..\")\n",
    "os.chdir(\"./src\")\n",
    "# sys.path.append(\"./src\")"
   ]
  },
  {
   "cell_type": "code",
   "execution_count": null,
   "id": "f62c0592",
   "metadata": {},
   "outputs": [],
   "source": [
    "import numpy as np\n",
    "import matplotlib.pyplot as plt\n",
    "from IPython import display\n",
    "import pylab as pl\n",
    "\n",
    "from general_utils import *\n",
    "from polytope_utils import *\n",
    "from visualization_utils import *\n",
    "\n",
    "import warnings\n",
    "\n",
    "warnings.filterwarnings(\"ignore\")\n",
    "\n",
    "notebook_name = \"Polytope Plotting\""
   ]
  },
  {
   "cell_type": "code",
   "execution_count": null,
   "id": "293f475a",
   "metadata": {},
   "outputs": [],
   "source": [
    "dim = 3\n",
    "signed_dims = np.array([0, 1])\n",
    "nn_dims = np.array([2])\n",
    "sparse_dims_list = [np.array([0, 1]), np.array([1, 2])]\n",
    "(A, b), V = generate_practical_polytope(dim, signed_dims, nn_dims, sparse_dims_list)\n",
    "print(A)\n",
    "print(b)\n",
    "print(V)"
   ]
  },
  {
   "cell_type": "code",
   "execution_count": null,
   "id": "330a43f5",
   "metadata": {},
   "outputs": [],
   "source": [
    "Plot3DPolytope(V.T, 10, 20, 10)"
   ]
  },
  {
   "cell_type": "code",
   "execution_count": null,
   "id": "a6c2cd22",
   "metadata": {},
   "outputs": [],
   "source": [
    "simpleplot3dpoly(V.T, 10, 20, 10)"
   ]
  },
  {
   "cell_type": "code",
   "execution_count": null,
   "id": "a06f77c4",
   "metadata": {},
   "outputs": [],
   "source": [
    "dim = 3\n",
    "N = 500000\n",
    "NumberofSources = dim\n",
    "NumberofMixtures = 6\n",
    "\n",
    "signed_dims = np.array([0, 1, 2])\n",
    "(A, b), V = generate_practical_polytope(dim, signed_dims, [], [])"
   ]
  },
  {
   "cell_type": "code",
   "execution_count": null,
   "id": "9e29e57e",
   "metadata": {},
   "outputs": [],
   "source": [
    "Plot3DPolytope(V.T, 10, 20, 10)"
   ]
  },
  {
   "cell_type": "code",
   "execution_count": null,
   "id": "b838922a",
   "metadata": {},
   "outputs": [],
   "source": [
    "simpleplot3dpoly(V.T, 10, 20, 10)"
   ]
  }
 ],
 "metadata": {
  "kernelspec": {
   "display_name": "Python 3 (ipykernel)",
   "language": "python",
   "name": "python3"
  },
  "language_info": {
   "codemirror_mode": {
    "name": "ipython",
    "version": 3
   },
   "file_extension": ".py",
   "mimetype": "text/x-python",
   "name": "python",
   "nbconvert_exporter": "python",
   "pygments_lexer": "ipython3",
   "version": "3.8.12"
  }
 },
 "nbformat": 4,
 "nbformat_minor": 5
}
