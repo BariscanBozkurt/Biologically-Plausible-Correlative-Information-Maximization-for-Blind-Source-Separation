{
 "cells": [
  {
   "cell_type": "code",
   "execution_count": null,
   "id": "31fd6e24",
   "metadata": {},
   "outputs": [],
   "source": [
    "import sys\n",
    "import os\n",
    "\n",
    "os.chdir(\"..\")\n",
    "os.chdir(\"..\")\n",
    "os.chdir(\"./src\")\n",
    "# sys.path.append(\"./src\")"
   ]
  },
  {
   "cell_type": "code",
   "execution_count": null,
   "id": "a278f671",
   "metadata": {},
   "outputs": [],
   "source": [
    "import numpy as np\n",
    "import matplotlib.pyplot as plt\n",
    "from IPython import display\n",
    "import pylab as pl\n",
    "\n",
    "from general_utils import *\n",
    "from bss_utils import *\n",
    "from dsp_utils import *\n",
    "from polytope_utils import *\n",
    "from visualization_utils import *\n",
    "\n",
    "import warnings\n",
    "\n",
    "warnings.filterwarnings(\"ignore\")\n",
    "\n",
    "notebook_name = \"Polytope Plotting\""
   ]
  },
  {
   "cell_type": "code",
   "execution_count": null,
   "id": "dce531d2",
   "metadata": {},
   "outputs": [],
   "source": [
    "dim = 6\n",
    "signed_dims = np.array([0, 1, 2, 5])\n",
    "nn_dims = np.array([3, 4])\n",
    "sparse_dims_list = [np.array([0, 1, 2]), np.array([2, 4, 5])]\n",
    "(A, b), V = generate_practical_polytope(dim, signed_dims, nn_dims, sparse_dims_list)"
   ]
  },
  {
   "cell_type": "code",
   "execution_count": null,
   "id": "f4fba263",
   "metadata": {},
   "outputs": [],
   "source": [
    "N = 20\n",
    "NumberofSources = 6\n",
    "NumberofMixtures = 10\n",
    "S = generate_correlated_copula_sources(\n",
    "    rho=0.0,\n",
    "    df=4,\n",
    "    n_sources=NumberofSources,\n",
    "    size_sources=N,\n",
    "    decreasing_correlation=False,\n",
    ")\n",
    "\n",
    "S = 3 * S - 1.5\n",
    "# print(\"The following is the correlation matrix of sources\")\n",
    "# display_matrix(np.corrcoef(S))\n",
    "\n",
    "# Generate Mxr random mixing from i.i.d N(0,1)\n",
    "A = np.random.randn(NumberofMixtures, NumberofSources)\n",
    "X = np.dot(A, S)\n",
    "\n",
    "SNR = 30\n",
    "X, NoisePart = addWGN(X, SNR, return_noise=True)\n",
    "\n",
    "SNRinp = 10 * np.log10(\n",
    "    np.sum(np.mean((X - NoisePart) ** 2, axis=1))\n",
    "    / np.sum(np.mean(NoisePart**2, axis=1))\n",
    ")\n",
    "# print(\"The following is the mixture matrix A\")\n",
    "# display_matrix(A)\n",
    "print(\"Input SNR is : {}\".format(SNRinp))"
   ]
  },
  {
   "cell_type": "code",
   "execution_count": null,
   "id": "9e7eb0a0",
   "metadata": {},
   "outputs": [],
   "source": [
    "def resignH2(H, BoundMin):\n",
    "    a = 1 - 2 * (np.sum(H, axis=0) < 0) * (BoundMin == 0)\n",
    "    AA = np.diag(np.reshape(a, (-1,)))\n",
    "    H = np.dot(H, AA)\n",
    "    return H"
   ]
  },
  {
   "cell_type": "code",
   "execution_count": null,
   "id": "38819819",
   "metadata": {},
   "outputs": [],
   "source": [
    "BoundMax = np.ones((dim, 1)).T\n",
    "BoundMin = -np.ones((dim, 1)).T\n",
    "BoundMin[:, nn_dims] = 0\n",
    "BoundMax, BoundMin"
   ]
  },
  {
   "cell_type": "code",
   "execution_count": null,
   "id": "77ea847d",
   "metadata": {},
   "outputs": [],
   "source": [
    "def ProjectHtoBoundaryRectangle(H):\n",
    "    Hshape = H.shape\n",
    "    H = resignH2(H, BoundMin)\n",
    "    BoundMaxlist = np.dot(np.ones((Hshape[0], 1)), BoundMax)\n",
    "    BoundMinlist = np.dot(np.ones((Hshape[0], 1)), BoundMin)\n",
    "    CheckMin = 1.0 * (H > BoundMinlist)\n",
    "    a = 1 - 2.0 * (np.sum(CheckMin, axis=0) == 0) * (BoundMin == 0)\n",
    "    AA = np.diag(np.reshape(a, (-1,)))\n",
    "    H = np.dot(H, AA)\n",
    "    CheckMax = 1.0 * (H < BoundMaxlist)\n",
    "    CheckMin = 1.0 * (H > BoundMinlist)\n",
    "    H = (\n",
    "        H * CheckMax * CheckMin\n",
    "        + (1 - CheckMin) * BoundMinlist\n",
    "        + (1 - CheckMax) * BoundMaxlist\n",
    "    )\n",
    "    return H"
   ]
  },
  {
   "cell_type": "code",
   "execution_count": null,
   "id": "8b7bed70",
   "metadata": {},
   "outputs": [],
   "source": [
    "ProjectHtoBoundaryRectangle(S.T).T"
   ]
  },
  {
   "cell_type": "code",
   "execution_count": null,
   "id": "6021cad6",
   "metadata": {},
   "outputs": [],
   "source": [
    "len(signed_dims)"
   ]
  },
  {
   "cell_type": "code",
   "execution_count": null,
   "id": "602697a2",
   "metadata": {},
   "outputs": [],
   "source": [
    "def ProjectOntoPracticalPolytope(\n",
    "    x, signed_dims, nn_dims, sparse_dims_list, max_number_of_iterations=1\n",
    "):\n",
    "    dim = len(signed_dims) + len(nn_dims)\n",
    "    BoundMax = np.ones((dim, 1)).T\n",
    "    BoundMin = -np.ones((dim, 1)).T\n",
    "    BoundMin[:, nn_dims] = 0\n",
    "    x_projected = x.copy()\n",
    "    x_projected[signed_dims, :] = np.clip(x_projected[signed_dims, :], -1, 1)\n",
    "    x_projected[nn_dims, :] = np.clip(x_projected[nn_dims, :], 0, 1)\n",
    "    for kk in range(max_number_of_iterations):\n",
    "        for j in range(len(sparse_dims_list)):\n",
    "            x_projected = ProjectHtoBoundaryRectangle(x_projected.T).T\n",
    "            x_projected[sparse_dims_list[j], :] = ProjectRowstoL1NormBall(\n",
    "                x[sparse_dims_list[j], :].T\n",
    "            ).T\n",
    "    return x_projected"
   ]
  },
  {
   "cell_type": "code",
   "execution_count": null,
   "id": "30e75107",
   "metadata": {},
   "outputs": [],
   "source": [
    "x = np.random.randn(6, 1)\n",
    "print(np.linalg.norm(A @ x - b[:, np.newaxis] > 0))\n",
    "x_projected = ProjectOntoPracticalPolytope(\n",
    "    x, signed_dims, nn_dims, sparse_dims_list, max_number_of_iterations=10\n",
    ")\n",
    "\n",
    "print(np.linalg.norm(A @ x_projected - b[:, np.newaxis] > 0))"
   ]
  },
  {
   "cell_type": "code",
   "execution_count": null,
   "id": "edb3dcd1",
   "metadata": {},
   "outputs": [],
   "source": [
    "print(np.sum(A @ x_projected - b[:, np.newaxis] > 0))"
   ]
  },
  {
   "cell_type": "code",
   "execution_count": null,
   "id": "ac12c2f6",
   "metadata": {},
   "outputs": [],
   "source": [
    "def ProjectOntoPracticalPolytope2(\n",
    "    x, signed_dims, nn_dims, sparse_dims_list, max_number_of_iterations=1\n",
    "):\n",
    "    x_projected = x.copy()\n",
    "    x_projected[signed_dims, :] = np.clip(x_projected[signed_dims, :], -1, 1)\n",
    "    x_projected[nn_dims, :] = np.clip(x_projected[nn_dims, :], 0, 1)\n",
    "    for kk in range(max_number_of_iterations):\n",
    "        for j in range(len(sparse_dims_list)):\n",
    "            x_projected[signed_dims, :] = np.clip(x_projected[signed_dims, :], -1, 1)\n",
    "            x_projected[nn_dims, :] = np.clip(x_projected[nn_dims, :], 0, 1)\n",
    "            x_projected[sparse_dims_list[j], :] = ProjectRowstoL1NormBall(\n",
    "                x[sparse_dims_list[j], :].T\n",
    "            ).T\n",
    "    return x_projected"
   ]
  },
  {
   "cell_type": "code",
   "execution_count": null,
   "id": "1a766ecd",
   "metadata": {},
   "outputs": [],
   "source": [
    "# x = np.random.randn(6,1)\n",
    "print(np.linalg.norm(A @ x - b[:, np.newaxis] > 0))\n",
    "x_projected = ProjectOntoPracticalPolytope2(\n",
    "    x, signed_dims, nn_dims, sparse_dims_list, max_number_of_iterations=10\n",
    ")\n",
    "\n",
    "print(np.linalg.norm(A @ x_projected - b[:, np.newaxis] > 0))"
   ]
  },
  {
   "cell_type": "code",
   "execution_count": null,
   "id": "32252c9b",
   "metadata": {},
   "outputs": [],
   "source": [
    "np.sum(A @ x_projected - b[:, np.newaxis] > 0)"
   ]
  },
  {
   "cell_type": "code",
   "execution_count": null,
   "id": "c5781c85",
   "metadata": {},
   "outputs": [],
   "source": [
    "x = np.random.randn(6, 100)\n",
    "x_projected1 = ProjectOntoPracticalPolytope(\n",
    "    x, signed_dims, nn_dims, sparse_dims_list, max_number_of_iterations=10\n",
    ")\n",
    "x_projected2 = ProjectOntoPracticalPolytope2(\n",
    "    x, signed_dims, nn_dims, sparse_dims_list, max_number_of_iterations=10\n",
    ")\n",
    "np.linalg.norm(x_projected1 - x_projected2)"
   ]
  },
  {
   "cell_type": "code",
   "execution_count": null,
   "id": "9d0db78c",
   "metadata": {},
   "outputs": [],
   "source": [
    "A.shape, b.shape"
   ]
  },
  {
   "cell_type": "code",
   "execution_count": null,
   "id": "c0a087db",
   "metadata": {},
   "outputs": [],
   "source": [
    "S - resignH2(S.T, np.array([[-1, -1, -1, 0, 0, 1]])).T"
   ]
  },
  {
   "cell_type": "code",
   "execution_count": null,
   "id": "e6d41b8a",
   "metadata": {},
   "outputs": [],
   "source": [
    "def ProjectOntoPracticalPolytope(\n",
    "    x, signed_dims, nn_dims, sparse_dims_list, max_number_of_iterations=1\n",
    "):\n",
    "    x_projected = x.copy()\n",
    "    x_projected[signed_dims, :] = np.clip(x_projected[signed_dims, :], -1, 1)\n",
    "    x_projected[nn_dims, :] = np.clip(x_projected[nn_dims, :], 0, 1)\n",
    "    for kk in range(max_number_of_iterations):\n",
    "        for j in range(len(sparse_dims_list)):\n",
    "            x_projected[signed_dims, :] = np.clip(x_projected[signed_dims, :], -1, 1)\n",
    "            x_projected[nn_dims, :] = np.clip(x_projected[nn_dims, :], 0, 1)\n",
    "            x_projected[sparse_dims_list[j], :] = ProjectRowstoL1NormBall(\n",
    "                x[sparse_dims_list[j], :].T\n",
    "            ).T\n",
    "    return x_projected"
   ]
  },
  {
   "cell_type": "code",
   "execution_count": null,
   "id": "d21da2e2",
   "metadata": {},
   "outputs": [],
   "source": [
    "dim = 6\n",
    "signed_dims = np.array([0, 1, 2, 5])\n",
    "nn_dims = np.array([3, 4])\n",
    "sparse_dims_list = [np.array([0, 1, 2]), np.array([2, 4, 5])]\n",
    "(A, b), V = generate_practical_polytope(dim, signed_dims, nn_dims, sparse_dims_list)"
   ]
  },
  {
   "cell_type": "code",
   "execution_count": null,
   "id": "99ab32e7",
   "metadata": {},
   "outputs": [],
   "source": [
    "np.linalg.norm(A @ V - b[:, np.newaxis] > 0)"
   ]
  },
  {
   "cell_type": "code",
   "execution_count": null,
   "id": "aa962587",
   "metadata": {},
   "outputs": [],
   "source": [
    "hull = ConvexHull(V.T)\n",
    "x = np.random.randn(\n",
    "    6,\n",
    ")"
   ]
  },
  {
   "cell_type": "code",
   "execution_count": null,
   "id": "fd7098f4",
   "metadata": {},
   "outputs": [],
   "source": [
    "np.sum(equations[:, :-1] ** 2, axis=1).shape"
   ]
  },
  {
   "cell_type": "code",
   "execution_count": null,
   "id": "248454f5",
   "metadata": {},
   "outputs": [],
   "source": [
    "(-(equations[:, -1] + np.dot(equations[:, :-1], pt))).shape"
   ]
  },
  {
   "cell_type": "code",
   "execution_count": null,
   "id": "c2e88f99",
   "metadata": {},
   "outputs": [],
   "source": [
    "t_list = []\n",
    "for eq in hull.equations:\n",
    "    t = -(eq[-1] + np.dot(eq[:-1], pt)) / (np.sum(eq[:-1] ** 2))\n",
    "    t_list.append(t)\n",
    "    pt_proj = pt + eq[:-1] * t"
   ]
  },
  {
   "cell_type": "code",
   "execution_count": null,
   "id": "18e1de48",
   "metadata": {},
   "outputs": [],
   "source": [
    "distances[100:150]"
   ]
  },
  {
   "cell_type": "code",
   "execution_count": null,
   "id": "af038f98",
   "metadata": {},
   "outputs": [],
   "source": [
    "np.array(t_list)[100:150]"
   ]
  },
  {
   "cell_type": "code",
   "execution_count": null,
   "id": "997a054e",
   "metadata": {},
   "outputs": [],
   "source": [
    "np.linalg.norm(A @ pt_proj.reshape(-1, 1) - b[:, np.newaxis] > 0)"
   ]
  },
  {
   "cell_type": "code",
   "execution_count": null,
   "id": "5b945cf0",
   "metadata": {},
   "outputs": [],
   "source": [
    "# hull = ConvexHull(V.T)\n",
    "# x = np.random.randn(6,)\n",
    "pt = x.copy()\n",
    "equations = hull.equations\n",
    "distances = -(equations[:, -1] + np.dot(equations[:, :-1], pt)) / (\n",
    "    np.sum(equations[:, :-1] ** 2, axis=1)\n",
    ")\n",
    "min_distance = np.max(distances)\n",
    "argmin_distances = np.where(distances == min_distance)[0][0]\n",
    "# argmin_distances = 332\n",
    "# argmin_distances = np.argmin(distances)\n",
    "print(argmin_distances)\n",
    "pt_proj = pt + equations[argmin_distances, :-1] * distances[argmin_distances]\n",
    "np.linalg.norm(A @ pt_proj.reshape(-1, 1) - b[:, np.newaxis] > 0)"
   ]
  },
  {
   "cell_type": "code",
   "execution_count": null,
   "id": "d59ae1cb",
   "metadata": {},
   "outputs": [],
   "source": [
    "min_distance = np.min(distances)\n",
    "np.where(distances == min_distance)"
   ]
  },
  {
   "cell_type": "code",
   "execution_count": null,
   "id": "c282c5fc",
   "metadata": {},
   "outputs": [],
   "source": [
    "x_projected = ProjectOntoPracticalPolytope(\n",
    "    x.reshape(-1, 1),\n",
    "    signed_dims,\n",
    "    nn_dims,\n",
    "    sparse_dims_list,\n",
    "    max_number_of_iterations=10,\n",
    ")\n",
    "np.linalg.norm(A @ x_projected.reshape(-1, 1) - b[:, np.newaxis] > 0)"
   ]
  },
  {
   "cell_type": "code",
   "execution_count": null,
   "id": "880fe638",
   "metadata": {},
   "outputs": [],
   "source": [
    "pt_proj"
   ]
  },
  {
   "cell_type": "code",
   "execution_count": null,
   "id": "d09b0196",
   "metadata": {},
   "outputs": [],
   "source": [
    "x_projected"
   ]
  },
  {
   "cell_type": "code",
   "execution_count": null,
   "id": "f2ea9168",
   "metadata": {},
   "outputs": [],
   "source": [
    "x = np.random.randn(\n",
    "    6,\n",
    ")\n",
    "pt = x\n",
    "for eq in hull.equations:\n",
    "    t = -(eq[-1] + np.dot(eq[:-1], pt)) / (np.sum(eq[:-1] ** 2))\n",
    "    pt_proj = pt + eq[:-1] * t\n",
    "    break"
   ]
  },
  {
   "cell_type": "code",
   "execution_count": null,
   "id": "29dfb87f",
   "metadata": {},
   "outputs": [],
   "source": [
    "eq = hull.equations[100]\n",
    "-(eq[-1] + np.dot(eq[:-1], pt)) / (np.sum(eq[:-1] ** 2))"
   ]
  },
  {
   "cell_type": "code",
   "execution_count": null,
   "id": "75178254",
   "metadata": {},
   "outputs": [],
   "source": [
    "np.sum(equations[:, :-1] ** 2, axis=1).shape"
   ]
  },
  {
   "cell_type": "code",
   "execution_count": null,
   "id": "aea08044",
   "metadata": {},
   "outputs": [],
   "source": [
    "equations = hull.equations\n",
    "distances = -(equations[:, -1] + np.dot(equations[:, :-1], pt)) / (\n",
    "    np.sum(equations[:, :-1] ** 2, axis=1)\n",
    ")\n",
    "argmin_distances = np.argmin(distances)\n",
    "pt_proj = pt + equations[argmin_distances, :-1] * distances[argmin_distances]"
   ]
  },
  {
   "cell_type": "code",
   "execution_count": null,
   "id": "4f86314b",
   "metadata": {},
   "outputs": [],
   "source": [
    "np.linalg.norm(A @ pt_proj.reshape(-1, 1) - b[:, np.newaxis] > 0)"
   ]
  },
  {
   "cell_type": "code",
   "execution_count": null,
   "id": "0b2a02d7",
   "metadata": {},
   "outputs": [],
   "source": [
    "A @ pt_proj.reshape(-1, 1) - b[:, np.newaxis]"
   ]
  },
  {
   "cell_type": "code",
   "execution_count": null,
   "id": "7a0c050f",
   "metadata": {},
   "outputs": [],
   "source": [
    "vertices = pypoman.compute_polytope_vertices(A, b)"
   ]
  },
  {
   "cell_type": "code",
   "execution_count": null,
   "id": "8d11d9f1",
   "metadata": {},
   "outputs": [],
   "source": [
    "A, b = pypoman.compute_polytope_halfspaces(V.T)"
   ]
  },
  {
   "cell_type": "code",
   "execution_count": null,
   "id": "98b6e16e",
   "metadata": {},
   "outputs": [],
   "source": [
    "A"
   ]
  },
  {
   "cell_type": "code",
   "execution_count": null,
   "id": "28240f54",
   "metadata": {},
   "outputs": [],
   "source": [
    "def ProjectOntoPracticalPolytope(\n",
    "    x,\n",
    "    signed_dims,\n",
    "    nn_dims,\n",
    "    sparse_dims_list,\n",
    "    inequalities=(None, None),\n",
    "    max_number_of_iterations=1,\n",
    "    tolerance=1e-7,\n",
    "):\n",
    "    x_projected = x.copy()\n",
    "    if (inequalities[0] is not None) & (inequalities[1] is not None):\n",
    "        A = inequalities[0]\n",
    "        b = inequalities[1].reshape(-1, 1)\n",
    "    else:\n",
    "        tolerance = -100\n",
    "\n",
    "    x_projected[signed_dims] = np.clip(x_projected[signed_dims], -1, 1)\n",
    "    x_projected[nn_dims] = np.clip(x_projected[nn_dims], 0, 1)\n",
    "\n",
    "    for kk in range(max_number_of_iterations):\n",
    "        for j in range(len(sparse_dims_list)):\n",
    "            x_projected[signed_dims] = np.clip(x_projected[signed_dims], -1, 1)\n",
    "            x_projected[nn_dims] = np.clip(x_projected[nn_dims], 0, 1)\n",
    "            x_projected[sparse_dims_list[j]] = ProjectRowstoL1NormBall(\n",
    "                x[sparse_dims_list[j]].T\n",
    "            ).T\n",
    "        #             x_projected[signed_dims] = np.clip(x_projected[signed_dims], -1, 1)\n",
    "        #             x_projected[nn_dims] = np.clip(x_projected[nn_dims], 0, 1)\n",
    "        print(np.linalg.norm(np.clip(A @ x_projected - b[:, np.newaxis], 0, 1e10)))\n",
    "        if (\n",
    "            np.linalg.norm(np.clip(A @ x_projected - b[:, np.newaxis], 0, 1e10))\n",
    "            < tolerance\n",
    "        ):\n",
    "            break\n",
    "    return x_projected"
   ]
  },
  {
   "cell_type": "code",
   "execution_count": null,
   "id": "3b1e17fd",
   "metadata": {},
   "outputs": [],
   "source": [
    "def ProjectOntoPracticalPolytope(\n",
    "    x, signed_dims, nn_dims, sparse_dims_list, max_number_of_iterations=1\n",
    "):\n",
    "    x_projected = x.copy()\n",
    "    x_projected[signed_dims, :] = np.clip(x_projected[signed_dims, :], -1, 1)\n",
    "    x_projected[nn_dims, :] = np.clip(x_projected[nn_dims, :], 0, 1)\n",
    "    for kk in range(max_number_of_iterations):\n",
    "        for j in range(len(sparse_dims_list)):\n",
    "            x_projected[signed_dims, :] = np.clip(x_projected[signed_dims, :], -1, 1)\n",
    "            x_projected[nn_dims, :] = np.clip(x_projected[nn_dims, :], 0, 1)\n",
    "            x_projected[sparse_dims_list[j], :] = ProjectRowstoL1NormBall(\n",
    "                x[sparse_dims_list[j], :].T\n",
    "            ).T\n",
    "    return x_projected"
   ]
  },
  {
   "cell_type": "code",
   "execution_count": null,
   "id": "3e84af61",
   "metadata": {},
   "outputs": [],
   "source": [
    "dim = 6\n",
    "signed_dims = np.array([0, 1, 2, 5])\n",
    "nn_dims = np.array([3, 4])\n",
    "sparse_dims_list = [np.array([0, 1, 2]), np.array([2, 4, 5])]\n",
    "(A, b), V = generate_practical_polytope(dim, signed_dims, nn_dims, sparse_dims_list)\n",
    "A, b = pypoman.compute_polytope_halfspaces(V.T)"
   ]
  },
  {
   "cell_type": "code",
   "execution_count": null,
   "id": "c032145c",
   "metadata": {},
   "outputs": [],
   "source": [
    "A.shape, b.shape, V.shape"
   ]
  },
  {
   "cell_type": "code",
   "execution_count": null,
   "id": "9ec89543",
   "metadata": {},
   "outputs": [],
   "source": [
    "np.linalg.norm(A @ V - b[:, np.newaxis] > 0)"
   ]
  },
  {
   "cell_type": "code",
   "execution_count": null,
   "id": "6e301c17",
   "metadata": {},
   "outputs": [],
   "source": [
    "%timeit x_projected = ProjectOntoPracticalPolytope(x, signed_dims, nn_dims, sparse_dims_list,max_number_of_iterations = 10, )"
   ]
  },
  {
   "cell_type": "code",
   "execution_count": null,
   "id": "eb83921a",
   "metadata": {},
   "outputs": [],
   "source": [
    "print(np.linalg.norm(A @ x - b[:, np.newaxis] > 0))"
   ]
  },
  {
   "cell_type": "code",
   "execution_count": null,
   "id": "3f6a2506",
   "metadata": {},
   "outputs": [],
   "source": [
    "x = np.random.randn(6, 1)\n",
    "print(np.linalg.norm(A @ x - b[:, np.newaxis] > 0))\n",
    "x_projected = ProjectOntoPracticalPolytope(\n",
    "    x,\n",
    "    signed_dims,\n",
    "    nn_dims,\n",
    "    sparse_dims_list,\n",
    "    #                                            inequalities = (A, b),\n",
    "    max_number_of_iterations=10,\n",
    ")\n",
    "#                                            tolerance = 1e-7)\n",
    "print(np.linalg.norm(A @ x_projected - b[:, np.newaxis] > 0))"
   ]
  },
  {
   "cell_type": "code",
   "execution_count": null,
   "id": "e48f6ac3",
   "metadata": {},
   "outputs": [],
   "source": [
    "from scipy.spatial import Delaunay, ConvexHull\n",
    "import numpy as np\n",
    "\n",
    "np.random.seed(10)\n",
    "hu = np.random.rand(10, 2)  ## the set of points to get the hull from\n",
    "pt = np.array([1.1, 0.5])  ## a point outside\n",
    "pt2 = np.array([0.4, 0.4])  ## a point inside\n",
    "hull = ConvexHull(hu)  ## get only the convex hull\n",
    "# hull2 = Delaunay(hu) ## or get the full Delaunay triangulation\n",
    "\n",
    "import matplotlib.pyplot as plt\n",
    "\n",
    "plt.plot(hu[:, 0], hu[:, 1], \"ro\")  ## plot all points\n",
    "# plt.triplot(hu[:,0], hu[:,1], hull2.simplices.copy()) ## plot the Delaunay triangulation\n",
    "## Plot the convexhull\n",
    "for simplex in hull.simplices:\n",
    "    plt.plot(hu[simplex, 0], hu[simplex, 1], \"ro-\")\n",
    "\n",
    "## Plot the points inside and outside the convex hull\n",
    "plt.plot(pt[0], pt[1], \"bs\")\n",
    "plt.plot(pt2[0], pt2[1], \"bs\")\n",
    "\n",
    "for eq in hull.equations:\n",
    "    t = -(eq[-1] + np.dot(eq[:-1], pt)) / (np.sum(eq[:-1] ** 2))\n",
    "    print(t)\n",
    "    if t == -0.22261360551227877:\n",
    "        pt_proj = pt + eq[:-1] * t\n",
    "        plt.plot(pt_proj[0], pt_proj[1], \"gD-.\")\n",
    "plt.show()"
   ]
  },
  {
   "cell_type": "code",
   "execution_count": null,
   "id": "6836b6c2",
   "metadata": {},
   "outputs": [],
   "source": [
    "hull.equations"
   ]
  },
  {
   "cell_type": "code",
   "execution_count": null,
   "id": "a46009f9",
   "metadata": {},
   "outputs": [],
   "source": [
    "plt.plot(pt_proj[0], pt_proj[1], \"gD-.\")"
   ]
  },
  {
   "cell_type": "code",
   "execution_count": null,
   "id": "aafd8852",
   "metadata": {},
   "outputs": [],
   "source": [
    "x_projected"
   ]
  },
  {
   "cell_type": "code",
   "execution_count": null,
   "id": "a9632025",
   "metadata": {},
   "outputs": [],
   "source": [
    "print(np.linalg.norm(A @ x - b[:, np.newaxis] > 0))\n",
    "x_projected = ProjectOntoPracticalPolytope(\n",
    "    X,\n",
    "    signed_dims,\n",
    "    nn_dims,\n",
    "    sparse_dims_list,\n",
    "    #                                            inequalities = (A, b),\n",
    "    max_number_of_iterations=10,\n",
    ")\n",
    "#                                            tolerance = 1e-7)\n",
    "print(np.linalg.norm(A @ x_projected - b[:, np.newaxis] > 0))\n",
    "x_projected"
   ]
  },
  {
   "cell_type": "code",
   "execution_count": null,
   "id": "5d73bc5a",
   "metadata": {},
   "outputs": [],
   "source": [
    "np.linalg.norm(np.clip(A @ x_projected - b[:, np.newaxis], 0, 1e10))"
   ]
  },
  {
   "cell_type": "code",
   "execution_count": null,
   "id": "9c97d7c2",
   "metadata": {},
   "outputs": [],
   "source": [
    "(A @ x_projected - b[:, np.newaxis]).T"
   ]
  },
  {
   "cell_type": "code",
   "execution_count": null,
   "id": "96a3c0a9",
   "metadata": {},
   "outputs": [],
   "source": [
    "print(np.linalg.norm(A @ x - b[:, np.newaxis] > 0))\n",
    "x_projected = ProjectOntoPracticalPolytope(\n",
    "    x,\n",
    "    signed_dims,\n",
    "    nn_dims,\n",
    "    sparse_dims_list,\n",
    "    inequalities=(A, b),\n",
    "    max_number_of_iterations=50,\n",
    "    tolerance=1e-7,\n",
    ")\n",
    "print(np.linalg.norm(A @ x_projected - b[:, np.newaxis] > 0))"
   ]
  },
  {
   "cell_type": "code",
   "execution_count": null,
   "id": "694f04d2",
   "metadata": {},
   "outputs": [],
   "source": [
    "np.linalg.norm(np.clip(A @ x_projected - b[:, np.newaxis], 0, 1e10))"
   ]
  },
  {
   "cell_type": "code",
   "execution_count": null,
   "id": "f446d5a9",
   "metadata": {},
   "outputs": [],
   "source": [
    "(A @ x_projected - b[:, np.newaxis]).T"
   ]
  },
  {
   "cell_type": "code",
   "execution_count": null,
   "id": "e75e7fc3",
   "metadata": {},
   "outputs": [],
   "source": [
    "dim = 3\n",
    "signed_dims = np.array([0, 1])\n",
    "nn_dims = np.array([2])\n",
    "sparse_dims_list = [np.array([0, 1]), np.array([1, 2])]\n",
    "(A, b), V = generate_practical_polytope(dim, signed_dims, nn_dims, sparse_dims_list)"
   ]
  },
  {
   "cell_type": "code",
   "execution_count": null,
   "id": "350a1c4d",
   "metadata": {},
   "outputs": [],
   "source": [
    "x = np.random.randn(3, 1)\n",
    "print(np.linalg.norm(A @ x - b[:, np.newaxis] > 0))\n",
    "x_projected = ProjectOntoPracticalPolytope(\n",
    "    x,\n",
    "    signed_dims,\n",
    "    nn_dims,\n",
    "    sparse_dims_list,\n",
    "    inequalities=(A, b),\n",
    "    max_number_of_iterations=10,\n",
    "    tolerance=1e-7,\n",
    ")\n",
    "print(np.linalg.norm(A @ x_projected - b[:, np.newaxis] > 0))"
   ]
  },
  {
   "cell_type": "code",
   "execution_count": null,
   "id": "612793c4",
   "metadata": {},
   "outputs": [],
   "source": [
    "(A @ x_projected - b[:, np.newaxis]).T"
   ]
  },
  {
   "cell_type": "code",
   "execution_count": null,
   "id": "34efa562",
   "metadata": {},
   "outputs": [],
   "source": [
    "x_projected"
   ]
  },
  {
   "cell_type": "code",
   "execution_count": null,
   "id": "ef2e95bc",
   "metadata": {},
   "outputs": [],
   "source": [
    "(A @ x_projected - b[:, np.newaxis])"
   ]
  },
  {
   "cell_type": "code",
   "execution_count": null,
   "id": "23d11792",
   "metadata": {},
   "outputs": [],
   "source": [
    "np.linalg.norm(np.clip(A @ x_projected - b[:, np.newaxis], 0, 1e10))"
   ]
  },
  {
   "cell_type": "code",
   "execution_count": null,
   "id": "5530ff7d",
   "metadata": {},
   "outputs": [],
   "source": [
    "x_projected = ProjectOntoPracticalPolytope(\n",
    "    x,\n",
    "    signed_dims,\n",
    "    nn_dims,\n",
    "    sparse_dims_list,\n",
    "    inequalities=(A, b),\n",
    "    max_number_of_iterations=5,\n",
    "    tolerance=1e-7,\n",
    ")"
   ]
  },
  {
   "cell_type": "code",
   "execution_count": null,
   "id": "e007153b",
   "metadata": {},
   "outputs": [],
   "source": [
    "np.linalg.norm(A @ x_projected - b[:, np.newaxis] > 0)"
   ]
  },
  {
   "cell_type": "code",
   "execution_count": null,
   "id": "b2604377",
   "metadata": {},
   "outputs": [],
   "source": [
    "x = np.random.randn(6, 1) * 10\n",
    "k = 5\n",
    "x = V[:, k][:, np.newaxis] * 5\n",
    "print(V[:, k])\n",
    "np.linalg.norm(A @ x - b[:, np.newaxis] > 0)"
   ]
  },
  {
   "cell_type": "code",
   "execution_count": null,
   "id": "17c8ddd9",
   "metadata": {},
   "outputs": [],
   "source": [
    "def ProjectOntoPracticalPolytope(\n",
    "    x,\n",
    "    signed_dims,\n",
    "    nn_dims,\n",
    "    sparse_dims,\n",
    "    inequalities=(None, None),\n",
    "    max_number_of_iterations=1,\n",
    "    tolerance=1e-7,\n",
    "):\n",
    "    x_projected = x.copy()\n",
    "    if (inequalities[0] is not None) & (inequalities[1] is not None):\n",
    "        A = inequalities[0]\n",
    "        b = inequalities[1].reshape(-1, 1)\n",
    "    else:\n",
    "        tolerance = -100\n",
    "\n",
    "    for kk in range(max_number_of_iterations):\n",
    "        for j in range(len(sparse_dims_list)):\n",
    "            x_projected[sparse_dims_list[j]] = ProjectRowstoL1NormBall(\n",
    "                x[sparse_dims_list[j]].T\n",
    "            ).T\n",
    "            x_projected[signed_dims] = np.clip(x_projected[signed_dims], -1, 1)\n",
    "            x_projected[nn_dims] = np.clip(x_projected[nn_dims], 0, 1)\n",
    "        if np.linalg.norm(A @ x_projected - b > 0) < tolerance:\n",
    "            break\n",
    "    return x_projected"
   ]
  },
  {
   "cell_type": "code",
   "execution_count": null,
   "id": "f619e7d7",
   "metadata": {},
   "outputs": [],
   "source": [
    "x_projected = x.copy()\n",
    "print(x_projected.T)\n",
    "for kk in range(1):\n",
    "    #     x_projected[signed_dims] = np.clip(x_projected[signed_dims], -1, 1)\n",
    "    #     print(x_projected.T)\n",
    "    #     x_projected[nn_dims] = np.clip(x_projected[nn_dims], 0, 1)\n",
    "    #     print(x_projected.T)\n",
    "    for j in range(len(sparse_dims_list)):\n",
    "        x_projected[sparse_dims_list[j]] = ProjectRowstoL1NormBall(\n",
    "            x[sparse_dims_list[j]].T\n",
    "        ).T\n",
    "        x_projected[signed_dims] = np.clip(x_projected[signed_dims], -1, 1)\n",
    "        x_projected[nn_dims] = np.clip(x_projected[nn_dims], 0, 1)\n",
    "        print(x_projected.T)"
   ]
  },
  {
   "cell_type": "code",
   "execution_count": null,
   "id": "bb86ca7c",
   "metadata": {},
   "outputs": [],
   "source": [
    "np.linalg.norm(A @ x_projected - b[:, np.newaxis] > 0)"
   ]
  },
  {
   "cell_type": "code",
   "execution_count": null,
   "id": "7bfa0b00",
   "metadata": {},
   "outputs": [],
   "source": [
    "A @ x_projected - b[:, np.newaxis]"
   ]
  },
  {
   "cell_type": "code",
   "execution_count": null,
   "id": "c26d97d3",
   "metadata": {},
   "outputs": [],
   "source": [
    "import cvxpy\n",
    "import cvxpy as cvx"
   ]
  },
  {
   "cell_type": "code",
   "execution_count": null,
   "id": "90d2bb97",
   "metadata": {},
   "outputs": [],
   "source": [
    "def polyproject(point, polyhedron=None, vertices=None):\n",
    "    \"\"\"\n",
    "    Projects a point onto a convex polyhedron. Makes use of cvxpy.\n",
    "    The polyhedron can be specified either as a set of vertices, or as a matrix\n",
    "    of equations describing the polyhedron. In the former case, the convex hull\n",
    "    of the vertices is computed. In the latter case, the input is a matrix `A`\n",
    "    such that A * [x, y, z]^T = [0, 0, 0]^T (in 3D).\n",
    "    Parameters\n",
    "    ----------\n",
    "    point : array of shape (ndim,)\n",
    "        Point to project onto the polyhedron\n",
    "    polyhedron : array of shape (nfacets, ndim+1), optional\n",
    "        Array containing the matrix of equations describing the polyhedron.\n",
    "        Either this option or `vertices` must be provided.\n",
    "    vertices : array of shape (nvertices, ndim), optional\n",
    "        Array containing the vertices of the polyhedron. Either this parameter\n",
    "        or `polyhedron` must be provided. Ignored if polyhedron is provided.\n",
    "    Returns\n",
    "    -------\n",
    "    proj_point : array of shape (ndim,)\n",
    "        Projection of the given point onto the convex polyhedron.\n",
    "    polyhedron : array of shape (nfacets, ndim+1), optional\n",
    "        Array containing the matrix of equations describing the polyhedron.\n",
    "    Raises\n",
    "    ------\n",
    "    ValueError\n",
    "        If neither `vertices` nor `polyhedron` is provided.\n",
    "    \"\"\"\n",
    "\n",
    "    if polyhedron is None:\n",
    "        if vertices is None:\n",
    "            raise ValueError(\"Must provide either vertices or polyhedron.\")\n",
    "        from scipy.spatial import ConvexHull\n",
    "\n",
    "        conv_hull = ConvexHull(vertices)\n",
    "        polyhedron = conv_hull.equations\n",
    "\n",
    "    # Set up the convex optimization problem\n",
    "    ndim = point.size\n",
    "    x = cvx.Variable(ndim)\n",
    "    objective = cvx.Minimize(cvx.sum(cvx.square(x - point)))\n",
    "    constraints = [\n",
    "        polyhedron[:, :-1] * x <= -polyhedron[:, -1],\n",
    "    ]\n",
    "    prob = cvx.Problem(objective, constraints)\n",
    "\n",
    "    final_obj = prob.solve()\n",
    "    # print(final_obj)\n",
    "    # print(x.value)\n",
    "\n",
    "    # Convert x.value from matrix type to ndarray type.\n",
    "    # NOTE: This will have to change after cvxpy 1.0, which is more numpythonic\n",
    "    return np.squeeze(np.asarray(x.value)), polyhedron"
   ]
  },
  {
   "cell_type": "code",
   "execution_count": null,
   "id": "4e833e71",
   "metadata": {},
   "outputs": [],
   "source": [
    "x_projected, _ = polyproject(\n",
    "    x.reshape(\n",
    "        -1,\n",
    "    ),\n",
    "    polyhedron=None,\n",
    "    vertices=V.T,\n",
    ")"
   ]
  },
  {
   "cell_type": "code",
   "execution_count": null,
   "id": "3f261aef",
   "metadata": {},
   "outputs": [],
   "source": [
    "np.linalg.norm(A @ x_projected - b[:, np.newaxis] > 0)"
   ]
  },
  {
   "cell_type": "code",
   "execution_count": null,
   "id": "5d9cbcd1",
   "metadata": {},
   "outputs": [],
   "source": [
    "x_projected = x.copy()\n",
    "print(x_projected.T)\n",
    "for kk in range(1):\n",
    "    #     x_projected[signed_dims] = np.clip(x_projected[signed_dims], -1, 1)\n",
    "    #     print(x_projected.T)\n",
    "    #     x_projected[nn_dims] = np.clip(x_projected[nn_dims], 0, 1)\n",
    "    #     print(x_projected.T)\n",
    "    for j in range(len(sparse_dims_list)):\n",
    "        x_projected[sparse_dims_list[j]] = ProjectRowstoL1NormBall(\n",
    "            x[sparse_dims_list[j]].T\n",
    "        ).T\n",
    "        x_projected[signed_dims] = np.clip(x_projected[signed_dims], -1, 1)\n",
    "        x_projected[nn_dims] = np.clip(x_projected[nn_dims], 0, 1)\n",
    "        print(x_projected.T)"
   ]
  },
  {
   "cell_type": "code",
   "execution_count": null,
   "id": "1ab85288",
   "metadata": {},
   "outputs": [],
   "source": [
    "np.linalg.norm(A @ x_projected - b[:, np.newaxis] > 0)"
   ]
  },
  {
   "cell_type": "code",
   "execution_count": null,
   "id": "d53c8176",
   "metadata": {},
   "outputs": [],
   "source": [
    "A @ x_projected - b[:, np.newaxis]"
   ]
  },
  {
   "cell_type": "code",
   "execution_count": null,
   "id": "cfcf01e5",
   "metadata": {},
   "outputs": [],
   "source": [
    "x = np.random.randn(6, 1)\n",
    "A @ x - b[:, np.newaxis]"
   ]
  },
  {
   "cell_type": "code",
   "execution_count": null,
   "id": "22a279aa",
   "metadata": {},
   "outputs": [],
   "source": [
    "A @ x - b[:, np.newaxis]"
   ]
  },
  {
   "cell_type": "code",
   "execution_count": null,
   "id": "1a306e1a",
   "metadata": {},
   "outputs": [],
   "source": [
    "np.linalg.norm(A @ x - b[:, np.newaxis] > 0)"
   ]
  },
  {
   "cell_type": "code",
   "execution_count": null,
   "id": "d93c0b19",
   "metadata": {},
   "outputs": [],
   "source": [
    "x_projected = ProjectRowstoL1NormBall(x.T).T"
   ]
  },
  {
   "cell_type": "code",
   "execution_count": null,
   "id": "bc0fd8b4",
   "metadata": {},
   "outputs": [],
   "source": [
    "np.linalg.norm(A @ x_projected - b[:, np.newaxis] > 0)"
   ]
  }
 ],
 "metadata": {
  "kernelspec": {
   "display_name": "Python 3 (ipykernel)",
   "language": "python",
   "name": "python3"
  },
  "language_info": {
   "codemirror_mode": {
    "name": "ipython",
    "version": 3
   },
   "file_extension": ".py",
   "mimetype": "text/x-python",
   "name": "python",
   "nbconvert_exporter": "python",
   "pygments_lexer": "ipython3",
   "version": "3.8.12"
  }
 },
 "nbformat": 4,
 "nbformat_minor": 5
}
