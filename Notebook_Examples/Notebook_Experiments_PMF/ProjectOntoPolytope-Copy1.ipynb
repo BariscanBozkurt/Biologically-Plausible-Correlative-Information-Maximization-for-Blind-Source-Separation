{
 "cells": [
  {
   "cell_type": "code",
   "execution_count": 1,
   "id": "31fd6e24",
   "metadata": {},
   "outputs": [],
   "source": [
    "import sys\n",
    "import os\n",
    "os.chdir(\"..\")\n",
    "os.chdir(\"..\")\n",
    "os.chdir(\"./src\")\n",
    "# sys.path.append(\"./src\")"
   ]
  },
  {
   "cell_type": "code",
   "execution_count": 2,
   "id": "a278f671",
   "metadata": {},
   "outputs": [],
   "source": [
    "import numpy as np\n",
    "import matplotlib.pyplot as plt\n",
    "from IPython import display\n",
    "import pylab as pl\n",
    "\n",
    "from general_utils import *\n",
    "from bss_utils import *\n",
    "from dsp_utils import *\n",
    "from polytope_utils import *\n",
    "from visualization_utils import * \n",
    "from pmfgeneral8 import *\n",
    "\n",
    "import warnings\n",
    "warnings.filterwarnings(\"ignore\")\n",
    "\n",
    "notebook_name = 'Polytope Plotting'"
   ]
  },
  {
   "cell_type": "code",
   "execution_count": 30,
   "id": "9d01846f",
   "metadata": {},
   "outputs": [],
   "source": [
    "def resignH2(H, BoundMin):\n",
    "    a = 1-2*(np.sum(H, axis=0) < 0)*(BoundMin == 0)\n",
    "    AA = np.diag(np.reshape(a, (-1,)))\n",
    "    H = np.dot(H, AA)\n",
    "    return H\n",
    "\n",
    "def ProjectHtoBoundaryRectangle(H, BoundMin, BoundMax):\n",
    "    Hshape = H.shape\n",
    "    H = resignH2(H, BoundMin)\n",
    "    BoundMaxlist = np.dot(np.ones((Hshape[0],1)), BoundMax)\n",
    "    BoundMinlist = np.dot(np.ones(( Hshape[0],1)), BoundMin)\n",
    "    CheckMin = 1.0*(H > BoundMinlist)\n",
    "    a = 1-2.0*(np.sum(CheckMin, axis=0) == 0)*(BoundMin == 0)\n",
    "    AA = np.diag(np.reshape(a, (-1,)))\n",
    "    H=np.dot(H,AA)\n",
    "    CheckMax = 1.0*(H < BoundMaxlist)\n",
    "    CheckMin = 1.0*(H > BoundMinlist)\n",
    "    H = H*CheckMax*CheckMin+(1-CheckMin)*BoundMinlist+(1-CheckMax)*BoundMaxlist\n",
    "    return H\n",
    "\n",
    "def ProjectOntoPracticalPolytope2(x, signed_dims, nn_dims, sparse_dims_list, max_number_of_iterations = 1):\n",
    "    dim = len(signed_dims) + len(nn_dims)\n",
    "    BoundMax = np.ones((dim,1)).T\n",
    "    BoundMin = -np.ones((dim,1)).T\n",
    "    BoundMin[:,nn_dims] = 0\n",
    "    x_projected = x.copy()\n",
    "    x_projected[signed_dims, :] = np.clip(x_projected[signed_dims, :], -1, 1)\n",
    "    x_projected[nn_dims, :] = np.clip(x_projected[nn_dims, :], 0, 1)\n",
    "    for kk in range(max_number_of_iterations):\n",
    "        for j in range(len(sparse_dims_list)):\n",
    "            x_projected = ProjectHtoBoundaryRectangle(x_projected.T, BoundMin, BoundMax).T\n",
    "            x_projected[sparse_dims_list[j], :] = ProjectRowstoL1NormBall(x_projected[sparse_dims_list[j], :].T).T\n",
    "    return x_projected"
   ]
  },
  {
   "cell_type": "code",
   "execution_count": 31,
   "id": "48fdf73c",
   "metadata": {},
   "outputs": [],
   "source": [
    "def ProjectOntoPracticalPolytope(x, signed_dims, nn_dims, sparse_dims_list, max_number_of_iterations = 1):\n",
    "    x_projected = x.copy()\n",
    "    x_projected[signed_dims, :] = np.clip(x_projected[signed_dims, :], -1, 1)\n",
    "    x_projected[nn_dims, :] = np.clip(x_projected[nn_dims, :], 0, 1)\n",
    "    for kk in range(max_number_of_iterations):\n",
    "        for j in range(len(sparse_dims_list)):\n",
    "            x_projected[signed_dims, :] = np.clip(x_projected[signed_dims, :], -1, 1)\n",
    "            x_projected[nn_dims, :] = np.clip(x_projected[nn_dims, :], 0, 1)\n",
    "            x_projected[sparse_dims_list[j], :] = ProjectRowstoL1NormBall(x[sparse_dims_list[j], :].T).T\n",
    "    return x_projected"
   ]
  },
  {
   "cell_type": "code",
   "execution_count": 44,
   "id": "f954a076",
   "metadata": {},
   "outputs": [
    {
     "name": "stdout",
     "output_type": "stream",
     "text": [
      "Input SNR is : 31.238328176047887\n"
     ]
    }
   ],
   "source": [
    "N = 20\n",
    "NumberofSources = 3\n",
    "NumberofMixtures = 5\n",
    "S = generate_correlated_copula_sources(rho = 0.0, df = 4, n_sources = NumberofSources, \n",
    "                                       size_sources = N , decreasing_correlation = False)\n",
    "\n",
    "S = 3 * S - 1.5\n",
    "# print(\"The following is the correlation matrix of sources\")\n",
    "# display_matrix(np.corrcoef(S))\n",
    "\n",
    "# Generate Mxr random mixing from i.i.d N(0,1)\n",
    "A = np.random.randn(NumberofMixtures,NumberofSources)\n",
    "X = np.dot(A,S)\n",
    "\n",
    "SNR = 30\n",
    "X, NoisePart = addWGN(X, SNR, return_noise = True)\n",
    "\n",
    "SNRinp = 10 * np.log10(np.sum(np.mean((X - NoisePart)**2, axis = 1)) / np.sum(np.mean(NoisePart**2, axis = 1)))\n",
    "# print(\"The following is the mixture matrix A\")\n",
    "# display_matrix(A)\n",
    "print(\"Input SNR is : {}\".format(SNRinp))"
   ]
  },
  {
   "cell_type": "code",
   "execution_count": 45,
   "id": "8e5897e5",
   "metadata": {},
   "outputs": [],
   "source": [
    "dim = 3\n",
    "N = 500000\n",
    "NumberofSources = dim\n",
    "NumberofMixtures = 6\n",
    "\n",
    "signed_dims = np.array([0,1])\n",
    "nn_dims = np.array([2])\n",
    "sparse_dims_list = [np.array([0,1]),np.array([1,2])]\n",
    "(A,b), V = generate_practical_polytope(dim, signed_dims, nn_dims, sparse_dims_list)\n",
    "# S = generate_uniform_points_in_polytope(V, N)"
   ]
  },
  {
   "cell_type": "code",
   "execution_count": 46,
   "id": "5dfce582",
   "metadata": {},
   "outputs": [],
   "source": [
    "#---------------------------PMF---------------------------------\n",
    "NumIterations=10000\n",
    "R = NumberofSources\n",
    "pmf2=pmf(X,R)   \n",
    "pmf2.BoundMax=np.array([[1,1,1]])\n",
    "pmf2.BoundMin=np.array([[-1,-1,0]])\n",
    "pmf2.SparseList=np.array([[0,1],[1,2]],dtype=object)\n",
    "pmf2.SetGroundTruth(S.T)\n",
    "pmf2.SetGroundTruthW(A)\n",
    "pmf2.MaxIterations=1\n",
    "pmf2.algorithm_iterations=1000\n",
    "pmf2.step_size_rule='const'\n",
    "pmf2.checklocalstationary=0\n",
    "pmf2.detwindow=100\n",
    "pmf2.algorithm_iterations=NumIterations\n",
    "pmf2.Lt=30"
   ]
  },
  {
   "cell_type": "code",
   "execution_count": null,
   "id": "1e38f037",
   "metadata": {},
   "outputs": [],
   "source": [
    "pmf2.H = S.T\n",
    "pmf2.ProjectHtoBoundaryRectangle()\n"
   ]
  },
  {
   "cell_type": "code",
   "execution_count": 47,
   "id": "306bfc7e",
   "metadata": {},
   "outputs": [
    {
     "data": {
      "text/plain": [
       "(3, 20)"
      ]
     },
     "execution_count": 47,
     "metadata": {},
     "output_type": "execute_result"
    }
   ],
   "source": [
    "pmf2.H = S.T\n",
    "pmf2.ProjectHtoPolytope()\n",
    "Sprojected = pmf2.H.T\n",
    "Sprojected.shape"
   ]
  },
  {
   "cell_type": "code",
   "execution_count": 48,
   "id": "d843ee4b",
   "metadata": {},
   "outputs": [],
   "source": [
    "Sprojected2 = ProjectOntoPracticalPolytope(S, signed_dims, nn_dims, \n",
    "                                           sparse_dims_list, max_number_of_iterations = 1)"
   ]
  },
  {
   "cell_type": "code",
   "execution_count": 49,
   "id": "a2d25103",
   "metadata": {},
   "outputs": [],
   "source": [
    "Sprojected3 = ProjectOntoPracticalPolytope2(S, signed_dims, nn_dims, \n",
    "                                           sparse_dims_list, max_number_of_iterations = 10)"
   ]
  },
  {
   "cell_type": "code",
   "execution_count": 61,
   "id": "9f1f8264",
   "metadata": {},
   "outputs": [
    {
     "name": "stdout",
     "output_type": "stream",
     "text": [
      "11.7 ms ± 94.6 µs per loop (mean ± std. dev. of 7 runs, 100 loops each)\n"
     ]
    }
   ],
   "source": [
    "%timeit ProjectOntoPracticalPolytope2(S, signed_dims, nn_dims, sparse_dims_list, max_number_of_iterations = 10)"
   ]
  },
  {
   "cell_type": "code",
   "execution_count": 50,
   "id": "1263d9d7",
   "metadata": {},
   "outputs": [
    {
     "data": {
      "text/plain": [
       "0.0"
      ]
     },
     "execution_count": 50,
     "metadata": {},
     "output_type": "execute_result"
    }
   ],
   "source": [
    "np.linalg.norm(A @ Sprojected3 - b[:,np.newaxis] > 0 )"
   ]
  },
  {
   "cell_type": "code",
   "execution_count": 51,
   "id": "c5a72e23",
   "metadata": {},
   "outputs": [
    {
     "data": {
      "text/plain": [
       "4.5869232618066365"
      ]
     },
     "execution_count": 51,
     "metadata": {},
     "output_type": "execute_result"
    }
   ],
   "source": [
    "np.linalg.norm(Sprojected - Sprojected2)"
   ]
  },
  {
   "cell_type": "code",
   "execution_count": 52,
   "id": "32ab1fcf",
   "metadata": {},
   "outputs": [
    {
     "data": {
      "text/plain": [
       "3.015708442777181"
      ]
     },
     "execution_count": 52,
     "metadata": {},
     "output_type": "execute_result"
    }
   ],
   "source": [
    "np.linalg.norm(Sprojected - Sprojected3)"
   ]
  },
  {
   "cell_type": "code",
   "execution_count": 53,
   "id": "c8707d71",
   "metadata": {},
   "outputs": [
    {
     "data": {
      "text/plain": [
       "0.0"
      ]
     },
     "execution_count": 53,
     "metadata": {},
     "output_type": "execute_result"
    }
   ],
   "source": [
    "np.linalg.norm(A @ Sprojected - b[:,np.newaxis] > 0 )"
   ]
  },
  {
   "cell_type": "code",
   "execution_count": 41,
   "id": "a8c70fcd",
   "metadata": {},
   "outputs": [
    {
     "data": {
      "text/plain": [
       "5.0990195135927845"
      ]
     },
     "execution_count": 41,
     "metadata": {},
     "output_type": "execute_result"
    }
   ],
   "source": [
    "np.linalg.norm(A @ Sprojected2 - b[:,np.newaxis] > 0 )"
   ]
  },
  {
   "cell_type": "code",
   "execution_count": 54,
   "id": "d0d0b94e",
   "metadata": {},
   "outputs": [
    {
     "data": {
      "text/plain": [
       "0.0"
      ]
     },
     "execution_count": 54,
     "metadata": {},
     "output_type": "execute_result"
    }
   ],
   "source": [
    "np.linalg.norm(A @ Sprojected3 - b[:,np.newaxis] > 0 )"
   ]
  },
  {
   "cell_type": "code",
   "execution_count": 55,
   "id": "d8d560d4",
   "metadata": {},
   "outputs": [
    {
     "data": {
      "text/plain": [
       "array([[ 0.59875527,  0.52080212,  0.52580508,  0.5       , -0.8634247 ,\n",
       "         0.57042313,  0.17725251, -0.64458735, -0.44997259,  0.57647744,\n",
       "        -0.5       , -0.5       ,  0.5       ,  0.5       , -0.45565904,\n",
       "         0.08328298, -0.73600827, -0.03322181,  0.62879665,  0.29631402],\n",
       "       [ 0.40124473, -0.47919788,  0.02605747, -0.5       , -0.06828765,\n",
       "         0.42957687, -0.21832184,  0.35541265,  0.26225709, -0.21176128,\n",
       "        -0.5       , -0.5       ,  0.5       ,  0.25      , -0.54434096,\n",
       "         0.84261937,  0.13199586, -0.96677819,  0.37120335, -0.27943972],\n",
       "       [ 0.47065498,  0.22680417,  0.        ,  0.        ,  0.93171235,\n",
       "         0.        ,  0.        ,  0.27118399,  0.73774291,  0.78823872,\n",
       "         0.        ,  0.3507618 ,  0.        ,  0.75      ,  0.        ,\n",
       "         0.15738063,  0.86800414,  0.        ,  0.        ,  0.72056028]])"
      ]
     },
     "execution_count": 55,
     "metadata": {},
     "output_type": "execute_result"
    }
   ],
   "source": [
    "Sprojected"
   ]
  },
  {
   "cell_type": "code",
   "execution_count": 56,
   "id": "dab16e37",
   "metadata": {},
   "outputs": [
    {
     "data": {
      "text/plain": [
       "array([[ 0.59875527,  0.52080212,  0.52580508,  0.5       , -0.8634247 ,\n",
       "         0.57042313,  0.17725251, -0.64458735, -0.44997259,  0.57647744,\n",
       "        -0.5       , -0.5       ,  0.5       ,  0.5       , -0.45565904,\n",
       "         0.08328298, -0.73600827, -0.03322181,  0.62879665,  0.29631402],\n",
       "       [ 0.40124473, -0.47919788,  0.01302874, -0.25      , -0.1365753 ,\n",
       "         0.21478844, -0.21832184,  0.35541265,  0.52451417, -0.42352256,\n",
       "        -0.34185498, -0.5       ,  0.5       ,  0.5       , -0.41441943,\n",
       "         0.91671702,  0.26399173, -0.4833891 ,  0.37120335, -0.55887944],\n",
       "       [ 0.        ,  0.        ,  0.98697126,  0.75      ,  0.        ,\n",
       "         0.78521156,  0.75980816,  0.        ,  0.        ,  0.        ,\n",
       "         0.65814502,  0.        ,  0.42133513,  0.        ,  0.58558057,\n",
       "         0.        ,  0.        ,  0.5166109 ,  0.33807731,  0.        ]])"
      ]
     },
     "execution_count": 56,
     "metadata": {},
     "output_type": "execute_result"
    }
   ],
   "source": [
    "Sprojected3"
   ]
  },
  {
   "cell_type": "code",
   "execution_count": 60,
   "id": "54063073",
   "metadata": {},
   "outputs": [
    {
     "data": {
      "text/plain": [
       "array([[-0.40124473, -0.47919788, -0.47419492, -0.5       , -1.8634247 ,\n",
       "        -0.42957687, -0.82274749, -1.64458735, -1.44997259, -0.42352256,\n",
       "        -1.5       , -1.5       , -0.5       , -0.5       , -1.45565904,\n",
       "        -0.91671702, -1.73600827, -1.03322181, -0.37120335, -0.70368598],\n",
       "       [-1.59875527, -1.52080212, -1.52580508, -1.5       , -0.1365753 ,\n",
       "        -1.57042313, -1.17725251, -0.35541265, -0.55002741, -1.57647744,\n",
       "        -0.5       , -0.5       , -1.5       , -1.5       , -0.54434096,\n",
       "        -1.08328298, -0.26399173, -0.96677819, -1.62879665, -1.29631402],\n",
       "       [-0.59875527, -1.47919788, -0.97394253, -1.5       , -1.06828765,\n",
       "        -0.57042313, -1.21832184, -0.64458735, -0.73774291, -1.21176128,\n",
       "        -1.5       , -1.5       , -0.5       , -0.75      , -1.54434096,\n",
       "        -0.15738063, -0.86800414, -1.96677819, -0.62879665, -1.27943972],\n",
       "       [-1.40124473, -0.52080212, -1.02605747, -0.5       , -0.93171235,\n",
       "        -1.42957687, -0.78167816, -1.35541265, -1.26225709, -0.78823872,\n",
       "        -0.5       , -0.5       , -1.5       , -1.25      , -0.45565904,\n",
       "        -1.84261937, -1.13199586, -0.03322181, -1.37120335, -0.72056028],\n",
       "       [-0.52934502, -0.77319583, -1.        , -1.        , -0.06828765,\n",
       "        -1.        , -1.        , -0.72881601, -0.26225709, -0.21176128,\n",
       "        -1.        , -0.6492382 , -1.        , -0.25      , -1.        ,\n",
       "        -0.84261937, -0.13199586, -1.        , -1.        , -0.27943972],\n",
       "       [-0.47065498, -0.22680417,  0.        ,  0.        , -0.93171235,\n",
       "         0.        ,  0.        , -0.27118399, -0.73774291, -0.78823872,\n",
       "         0.        , -0.3507618 ,  0.        , -0.75      ,  0.        ,\n",
       "        -0.15738063, -0.86800414,  0.        ,  0.        , -0.72056028],\n",
       "       [ 0.        , -0.95839576, -0.44813745, -1.        , -1.93171235,\n",
       "         0.        , -1.04106933, -1.28917469, -1.18771551, -0.63528385,\n",
       "        -2.        , -2.        ,  0.        , -0.25      , -2.        ,\n",
       "        -0.07409765, -1.60401241, -2.        ,  0.        , -0.9831257 ],\n",
       "       [-0.80248945,  0.        , -0.5002524 ,  0.        , -1.79513705,\n",
       "        -0.85915374, -0.60442565, -2.        , -1.71222968, -0.21176128,\n",
       "        -1.        , -1.        , -1.        , -0.75      , -0.91131808,\n",
       "        -1.75933638, -1.86800414, -0.06644362, -0.74240671, -0.42424626],\n",
       "       [-1.19751055, -2.        , -1.4997476 , -2.        , -0.20486295,\n",
       "        -1.14084626, -1.39557435,  0.        , -0.28777032, -1.78823872,\n",
       "        -1.        , -1.        , -1.        , -1.25      , -1.08868192,\n",
       "        -0.24066362, -0.13199586, -1.93355638, -1.25759329, -1.57575374],\n",
       "       [-2.        , -1.04160424, -1.55186255, -1.        , -0.06828765,\n",
       "        -2.        , -0.95893067, -0.71082531, -0.81228449, -1.36471615,\n",
       "         0.        ,  0.        , -2.        , -1.75      ,  0.        ,\n",
       "        -1.92590235, -0.39598759,  0.        , -2.        , -1.0168743 ],\n",
       "       [-0.12810029, -1.25239371, -0.97394253, -1.5       , -0.1365753 ,\n",
       "        -0.57042313, -1.21832184, -0.37340336,  0.        , -0.42352256,\n",
       "        -1.5       , -1.1492382 , -0.5       ,  0.        , -1.54434096,\n",
       "         0.        ,  0.        , -1.96677819, -0.62879665, -0.55887944],\n",
       "       [-1.06941026, -1.70600205, -0.97394253, -1.5       , -2.        ,\n",
       "        -0.57042313, -1.21832184, -0.91577134, -1.47548583, -2.        ,\n",
       "        -1.5       , -1.8507618 , -0.5       , -1.5       , -1.54434096,\n",
       "        -0.31476127, -1.73600827, -1.96677819, -0.62879665, -2.        ],\n",
       "       [-0.93058974, -0.29399795, -1.02605747, -0.5       ,  0.        ,\n",
       "        -1.42957687, -0.78167816, -1.08422866, -0.52451417,  0.        ,\n",
       "        -0.5       , -0.1492382 , -1.5       , -0.5       , -0.45565904,\n",
       "        -1.68523873, -0.26399173, -0.03322181, -1.37120335,  0.        ],\n",
       "       [-1.87189971, -0.74760629, -1.02605747, -0.5       , -1.8634247 ,\n",
       "        -1.42957687, -0.78167816, -1.62659664, -2.        , -1.57647744,\n",
       "        -0.5       , -0.8507618 , -1.5       , -2.        , -0.45565904,\n",
       "        -2.        , -2.        , -0.03322181, -1.37120335, -1.44112056]])"
      ]
     },
     "execution_count": 60,
     "metadata": {},
     "output_type": "execute_result"
    }
   ],
   "source": [
    "A @ Sprojected - b[:,np.newaxis]"
   ]
  },
  {
   "cell_type": "code",
   "execution_count": 8,
   "id": "5699ad62",
   "metadata": {},
   "outputs": [
    {
     "data": {
      "text/plain": [
       "(3, 20)"
      ]
     },
     "execution_count": 8,
     "metadata": {},
     "output_type": "execute_result"
    }
   ],
   "source": [
    "Sprojected = pmf2.H.T\n",
    "Sprojected.shape"
   ]
  },
  {
   "cell_type": "code",
   "execution_count": 9,
   "id": "29aa326d",
   "metadata": {},
   "outputs": [
    {
     "data": {
      "text/plain": [
       "0.0"
      ]
     },
     "execution_count": 9,
     "metadata": {},
     "output_type": "execute_result"
    }
   ],
   "source": [
    "np.linalg.norm(A @ Sprojected - b[:,np.newaxis] > 0 )"
   ]
  },
  {
   "cell_type": "code",
   "execution_count": null,
   "id": "31850899",
   "metadata": {},
   "outputs": [],
   "source": []
  },
  {
   "cell_type": "code",
   "execution_count": 29,
   "id": "fe42726d",
   "metadata": {},
   "outputs": [
    {
     "name": "stdout",
     "output_type": "stream",
     "text": [
      "Input SNR is : 30.79053450360657\n"
     ]
    }
   ],
   "source": [
    "N = 20\n",
    "NumberofSources = 6\n",
    "NumberofMixtures = 10\n",
    "S = generate_correlated_copula_sources(rho = 0.0, df = 4, n_sources = NumberofSources, \n",
    "                                       size_sources = N , decreasing_correlation = False)\n",
    "\n",
    "S = 2 * S - 1\n",
    "# print(\"The following is the correlation matrix of sources\")\n",
    "# display_matrix(np.corrcoef(S))\n",
    "\n",
    "# Generate Mxr random mixing from i.i.d N(0,1)\n",
    "A = np.random.randn(NumberofMixtures,NumberofSources)\n",
    "X = np.dot(A,S)\n",
    "\n",
    "SNR = 30\n",
    "X, NoisePart = addWGN(X, SNR, return_noise = True)\n",
    "\n",
    "SNRinp = 10 * np.log10(np.sum(np.mean((X - NoisePart)**2, axis = 1)) / np.sum(np.mean(NoisePart**2, axis = 1)))\n",
    "# print(\"The following is the mixture matrix A\")\n",
    "# display_matrix(A)\n",
    "print(\"Input SNR is : {}\".format(SNRinp))"
   ]
  },
  {
   "cell_type": "code",
   "execution_count": 30,
   "id": "075f3105",
   "metadata": {},
   "outputs": [],
   "source": [
    "dim = 6\n",
    "signed_dims = np.array([0,1, 2, 5])\n",
    "nn_dims = np.array([3,4])\n",
    "sparse_dims_list = [np.array([0,1, 2]), np.array([2, 4, 5])]\n",
    "(A,b), V = generate_practical_polytope(dim, signed_dims, nn_dims, sparse_dims_list)"
   ]
  },
  {
   "cell_type": "code",
   "execution_count": 31,
   "id": "db1feb38",
   "metadata": {},
   "outputs": [],
   "source": [
    "#---------------------------PMF---------------------------------\n",
    "NumIterations=10000\n",
    "R = NumberofSources\n",
    "pmf2=pmf(X,R)   \n",
    "pmf2.BoundMax=np.array([[1,1,1,1,1,1]])\n",
    "pmf2.BoundMin=np.array([[-1,-1,-1,0,0,1]])\n",
    "pmf2.SparseList=np.array([[0,1, 2],[2, 4, 5]],dtype=object)\n",
    "pmf2.SetGroundTruth(S.T)\n",
    "pmf2.SetGroundTruthW(A)\n",
    "pmf2.MaxIterations=1\n",
    "pmf2.algorithm_iterations=1000\n",
    "pmf2.step_size_rule='const'\n",
    "pmf2.checklocalstationary=0\n",
    "pmf2.detwindow=100\n",
    "pmf2.algorithm_iterations=NumIterations\n",
    "pmf2.Lt=30"
   ]
  },
  {
   "cell_type": "code",
   "execution_count": 32,
   "id": "1729d64f",
   "metadata": {},
   "outputs": [
    {
     "data": {
      "text/plain": [
       "(6, 20)"
      ]
     },
     "execution_count": 32,
     "metadata": {},
     "output_type": "execute_result"
    }
   ],
   "source": [
    "pmf2.H = S.T\n",
    "pmf2.ProjectHtoPolytope()\n",
    "Sprojected = pmf2.H.T\n",
    "Sprojected.shape"
   ]
  },
  {
   "cell_type": "code",
   "execution_count": 35,
   "id": "bbbd4c9b",
   "metadata": {},
   "outputs": [
    {
     "data": {
      "text/plain": [
       "1"
      ]
     },
     "execution_count": 35,
     "metadata": {},
     "output_type": "execute_result"
    }
   ],
   "source": [
    "np.sum(A @ Sprojected - b[:,np.newaxis] > 0 )"
   ]
  },
  {
   "cell_type": "code",
   "execution_count": null,
   "id": "ad0f8436",
   "metadata": {},
   "outputs": [],
   "source": []
  },
  {
   "cell_type": "code",
   "execution_count": null,
   "id": "839df242",
   "metadata": {},
   "outputs": [],
   "source": []
  },
  {
   "cell_type": "code",
   "execution_count": null,
   "id": "6d60b6c8",
   "metadata": {},
   "outputs": [],
   "source": []
  },
  {
   "cell_type": "code",
   "execution_count": 3,
   "id": "e6d41b8a",
   "metadata": {},
   "outputs": [],
   "source": [
    "def ProjectOntoPracticalPolytope(x, signed_dims, nn_dims, sparse_dims_list, max_number_of_iterations = 1):\n",
    "    x_projected = x.copy()\n",
    "    x_projected[signed_dims, :] = np.clip(x_projected[signed_dims, :], -1, 1)\n",
    "    x_projected[nn_dims, :] = np.clip(x_projected[nn_dims, :], 0, 1)\n",
    "    for kk in range(max_number_of_iterations):\n",
    "        for j in range(len(sparse_dims_list)):\n",
    "            x_projected[signed_dims, :] = np.clip(x_projected[signed_dims, :], -1, 1)\n",
    "            x_projected[nn_dims, :] = np.clip(x_projected[nn_dims, :], 0, 1)\n",
    "            x_projected[sparse_dims_list[j], :] = ProjectRowstoL1NormBall(x[sparse_dims_list[j], :].T).T\n",
    "    return x_projected"
   ]
  },
  {
   "cell_type": "code",
   "execution_count": 4,
   "id": "d21da2e2",
   "metadata": {},
   "outputs": [],
   "source": [
    "dim = 6\n",
    "signed_dims = np.array([0,1, 2, 5])\n",
    "nn_dims = np.array([3,4])\n",
    "sparse_dims_list = [np.array([0,1, 2]), np.array([2, 4, 5])]\n",
    "(A,b), V = generate_practical_polytope(dim, signed_dims, nn_dims, sparse_dims_list)"
   ]
  },
  {
   "cell_type": "code",
   "execution_count": 5,
   "id": "99ab32e7",
   "metadata": {},
   "outputs": [
    {
     "data": {
      "text/plain": [
       "0.0"
      ]
     },
     "execution_count": 5,
     "metadata": {},
     "output_type": "execute_result"
    }
   ],
   "source": [
    "np.linalg.norm(A @ V - b[:,np.newaxis] > 0 )"
   ]
  },
  {
   "cell_type": "code",
   "execution_count": null,
   "id": "aa962587",
   "metadata": {},
   "outputs": [],
   "source": [
    "hull = ConvexHull(V.T)\n",
    "x = np.random.randn(6,)"
   ]
  },
  {
   "cell_type": "code",
   "execution_count": 39,
   "id": "fd7098f4",
   "metadata": {},
   "outputs": [
    {
     "data": {
      "text/plain": [
       "(496,)"
      ]
     },
     "execution_count": 39,
     "metadata": {},
     "output_type": "execute_result"
    }
   ],
   "source": [
    "np.sum(equations[:,:-1]**2, axis = 1).shape"
   ]
  },
  {
   "cell_type": "code",
   "execution_count": 40,
   "id": "248454f5",
   "metadata": {},
   "outputs": [
    {
     "data": {
      "text/plain": [
       "(496,)"
      ]
     },
     "execution_count": 40,
     "metadata": {},
     "output_type": "execute_result"
    }
   ],
   "source": [
    "(-(equations[:,-1] + np.dot(equations[:,:-1], pt))).shape"
   ]
  },
  {
   "cell_type": "code",
   "execution_count": 49,
   "id": "c2e88f99",
   "metadata": {},
   "outputs": [],
   "source": [
    "t_list = []\n",
    "for eq in hull.equations:\n",
    "    t = -(eq[-1] + np.dot(eq[:-1], pt))/(np.sum(eq[:-1]**2))\n",
    "    t_list.append(t)\n",
    "    pt_proj = pt + eq[:-1]*t"
   ]
  },
  {
   "cell_type": "code",
   "execution_count": 54,
   "id": "18e1de48",
   "metadata": {},
   "outputs": [
    {
     "data": {
      "text/plain": [
       "array([0.57062876, 0.57062876, 0.57062876, 0.57062876, 0.57062876,\n",
       "       0.57062876, 0.57062876, 0.57062876, 0.57062876, 0.57062876,\n",
       "       0.57062876, 0.57062876, 0.57062876, 0.57062876, 0.57062876,\n",
       "       0.57062876, 0.57062876, 0.57062876, 0.57062876, 0.57062876,\n",
       "       0.57062876, 0.57062876, 0.57062876, 0.57062876, 0.57062876,\n",
       "       0.57062876, 0.57062876, 0.57062876, 0.57062876, 0.57062876,\n",
       "       0.57062876, 0.57062876, 0.57062876, 0.57062876, 0.57062876,\n",
       "       0.57062876, 0.57062876, 0.57062876, 0.57062876, 0.57062876,\n",
       "       0.57062876, 0.57062876, 0.57062876, 0.57062876, 0.57062876,\n",
       "       0.57062876, 0.57062876, 0.57062876, 0.57062876, 0.57062876])"
      ]
     },
     "execution_count": 54,
     "metadata": {},
     "output_type": "execute_result"
    }
   ],
   "source": [
    "distances[100:150]"
   ]
  },
  {
   "cell_type": "code",
   "execution_count": 55,
   "id": "af038f98",
   "metadata": {
    "scrolled": true
   },
   "outputs": [
    {
     "data": {
      "text/plain": [
       "array([0.57062876, 0.57062876, 0.57062876, 0.57062876, 0.57062876,\n",
       "       0.57062876, 0.57062876, 0.57062876, 0.57062876, 0.57062876,\n",
       "       0.57062876, 0.57062876, 0.57062876, 0.57062876, 0.57062876,\n",
       "       0.57062876, 0.57062876, 0.57062876, 0.57062876, 0.57062876,\n",
       "       0.57062876, 0.57062876, 0.57062876, 0.57062876, 0.57062876,\n",
       "       0.57062876, 0.57062876, 0.57062876, 0.57062876, 0.57062876,\n",
       "       0.57062876, 0.57062876, 0.57062876, 0.57062876, 0.57062876,\n",
       "       0.57062876, 0.57062876, 0.57062876, 0.57062876, 0.57062876,\n",
       "       0.57062876, 0.57062876, 0.57062876, 0.57062876, 0.57062876,\n",
       "       0.57062876, 0.57062876, 0.57062876, 0.57062876, 0.57062876])"
      ]
     },
     "execution_count": 55,
     "metadata": {},
     "output_type": "execute_result"
    }
   ],
   "source": [
    "np.array(t_list)[100:150]"
   ]
  },
  {
   "cell_type": "code",
   "execution_count": 47,
   "id": "997a054e",
   "metadata": {},
   "outputs": [
    {
     "data": {
      "text/plain": [
       "2.8284271247461903"
      ]
     },
     "execution_count": 47,
     "metadata": {},
     "output_type": "execute_result"
    }
   ],
   "source": [
    "np.linalg.norm(A @ pt_proj.reshape(-1,1) - b[:,np.newaxis] > 0 )"
   ]
  },
  {
   "cell_type": "code",
   "execution_count": 48,
   "id": "5b945cf0",
   "metadata": {},
   "outputs": [
    {
     "name": "stdout",
     "output_type": "stream",
     "text": [
      "160\n"
     ]
    },
    {
     "data": {
      "text/plain": [
       "1.7320508075688772"
      ]
     },
     "execution_count": 48,
     "metadata": {},
     "output_type": "execute_result"
    }
   ],
   "source": [
    "# hull = ConvexHull(V.T)\n",
    "# x = np.random.randn(6,)\n",
    "pt = x.copy()\n",
    "equations = hull.equations\n",
    "distances = (-(equations[:,-1] + np.dot(equations[:,:-1], pt))/(np.sum(equations[:,:-1]**2, axis = 1)))\n",
    "min_distance = np.max(distances)\n",
    "argmin_distances = np.where(distances == min_distance)[0][0]\n",
    "# argmin_distances = 332\n",
    "# argmin_distances = np.argmin(distances)\n",
    "print(argmin_distances)\n",
    "pt_proj = pt + equations[argmin_distances, :-1]*distances[argmin_distances]\n",
    "np.linalg.norm(A @ pt_proj.reshape(-1,1) - b[:,np.newaxis] > 0 )"
   ]
  },
  {
   "cell_type": "code",
   "execution_count": 24,
   "id": "d59ae1cb",
   "metadata": {},
   "outputs": [
    {
     "data": {
      "text/plain": [
       "(array([318, 319, 320, 321, 322, 323, 324, 325, 326, 327, 328, 329, 330,\n",
       "        331, 332]),)"
      ]
     },
     "execution_count": 24,
     "metadata": {},
     "output_type": "execute_result"
    }
   ],
   "source": [
    "min_distance = np.min(distances)\n",
    "np.where(distances == min_distance)"
   ]
  },
  {
   "cell_type": "code",
   "execution_count": 45,
   "id": "c282c5fc",
   "metadata": {},
   "outputs": [
    {
     "data": {
      "text/plain": [
       "1.4142135623730951"
      ]
     },
     "execution_count": 45,
     "metadata": {},
     "output_type": "execute_result"
    }
   ],
   "source": [
    "x_projected = ProjectOntoPracticalPolytope(x.reshape(-1,1), signed_dims, nn_dims, sparse_dims_list, \n",
    "                                           max_number_of_iterations = 10, )\n",
    "np.linalg.norm(A @ x_projected.reshape(-1,1) - b[:,np.newaxis] > 0 )"
   ]
  },
  {
   "cell_type": "code",
   "execution_count": 9,
   "id": "880fe638",
   "metadata": {},
   "outputs": [
    {
     "data": {
      "text/plain": [
       "array([-0.37814472, -0.94537251,  0.32351723, -0.18913818,  0.17588667,\n",
       "       -0.89184083])"
      ]
     },
     "execution_count": 9,
     "metadata": {},
     "output_type": "execute_result"
    }
   ],
   "source": [
    "pt_proj"
   ]
  },
  {
   "cell_type": "code",
   "execution_count": 10,
   "id": "d09b0196",
   "metadata": {},
   "outputs": [
    {
     "data": {
      "text/plain": [
       "array([[-0.2163861 ],\n",
       "       [-0.7836139 ],\n",
       "       [-0.07210073],\n",
       "       [ 0.        ],\n",
       "       [ 0.10597256],\n",
       "       [-0.82192671]])"
      ]
     },
     "execution_count": 10,
     "metadata": {},
     "output_type": "execute_result"
    }
   ],
   "source": [
    "x_projected"
   ]
  },
  {
   "cell_type": "code",
   "execution_count": 54,
   "id": "f2ea9168",
   "metadata": {},
   "outputs": [],
   "source": [
    "x = np.random.randn(6,)\n",
    "pt = x\n",
    "for eq in hull.equations:\n",
    "    t = -(eq[-1] + np.dot(eq[:-1], pt))/(np.sum(eq[:-1]**2))\n",
    "    pt_proj = pt + eq[:-1]*t\n",
    "    break"
   ]
  },
  {
   "cell_type": "code",
   "execution_count": 86,
   "id": "29dfb87f",
   "metadata": {},
   "outputs": [
    {
     "data": {
      "text/plain": [
       "1.3761765763093468"
      ]
     },
     "execution_count": 86,
     "metadata": {},
     "output_type": "execute_result"
    }
   ],
   "source": [
    "eq = hull.equations[100]\n",
    "-(eq[-1] + np.dot(eq[:-1], pt))/(np.sum(eq[:-1]**2))"
   ]
  },
  {
   "cell_type": "code",
   "execution_count": 82,
   "id": "75178254",
   "metadata": {},
   "outputs": [
    {
     "data": {
      "text/plain": [
       "(496,)"
      ]
     },
     "execution_count": 82,
     "metadata": {},
     "output_type": "execute_result"
    }
   ],
   "source": [
    "np.sum(equations[:,:-1]**2, axis = 1).shape"
   ]
  },
  {
   "cell_type": "code",
   "execution_count": 88,
   "id": "aea08044",
   "metadata": {},
   "outputs": [],
   "source": [
    "equations = hull.equations\n",
    "distances = (-(equations[:,-1] + np.dot(equations[:,:-1], pt))/(np.sum(equations[:,:-1]**2, axis = 1)))\n",
    "argmin_distances = np.argmin(distances)\n",
    "pt_proj = pt + equations[argmin_distances, :-1]*distances[argmin_distances]"
   ]
  },
  {
   "cell_type": "code",
   "execution_count": 90,
   "id": "4f86314b",
   "metadata": {},
   "outputs": [
    {
     "data": {
      "text/plain": [
       "2.449489742783178"
      ]
     },
     "execution_count": 90,
     "metadata": {},
     "output_type": "execute_result"
    }
   ],
   "source": [
    "np.linalg.norm(A @ pt_proj.reshape(-1,1) - b[:,np.newaxis] > 0 )"
   ]
  },
  {
   "cell_type": "code",
   "execution_count": 91,
   "id": "0b2a02d7",
   "metadata": {},
   "outputs": [
    {
     "data": {
      "text/plain": [
       "array([[-1.38426604e+00],\n",
       "       [-6.15733955e-01],\n",
       "       [-2.42877441e+00],\n",
       "       [ 4.28774411e-01],\n",
       "       [-1.41992222e+00],\n",
       "       [-5.80077781e-01],\n",
       "       [-1.60890597e+00],\n",
       "       [-3.91094027e-01],\n",
       "       [-1.45634574e+00],\n",
       "       [ 4.56345738e-01],\n",
       "       [-1.88983754e-01],\n",
       "       [-8.11016246e-01],\n",
       "       [-3.23296267e+00],\n",
       "       [-2.39311824e+00],\n",
       "       [-3.75413852e-01],\n",
       "       [ 4.64430585e-01],\n",
       "       [-2.46443059e+00],\n",
       "       [-1.62458615e+00],\n",
       "       [ 3.93118237e-01],\n",
       "       [ 1.23296267e+00],\n",
       "       [-1.21781195e+00],\n",
       "       [-4.44089210e-16],\n",
       "       [-2.83984444e+00],\n",
       "       [-1.62203249e+00],\n",
       "       [-3.77967508e-01],\n",
       "       [ 8.39844437e-01],\n",
       "       [-2.00000000e+00],\n",
       "       [-7.82188055e-01]])"
      ]
     },
     "execution_count": 91,
     "metadata": {},
     "output_type": "execute_result"
    }
   ],
   "source": [
    "A @ pt_proj.reshape(-1,1) - b[:,np.newaxis]"
   ]
  },
  {
   "cell_type": "code",
   "execution_count": null,
   "id": "7a0c050f",
   "metadata": {},
   "outputs": [],
   "source": [
    "vertices = pypoman.compute_polytope_vertices(A, b)"
   ]
  },
  {
   "cell_type": "code",
   "execution_count": 17,
   "id": "8d11d9f1",
   "metadata": {},
   "outputs": [],
   "source": [
    "A, b = pypoman.compute_polytope_halfspaces(V.T)"
   ]
  },
  {
   "cell_type": "code",
   "execution_count": 19,
   "id": "98b6e16e",
   "metadata": {},
   "outputs": [
    {
     "data": {
      "text/plain": [
       "array([[-0., -0., -0., -0., -1., -0.],\n",
       "       [-0., -0., -0., -1., -0., -0.],\n",
       "       [-1., -1., -1., -0., -0., -0.],\n",
       "       [-1., -1.,  1., -0., -0., -0.],\n",
       "       [-1.,  1., -1., -0., -0., -0.],\n",
       "       [-1.,  1.,  1., -0., -0., -0.],\n",
       "       [-0., -0., -1., -0.,  1., -1.],\n",
       "       [-0., -0.,  1., -0.,  1., -1.],\n",
       "       [-0., -0.,  1., -0.,  1.,  1.],\n",
       "       [-0., -0., -1., -0.,  1.,  1.],\n",
       "       [-0., -0., -0.,  1., -0., -0.],\n",
       "       [ 1., -1., -1., -0., -0., -0.],\n",
       "       [ 1., -1.,  1., -0., -0., -0.],\n",
       "       [ 1.,  1., -1., -0., -0., -0.],\n",
       "       [ 1.,  1.,  1., -0., -0., -0.]])"
      ]
     },
     "execution_count": 19,
     "metadata": {},
     "output_type": "execute_result"
    }
   ],
   "source": [
    "A"
   ]
  },
  {
   "cell_type": "code",
   "execution_count": 20,
   "id": "28240f54",
   "metadata": {},
   "outputs": [],
   "source": [
    "def ProjectOntoPracticalPolytope(x, signed_dims, nn_dims, sparse_dims_list, inequalities = (None, None), max_number_of_iterations = 1, tolerance = 1e-7):\n",
    "    x_projected = x.copy()\n",
    "    if (inequalities[0] is not None) & (inequalities[1] is not None):\n",
    "        A = inequalities[0]\n",
    "        b = inequalities[1].reshape(-1,1)\n",
    "    else:\n",
    "        tolerance = -100\n",
    "        \n",
    "    x_projected[signed_dims] = np.clip(x_projected[signed_dims], -1, 1)\n",
    "    x_projected[nn_dims] = np.clip(x_projected[nn_dims], 0, 1)\n",
    "    \n",
    "    for kk in range(max_number_of_iterations):\n",
    "        for j in range(len(sparse_dims_list)):\n",
    "            x_projected[signed_dims] = np.clip(x_projected[signed_dims], -1, 1)\n",
    "            x_projected[nn_dims] = np.clip(x_projected[nn_dims], 0, 1)\n",
    "            x_projected[sparse_dims_list[j]] = ProjectRowstoL1NormBall(x[sparse_dims_list[j]].T).T\n",
    "#             x_projected[signed_dims] = np.clip(x_projected[signed_dims], -1, 1)\n",
    "#             x_projected[nn_dims] = np.clip(x_projected[nn_dims], 0, 1)\n",
    "        print(np.linalg.norm(np.clip(A @ x_projected - b[:,np.newaxis],0, 1e10)))\n",
    "        if np.linalg.norm(np.clip(A @ x_projected - b[:,np.newaxis],0, 1e10)) < tolerance:\n",
    "            break\n",
    "    return x_projected"
   ]
  },
  {
   "cell_type": "code",
   "execution_count": 31,
   "id": "3b1e17fd",
   "metadata": {},
   "outputs": [],
   "source": [
    "def ProjectOntoPracticalPolytope(x, signed_dims, nn_dims, sparse_dims_list, max_number_of_iterations = 1):\n",
    "    x_projected = x.copy()\n",
    "    x_projected[signed_dims, :] = np.clip(x_projected[signed_dims, :], -1, 1)\n",
    "    x_projected[nn_dims, :] = np.clip(x_projected[nn_dims, :], 0, 1)\n",
    "    for kk in range(max_number_of_iterations):\n",
    "        for j in range(len(sparse_dims_list)):\n",
    "            x_projected[signed_dims, :] = np.clip(x_projected[signed_dims, :], -1, 1)\n",
    "            x_projected[nn_dims, :] = np.clip(x_projected[nn_dims, :], 0, 1)\n",
    "            x_projected[sparse_dims_list[j], :] = ProjectRowstoL1NormBall(x[sparse_dims_list[j], :].T).T\n",
    "    return x_projected"
   ]
  },
  {
   "cell_type": "code",
   "execution_count": 32,
   "id": "3e84af61",
   "metadata": {},
   "outputs": [],
   "source": [
    "dim = 6\n",
    "signed_dims = np.array([0,1, 2, 5])\n",
    "nn_dims = np.array([3,4])\n",
    "sparse_dims_list = [np.array([0,1, 2]), np.array([2, 4, 5])]\n",
    "(A,b), V = generate_practical_polytope(dim, signed_dims, nn_dims, sparse_dims_list)\n",
    "A, b = pypoman.compute_polytope_halfspaces(V.T)"
   ]
  },
  {
   "cell_type": "code",
   "execution_count": 33,
   "id": "c032145c",
   "metadata": {},
   "outputs": [
    {
     "data": {
      "text/plain": [
       "((15, 6), (15,), (6, 28))"
      ]
     },
     "execution_count": 33,
     "metadata": {},
     "output_type": "execute_result"
    }
   ],
   "source": [
    "A.shape, b.shape, V.shape"
   ]
  },
  {
   "cell_type": "code",
   "execution_count": 34,
   "id": "9ec89543",
   "metadata": {},
   "outputs": [
    {
     "data": {
      "text/plain": [
       "0.0"
      ]
     },
     "execution_count": 34,
     "metadata": {},
     "output_type": "execute_result"
    }
   ],
   "source": [
    "np.linalg.norm(A @ V - b[:,np.newaxis] > 0 )"
   ]
  },
  {
   "cell_type": "code",
   "execution_count": 148,
   "id": "6e301c17",
   "metadata": {},
   "outputs": [
    {
     "name": "stdout",
     "output_type": "stream",
     "text": [
      "8.63 ms ± 206 µs per loop (mean ± std. dev. of 7 runs, 100 loops each)\n"
     ]
    }
   ],
   "source": [
    "%timeit x_projected = ProjectOntoPracticalPolytope(x, signed_dims, nn_dims, sparse_dims_list,max_number_of_iterations = 10, )"
   ]
  },
  {
   "cell_type": "code",
   "execution_count": 35,
   "id": "eb83921a",
   "metadata": {},
   "outputs": [
    {
     "name": "stdout",
     "output_type": "stream",
     "text": [
      "2.0\n"
     ]
    }
   ],
   "source": [
    "print(np.linalg.norm(A @ x - b[:,np.newaxis] > 0))"
   ]
  },
  {
   "cell_type": "code",
   "execution_count": 36,
   "id": "3f6a2506",
   "metadata": {},
   "outputs": [
    {
     "name": "stdout",
     "output_type": "stream",
     "text": [
      "1.4142135623730951\n",
      "1.0\n"
     ]
    }
   ],
   "source": [
    "x = np.random.randn(6,1)\n",
    "print(np.linalg.norm(A @ x - b[:,np.newaxis] > 0))\n",
    "x_projected = ProjectOntoPracticalPolytope(x, signed_dims, nn_dims, sparse_dims_list,\n",
    "#                                            inequalities = (A, b), \n",
    "                                           max_number_of_iterations = 10, )\n",
    "#                                            tolerance = 1e-7)\n",
    "print(np.linalg.norm(A @ x_projected - b[:,np.newaxis] > 0))"
   ]
  },
  {
   "cell_type": "code",
   "execution_count": 158,
   "id": "e48f6ac3",
   "metadata": {},
   "outputs": [
    {
     "name": "stdout",
     "output_type": "stream",
     "text": [
      "-0.22261360551227877\n",
      "0.019060446338142523\n",
      "1.0168288961785295\n",
      "0.5129164424126303\n",
      "0.8710549434061678\n",
      "0.5741658203671057\n"
     ]
    },
    {
     "data": {
      "image/png": "[encoded data removed]",
      "text/plain": [
       "<Figure size 432x288 with 1 Axes>"
      ]
     },
     "metadata": {
      "needs_background": "light"
     },
     "output_type": "display_data"
    }
   ],
   "source": [
    "from scipy.spatial import Delaunay, ConvexHull\n",
    "import numpy as np\n",
    "np.random.seed(10)\n",
    "hu = np.random.rand(10, 2) ## the set of points to get the hull from\n",
    "pt = np.array([1.1, 0.5]) ## a point outside\n",
    "pt2 = np.array([0.4, 0.4]) ## a point inside\n",
    "hull = ConvexHull(hu) ## get only the convex hull\n",
    "#hull2 = Delaunay(hu) ## or get the full Delaunay triangulation\n",
    "\n",
    "import matplotlib.pyplot as plt\n",
    "plt.plot(hu[:,0], hu[:,1], \"ro\") ## plot all points\n",
    "#plt.triplot(hu[:,0], hu[:,1], hull2.simplices.copy()) ## plot the Delaunay triangulation\n",
    "## Plot the convexhull\n",
    "for simplex in hull.simplices:\n",
    "    plt.plot(hu[simplex,0], hu[simplex,1], \"ro-\")\n",
    "\n",
    "## Plot the points inside and outside the convex hull \n",
    "plt.plot(pt[0], pt[1], \"bs\")\n",
    "plt.plot(pt2[0], pt2[1], \"bs\")\n",
    "\n",
    "for eq in hull.equations:\n",
    "    t = -(eq[-1] + np.dot(eq[:-1], pt))/(np.sum(eq[:-1]**2))\n",
    "    print(t)\n",
    "    if t == -0.22261360551227877:\n",
    "        pt_proj = pt + eq[:-1]*t\n",
    "        plt.plot(pt_proj[0], pt_proj[1], \"gD-.\")\n",
    "plt.show()"
   ]
  },
  {
   "cell_type": "code",
   "execution_count": 152,
   "id": "6836b6c2",
   "metadata": {},
   "outputs": [
    {
     "data": {
      "text/plain": [
       "array([[-0.9774029 ,  0.21138491,  0.14799135],\n",
       "       [ 0.22303558,  0.97481031, -1.05222084],\n",
       "       [-0.52881237, -0.84873876,  0.3037754 ],\n",
       "       [ 0.98846467, -0.15145165, -0.80225976],\n",
       "       [ 0.77226509, -0.63530042, -0.43994271]])"
      ]
     },
     "execution_count": 152,
     "metadata": {},
     "output_type": "execute_result"
    }
   ],
   "source": [
    "hull.equations"
   ]
  },
  {
   "cell_type": "code",
   "execution_count": 153,
   "id": "a46009f9",
   "metadata": {},
   "outputs": [
    {
     "data": {
      "text/plain": [
       "[<matplotlib.lines.Line2D at 0x2b77bb6ece20>]"
      ]
     },
     "execution_count": 153,
     "metadata": {},
     "output_type": "execute_result"
    },
    {
     "data": {
      "image/png": "[encoded data removed]",
      "text/plain": [
       "<Figure size 432x288 with 1 Axes>"
      ]
     },
     "metadata": {
      "needs_background": "light"
     },
     "output_type": "display_data"
    }
   ],
   "source": [
    "plt.plot(pt_proj[0], pt_proj[1], \"gD-.\")"
   ]
  },
  {
   "cell_type": "code",
   "execution_count": 143,
   "id": "aafd8852",
   "metadata": {},
   "outputs": [
    {
     "data": {
      "text/plain": [
       "array([[-0.64175666],\n",
       "       [-0.08065974],\n",
       "       [ 0.        ],\n",
       "       [ 0.59088941],\n",
       "       [ 0.93861423],\n",
       "       [-0.06138577]])"
      ]
     },
     "execution_count": 143,
     "metadata": {},
     "output_type": "execute_result"
    }
   ],
   "source": [
    "x_projected"
   ]
  },
  {
   "cell_type": "code",
   "execution_count": 147,
   "id": "a9632025",
   "metadata": {},
   "outputs": [
    {
     "name": "stdout",
     "output_type": "stream",
     "text": [
      "2.449489742783178\n",
      "0.0\n"
     ]
    },
    {
     "data": {
      "text/plain": [
       "array([[-0.64175666,  0.63431838],\n",
       "       [-0.08065974,  0.36568162],\n",
       "       [ 0.        ,  0.        ],\n",
       "       [ 0.59088941,  0.        ],\n",
       "       [ 0.93861423,  0.46308057],\n",
       "       [-0.06138577, -0.53691943]])"
      ]
     },
     "execution_count": 147,
     "metadata": {},
     "output_type": "execute_result"
    }
   ],
   "source": [
    "print(np.linalg.norm(A @ x - b[:,np.newaxis] > 0))\n",
    "x_projected = ProjectOntoPracticalPolytope(X, signed_dims, nn_dims, sparse_dims_list,\n",
    "#                                            inequalities = (A, b), \n",
    "                                           max_number_of_iterations = 10, )\n",
    "#                                            tolerance = 1e-7)\n",
    "print(np.linalg.norm(A @ x_projected - b[:,np.newaxis] > 0))\n",
    "x_projected"
   ]
  },
  {
   "cell_type": "code",
   "execution_count": 126,
   "id": "5d73bc5a",
   "metadata": {},
   "outputs": [
    {
     "data": {
      "text/plain": [
       "1.5562303162879976"
      ]
     },
     "execution_count": 126,
     "metadata": {},
     "output_type": "execute_result"
    }
   ],
   "source": [
    "np.linalg.norm(np.clip(A @ x_projected - b[:,np.newaxis],0, 1e10))"
   ]
  },
  {
   "cell_type": "code",
   "execution_count": 125,
   "id": "9c97d7c2",
   "metadata": {},
   "outputs": [
    {
     "data": {
      "text/plain": [
       "array([[-7.34977954e-01, -1.26502205e+00, -1.00000000e+00,\n",
       "        -1.00000000e+00, -1.40765956e+00, -5.92340441e-01,\n",
       "        -4.07659559e-01, -1.59234044e+00, -1.00000000e+00,\n",
       "         0.00000000e+00, -1.00000000e+00,  0.00000000e+00,\n",
       "        -1.14263751e+00, -3.27318395e-01, -1.14263751e+00,\n",
       "        -3.27318395e-01, -1.67268161e+00, -8.57362486e-01,\n",
       "        -1.67268161e+00, -8.57362486e-01, -8.15319119e-01,\n",
       "        -2.00000000e+00, -8.15319119e-01, -2.00000000e+00,\n",
       "         0.00000000e+00, -1.18468088e+00,  0.00000000e+00,\n",
       "        -1.18468088e+00],\n",
       "       [-1.32963765e+00, -6.70362351e-01, -4.13635493e-01,\n",
       "        -1.58636451e+00, -7.12161431e-01, -1.28783857e+00,\n",
       "        -1.32529878e+00, -6.74701217e-01, -1.00000000e+00,\n",
       "         0.00000000e+00, -9.07485558e-01, -9.25144417e-02,\n",
       "        -4.55434573e-01, -1.03111171e+00, -1.62816359e+00,\n",
       "        -2.20384073e+00,  2.03840726e-01, -3.71836413e-01,\n",
       "        -9.68888289e-01, -1.54456543e+00, -9.44945773e-01,\n",
       "        -2.94348206e-01, -1.12997466e+00, -4.79377089e-01,\n",
       "        -1.52062291e+00, -8.70025344e-01, -1.70565179e+00,\n",
       "        -1.05505423e+00],\n",
       "       [-1.11814409e+00, -8.81855914e-01, -1.60426444e+00,\n",
       "        -3.95735564e-01, -1.31514145e+00, -6.84858549e-01,\n",
       "        -1.18240143e+00, -8.17598565e-01, -1.00000000e+00,\n",
       "         0.00000000e+00, -1.50245711e+00,  5.02457114e-01,\n",
       "        -2.03754997e+00, -1.40726707e+00, -8.29021100e-01,\n",
       "        -1.98738199e-01, -1.80126180e+00, -1.17097890e+00,\n",
       "        -5.92732929e-01,  3.75499728e-02, -2.00000000e+00,\n",
       "        -1.63519713e+00, -9.95085771e-01, -6.30282902e-01,\n",
       "        -1.36971710e+00, -1.00491423e+00, -3.64802869e-01,\n",
       "         0.00000000e+00],\n",
       "       [-1.00000000e+00, -1.00000000e+00, -9.88111546e-01,\n",
       "        -1.01188845e+00, -5.59658364e-01, -1.44034164e+00,\n",
       "        -1.00000000e+00, -1.00000000e+00, -1.00000000e+00,\n",
       "         0.00000000e+00, -1.55965836e+00,  5.59658364e-01,\n",
       "        -5.47769910e-01, -1.42845318e+00, -5.71546818e-01,\n",
       "        -1.45223009e+00, -5.47769910e-01, -1.42845318e+00,\n",
       "        -5.71546818e-01, -1.45223009e+00, -1.11931673e+00,\n",
       "        -1.11931673e+00,  0.00000000e+00,  0.00000000e+00,\n",
       "        -2.00000000e+00, -2.00000000e+00, -8.80683272e-01,\n",
       "        -8.80683272e-01],\n",
       "       [-1.00000000e+00, -1.00000000e+00, -1.44684014e+00,\n",
       "        -5.53159863e-01, -1.77504095e+00, -2.24959047e-01,\n",
       "        -1.08095896e+00, -9.19041042e-01, -1.00000000e+00,\n",
       "         0.00000000e+00, -8.55999911e-01, -1.44000089e-01,\n",
       "        -2.22188109e+00, -6.71799184e-01, -1.32820082e+00,\n",
       "         2.21881090e-01, -2.22188109e+00, -6.71799184e-01,\n",
       "        -1.32820082e+00,  2.21881090e-01, -1.71199982e+00,\n",
       "        -1.55008191e+00, -2.00000000e+00, -1.83808208e+00,\n",
       "        -1.61917916e-01, -2.22044605e-16, -4.49918094e-01,\n",
       "        -2.88000178e-01],\n",
       "       [-7.18601394e-01, -1.28139861e+00, -4.08781380e-01,\n",
       "        -1.59121862e+00, -1.61905385e+00, -3.80946147e-01,\n",
       "        -1.00000000e+00, -1.00000000e+00, -1.00000000e+00,\n",
       "         0.00000000e+00, -1.38094615e+00,  3.80946147e-01,\n",
       "        -7.46436627e-01,  4.91671079e-01, -1.92887387e+00,\n",
       "        -6.90766160e-01, -1.30923384e+00, -7.11261336e-02,\n",
       "        -2.49167108e+00, -1.25356337e+00, -2.00000000e+00,\n",
       "        -2.00000000e+00, -1.23810771e+00, -1.23810771e+00,\n",
       "        -7.61892294e-01, -7.61892294e-01,  0.00000000e+00,\n",
       "         0.00000000e+00],\n",
       "       [-5.67095002e-01, -1.43290500e+00, -6.42304007e-01,\n",
       "        -1.35769599e+00, -1.07000008e+00, -9.29999917e-01,\n",
       "        -1.00000000e+00, -1.00000000e+00,  0.00000000e+00,\n",
       "        -1.00000000e+00, -1.92999992e+00,  9.29999917e-01,\n",
       "        -2.79399093e-01, -1.39398926e-01, -9.94791078e-01,\n",
       "        -8.54790911e-01, -1.14520909e+00, -1.00520892e+00,\n",
       "        -1.86060107e+00, -1.72060091e+00, -2.00000000e+00,\n",
       "        -2.00000000e+00, -1.40000167e-01, -1.40000167e-01,\n",
       "        -1.85999983e+00, -1.85999983e+00,  0.00000000e+00,\n",
       "         0.00000000e+00],\n",
       "       [-1.51808523e+00, -4.81914766e-01, -1.00000000e+00,\n",
       "        -1.00000000e+00, -4.02592071e-01, -1.59740793e+00,\n",
       "        -8.35828611e-01, -1.16417139e+00, -8.06787724e-01,\n",
       "        -1.93212276e-01, -1.23842068e+00,  2.38420682e-01,\n",
       "        -9.20677305e-01, -2.11549316e+00, -9.20677305e-01,\n",
       "        -2.11549316e+00,  1.15493163e-01, -1.07932270e+00,\n",
       "         1.15493163e-01, -1.07932270e+00, -4.76841363e-01,\n",
       "        -8.05184141e-01, -1.11022302e-16, -3.28342778e-01,\n",
       "        -1.67165722e+00, -2.00000000e+00, -1.19481586e+00,\n",
       "        -1.52315864e+00],\n",
       "       [-1.00000000e+00, -1.00000000e+00, -1.00000000e+00,\n",
       "        -1.00000000e+00,  0.00000000e+00, -2.00000000e+00,\n",
       "        -1.00000000e+00, -1.00000000e+00,  0.00000000e+00,\n",
       "        -1.00000000e+00, -1.00000000e+00,  0.00000000e+00,\n",
       "         0.00000000e+00, -2.00000000e+00,  0.00000000e+00,\n",
       "        -2.00000000e+00,  0.00000000e+00, -2.00000000e+00,\n",
       "         0.00000000e+00, -2.00000000e+00,  0.00000000e+00,\n",
       "         0.00000000e+00,  0.00000000e+00,  0.00000000e+00,\n",
       "        -2.00000000e+00, -2.00000000e+00, -2.00000000e+00,\n",
       "        -2.00000000e+00],\n",
       "       [-4.66069877e-01, -1.53393012e+00, -6.13824051e-01,\n",
       "        -1.38617595e+00, -1.15057051e+00, -8.49429486e-01,\n",
       "        -7.62511261e-01, -1.23748874e+00, -4.78118602e-01,\n",
       "        -5.21881398e-01, -1.61194075e+00,  6.11940747e-01,\n",
       "        -2.30464442e-01,  7.06765868e-02, -1.00281634e+00,\n",
       "        -7.01675312e-01, -1.29832469e+00, -9.97183659e-01,\n",
       "        -2.07067659e+00, -1.76953556e+00, -1.52502252e+00,\n",
       "        -2.00000000e+00, -3.01141029e-01, -7.76118506e-01,\n",
       "        -1.22388149e+00, -1.69885897e+00,  0.00000000e+00,\n",
       "        -4.74977477e-01]])"
      ]
     },
     "execution_count": 125,
     "metadata": {},
     "output_type": "execute_result"
    }
   ],
   "source": [
    "(A @ x_projected - b[:,np.newaxis]).T"
   ]
  },
  {
   "cell_type": "code",
   "execution_count": 112,
   "id": "96a3c0a9",
   "metadata": {},
   "outputs": [
    {
     "name": "stdout",
     "output_type": "stream",
     "text": [
      "2.8284271247461903\n",
      "2.714180691430312\n",
      "2.714180691430312\n",
      "2.714180691430312\n",
      "2.714180691430312\n",
      "2.714180691430312\n",
      "2.714180691430312\n",
      "2.714180691430312\n",
      "2.714180691430312\n",
      "2.714180691430312\n",
      "2.714180691430312\n",
      "2.714180691430312\n",
      "2.714180691430312\n",
      "2.714180691430312\n",
      "2.714180691430312\n",
      "2.714180691430312\n",
      "2.714180691430312\n",
      "2.714180691430312\n",
      "2.714180691430312\n",
      "2.714180691430312\n",
      "2.714180691430312\n",
      "2.714180691430312\n",
      "2.714180691430312\n",
      "2.714180691430312\n",
      "2.714180691430312\n",
      "2.714180691430312\n",
      "2.714180691430312\n",
      "2.714180691430312\n",
      "2.714180691430312\n",
      "2.714180691430312\n",
      "2.714180691430312\n",
      "2.714180691430312\n",
      "2.714180691430312\n",
      "2.714180691430312\n",
      "2.714180691430312\n",
      "2.714180691430312\n",
      "2.714180691430312\n",
      "2.714180691430312\n",
      "2.714180691430312\n",
      "2.714180691430312\n",
      "2.714180691430312\n",
      "2.714180691430312\n",
      "2.714180691430312\n",
      "2.714180691430312\n",
      "2.714180691430312\n",
      "2.714180691430312\n",
      "2.714180691430312\n",
      "2.714180691430312\n",
      "2.714180691430312\n",
      "2.714180691430312\n",
      "2.714180691430312\n",
      "0.0\n"
     ]
    }
   ],
   "source": [
    "print(np.linalg.norm(A @ x - b[:,np.newaxis] > 0))\n",
    "x_projected = ProjectOntoPracticalPolytope(x, signed_dims, nn_dims, sparse_dims_list,\n",
    "                                           inequalities = (A, b), max_number_of_iterations = 50, \n",
    "                                           tolerance = 1e-7)\n",
    "print(np.linalg.norm(A @ x_projected - b[:,np.newaxis] > 0))"
   ]
  },
  {
   "cell_type": "code",
   "execution_count": 76,
   "id": "694f04d2",
   "metadata": {},
   "outputs": [
    {
     "data": {
      "text/plain": [
       "0.20202522215378815"
      ]
     },
     "execution_count": 76,
     "metadata": {},
     "output_type": "execute_result"
    }
   ],
   "source": [
    "np.linalg.norm(np.clip(A @ x_projected - b[:,np.newaxis],0, 1e10))"
   ]
  },
  {
   "cell_type": "code",
   "execution_count": 78,
   "id": "f446d5a9",
   "metadata": {},
   "outputs": [
    {
     "data": {
      "text/plain": [
       "array([[-0.18601154, -1.81398846, -1.17642312, -0.82357688, -1.        ,\n",
       "        -1.        , -1.79797478, -0.20202522, -1.        ,  0.        ,\n",
       "        -1.20202522,  0.20202522, -0.36243465, -0.36243465, -0.00958842,\n",
       "        -0.00958842, -1.99041158, -1.99041158, -1.63756535, -1.63756535,\n",
       "        -2.        , -0.40405044, -1.59594956,  0.        , -2.        ,\n",
       "        -0.40405044, -1.59594956,  0.        ]])"
      ]
     },
     "execution_count": 78,
     "metadata": {},
     "output_type": "execute_result"
    }
   ],
   "source": [
    "(A @ x_projected - b[:,np.newaxis]).T"
   ]
  },
  {
   "cell_type": "code",
   "execution_count": 79,
   "id": "e75e7fc3",
   "metadata": {},
   "outputs": [],
   "source": [
    "dim = 3\n",
    "signed_dims = np.array([0,1])\n",
    "nn_dims = np.array([2])\n",
    "sparse_dims_list = [np.array([0,1]),np.array([1,2])]\n",
    "(A,b), V = generate_practical_polytope(dim, signed_dims, nn_dims, sparse_dims_list)"
   ]
  },
  {
   "cell_type": "code",
   "execution_count": 103,
   "id": "350a1c4d",
   "metadata": {},
   "outputs": [
    {
     "name": "stdout",
     "output_type": "stream",
     "text": [
      "1.0\n",
      "1.0\n"
     ]
    }
   ],
   "source": [
    "x = np.random.randn(3,1)\n",
    "print(np.linalg.norm(A @ x - b[:,np.newaxis] > 0))\n",
    "x_projected = ProjectOntoPracticalPolytope(x, signed_dims, nn_dims, sparse_dims_list,\n",
    "                                           inequalities = (A, b), max_number_of_iterations = 10, \n",
    "                                           tolerance = 1e-7)\n",
    "print(np.linalg.norm(A @ x_projected - b[:,np.newaxis] > 0))"
   ]
  },
  {
   "cell_type": "code",
   "execution_count": 104,
   "id": "612793c4",
   "metadata": {},
   "outputs": [
    {
     "data": {
      "text/plain": [
       "array([[-0.48348274, -1.51651726, -0.80807358, -1.19192642, -1.06756623,\n",
       "         0.06756623, -0.29155632, -0.67540916, -1.32459084, -1.70844368,\n",
       "        -0.87563981, -0.74050735, -1.25949265, -1.12436019]])"
      ]
     },
     "execution_count": 104,
     "metadata": {},
     "output_type": "execute_result"
    }
   ],
   "source": [
    "(A @ x_projected - b[:,np.newaxis]).T"
   ]
  },
  {
   "cell_type": "code",
   "execution_count": 59,
   "id": "34efa562",
   "metadata": {},
   "outputs": [
    {
     "data": {
      "text/plain": [
       "array([[ 0.83093197],\n",
       "       [-0.16906803],\n",
       "       [-0.38164226],\n",
       "       [ 0.64950642],\n",
       "       [ 0.        ],\n",
       "       [-0.61835774]])"
      ]
     },
     "execution_count": 59,
     "metadata": {},
     "output_type": "execute_result"
    }
   ],
   "source": [
    "x_projected"
   ]
  },
  {
   "cell_type": "code",
   "execution_count": 61,
   "id": "ef2e95bc",
   "metadata": {},
   "outputs": [
    {
     "data": {
      "text/plain": [
       "array([[-0.16906803],\n",
       "       [-1.83093197],\n",
       "       [-1.16906803],\n",
       "       [-0.83093197],\n",
       "       [-1.38164226],\n",
       "       [-0.61835774],\n",
       "       [-1.61835774],\n",
       "       [-0.38164226],\n",
       "       [-0.35049358],\n",
       "       [-0.64950642],\n",
       "       [-1.        ],\n",
       "       [ 0.        ],\n",
       "       [-0.71977832],\n",
       "       [ 0.0435062 ],\n",
       "       [-0.38164226],\n",
       "       [ 0.38164226],\n",
       "       [-2.38164226],\n",
       "       [-1.61835774],\n",
       "       [-2.0435062 ],\n",
       "       [-1.28022168],\n",
       "       [-2.        ],\n",
       "       [-0.76328452],\n",
       "       [-2.        ],\n",
       "       [-0.76328452],\n",
       "       [-1.23671548],\n",
       "       [ 0.        ],\n",
       "       [-1.23671548],\n",
       "       [ 0.        ]])"
      ]
     },
     "execution_count": 61,
     "metadata": {},
     "output_type": "execute_result"
    }
   ],
   "source": [
    "(A @ x_projected - b[:,np.newaxis])"
   ]
  },
  {
   "cell_type": "code",
   "execution_count": 63,
   "id": "23d11792",
   "metadata": {},
   "outputs": [
    {
     "data": {
      "text/plain": [
       "0.38411404908653657"
      ]
     },
     "execution_count": 63,
     "metadata": {},
     "output_type": "execute_result"
    }
   ],
   "source": [
    "np.linalg.norm(np.clip(A @ x_projected - b[:,np.newaxis],0, 1e10))"
   ]
  },
  {
   "cell_type": "code",
   "execution_count": 18,
   "id": "5530ff7d",
   "metadata": {},
   "outputs": [],
   "source": [
    "x_projected = ProjectOntoPracticalPolytope(x, signed_dims, nn_dims, sparse_dims_list, inequalities = (A, b), max_number_of_iterations = 5, tolerance = 1e-7)"
   ]
  },
  {
   "cell_type": "code",
   "execution_count": 19,
   "id": "e007153b",
   "metadata": {},
   "outputs": [
    {
     "data": {
      "text/plain": [
       "0.0"
      ]
     },
     "execution_count": 19,
     "metadata": {},
     "output_type": "execute_result"
    }
   ],
   "source": [
    "np.linalg.norm(A @ x_projected - b[:,np.newaxis] > 0)"
   ]
  },
  {
   "cell_type": "code",
   "execution_count": 136,
   "id": "b2604377",
   "metadata": {},
   "outputs": [
    {
     "name": "stdout",
     "output_type": "stream",
     "text": [
      "[0. 1. 0. 1. 1. 0.]\n"
     ]
    },
    {
     "data": {
      "text/plain": [
       "3.3166247903554"
      ]
     },
     "execution_count": 136,
     "metadata": {},
     "output_type": "execute_result"
    }
   ],
   "source": [
    "x = np.random.randn(6,1)*10\n",
    "k = 5\n",
    "x = V[:,k][:,np.newaxis] * 5\n",
    "print(V[:,k])\n",
    "np.linalg.norm(A @ x - b[:,np.newaxis] > 0)"
   ]
  },
  {
   "cell_type": "code",
   "execution_count": 139,
   "id": "17c8ddd9",
   "metadata": {},
   "outputs": [],
   "source": [
    "def ProjectOntoPracticalPolytope(x, signed_dims, nn_dims, sparse_dims, inequalities = (None, None), max_number_of_iterations = 1, tolerance = 1e-7):\n",
    "    x_projected = x.copy()\n",
    "    if (inequalities[0] is not None) & (inequalities[1] is not None):\n",
    "        A = inequalities[0]\n",
    "        b = inequalities[1].reshape(-1,1)\n",
    "    else:\n",
    "        tolerance = -100\n",
    "        \n",
    "    for kk in range(max_number_of_iterations):\n",
    "        for j in range(len(sparse_dims_list)):\n",
    "            x_projected[sparse_dims_list[j]] = ProjectRowstoL1NormBall(x[sparse_dims_list[j]].T).T\n",
    "            x_projected[signed_dims] = np.clip(x_projected[signed_dims], -1, 1)\n",
    "            x_projected[nn_dims] = np.clip(x_projected[nn_dims], 0, 1)\n",
    "        if np.linalg.norm(A @ x_projected - b > 0) < tolerance:\n",
    "            break\n",
    "    return x_projected"
   ]
  },
  {
   "cell_type": "code",
   "execution_count": 137,
   "id": "f619e7d7",
   "metadata": {},
   "outputs": [
    {
     "name": "stdout",
     "output_type": "stream",
     "text": [
      "[[0. 5. 0. 5. 5. 0.]]\n",
      "[[-0.  1. -0.  1.  1.  0.]]\n",
      "[[-0.  1. -0.  1.  1. -0.]]\n"
     ]
    }
   ],
   "source": [
    "x_projected = x.copy()\n",
    "print(x_projected.T)\n",
    "for kk in range(1):\n",
    "#     x_projected[signed_dims] = np.clip(x_projected[signed_dims], -1, 1)\n",
    "#     print(x_projected.T)\n",
    "#     x_projected[nn_dims] = np.clip(x_projected[nn_dims], 0, 1)\n",
    "#     print(x_projected.T)\n",
    "    for j in range(len(sparse_dims_list)):\n",
    "        x_projected[sparse_dims_list[j]] = ProjectRowstoL1NormBall(x[sparse_dims_list[j]].T).T\n",
    "        x_projected[signed_dims] = np.clip(x_projected[signed_dims], -1, 1)\n",
    "        x_projected[nn_dims] = np.clip(x_projected[nn_dims], 0, 1)\n",
    "        print(x_projected.T)"
   ]
  },
  {
   "cell_type": "code",
   "execution_count": 135,
   "id": "708f08df",
   "metadata": {},
   "outputs": [
    {
     "data": {
      "text/plain": [
       "array([[0.],\n",
       "       [0.],\n",
       "       [5.],\n",
       "       [5.],\n",
       "       [0.],\n",
       "       [0.]])"
      ]
     },
     "execution_count": 135,
     "metadata": {},
     "output_type": "execute_result"
    }
   ],
   "source": []
  },
  {
   "cell_type": "code",
   "execution_count": 124,
   "id": "bb86ca7c",
   "metadata": {},
   "outputs": [
    {
     "data": {
      "text/plain": [
       "0.0"
      ]
     },
     "execution_count": 124,
     "metadata": {},
     "output_type": "execute_result"
    }
   ],
   "source": [
    "np.linalg.norm(A @ x_projected - b[:,np.newaxis] > 0)"
   ]
  },
  {
   "cell_type": "code",
   "execution_count": 125,
   "id": "7bfa0b00",
   "metadata": {},
   "outputs": [
    {
     "data": {
      "text/plain": [
       "array([[-2.],\n",
       "       [ 0.],\n",
       "       [-1.],\n",
       "       [-1.],\n",
       "       [-1.],\n",
       "       [-1.],\n",
       "       [ 0.],\n",
       "       [-2.],\n",
       "       [ 0.],\n",
       "       [-1.],\n",
       "       [-1.],\n",
       "       [ 0.],\n",
       "       [-2.],\n",
       "       [-2.],\n",
       "       [-2.],\n",
       "       [-2.],\n",
       "       [ 0.],\n",
       "       [ 0.],\n",
       "       [ 0.],\n",
       "       [ 0.],\n",
       "       [ 0.],\n",
       "       [-2.],\n",
       "       [ 0.],\n",
       "       [-2.],\n",
       "       [ 0.],\n",
       "       [-2.],\n",
       "       [ 0.],\n",
       "       [-2.]])"
      ]
     },
     "execution_count": 125,
     "metadata": {},
     "output_type": "execute_result"
    }
   ],
   "source": [
    "A @ x_projected - b[:,np.newaxis]"
   ]
  },
  {
   "cell_type": "code",
   "execution_count": 100,
   "id": "c26d97d3",
   "metadata": {},
   "outputs": [],
   "source": [
    "import cvxpy\n",
    "import cvxpy as cvx"
   ]
  },
  {
   "cell_type": "code",
   "execution_count": 101,
   "id": "90d2bb97",
   "metadata": {},
   "outputs": [],
   "source": [
    "def polyproject(point, polyhedron=None, vertices=None):\n",
    "    \"\"\"\n",
    "    Projects a point onto a convex polyhedron. Makes use of cvxpy.\n",
    "    The polyhedron can be specified either as a set of vertices, or as a matrix\n",
    "    of equations describing the polyhedron. In the former case, the convex hull\n",
    "    of the vertices is computed. In the latter case, the input is a matrix `A`\n",
    "    such that A * [x, y, z]^T = [0, 0, 0]^T (in 3D).\n",
    "    Parameters\n",
    "    ----------\n",
    "    point : array of shape (ndim,)\n",
    "        Point to project onto the polyhedron\n",
    "    polyhedron : array of shape (nfacets, ndim+1), optional\n",
    "        Array containing the matrix of equations describing the polyhedron.\n",
    "        Either this option or `vertices` must be provided.\n",
    "    vertices : array of shape (nvertices, ndim), optional\n",
    "        Array containing the vertices of the polyhedron. Either this parameter\n",
    "        or `polyhedron` must be provided. Ignored if polyhedron is provided.\n",
    "    Returns\n",
    "    -------\n",
    "    proj_point : array of shape (ndim,)\n",
    "        Projection of the given point onto the convex polyhedron.\n",
    "    polyhedron : array of shape (nfacets, ndim+1), optional\n",
    "        Array containing the matrix of equations describing the polyhedron.\n",
    "    Raises\n",
    "    ------\n",
    "    ValueError\n",
    "        If neither `vertices` nor `polyhedron` is provided.\n",
    "    \"\"\"\n",
    "\n",
    "    if polyhedron is None:\n",
    "        if vertices is None:\n",
    "            raise ValueError('Must provide either vertices or polyhedron.')\n",
    "        from scipy.spatial import ConvexHull\n",
    "        conv_hull = ConvexHull(vertices)\n",
    "        polyhedron = conv_hull.equations\n",
    "\n",
    "    # Set up the convex optimization problem\n",
    "    ndim = point.size\n",
    "    x = cvx.Variable(ndim)\n",
    "    objective = cvx.Minimize(cvx.sum(cvx.square(x - point)))\n",
    "    constraints = [polyhedron[:, :-1] * x <= -polyhedron[:, -1],]\n",
    "    prob = cvx.Problem(objective, constraints)\n",
    "\n",
    "    final_obj = prob.solve()\n",
    "    #print(final_obj)\n",
    "    #print(x.value)\n",
    "\n",
    "    # Convert x.value from matrix type to ndarray type.\n",
    "    # NOTE: This will have to change after cvxpy 1.0, which is more numpythonic\n",
    "    return np.squeeze(np.asarray(x.value)), polyhedron"
   ]
  },
  {
   "cell_type": "code",
   "execution_count": 102,
   "id": "4e833e71",
   "metadata": {},
   "outputs": [],
   "source": [
    "x_projected, _ = polyproject(x.reshape(-1,), polyhedron=None, vertices=V.T)"
   ]
  },
  {
   "cell_type": "code",
   "execution_count": 106,
   "id": "3f261aef",
   "metadata": {},
   "outputs": [
    {
     "data": {
      "text/plain": [
       "5.291502622129181"
      ]
     },
     "execution_count": 106,
     "metadata": {},
     "output_type": "execute_result"
    }
   ],
   "source": [
    "np.linalg.norm(A @ x_projected - b[:,np.newaxis] > 0)"
   ]
  },
  {
   "cell_type": "code",
   "execution_count": 115,
   "id": "5d9cbcd1",
   "metadata": {},
   "outputs": [
    {
     "name": "stdout",
     "output_type": "stream",
     "text": [
      "[[-0.49616637 -2.27095709  0.26868361  0.90740432 -0.90467566  1.26638916]]\n",
      "[[ 0.         -1.         -0.          0.90740432  0.          1.        ]]\n",
      "[[ 0.         -1.         -0.          0.90740432  0.          0.68085675]]\n"
     ]
    }
   ],
   "source": [
    "x_projected = x.copy()\n",
    "print(x_projected.T)\n",
    "for kk in range(1):\n",
    "#     x_projected[signed_dims] = np.clip(x_projected[signed_dims], -1, 1)\n",
    "#     print(x_projected.T)\n",
    "#     x_projected[nn_dims] = np.clip(x_projected[nn_dims], 0, 1)\n",
    "#     print(x_projected.T)\n",
    "    for j in range(len(sparse_dims_list)):\n",
    "        x_projected[sparse_dims_list[j]] = ProjectRowstoL1NormBall(x[sparse_dims_list[j]].T).T\n",
    "        x_projected[signed_dims] = np.clip(x_projected[signed_dims], -1, 1)\n",
    "        x_projected[nn_dims] = np.clip(x_projected[nn_dims], 0, 1)\n",
    "        print(x_projected.T)"
   ]
  },
  {
   "cell_type": "code",
   "execution_count": 116,
   "id": "1ab85288",
   "metadata": {},
   "outputs": [
    {
     "data": {
      "text/plain": [
       "0.0"
      ]
     },
     "execution_count": 116,
     "metadata": {},
     "output_type": "execute_result"
    }
   ],
   "source": [
    "np.linalg.norm(A @ x_projected - b[:,np.newaxis] > 0)"
   ]
  },
  {
   "cell_type": "code",
   "execution_count": 78,
   "id": "d53c8176",
   "metadata": {},
   "outputs": [
    {
     "data": {
      "text/plain": [
       "array([[-5.10845232e-01],\n",
       "       [-1.48915477e+00],\n",
       "       [-1.51084523e+00],\n",
       "       [-4.89154768e-01],\n",
       "       [-1.62970441e+00],\n",
       "       [-3.70295586e-01],\n",
       "       [-7.33508898e-01],\n",
       "       [-1.26649110e+00],\n",
       "       [ 0.00000000e+00],\n",
       "       [-1.00000000e+00],\n",
       "       [-1.10380448e+00],\n",
       "       [ 1.03804484e-01],\n",
       "       [-1.65139488e+00],\n",
       "       [-3.91986051e-01],\n",
       "       [-6.29704414e-01],\n",
       "       [ 6.29704414e-01],\n",
       "       [-2.62970441e+00],\n",
       "       [-1.37029559e+00],\n",
       "       [-1.60801395e+00],\n",
       "       [-3.48605122e-01],\n",
       "       [-1.46701780e+00],\n",
       "       [-2.00000000e+00],\n",
       "       [-1.25940883e+00],\n",
       "       [-1.79239103e+00],\n",
       "       [-2.07608968e-01],\n",
       "       [-7.40591172e-01],\n",
       "       [-2.22044605e-16],\n",
       "       [-5.32982204e-01]])"
      ]
     },
     "execution_count": 78,
     "metadata": {},
     "output_type": "execute_result"
    }
   ],
   "source": [
    "A @ x_projected - b[:,np.newaxis]"
   ]
  },
  {
   "cell_type": "code",
   "execution_count": 44,
   "id": "cfcf01e5",
   "metadata": {},
   "outputs": [
    {
     "data": {
      "text/plain": [
       "array([[-2.85356028],\n",
       "       [ 0.85356028],\n",
       "       [-1.07786576],\n",
       "       [-0.92213424],\n",
       "       [-1.07113465],\n",
       "       [-0.92886535],\n",
       "       [ 0.61124489],\n",
       "       [-2.61124489],\n",
       "       [-0.89226189],\n",
       "       [-0.10773811],\n",
       "       [ 0.61381818],\n",
       "       [-1.61381818],\n",
       "       [-3.0025607 ],\n",
       "       [-2.8602914 ],\n",
       "       [-2.84682917],\n",
       "       [-2.70455987],\n",
       "       [ 0.70455987],\n",
       "       [ 0.84682917],\n",
       "       [ 0.8602914 ],\n",
       "       [ 1.0025607 ],\n",
       "       [ 2.15392842],\n",
       "       [-1.06856136],\n",
       "       [-1.07370794],\n",
       "       [-4.29619772],\n",
       "       [ 2.29619772],\n",
       "       [-0.92629206],\n",
       "       [-0.93143864],\n",
       "       [-4.15392842]])"
      ]
     },
     "execution_count": 44,
     "metadata": {},
     "output_type": "execute_result"
    }
   ],
   "source": [
    "x = np.random.randn(6,1)\n",
    "A @ x - b[:,np.newaxis]"
   ]
  },
  {
   "cell_type": "code",
   "execution_count": 28,
   "id": "22a279aa",
   "metadata": {},
   "outputs": [
    {
     "data": {
      "text/plain": [
       "array([[ 0.40066134],\n",
       "       [-2.40066134],\n",
       "       [ 1.59191559],\n",
       "       [-3.59191559],\n",
       "       [-0.36308441],\n",
       "       [-1.63691559],\n",
       "       [ 3.62949252],\n",
       "       [ 2.35566134],\n",
       "       [-1.55433865],\n",
       "       [-2.82816984],\n",
       "       [ 0.82816984],\n",
       "       [-0.44566135],\n",
       "       [-4.35566134],\n",
       "       [-5.62949252]])"
      ]
     },
     "execution_count": 28,
     "metadata": {},
     "output_type": "execute_result"
    }
   ],
   "source": [
    "A @ x - b[:,np.newaxis]"
   ]
  },
  {
   "cell_type": "code",
   "execution_count": 29,
   "id": "1a306e1a",
   "metadata": {},
   "outputs": [
    {
     "data": {
      "text/plain": [
       "2.23606797749979"
      ]
     },
     "execution_count": 29,
     "metadata": {},
     "output_type": "execute_result"
    }
   ],
   "source": [
    "np.linalg.norm(A @ x - b[:,np.newaxis] > 0 )"
   ]
  },
  {
   "cell_type": "code",
   "execution_count": 36,
   "id": "d93c0b19",
   "metadata": {},
   "outputs": [],
   "source": [
    "x_projected = ProjectRowstoL1NormBall(x.T).T"
   ]
  },
  {
   "cell_type": "code",
   "execution_count": 38,
   "id": "bc0fd8b4",
   "metadata": {},
   "outputs": [
    {
     "data": {
      "text/plain": [
       "0.0"
      ]
     },
     "execution_count": 38,
     "metadata": {},
     "output_type": "execute_result"
    }
   ],
   "source": [
    "np.linalg.norm(A @ x_projected - b[:,np.newaxis] > 0 )"
   ]
  }
 ],
 "metadata": {
  "kernelspec": {
   "display_name": "Python 3 (ipykernel)",
   "language": "python",
   "name": "python3"
  },
  "language_info": {
   "codemirror_mode": {
    "name": "ipython",
    "version": 3
   },
   "file_extension": ".py",
   "mimetype": "text/x-python",
   "name": "python",
   "nbconvert_exporter": "python",
   "pygments_lexer": "ipython3",
   "version": "3.8.12"
  }
 },
 "nbformat": 4,
 "nbformat_minor": 5
}
