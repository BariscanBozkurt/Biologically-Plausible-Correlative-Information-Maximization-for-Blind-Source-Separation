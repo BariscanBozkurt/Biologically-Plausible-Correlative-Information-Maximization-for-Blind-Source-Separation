{
 "cells": [
  {
   "cell_type": "code",
   "execution_count": 1,
   "id": "a278f671",
   "metadata": {},
   "outputs": [],
   "source": [
    "import sys\n",
    "sys.path.append(\"../../src\")\n",
    "import numpy as np\n",
    "import matplotlib.pyplot as plt\n",
    "from IPython import display\n",
    "import pylab as pl\n",
    "\n",
    "from general_utils import *\n",
    "from bss_utils import *\n",
    "from dsp_utils import *\n",
    "from polytope_utils import *\n",
    "from tqdm import tqdm\n",
    "\n",
    "import warnings\n",
    "\n",
    "warnings.filterwarnings(\"ignore\")\n",
    "\n",
    "notebook_name = \"Polytope Plotting\""
   ]
  },
  {
   "cell_type": "code",
   "execution_count": 2,
   "id": "d21da2e2",
   "metadata": {},
   "outputs": [],
   "source": [
    "dim = 3\n",
    "signed_dims = np.array([0, 1, 2])\n",
    "nn_dims = np.array([])\n",
    "sparse_dims_list = []\n",
    "(A, b), V = generate_practical_polytope(dim, signed_dims, nn_dims, sparse_dims_list)"
   ]
  },
  {
   "cell_type": "code",
   "execution_count": 3,
   "id": "99ab32e7",
   "metadata": {},
   "outputs": [
    {
     "data": {
      "text/plain": [
       "0.0"
      ]
     },
     "execution_count": 3,
     "metadata": {},
     "output_type": "execute_result"
    }
   ],
   "source": [
    "np.linalg.norm(A @ V - b[:, np.newaxis] > 0)"
   ]
  },
  {
   "cell_type": "code",
   "execution_count": 4,
   "id": "8d11d9f1",
   "metadata": {},
   "outputs": [],
   "source": [
    "A, b = pypoman.compute_polytope_halfspaces(V.T)"
   ]
  },
  {
   "cell_type": "code",
   "execution_count": 5,
   "id": "aee43670",
   "metadata": {},
   "outputs": [
    {
     "name": "stdout",
     "output_type": "stream",
     "text": [
      "Optimization terminated successfully\n"
     ]
    },
    {
     "data": {
      "text/plain": [
       "array([-1. ,  1. ,  0.3])"
      ]
     },
     "execution_count": 5,
     "metadata": {},
     "output_type": "execute_result"
    }
   ],
   "source": [
    "y = np.array([-2, 1.1, 0.3])\n",
    "ProjectOntoPolytopeCanonical(y, A, b, np.zeros(y.shape[0]), True)"
   ]
  },
  {
   "cell_type": "code",
   "execution_count": 6,
   "id": "190b32d8",
   "metadata": {},
   "outputs": [
    {
     "name": "stdout",
     "output_type": "stream",
     "text": [
      "Optimization terminated successfully\n",
      "Optimization terminated successfully\n"
     ]
    },
    {
     "data": {
      "text/plain": [
       "(array([-2.50000000e-01,  7.50000000e-01,  2.77555756e-16,  1.00000000e+00,\n",
       "         0.00000000e+00,  1.00000000e-02]),\n",
       " array([-2.50000000e-01,  7.50000000e-01,  2.77555756e-16,  1.00000000e+00,\n",
       "         1.11022302e-16,  1.00000000e-02]))"
      ]
     },
     "execution_count": 6,
     "metadata": {},
     "output_type": "execute_result"
    }
   ],
   "source": [
    "dim = 6\n",
    "signed_dims = np.array([0, 1, 2, 5])\n",
    "nn_dims = np.array([3, 4])\n",
    "sparse_dims_list = [np.array([0, 1, 2]), np.array([2, 4, 5])]\n",
    "(A, b), V = generate_practical_polytope(dim, signed_dims, nn_dims, sparse_dims_list)\n",
    "\n",
    "y = np.array([-1.5, 2, 0.4, 3, -2, 0.01])\n",
    "y_projected1 = ProjectOntoPolytopeCanonical(y, A, b, np.zeros(y.shape[0]), True)\n",
    "y_projected2 = ProjectOntoPolytopeCanonical(y, A, b, V.mean(axis = 1), True)\n",
    "y_projected1, y_projected2"
   ]
  },
  {
   "cell_type": "code",
   "execution_count": 7,
   "id": "183e1f3b",
   "metadata": {},
   "outputs": [
    {
     "name": "stdout",
     "output_type": "stream",
     "text": [
      "Optimization terminated successfully\n"
     ]
    }
   ],
   "source": [
    "dim = 15\n",
    "signed_dims = np.arange(15)\n",
    "nn_dims = np.array([])\n",
    "sparse_dims_list = []\n",
    "(A, b), V = generate_practical_polytope(dim, signed_dims, nn_dims, sparse_dims_list)\n",
    "y = np.random.randn(15)\n",
    "y_projected = ProjectOntoPolytopeCanonical(y, A, b, np.zeros(y.shape[0]), True)"
   ]
  },
  {
   "cell_type": "code",
   "execution_count": 8,
   "id": "86b0ac35",
   "metadata": {},
   "outputs": [
    {
     "data": {
      "text/plain": [
       "(array([-1.63284271e+00, -1.17112962e+00,  1.83293201e+00, -2.52566474e-01,\n",
       "         1.33067982e-03,  3.95740808e-01, -2.91967815e-01,  4.13591205e-01,\n",
       "        -1.04220156e+00,  1.21235009e+00,  5.93987709e-01, -3.28564599e-01,\n",
       "         9.26309359e-01, -1.64775894e+00, -1.81924594e+00]),\n",
       " array([-1.        , -1.        ,  1.        , -0.25256647,  0.00133068,\n",
       "         0.39574081, -0.29196782,  0.41359121, -1.        ,  1.        ,\n",
       "         0.59398771, -0.3285646 ,  0.92630936, -1.        , -1.        ]))"
      ]
     },
     "execution_count": 8,
     "metadata": {},
     "output_type": "execute_result"
    }
   ],
   "source": [
    "y, y_projected"
   ]
  },
  {
   "cell_type": "code",
   "execution_count": 9,
   "id": "88764818",
   "metadata": {},
   "outputs": [
    {
     "name": "stdout",
     "output_type": "stream",
     "text": [
      "305 µs ± 235 ns per loop (mean ± std. dev. of 7 runs, 1,000 loops each)\n"
     ]
    }
   ],
   "source": [
    "%timeit ProjectOntoPolytopeCanonical(y, A, b, np.zeros(y.shape[0]), False)"
   ]
  },
  {
   "cell_type": "code",
   "execution_count": 10,
   "id": "66955893",
   "metadata": {},
   "outputs": [
    {
     "data": {
      "text/plain": [
       "(32, 16)"
      ]
     },
     "execution_count": 10,
     "metadata": {},
     "output_type": "execute_result"
    }
   ],
   "source": [
    "dim = 16\n",
    "signed_dims = np.array([])\n",
    "nn_dims = np.arange(16)\n",
    "sparse_dims_list = []\n",
    "(A, b), V = generate_practical_polytope(dim, signed_dims, nn_dims, sparse_dims_list)\n",
    "A.shape"
   ]
  },
  {
   "cell_type": "code",
   "execution_count": 11,
   "id": "b77bdc2f",
   "metadata": {},
   "outputs": [
    {
     "name": "stdout",
     "output_type": "stream",
     "text": [
      "Optimization terminated successfully\n"
     ]
    }
   ],
   "source": [
    "y = np.random.randn(16)\n",
    "y_projected = ProjectOntoPolytopeCanonical(y, A, b, np.zeros(y.shape[0]), True)"
   ]
  },
  {
   "cell_type": "code",
   "execution_count": 12,
   "id": "3bbe7e8d",
   "metadata": {},
   "outputs": [
    {
     "data": {
      "text/plain": [
       "(array([-0.25513977, -0.86360216, -0.88786756,  0.10561846, -1.172492  ,\n",
       "        -0.40750511,  0.87739413,  0.8102965 , -0.74082269,  0.77862019,\n",
       "         2.9026437 , -0.46975041, -1.19815215,  0.26198447,  2.2828798 ,\n",
       "         0.56132781]),\n",
       " array([ 8.88178420e-16, -2.10942375e-15, -2.88657986e-15,  1.05618462e-01,\n",
       "        -2.88657986e-15, -1.05471187e-15,  8.77394134e-01,  8.10296504e-01,\n",
       "        -1.77635684e-15,  7.78620190e-01,  1.00000000e+00, -8.88178420e-16,\n",
       "        -2.88657986e-15,  2.61984469e-01,  1.00000000e+00,  5.61327814e-01]))"
      ]
     },
     "execution_count": 12,
     "metadata": {},
     "output_type": "execute_result"
    }
   ],
   "source": [
    "y, y_projected"
   ]
  },
  {
   "cell_type": "code",
   "execution_count": 13,
   "id": "85c2f7a7",
   "metadata": {},
   "outputs": [
    {
     "name": "stdout",
     "output_type": "stream",
     "text": [
      "329 µs ± 25.7 µs per loop (mean ± std. dev. of 7 runs, 1,000 loops each)\n"
     ]
    }
   ],
   "source": [
    "%timeit ProjectOntoPolytopeCanonical(y, A, b, np.zeros(y.shape[0]), False)"
   ]
  },
  {
   "cell_type": "code",
   "execution_count": null,
   "id": "46b9a8c5",
   "metadata": {},
   "outputs": [],
   "source": []
  }
 ],
 "metadata": {
  "kernelspec": {
   "display_name": "Python 3 (ipykernel)",
   "language": "python",
   "name": "python3"
  },
  "language_info": {
   "codemirror_mode": {
    "name": "ipython",
    "version": 3
   },
   "file_extension": ".py",
   "mimetype": "text/x-python",
   "name": "python",
   "nbconvert_exporter": "python",
   "pygments_lexer": "ipython3",
   "version": "3.8.12"
  }
 },
 "nbformat": 4,
 "nbformat_minor": 5
}
