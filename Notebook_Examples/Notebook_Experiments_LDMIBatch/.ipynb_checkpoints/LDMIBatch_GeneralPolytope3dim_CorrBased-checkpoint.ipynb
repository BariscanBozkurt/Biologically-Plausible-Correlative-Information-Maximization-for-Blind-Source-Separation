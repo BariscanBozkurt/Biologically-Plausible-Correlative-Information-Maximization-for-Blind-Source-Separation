{
 "cells": [
  {
   "cell_type": "markdown",
   "id": "a25c2be1",
   "metadata": {},
   "source": [
    "# Import Required Libraries"
   ]
  },
  {
   "cell_type": "code",
   "execution_count": null,
   "id": "21d94d44",
   "metadata": {},
   "outputs": [],
   "source": [
    "import sys\n",
    "import os\n",
    "\n",
    "os.chdir(\"..\")\n",
    "os.chdir(\"..\")\n",
    "os.chdir(\"./src\")\n",
    "# sys.path.append(\"./src\")"
   ]
  },
  {
   "cell_type": "code",
   "execution_count": null,
   "id": "96d233ea",
   "metadata": {},
   "outputs": [],
   "source": [
    "import numpy as np\n",
    "import matplotlib.pyplot as plt\n",
    "from IPython import display\n",
    "import pylab as pl\n",
    "\n",
    "from LDMIBSS import *\n",
    "from general_utils import *\n",
    "from polytope_utils import *\n",
    "from visualization_utils import *\n",
    "\n",
    "import warnings\n",
    "\n",
    "warnings.filterwarnings(\"ignore\")\n",
    "\n",
    "notebook_name = \"Nonnegative_Antisparse_Copula\""
   ]
  },
  {
   "cell_type": "markdown",
   "id": "2d0fcdf8",
   "metadata": {},
   "source": [
    "# Source Generation and Mixing Scenario"
   ]
  },
  {
   "cell_type": "code",
   "execution_count": null,
   "id": "f347c550",
   "metadata": {},
   "outputs": [],
   "source": [
    "dim = 3\n",
    "N = 10000\n",
    "NumberofSources = dim\n",
    "NumberofMixtures = 6\n",
    "\n",
    "signed_dims = np.array([0, 1])\n",
    "nn_dims = np.array([2])\n",
    "sparse_dims_list = [np.array([0, 1]), np.array([1, 2])]\n",
    "(A, b), V = generate_practical_polytope(dim, signed_dims, nn_dims, sparse_dims_list)\n",
    "S = generate_uniform_points_in_polytope(V, N)"
   ]
  },
  {
   "cell_type": "code",
   "execution_count": null,
   "id": "825739b1",
   "metadata": {},
   "outputs": [],
   "source": [
    "plt.figure(figsize=(20, 5))\n",
    "plt.subplot(1, 3, 1)\n",
    "plt.scatter(S[0, :], S[1, :])\n",
    "plt.xlabel(\"$S_{:,1}$\", fontsize=25)\n",
    "plt.ylabel(\"$S_{:,2}$\", fontsize=25)\n",
    "plt.grid(linewidth=0.2)\n",
    "plt.subplot(1, 3, 2)\n",
    "plt.scatter(S[0, :], S[2, :])\n",
    "plt.xlabel(\"$S_{:,1}$\", fontsize=25)\n",
    "plt.ylabel(\"$S_{:,3}$\", fontsize=25)\n",
    "plt.grid(linewidth=0.2)\n",
    "plt.subplot(1, 3, 3)\n",
    "plt.scatter(S[1, :], S[2, :])\n",
    "plt.xlabel(\"$S_{:,2}$\", fontsize=25)\n",
    "plt.ylabel(\"$S_{:,3}$\", fontsize=25)\n",
    "plt.grid(linewidth=0.2)\n",
    "\n",
    "plt.suptitle(\"Scatter Plot of Source Components\", fontsize=30)\n",
    "# plt.savefig('Pex_source_components.pdf', format='pdf', dpi = 1200)"
   ]
  },
  {
   "cell_type": "code",
   "execution_count": null,
   "id": "5322dd4c",
   "metadata": {},
   "outputs": [],
   "source": [
    "# Generate Mxr random mixing from i.i.d N(0,1)\n",
    "A = np.random.randn(NumberofMixtures, NumberofSources)\n",
    "X = np.dot(A, S)\n",
    "\n",
    "SNR = 30\n",
    "X, NoisePart = addWGN(X, SNR, return_noise=True)\n",
    "\n",
    "SNRinp = 10 * np.log10(\n",
    "    np.sum(np.mean((X - NoisePart) ** 2, axis=1))\n",
    "    / np.sum(np.mean(NoisePart**2, axis=1))\n",
    ")\n",
    "print(\"The following is the mixture matrix A\")\n",
    "display_matrix(A)\n",
    "print(\"Input SNR is : {}\".format(SNRinp))"
   ]
  },
  {
   "cell_type": "markdown",
   "id": "4f161ed1",
   "metadata": {},
   "source": [
    "# Visualize Generated Sources and Mixtures"
   ]
  },
  {
   "cell_type": "code",
   "execution_count": null,
   "id": "7fac953e",
   "metadata": {},
   "outputs": [],
   "source": [
    "subplot_1D_signals(\n",
    "    S[:, 0:100], title=\"Original Signals\", figsize=(15.2, 9), colorcode=None\n",
    ")\n",
    "subplot_1D_signals(\n",
    "    X[:, 0:100], title=\"Mixture Signals\", figsize=(15, 18), colorcode=None\n",
    ")"
   ]
  },
  {
   "cell_type": "markdown",
   "id": "08db0906",
   "metadata": {},
   "source": [
    "# Algorithm Hyperparameter Selection and Weight Initialization"
   ]
  },
  {
   "cell_type": "code",
   "execution_count": null,
   "id": "83583247",
   "metadata": {},
   "outputs": [],
   "source": [
    "s_dim = S.shape[0]\n",
    "x_dim = X.shape[0]\n",
    "debug_iteration_point = 1000\n",
    "model = LDMIBSS(s_dim=s_dim, x_dim=x_dim, set_ground_truth=True, S=S, A=A)"
   ]
  },
  {
   "cell_type": "markdown",
   "id": "e93d0f26",
   "metadata": {},
   "source": [
    "# Run LDMI Algorithm on Mixture Signals"
   ]
  },
  {
   "cell_type": "code",
   "execution_count": null,
   "id": "bb6210bf",
   "metadata": {},
   "outputs": [],
   "source": [
    "model.fit_batch_general_polytope(\n",
    "    X,\n",
    "    signed_dims,\n",
    "    nn_dims,\n",
    "    sparse_dims_list,\n",
    "    epsilon=1e-5,\n",
    "    mu_start=200,\n",
    "    n_iterations=10000,\n",
    "    method=\"correlation\",\n",
    "    lr_rule=\"inv_sqrt\",\n",
    "    debug_iteration_point=debug_iteration_point,\n",
    "    plot_in_jupyter=True,\n",
    ")"
   ]
  },
  {
   "cell_type": "markdown",
   "id": "47b79106",
   "metadata": {},
   "source": [
    "# Calculate Resulting Component SNRs and Overall SINR"
   ]
  },
  {
   "cell_type": "code",
   "execution_count": null,
   "id": "072a1a94",
   "metadata": {},
   "outputs": [],
   "source": [
    "Wf = model.W\n",
    "Y = Wf @ X\n",
    "Y_ = signed_and_permutation_corrected_sources(S, Y)\n",
    "coef_ = ((Y_ * S).sum(axis=1) / (Y_ * Y_).sum(axis=1)).reshape(-1, 1)\n",
    "Y_ = coef_ * Y_\n",
    "\n",
    "print(\"Component SNR Values : {}\\n\".format(snr_jit(S, Y_)))\n",
    "\n",
    "SINRwsm = 10 * np.log10(CalculateSINRjit(Y_, S, False)[0])\n",
    "\n",
    "print(\"Overall SINR : {}\".format(SINRwsm))"
   ]
  },
  {
   "cell_type": "markdown",
   "id": "99e8c11e",
   "metadata": {},
   "source": [
    "# Vizualize Extracted Signals Compared to Original Sources"
   ]
  },
  {
   "cell_type": "code",
   "execution_count": null,
   "id": "a10fd9e9",
   "metadata": {},
   "outputs": [],
   "source": [
    "subplot_1D_signals(\n",
    "    Y_[:, 0:100],\n",
    "    title=\"Extracted Signals (Sign and Permutation Corrected)\",\n",
    "    figsize=(15.2, 9),\n",
    "    colorcode=None,\n",
    ")\n",
    "subplot_1D_signals(\n",
    "    S[:, 0:100], title=\"Original Signals\", figsize=(15.2, 9), colorcode=None\n",
    ")"
   ]
  }
 ],
 "metadata": {
  "kernelspec": {
   "display_name": "Python 3 (ipykernel)",
   "language": "python",
   "name": "python3"
  },
  "language_info": {
   "codemirror_mode": {
    "name": "ipython",
    "version": 3
   },
   "file_extension": ".py",
   "mimetype": "text/x-python",
   "name": "python",
   "nbconvert_exporter": "python",
   "pygments_lexer": "ipython3",
   "version": "3.8.12"
  }
 },
 "nbformat": 4,
 "nbformat_minor": 5
}
