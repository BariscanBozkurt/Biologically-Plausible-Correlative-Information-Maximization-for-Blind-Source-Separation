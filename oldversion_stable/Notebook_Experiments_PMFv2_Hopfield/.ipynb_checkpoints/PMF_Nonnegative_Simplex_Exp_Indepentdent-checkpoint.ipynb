{
 "cells": [
  {
   "cell_type": "code",
   "execution_count": null,
   "id": "9bc81d21",
   "metadata": {},
   "outputs": [],
   "source": [
    "import sys\n",
    "import os\n",
    "\n",
    "os.chdir(\"..\")\n",
    "os.chdir(\"./src\")\n",
    "# sys.path.append(\"./src\")"
   ]
  },
  {
   "cell_type": "code",
   "execution_count": null,
   "id": "bdc9daa4",
   "metadata": {},
   "outputs": [],
   "source": [
    "from IPython import display\n",
    "from IPython.display import clear_output\n",
    "import pylab as pl\n",
    "import numpy as np\n",
    "import matplotlib.pyplot as plt\n",
    "from numba import njit, jit\n",
    "from time import time\n",
    "\n",
    "# from helpers import *\n",
    "from PMFBSSv2 import *\n",
    "from scipy import linalg\n",
    "\n",
    "# np.random.seed(13)\n",
    "%load_ext autoreload\n",
    "%autoreload 2"
   ]
  },
  {
   "cell_type": "code",
   "execution_count": null,
   "id": "10b6b9c8",
   "metadata": {},
   "outputs": [],
   "source": [
    "N = 500000\n",
    "NumberofSources = 5\n",
    "NumberofMixtures = 10\n",
    "# first_row = [1, 0.5, 0.5, 0.5, 0.5]\n",
    "# calib_correl_matrix = linalg.toeplitz(first_row, first_row)\n",
    "# L = np.linalg.cholesky(calib_correl_matrix)\n",
    "S = np.random.exponential(scale=1.0, size=(NumberofSources, int(N)))\n",
    "# S = L @ S\n",
    "S = S / np.sum(S, axis=0)\n",
    "print(\"The following is the correlation matrix of sources\")\n",
    "display_matrix(np.corrcoef(S))\n",
    "plt.scatter(S[0, :], S[1, :])"
   ]
  },
  {
   "cell_type": "code",
   "execution_count": null,
   "id": "a43548b5",
   "metadata": {},
   "outputs": [],
   "source": [
    "np.corrcoef(S)"
   ]
  },
  {
   "cell_type": "code",
   "execution_count": null,
   "id": "09528ac1",
   "metadata": {},
   "outputs": [],
   "source": [
    "# Generate Mxr random mixing from i.i.d N(0,1)\n",
    "A = np.random.randn(NumberofMixtures, NumberofSources)\n",
    "Y = np.dot(A, S)\n",
    "\n",
    "SNR = 30  # dB\n",
    "NoiseAmp = 10 ** (-SNR / 20)  # * np.sqrt(NumberofSources)\n",
    "NoisePart = NoiseAmp * np.random.randn(Y.shape[0], Y.shape[1])\n",
    "Y = Y + NoisePart\n",
    "SNRinp = 10 * np.log10(np.sum(np.var(Y, axis=1)) / np.sum(np.var(NoisePart, axis=1)))\n",
    "print(\"The following is the mixture matrix A\")\n",
    "display_matrix(A)\n",
    "print(\"Input SNR is : {}\".format(SNRinp))"
   ]
  },
  {
   "cell_type": "code",
   "execution_count": null,
   "id": "f9f76ed6",
   "metadata": {},
   "outputs": [],
   "source": [
    "subplot_1D_signals(\n",
    "    S.T[0:100], title=\"Original Signals\", figsize=(15.2, 9), colorcode=None\n",
    ")\n",
    "subplot_1D_signals(\n",
    "    Y.T[0:100], title=\"Mixture Signals\", figsize=(15, 18), colorcode=None\n",
    ")"
   ]
  },
  {
   "cell_type": "code",
   "execution_count": null,
   "id": "76eadd7c",
   "metadata": {},
   "outputs": [],
   "source": [
    "S.sum(axis=0)"
   ]
  },
  {
   "cell_type": "code",
   "execution_count": null,
   "id": "3137c197",
   "metadata": {},
   "outputs": [],
   "source": [
    "lambda_ = 1 - 1e-2 / 10\n",
    "beta = 30\n",
    "alpha = 0.9 * lambda_ / (1 - lambda_)\n",
    "s_dim = S.shape[0]\n",
    "y_dim = Y.shape[0]\n",
    "\n",
    "# Inverse output covariance\n",
    "B = 5 * np.eye(s_dim)\n",
    "\n",
    "\n",
    "debug_iteration_point = 1000\n",
    "model = OnlinePMF(\n",
    "    s_dim=s_dim,\n",
    "    y_dim=y_dim,\n",
    "    muW=1e-3,\n",
    "    lambda_=lambda_,\n",
    "    beta=beta,\n",
    "    alpha=alpha,\n",
    "    B=B,\n",
    "    neural_OUTPUT_COMP_TOL=1e-6,\n",
    "    set_ground_truth=True,\n",
    "    Sgt=S,\n",
    "    A=A,\n",
    ")"
   ]
  },
  {
   "cell_type": "code",
   "execution_count": null,
   "id": "146fd5bf",
   "metadata": {},
   "outputs": [],
   "source": [
    "model.fit_batch_simplex(\n",
    "    Y=Y,\n",
    "    n_epochs=1,\n",
    "    neural_dynamic_iterations=500,\n",
    "    plot_in_jupyter=True,\n",
    "    neural_lr_start=0.1,\n",
    "    neural_lr_stop=1e-3,\n",
    "    debug_iteration_point=debug_iteration_point,\n",
    "    shuffle=True,\n",
    ")"
   ]
  },
  {
   "cell_type": "code",
   "execution_count": null,
   "id": "35a9456d",
   "metadata": {},
   "outputs": [],
   "source": [
    "mpl.rcParams[\"xtick.labelsize\"] = 18\n",
    "mpl.rcParams[\"ytick.labelsize\"] = 18\n",
    "plot_convergence_plot(\n",
    "    model.SIR_list,\n",
    "    xlabel=\"Number of Iterations / {}\".format(debug_iteration_point),\n",
    "    ylabel=\"SINR (dB)\",\n",
    "    title=\"SINR Convergence Plot\",\n",
    "    colorcode=None,\n",
    "    linewidth=1.8,\n",
    ")\n",
    "\n",
    "print(\"Final SIR: {}\".format(np.array(model.SIR_list[-1])))"
   ]
  },
  {
   "cell_type": "code",
   "execution_count": null,
   "id": "96b85dde",
   "metadata": {},
   "outputs": [],
   "source": [
    "Wf = model.compute_overall_mapping(return_mapping=True)\n",
    "Shat = Wf @ Y\n",
    "Shat.shape, Y.shape, S.shape"
   ]
  },
  {
   "cell_type": "code",
   "execution_count": null,
   "id": "dea01770",
   "metadata": {},
   "outputs": [],
   "source": [
    "Shat_ = signed_and_permutation_corrected_sources(S.T, Shat.T).T"
   ]
  },
  {
   "cell_type": "code",
   "execution_count": null,
   "id": "f6158c3a",
   "metadata": {},
   "outputs": [],
   "source": [
    "subplot_1D_signals(\n",
    "    X=Shat_.T[0:100],\n",
    "    title=\"Extracted Signals (Sign and Permutation Corrected)\",\n",
    "    figsize=(15.2, 9),\n",
    "    colorcode=None,\n",
    ")\n",
    "subplot_1D_signals(\n",
    "    X=S.T[0:100], title=\"Original Signals\", figsize=(15.2, 9), colorcode=None\n",
    ")"
   ]
  }
 ],
 "metadata": {
  "kernelspec": {
   "display_name": "Python 3",
   "language": "python",
   "name": "python3"
  },
  "language_info": {
   "codemirror_mode": {
    "name": "ipython",
    "version": 3
   },
   "file_extension": ".py",
   "mimetype": "text/x-python",
   "name": "python",
   "nbconvert_exporter": "python",
   "pygments_lexer": "ipython3",
   "version": "3.6.13"
  }
 },
 "nbformat": 4,
 "nbformat_minor": 5
}
