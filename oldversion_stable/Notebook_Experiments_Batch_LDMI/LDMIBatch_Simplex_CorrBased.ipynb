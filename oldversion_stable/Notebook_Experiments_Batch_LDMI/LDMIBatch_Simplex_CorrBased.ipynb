{
 "cells": [
  {
   "cell_type": "code",
   "execution_count": null,
   "id": "21d94d44",
   "metadata": {},
   "outputs": [],
   "source": [
    "import sys\n",
    "import os\n",
    "\n",
    "os.chdir(\"..\")\n",
    "os.chdir(\"./src\")\n",
    "# sys.path.append(\"./src\")"
   ]
  },
  {
   "cell_type": "code",
   "execution_count": null,
   "id": "96d233ea",
   "metadata": {},
   "outputs": [],
   "source": [
    "from IPython import display\n",
    "from IPython.display import clear_output\n",
    "import pylab as pl\n",
    "import numpy as np\n",
    "import matplotlib.pyplot as plt\n",
    "from numba import njit, jit\n",
    "from time import time\n",
    "\n",
    "# from helpers import *\n",
    "from LDMIBSS import *\n",
    "\n",
    "%load_ext autoreload\n",
    "%autoreload 2"
   ]
  },
  {
   "cell_type": "code",
   "execution_count": null,
   "id": "f347c550",
   "metadata": {},
   "outputs": [],
   "source": [
    "N = 10000\n",
    "NumberofSources = 5\n",
    "NumberofMixtures = 10\n",
    "\n",
    "S = np.random.exponential(scale=1.0, size=(NumberofSources, int(N)))\n",
    "S = S / np.sum(S, axis=0)\n",
    "print(\"The following is the correlation matrix of sources\")\n",
    "display_matrix(np.corrcoef(S))\n",
    "plt.scatter(S[0, :], S[1, :])\n",
    "\n",
    "# Generate Mxr random mixing from i.i.d N(0,1)\n",
    "A = np.random.randn(NumberofMixtures, NumberofSources)\n",
    "X = np.dot(A, S)\n",
    "\n",
    "SNR = 30\n",
    "X, NoisePart = addWGN(X, SNR, return_noise=True)\n",
    "\n",
    "SNRinp = 10 * np.log10(\n",
    "    np.sum(np.mean((X - NoisePart) ** 2, axis=1))\n",
    "    / np.sum(np.mean(NoisePart**2, axis=1))\n",
    ")\n",
    "print(\"The following is the mixture matrix A\")\n",
    "display_matrix(A)\n",
    "print(\"Input SNR is : {}\".format(SNRinp))"
   ]
  },
  {
   "cell_type": "code",
   "execution_count": null,
   "id": "83583247",
   "metadata": {},
   "outputs": [],
   "source": [
    "s_dim = S.shape[0]\n",
    "x_dim = X.shape[0]\n",
    "debug_iteration_point = 200\n",
    "model = LDMIBSS(s_dim=s_dim, x_dim=x_dim, set_ground_truth=True, S=S, A=A)"
   ]
  },
  {
   "cell_type": "code",
   "execution_count": null,
   "id": "bb6210bf",
   "metadata": {},
   "outputs": [],
   "source": [
    "model.fit_batch_simplex(\n",
    "    X,\n",
    "    epsilon=1e-5,\n",
    "    mu_start=100,\n",
    "    n_iterations=10000,\n",
    "    method=\"correlation\",\n",
    "    debug_iteration_point=debug_iteration_point,\n",
    "    plot_in_jupyter=True,\n",
    ")"
   ]
  },
  {
   "cell_type": "code",
   "execution_count": null,
   "id": "cdd069c3",
   "metadata": {},
   "outputs": [],
   "source": [
    "mpl.rcParams[\"xtick.labelsize\"] = 18\n",
    "mpl.rcParams[\"ytick.labelsize\"] = 18\n",
    "plot_convergence_plot(\n",
    "    model.SINR_list,\n",
    "    xlabel=\"Number of Iterations / {}\".format(debug_iteration_point),\n",
    "    ylabel=\"SINR (dB)\",\n",
    "    title=\"SINR Convergence Plot\",\n",
    "    colorcode=None,\n",
    "    linewidth=1.8,\n",
    ")\n",
    "\n",
    "print(\"Final SINR: {}\".format(np.array(model.SINR_list[-1])))"
   ]
  },
  {
   "cell_type": "code",
   "execution_count": null,
   "id": "5859cc50",
   "metadata": {},
   "outputs": [],
   "source": [
    "W = model.W\n",
    "Y = W @ X\n",
    "10 * np.log10(CalculateSINR(Y, S)[0])"
   ]
  },
  {
   "cell_type": "code",
   "execution_count": null,
   "id": "6e9302f7",
   "metadata": {},
   "outputs": [],
   "source": [
    "Y = W @ X\n",
    "print(Y.shape, X.shape, S.shape)\n",
    "Y_ = signed_and_permutation_corrected_sources(S.T, Y.T)\n",
    "coef_ = (Y_ * S.T).sum(axis=0) / (Y_ * Y_).sum(axis=0)\n",
    "Y_ = coef_ * Y_\n",
    "snr(S.T, Y_)"
   ]
  },
  {
   "cell_type": "code",
   "execution_count": null,
   "id": "cd4dce71",
   "metadata": {},
   "outputs": [],
   "source": [
    "Y = W @ X\n",
    "Y_ = signed_and_permutation_corrected_sources(S.T, Y.T).T\n",
    "subplot_1D_signals(\n",
    "    X=Y_.T[0:100],\n",
    "    title=\"Extracted Signals (Sign and Permutation Corrected)\",\n",
    "    figsize=(15.2, 9),\n",
    "    colorcode=None,\n",
    ")\n",
    "subplot_1D_signals(\n",
    "    X=S.T[0:100], title=\"Original Signals\", figsize=(15.2, 9), colorcode=None\n",
    ")"
   ]
  },
  {
   "cell_type": "code",
   "execution_count": null,
   "id": "c9f8a3d6",
   "metadata": {},
   "outputs": [],
   "source": [
    "# def projection_simplex(V, z=1, axis=None):\n",
    "#     \"\"\"\n",
    "#     Projection of x onto the simplex, scaled by z:\n",
    "#         P(x; z) = argmin_{y >= 0, sum(y) = z} ||y - x||^2\n",
    "#     z: float or array\n",
    "#         If array, len(z) must be compatible with V\n",
    "#     axis: None or int\n",
    "#         axis=None: project V by P(V.ravel(); z)\n",
    "#         axis=1: project each V[i] by P(V[i]; z[i])\n",
    "#         axis=0: project each V[:, j] by P(V[:, j]; z[j])\n",
    "#     \"\"\"\n",
    "#     if axis == 1:\n",
    "#         n_features = V.shape[1]\n",
    "#         U = np.sort(V, axis=1)[:, ::-1]\n",
    "#         z = np.ones(len(V)) * z\n",
    "#         cssv = np.cumsum(U, axis=1) - z[:, np.newaxis]\n",
    "#         ind = np.arange(n_features) + 1\n",
    "#         cond = U - cssv / ind > 0\n",
    "#         rho = np.count_nonzero(cond, axis=1)\n",
    "#         theta = cssv[np.arange(len(V)), rho - 1] / rho\n",
    "#         return np.maximum(V - theta[:, np.newaxis], 0)\n",
    "\n",
    "#     elif axis == 0:\n",
    "#         return projection_simplex(V.T, z, axis=1).T\n",
    "\n",
    "#     else:\n",
    "#         V = V.ravel().reshape(1, -1)\n",
    "#         return projection_simplex(V, z, axis=1).ravel()"
   ]
  },
  {
   "cell_type": "code",
   "execution_count": null,
   "id": "4aee3490",
   "metadata": {},
   "outputs": [],
   "source": [
    "# %timeit ProjectColstoSimplex(S)"
   ]
  },
  {
   "cell_type": "code",
   "execution_count": null,
   "id": "b19f03f0",
   "metadata": {},
   "outputs": [],
   "source": [
    "# np.linalg.norm(projection_simplex(S, 1, 0) - ProjectColstoSimplex(S))"
   ]
  },
  {
   "cell_type": "code",
   "execution_count": null,
   "id": "8cf45f3e",
   "metadata": {},
   "outputs": [],
   "source": [
    "# %timeit projection_simplex(S, 1, 0)"
   ]
  },
  {
   "cell_type": "code",
   "execution_count": null,
   "id": "a5f56d22",
   "metadata": {},
   "outputs": [],
   "source": [
    "# %timeit ProjectRowstoL1NormBall(S.T).T"
   ]
  }
 ],
 "metadata": {
  "kernelspec": {
   "display_name": "Python 3 (ipykernel)",
   "language": "python",
   "name": "python3"
  },
  "language_info": {
   "codemirror_mode": {
    "name": "ipython",
    "version": 3
   },
   "file_extension": ".py",
   "mimetype": "text/x-python",
   "name": "python",
   "nbconvert_exporter": "python",
   "pygments_lexer": "ipython3",
   "version": "3.8.12"
  }
 },
 "nbformat": 4,
 "nbformat_minor": 5
}
