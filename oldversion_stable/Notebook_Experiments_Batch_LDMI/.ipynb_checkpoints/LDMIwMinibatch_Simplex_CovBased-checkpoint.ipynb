{
 "cells": [
  {
   "cell_type": "code",
   "execution_count": null,
   "id": "5bbcbe56",
   "metadata": {},
   "outputs": [],
   "source": [
    "import sys\n",
    "import os\n",
    "\n",
    "os.chdir(\"..\")\n",
    "os.chdir(\"./src\")\n",
    "# sys.path.append(\"./src\")"
   ]
  },
  {
   "cell_type": "code",
   "execution_count": null,
   "id": "ccefaca5",
   "metadata": {},
   "outputs": [],
   "source": [
    "from IPython import display\n",
    "from IPython.display import clear_output\n",
    "import pylab as pl\n",
    "import numpy as np\n",
    "import matplotlib.pyplot as plt\n",
    "from numba import njit, jit\n",
    "from time import time\n",
    "\n",
    "# from helpers import *\n",
    "from LDMIBSS import *\n",
    "\n",
    "%load_ext autoreload\n",
    "%autoreload 2"
   ]
  },
  {
   "cell_type": "code",
   "execution_count": null,
   "id": "ca0f48fe",
   "metadata": {},
   "outputs": [],
   "source": [
    "N = 500000\n",
    "NumberofSources = 5\n",
    "NumberofMixtures = 10\n",
    "\n",
    "S = np.random.exponential(scale=1.0, size=(NumberofSources, int(N)))\n",
    "S = S / np.sum(S, axis=0)\n",
    "print(\"The following is the correlation matrix of sources\")\n",
    "display_matrix(np.corrcoef(S))\n",
    "plt.scatter(S[0, :], S[1, :])\n",
    "\n",
    "# Generate Mxr random mixing from i.i.d N(0,1)\n",
    "A = np.random.randn(NumberofMixtures, NumberofSources)\n",
    "X = np.dot(A, S)\n",
    "\n",
    "SNR = 30\n",
    "X, NoisePart = addWGN(X, SNR, return_noise=True)\n",
    "\n",
    "SNRinp = 10 * np.log10(\n",
    "    np.sum(np.mean((X - NoisePart) ** 2, axis=1))\n",
    "    / np.sum(np.mean(NoisePart**2, axis=1))\n",
    ")\n",
    "print(\"The following is the mixture matrix A\")\n",
    "display_matrix(A)\n",
    "print(\"Input SNR is : {}\".format(SNRinp))"
   ]
  },
  {
   "cell_type": "code",
   "execution_count": null,
   "id": "180bdf1c",
   "metadata": {},
   "outputs": [],
   "source": [
    "s_dim = S.shape[0]\n",
    "x_dim = X.shape[0]\n",
    "debug_iteration_point = 1000\n",
    "model = MinibatchLDMIBSS(s_dim=s_dim, x_dim=x_dim, set_ground_truth=True, S=S, A=A)"
   ]
  },
  {
   "cell_type": "code",
   "execution_count": null,
   "id": "810733df",
   "metadata": {},
   "outputs": [],
   "source": [
    "model.fit_batch_simplex(\n",
    "    X,\n",
    "    batch_size=20000,\n",
    "    epsilon=1e-5,\n",
    "    mu_start=200,\n",
    "    n_iterations_per_batch=600,\n",
    "    method=\"covariance\",\n",
    "    debug_iteration_point=debug_iteration_point,\n",
    "    plot_in_jupyter=True,\n",
    ")"
   ]
  },
  {
   "cell_type": "code",
   "execution_count": null,
   "id": "400c8303",
   "metadata": {},
   "outputs": [],
   "source": [
    "W = model.W\n",
    "Y = W @ X\n",
    "10 * np.log10(CalculateSINR(Y, S)[0])"
   ]
  },
  {
   "cell_type": "code",
   "execution_count": null,
   "id": "f11f1225",
   "metadata": {},
   "outputs": [],
   "source": [
    "Y = W @ X\n",
    "Y_ = signed_and_permutation_corrected_sources(S.T, Y.T).T\n",
    "subplot_1D_signals(\n",
    "    X=Y_.T[0:100],\n",
    "    title=\"Extracted Signals (Sign and Permutation Corrected)\",\n",
    "    figsize=(15.2, 9),\n",
    "    colorcode=None,\n",
    ")\n",
    "subplot_1D_signals(\n",
    "    X=S.T[0:100], title=\"Original Signals\", figsize=(15.2, 9), colorcode=None\n",
    ")"
   ]
  },
  {
   "cell_type": "code",
   "execution_count": null,
   "id": "bc59aab6",
   "metadata": {},
   "outputs": [],
   "source": [
    "Out = W @ X\n",
    "r = S.shape[0]\n",
    "G = np.dot(\n",
    "    Out - np.reshape(np.mean(Out, 1), (r, 1)),\n",
    "    np.linalg.pinv(S - np.reshape(np.mean(S, 1), (r, 1))),\n",
    ")\n",
    "indmax = np.argmax(np.abs(G), 1)\n",
    "indmax = find_permutation_between_source_and_estimation(Y.T, S.T)\n",
    "GG = np.zeros((r, r))\n",
    "for kk in range(r):\n",
    "    GG[kk, indmax[kk]] = np.dot(\n",
    "        Out[kk, :] - np.mean(Out[kk, :]), S[indmax[kk], :].T - np.mean(S[indmax[kk], :])\n",
    "    ) / np.dot(\n",
    "        S[indmax[kk], :] - np.mean(S[indmax[kk], :]),\n",
    "        S[indmax[kk], :].T - np.mean(S[indmax[kk], :]),\n",
    "    )  # (G[kk,indmax[kk]])\n",
    "ZZ = GG @ (S - np.reshape(np.mean(S, 1), (r, 1))) + np.reshape(np.mean(Out, 1), (r, 1))\n",
    "E = Out - ZZ\n",
    "MSE = np.linalg.norm(E, \"fro\") ** 2\n",
    "SigPow = np.linalg.norm(ZZ, \"fro\") ** 2\n",
    "SINR = SigPow / MSE"
   ]
  },
  {
   "cell_type": "code",
   "execution_count": null,
   "id": "807bfd2f",
   "metadata": {},
   "outputs": [],
   "source": [
    "10 * np.log10(SINR)"
   ]
  },
  {
   "cell_type": "code",
   "execution_count": null,
   "id": "e68f294c",
   "metadata": {},
   "outputs": [],
   "source": [
    "indmax"
   ]
  },
  {
   "cell_type": "code",
   "execution_count": null,
   "id": "96a41100",
   "metadata": {},
   "outputs": [],
   "source": [
    "np.mod(find_permutation_between_source_and_estimation(Y.T, S.T), 5)"
   ]
  }
 ],
 "metadata": {
  "kernelspec": {
   "display_name": "Python 3",
   "language": "python",
   "name": "python3"
  },
  "language_info": {
   "codemirror_mode": {
    "name": "ipython",
    "version": 3
   },
   "file_extension": ".py",
   "mimetype": "text/x-python",
   "name": "python",
   "nbconvert_exporter": "python",
   "pygments_lexer": "ipython3",
   "version": "3.6.13"
  }
 },
 "nbformat": 4,
 "nbformat_minor": 5
}
