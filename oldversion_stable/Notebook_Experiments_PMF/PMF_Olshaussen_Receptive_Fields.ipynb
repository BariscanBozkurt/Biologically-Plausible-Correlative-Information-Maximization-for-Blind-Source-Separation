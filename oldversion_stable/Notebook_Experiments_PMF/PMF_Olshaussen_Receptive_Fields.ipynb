{
 "cells": [
  {
   "cell_type": "code",
   "execution_count": null,
   "id": "7e2b137a",
   "metadata": {},
   "outputs": [],
   "source": [
    "import sys\n",
    "import os\n",
    "\n",
    "os.chdir(\"..\")\n",
    "os.chdir(\"./src\")\n",
    "# sys.path.append(\"./src\")"
   ]
  },
  {
   "cell_type": "code",
   "execution_count": null,
   "id": "1c206cf7",
   "metadata": {},
   "outputs": [],
   "source": [
    "from IPython import display\n",
    "from IPython.display import clear_output\n",
    "import pylab as pl\n",
    "import numpy as np\n",
    "import matplotlib.pyplot as plt\n",
    "from numba import njit, jit\n",
    "from time import time\n",
    "import scipy.io\n",
    "\n",
    "# from helpers import *\n",
    "from PMFBSS import *\n",
    "\n",
    "# np.random.seed(13)\n",
    "%load_ext autoreload\n",
    "%autoreload 2"
   ]
  },
  {
   "cell_type": "code",
   "execution_count": null,
   "id": "9f481be7",
   "metadata": {},
   "outputs": [],
   "source": [
    "os.chdir(\"..\")\n",
    "source_path = \"./OlshaussenData\"\n",
    "Y = scipy.io.loadmat(os.path.join(source_path, \"imagepatcheselfwhitened.mat\"))[\n",
    "    \"imagepatches\"\n",
    "]"
   ]
  },
  {
   "cell_type": "code",
   "execution_count": null,
   "id": "8acd4926",
   "metadata": {},
   "outputs": [],
   "source": [
    "INPUT_STD = 0.5\n",
    "for MixtureIndex in range(Y.shape[0]):\n",
    "    stdx = np.std(Y[MixtureIndex, :])\n",
    "    Y[MixtureIndex, :] = Y[MixtureIndex, :] / stdx * INPUT_STD\n",
    "\n",
    "lambda_ = 1 - 1e-2 / 10\n",
    "beta = 5\n",
    "s_dim = 144\n",
    "y_dim = Y.shape[0]\n",
    "\n",
    "# Inverse output covariance\n",
    "B = 1 * np.eye(s_dim)\n",
    "\n",
    "\n",
    "debug_iteration_point = 1000\n",
    "model = OnlinePMF(\n",
    "    s_dim=s_dim,\n",
    "    y_dim=y_dim,\n",
    "    muW=1e-4,\n",
    "    lambda_=lambda_,\n",
    "    beta=beta,\n",
    "    B=B,\n",
    "    neural_OUTPUT_COMP_TOL=1e-6,\n",
    "    set_ground_truth=True,\n",
    "    Sgt=None,\n",
    "    A=None,\n",
    ")"
   ]
  },
  {
   "cell_type": "code",
   "execution_count": null,
   "id": "86c74572",
   "metadata": {},
   "outputs": [],
   "source": [
    "model.fit_batch_olshaussen(\n",
    "    Y=Y,\n",
    "    n_epochs=1,\n",
    "    neural_dynamic_iterations=500,\n",
    "    plot_in_jupyter=True,\n",
    "    neural_lr_start=0.1,\n",
    "    neural_lr_stop=1e-10,\n",
    "    debug_iteration_point=debug_iteration_point,\n",
    "    shuffle=True,\n",
    ")"
   ]
  },
  {
   "cell_type": "code",
   "execution_count": null,
   "id": "42532335",
   "metadata": {},
   "outputs": [],
   "source": [
    "Wf = model.compute_overall_mapping(return_mapping=True)"
   ]
  },
  {
   "cell_type": "code",
   "execution_count": null,
   "id": "795c30bf",
   "metadata": {},
   "outputs": [],
   "source": [
    "ZeroOneNormalizeData(np.reshape(Wf[0, :], (12, 12)))"
   ]
  }
 ],
 "metadata": {
  "kernelspec": {
   "display_name": "Python 3 (ipykernel)",
   "language": "python",
   "name": "python3"
  },
  "language_info": {
   "codemirror_mode": {
    "name": "ipython",
    "version": 3
   },
   "file_extension": ".py",
   "mimetype": "text/x-python",
   "name": "python",
   "nbconvert_exporter": "python",
   "pygments_lexer": "ipython3",
   "version": "3.8.12"
  }
 },
 "nbformat": 4,
 "nbformat_minor": 5
}
