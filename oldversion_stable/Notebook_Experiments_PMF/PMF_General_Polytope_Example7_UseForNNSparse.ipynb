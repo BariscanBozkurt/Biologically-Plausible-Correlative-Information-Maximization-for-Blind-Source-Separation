{
 "cells": [
  {
   "cell_type": "code",
   "execution_count": null,
   "id": "17974735",
   "metadata": {},
   "outputs": [],
   "source": [
    "import sys\n",
    "import os\n",
    "\n",
    "os.chdir(\"..\")\n",
    "os.chdir(\"./src\")\n",
    "# sys.path.append(\"./src\")"
   ]
  },
  {
   "cell_type": "code",
   "execution_count": null,
   "id": "6a36d317",
   "metadata": {},
   "outputs": [],
   "source": [
    "from IPython import display\n",
    "from IPython.display import clear_output\n",
    "import pylab as pl\n",
    "import numpy as np\n",
    "import matplotlib.pyplot as plt\n",
    "from numba import njit, jit\n",
    "from time import time\n",
    "\n",
    "# from helpers import *\n",
    "from PMFBSS import *\n",
    "\n",
    "# np.random.seed(13)\n",
    "%load_ext autoreload\n",
    "%autoreload 2"
   ]
  },
  {
   "cell_type": "code",
   "execution_count": null,
   "id": "e79252fd",
   "metadata": {},
   "outputs": [],
   "source": [
    "dim = 4\n",
    "N = 500000\n",
    "NumberofSources = dim\n",
    "NumberofMixtures = 10\n",
    "\n",
    "signed_dims = np.array([])\n",
    "nn_dims = np.array([0, 1, 2, 3])\n",
    "sparse_dims_list = [np.array([0, 1, 2, 3])]\n",
    "(A, b), V = generate_practical_polytope(dim, signed_dims, nn_dims, sparse_dims_list)\n",
    "S = generate_uniform_points_in_polytope(V, N)"
   ]
  },
  {
   "cell_type": "code",
   "execution_count": null,
   "id": "9b81ce97",
   "metadata": {},
   "outputs": [],
   "source": [
    "plt.figure(figsize=(20, 5))\n",
    "plt.subplot(1, 3, 1)\n",
    "plt.scatter(S[0, :], S[1, :])\n",
    "plt.xlabel(\"$S_{:,1}$\", fontsize=25)\n",
    "plt.ylabel(\"$S_{:,2}$\", fontsize=25)\n",
    "plt.grid(linewidth=0.2)\n",
    "plt.subplot(1, 3, 2)\n",
    "plt.scatter(S[0, :], S[2, :])\n",
    "plt.xlabel(\"$S_{:,1}$\", fontsize=25)\n",
    "plt.ylabel(\"$S_{:,3}$\", fontsize=25)\n",
    "plt.grid(linewidth=0.2)\n",
    "plt.subplot(1, 3, 3)\n",
    "plt.scatter(S[1, :], S[2, :])\n",
    "plt.xlabel(\"$S_{:,2}$\", fontsize=25)\n",
    "plt.ylabel(\"$S_{:,3}$\", fontsize=25)\n",
    "plt.grid(linewidth=0.2)\n",
    "\n",
    "plt.suptitle(\"Scatter Plot of Source Components\", fontsize=30)\n",
    "# plt.savefig('Pex_source_components.pdf', format='pdf', dpi = 1200)"
   ]
  },
  {
   "cell_type": "code",
   "execution_count": null,
   "id": "d9ab2404",
   "metadata": {},
   "outputs": [],
   "source": [
    "# Generate Mxr random mixing from i.i.d N(0,1)\n",
    "A = np.random.randn(NumberofMixtures, NumberofSources)\n",
    "Y = np.dot(A, S)\n",
    "\n",
    "print(\"The following is the mixture matrix A\")\n",
    "display_matrix(A)\n",
    "\n",
    "SNR = 30  # dB\n",
    "NoiseAmp = 10 ** (-SNR / 20)  # * np.sqrt(NumberofSources)\n",
    "NoisePart = NoiseAmp * np.random.randn(Y.shape[0], Y.shape[1])\n",
    "Y = Y + NoisePart\n",
    "SNRinp = 10 * np.log10(np.sum(np.var(Y, axis=1)) / np.sum(np.var(NoisePart, axis=1)))\n",
    "print(\"Input SNR is : {}\".format(SNRinp))"
   ]
  },
  {
   "cell_type": "code",
   "execution_count": null,
   "id": "0b176b24",
   "metadata": {},
   "outputs": [],
   "source": [
    "lambda_ = 1 - 1e-1 / 10\n",
    "beta = 30\n",
    "s_dim = S.shape[0]\n",
    "y_dim = Y.shape[0]\n",
    "\n",
    "# Inverse output covariance\n",
    "B = 5 * np.eye(s_dim)\n",
    "\n",
    "\n",
    "debug_iteration_point = 1000\n",
    "model = OnlinePMF(\n",
    "    s_dim=s_dim,\n",
    "    y_dim=y_dim,\n",
    "    muW=1e-3,\n",
    "    lambda_=lambda_,\n",
    "    beta=beta,\n",
    "    B=B,\n",
    "    neural_OUTPUT_COMP_TOL=1e-6,\n",
    "    set_ground_truth=True,\n",
    "    Sgt=S,\n",
    "    A=A,\n",
    ")"
   ]
  },
  {
   "cell_type": "code",
   "execution_count": null,
   "id": "e0813cf7",
   "metadata": {},
   "outputs": [],
   "source": [
    "model.fit_batch_general_polytope(\n",
    "    Y=Y,\n",
    "    signed_dims=signed_dims,\n",
    "    nn_dims=nn_dims,\n",
    "    sparse_dims_list=sparse_dims_list,\n",
    "    n_epochs=1,\n",
    "    neural_dynamic_iterations=500,\n",
    "    plot_in_jupyter=True,\n",
    "    neural_lr_start=0.1,\n",
    "    neural_lr_stop=1e-10,\n",
    "    debug_iteration_point=debug_iteration_point,\n",
    "    shuffle=True,\n",
    ")"
   ]
  }
 ],
 "metadata": {
  "kernelspec": {
   "display_name": "Python 3 (ipykernel)",
   "language": "python",
   "name": "python3"
  },
  "language_info": {
   "codemirror_mode": {
    "name": "ipython",
    "version": 3
   },
   "file_extension": ".py",
   "mimetype": "text/x-python",
   "name": "python",
   "nbconvert_exporter": "python",
   "pygments_lexer": "ipython3",
   "version": "3.8.12"
  }
 },
 "nbformat": 4,
 "nbformat_minor": 5
}
