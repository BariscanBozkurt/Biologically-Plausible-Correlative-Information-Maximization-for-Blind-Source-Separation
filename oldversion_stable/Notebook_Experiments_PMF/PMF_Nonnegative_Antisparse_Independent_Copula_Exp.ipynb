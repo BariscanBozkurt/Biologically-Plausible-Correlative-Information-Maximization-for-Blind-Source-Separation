{
 "cells": [
  {
   "cell_type": "code",
   "execution_count": null,
   "id": "89bf812e",
   "metadata": {},
   "outputs": [],
   "source": [
    "import sys\n",
    "import os\n",
    "\n",
    "os.chdir(\"..\")\n",
    "os.chdir(\"./src\")\n",
    "# sys.path.append(\"./src\")"
   ]
  },
  {
   "cell_type": "code",
   "execution_count": null,
   "id": "ee163ef0",
   "metadata": {},
   "outputs": [],
   "source": [
    "from IPython import display\n",
    "from IPython.display import clear_output\n",
    "import pylab as pl\n",
    "import numpy as np\n",
    "import matplotlib.pyplot as plt\n",
    "from numba import njit, jit\n",
    "from time import time\n",
    "\n",
    "# from helpers import *\n",
    "from PMFBSS import *\n",
    "\n",
    "# np.random.seed(13)\n",
    "%load_ext autoreload\n",
    "%autoreload 2"
   ]
  },
  {
   "cell_type": "code",
   "execution_count": null,
   "id": "4d788a57",
   "metadata": {},
   "outputs": [],
   "source": [
    "N = 500000\n",
    "NumberofSources = 5\n",
    "NumberofMixtures = 10\n",
    "S = generate_correlated_copula_sources(\n",
    "    rho=0.0,\n",
    "    df=4,\n",
    "    n_sources=NumberofSources,\n",
    "    size_sources=N,\n",
    "    decreasing_correlation=True,\n",
    ")\n",
    "print(\"The following is the correlation matrix of sources\")\n",
    "display_matrix(np.corrcoef(S))\n",
    "\n",
    "# Generate Mxr random mixing from i.i.d N(0,1)\n",
    "A = np.random.randn(NumberofMixtures, NumberofSources)\n",
    "Y = np.dot(A, S)\n",
    "\n",
    "SNR = 30  # dB\n",
    "NoiseAmp = 10 ** (-SNR / 20)  # * np.sqrt(NumberofSources)\n",
    "NoisePart = NoiseAmp * np.random.randn(Y.shape[0], Y.shape[1])\n",
    "Y = Y + NoisePart\n",
    "SNRinp = 10 * np.log10(np.sum(np.var(Y, axis=1)) / np.sum(np.var(NoisePart, axis=1)))\n",
    "print(\"The following is the mixture matrix A\")\n",
    "display_matrix(A)\n",
    "print(\"Input SNR is : {}\".format(SNRinp))"
   ]
  },
  {
   "cell_type": "code",
   "execution_count": null,
   "id": "0b6f1cce",
   "metadata": {},
   "outputs": [],
   "source": [
    "subplot_1D_signals(\n",
    "    S.T[0:100], title=\"Original Signals\", figsize=(15.2, 9), colorcode=None\n",
    ")\n",
    "subplot_1D_signals(\n",
    "    Y.T[0:100], title=\"Mixture Signals\", figsize=(15, 18), colorcode=None\n",
    ")"
   ]
  },
  {
   "cell_type": "code",
   "execution_count": null,
   "id": "02e69c8b",
   "metadata": {},
   "outputs": [],
   "source": [
    "lambda_ = 1 - 1e-2 / 10\n",
    "beta = 30\n",
    "s_dim = S.shape[0]\n",
    "y_dim = Y.shape[0]\n",
    "\n",
    "# Inverse output covariance\n",
    "B = 5 * np.eye(s_dim)\n",
    "\n",
    "\n",
    "debug_iteration_point = 1000\n",
    "model = OnlinePMF(\n",
    "    s_dim=s_dim,\n",
    "    y_dim=y_dim,\n",
    "    muW=1e-3,\n",
    "    lambda_=lambda_,\n",
    "    beta=beta,\n",
    "    B=B,\n",
    "    neural_OUTPUT_COMP_TOL=1e-6,\n",
    "    set_ground_truth=True,\n",
    "    Sgt=S,\n",
    "    A=A,\n",
    ")"
   ]
  },
  {
   "cell_type": "code",
   "execution_count": null,
   "id": "0a9e4687",
   "metadata": {},
   "outputs": [],
   "source": [
    "model.fit_batch_nnantisparse(\n",
    "    Y=Y,\n",
    "    n_epochs=1,\n",
    "    neural_dynamic_iterations=500,\n",
    "    plot_in_jupyter=True,\n",
    "    neural_lr_start=0.9,\n",
    "    neural_lr_stop=1e-10,\n",
    "    debug_iteration_point=debug_iteration_point,\n",
    "    shuffle=True,\n",
    ")"
   ]
  },
  {
   "cell_type": "code",
   "execution_count": null,
   "id": "dfb33fcd",
   "metadata": {},
   "outputs": [],
   "source": [
    "mpl.rcParams[\"xtick.labelsize\"] = 18\n",
    "mpl.rcParams[\"ytick.labelsize\"] = 18\n",
    "plot_convergence_plot(\n",
    "    model.SIR_list,\n",
    "    xlabel=\"Number of Iterations / {}\".format(debug_iteration_point),\n",
    "    ylabel=\"SINR (dB)\",\n",
    "    title=\"SINR Convergence Plot\",\n",
    "    colorcode=None,\n",
    "    linewidth=1.8,\n",
    ")\n",
    "\n",
    "print(\"Final SIR: {}\".format(np.array(model.SIR_list[-1])))"
   ]
  },
  {
   "cell_type": "code",
   "execution_count": null,
   "id": "2adffae4",
   "metadata": {},
   "outputs": [],
   "source": [
    "Wf = model.compute_overall_mapping(return_mapping=True)\n",
    "Shat = Wf @ Y\n",
    "Shat.shape, Y.shape, S.shape"
   ]
  },
  {
   "cell_type": "code",
   "execution_count": null,
   "id": "bf031b82",
   "metadata": {},
   "outputs": [],
   "source": [
    "Shat_ = signed_and_permutation_corrected_sources(S.T, Shat.T).T"
   ]
  },
  {
   "cell_type": "code",
   "execution_count": null,
   "id": "ebbea067",
   "metadata": {},
   "outputs": [],
   "source": [
    "subplot_1D_signals(\n",
    "    X=Shat_.T[0:100],\n",
    "    title=\"Extracted Signals (Sign and Permutation Corrected)\",\n",
    "    figsize=(15.2, 9),\n",
    "    colorcode=None,\n",
    ")\n",
    "subplot_1D_signals(\n",
    "    X=S.T[0:100], title=\"Original Signals\", figsize=(15.2, 9), colorcode=None\n",
    ")"
   ]
  }
 ],
 "metadata": {
  "kernelspec": {
   "display_name": "Python 3 (ipykernel)",
   "language": "python",
   "name": "python3"
  },
  "language_info": {
   "codemirror_mode": {
    "name": "ipython",
    "version": 3
   },
   "file_extension": ".py",
   "mimetype": "text/x-python",
   "name": "python",
   "nbconvert_exporter": "python",
   "pygments_lexer": "ipython3",
   "version": "3.8.12"
  }
 },
 "nbformat": 4,
 "nbformat_minor": 5
}
