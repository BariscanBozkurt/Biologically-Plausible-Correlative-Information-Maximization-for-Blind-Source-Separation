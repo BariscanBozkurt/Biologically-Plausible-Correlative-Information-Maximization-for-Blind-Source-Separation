{
 "cells": [
  {
   "cell_type": "code",
   "execution_count": null,
   "id": "1ea7351e",
   "metadata": {},
   "outputs": [],
   "source": [
    "from IPython import display\n",
    "from IPython.display import clear_output\n",
    "import pylab as pl\n",
    "import numpy as np\n",
    "import matplotlib.pyplot as plt\n",
    "from numba import njit, jit\n",
    "from time import time\n",
    "\n",
    "# from helpers import *\n",
    "from LDMIBSSv2 import *\n",
    "\n",
    "# np.random.seed(13)\n",
    "%load_ext autoreload\n",
    "%autoreload 2"
   ]
  },
  {
   "cell_type": "code",
   "execution_count": null,
   "id": "d2850e96",
   "metadata": {},
   "outputs": [],
   "source": [
    "N = 500000\n",
    "NumberofSources = 5\n",
    "NumberofMixtures = 10\n",
    "S = generate_correlated_copula_sources(\n",
    "    rho=0.0,\n",
    "    df=4,\n",
    "    n_sources=NumberofSources,\n",
    "    size_sources=N,\n",
    "    decreasing_correlation=True,\n",
    ")\n",
    "S = 4 * S - 2\n",
    "S = ProjectRowstoL1NormBall(S.T).T\n",
    "\n",
    "print(\"The following is the correlation matrix of sources\")\n",
    "display_matrix(np.corrcoef(S))\n",
    "\n",
    "plt.scatter(S[0, :], S[2, :])"
   ]
  },
  {
   "cell_type": "code",
   "execution_count": null,
   "id": "62f6c31d",
   "metadata": {},
   "outputs": [],
   "source": [
    "# Generate Mxr random mixing from i.i.d N(0,1)\n",
    "A = np.random.randn(NumberofMixtures, NumberofSources)\n",
    "X = np.dot(A, S)\n",
    "\n",
    "print(\"The following is the mixture matrix A\")\n",
    "display_matrix(A)\n",
    "\n",
    "SNR = 30  # dB\n",
    "NoiseAmp = 10 ** (-SNR / 20)  # * np.sqrt(NumberofSources)\n",
    "NoisePart = NoiseAmp * np.random.randn(X.shape[0], X.shape[1])\n",
    "X = X + NoisePart\n",
    "SNRinp = 10 * np.log10(np.sum(np.var(X, axis=1)) / np.sum(np.var(NoisePart, axis=1)))\n",
    "print(\"Input SNR is : {}\".format(SNRinp))"
   ]
  },
  {
   "cell_type": "code",
   "execution_count": null,
   "id": "4c07ead1",
   "metadata": {},
   "outputs": [],
   "source": [
    "lambday = 1 - 1e-1 / 10\n",
    "lambdae = 1 - 1e-7 / 10\n",
    "beta = 30\n",
    "s_dim = S.shape[0]\n",
    "x_dim = X.shape[0]\n",
    "\n",
    "# Inverse output covariance\n",
    "By = 5 * np.eye(s_dim)\n",
    "# Inverse error covariance\n",
    "Be = 1 * np.eye(s_dim)\n",
    "\n",
    "debug_iteration_point = 1000\n",
    "model = OnlineLDMIBSS(\n",
    "    s_dim=s_dim,\n",
    "    x_dim=x_dim,\n",
    "    muW=1e-3,\n",
    "    lambday=lambday,\n",
    "    lambdae=lambdae,\n",
    "    beta=beta,\n",
    "    By=By,\n",
    "    Be=Be,\n",
    "    neural_OUTPUT_COMP_TOL=1e-6,\n",
    "    set_ground_truth=True,\n",
    "    S=S,\n",
    "    A=A,\n",
    ")"
   ]
  },
  {
   "cell_type": "code",
   "execution_count": null,
   "id": "b1cba723",
   "metadata": {},
   "outputs": [],
   "source": [
    "model.fit_batch_sparse(\n",
    "    X=X,\n",
    "    n_epochs=1,\n",
    "    neural_dynamic_iterations=500,\n",
    "    plot_in_jupyter=True,\n",
    "    neural_lr_start=0.1,\n",
    "    neural_lr_stop=0.001,\n",
    "    debug_iteration_point=debug_iteration_point,\n",
    "    shuffle=True,\n",
    ")"
   ]
  }
 ],
 "metadata": {
  "kernelspec": {
   "display_name": "Python 3 (ipykernel)",
   "language": "python",
   "name": "python3"
  },
  "language_info": {
   "codemirror_mode": {
    "name": "ipython",
    "version": 3
   },
   "file_extension": ".py",
   "mimetype": "text/x-python",
   "name": "python",
   "nbconvert_exporter": "python",
   "pygments_lexer": "ipython3",
   "version": "3.8.12"
  }
 },
 "nbformat": 4,
 "nbformat_minor": 5
}
