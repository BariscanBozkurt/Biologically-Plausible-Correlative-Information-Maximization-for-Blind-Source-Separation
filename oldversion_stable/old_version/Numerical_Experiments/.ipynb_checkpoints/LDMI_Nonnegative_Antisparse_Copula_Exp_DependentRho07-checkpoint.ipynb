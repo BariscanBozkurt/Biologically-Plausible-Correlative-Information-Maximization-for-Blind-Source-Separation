{
 "cells": [
  {
   "cell_type": "code",
   "execution_count": null,
   "id": "ace3c63b",
   "metadata": {},
   "outputs": [],
   "source": [
    "import sys\n",
    "import os\n",
    "\n",
    "os.chdir(\"..\")\n",
    "os.chdir(\"./src\")\n",
    "# sys.path.append(\"./src\")"
   ]
  },
  {
   "cell_type": "code",
   "execution_count": null,
   "id": "20ce2d4b",
   "metadata": {},
   "outputs": [],
   "source": [
    "from IPython import display\n",
    "from IPython.display import clear_output\n",
    "import pylab as pl\n",
    "import numpy as np\n",
    "import matplotlib.pyplot as plt\n",
    "from numba import njit, jit\n",
    "from time import time\n",
    "\n",
    "# from helpers import *\n",
    "from LDMIBSS import *\n",
    "\n",
    "# np.random.seed(100)\n",
    "%load_ext autoreload\n",
    "%autoreload 2"
   ]
  },
  {
   "cell_type": "code",
   "execution_count": null,
   "id": "008613d6",
   "metadata": {},
   "outputs": [],
   "source": [
    "N = 500000\n",
    "NumberofSources = 5\n",
    "NumberofMixtures = 10\n",
    "S = generate_correlated_copula_sources(\n",
    "    rho=0.7,\n",
    "    df=4,\n",
    "    n_sources=NumberofSources,\n",
    "    size_sources=N,\n",
    "    decreasing_correlation=True,\n",
    ")\n",
    "print(\"The following is the correlation matrix of sources\")\n",
    "display_matrix(np.corrcoef(S))\n",
    "\n",
    "# Generate Mxr random mixing from i.i.d N(0,1)\n",
    "A = np.random.randn(NumberofMixtures, NumberofSources)\n",
    "X = np.dot(A, S)\n",
    "\n",
    "print(\"The following is the mixture matrix A\")\n",
    "display_matrix(A)\n",
    "\n",
    "SNR = 30  # dB\n",
    "NoiseAmp = 10 ** (-SNR / 20)  # * np.sqrt(NumberofSources)\n",
    "NoisePart = NoiseAmp * np.random.randn(X.shape[0], X.shape[1])\n",
    "X = X + NoisePart\n",
    "SNRinp = 10 * np.log10(np.sum(np.var(X, axis=1)) / np.sum(np.var(NoisePart, axis=1)))\n",
    "print(\"Input SNR is : {}\".format(SNRinp))"
   ]
  },
  {
   "cell_type": "code",
   "execution_count": null,
   "id": "b030902e",
   "metadata": {},
   "outputs": [],
   "source": [
    "subplot_1D_signals(\n",
    "    S.T[0:100], title=\"Original Signals\", figsize=(15.2, 9), colorcode=None\n",
    ")\n",
    "subplot_1D_signals(\n",
    "    X.T[0:100], title=\"Mixture Signals\", figsize=(15, 18), colorcode=None\n",
    ")"
   ]
  },
  {
   "cell_type": "code",
   "execution_count": null,
   "id": "674d715d",
   "metadata": {},
   "outputs": [],
   "source": [
    "lambday = 1 - 1e-6 / 20\n",
    "lambdae = 1 - 1e-7 / 20\n",
    "\n",
    "s_dim = S.shape[0]\n",
    "x_dim = X.shape[0]\n",
    "\n",
    "# Inverse output covariance\n",
    "By = 1 * np.eye(s_dim)\n",
    "# Inverse error covariance\n",
    "Be = 150 * np.eye(s_dim)\n",
    "\n",
    "debug_iteration_point = 1000\n",
    "model = OnlineLDMIBSS(\n",
    "    s_dim=s_dim,\n",
    "    x_dim=x_dim,\n",
    "    muW=4e-3,\n",
    "    lambday=lambday,\n",
    "    lambdae=lambdae,\n",
    "    By=By,\n",
    "    Be=Be,\n",
    "    neural_OUTPUT_COMP_TOL=1e-6,\n",
    "    set_ground_truth=True,\n",
    "    S=S,\n",
    "    A=A,\n",
    ")"
   ]
  },
  {
   "cell_type": "code",
   "execution_count": null,
   "id": "d445f5d9",
   "metadata": {},
   "outputs": [],
   "source": [
    "model.fit_batch_nnantisparse(\n",
    "    X=X,\n",
    "    beta=6,\n",
    "    n_epochs=1,\n",
    "    neural_dynamic_iterations=9,\n",
    "    plot_in_jupyter=True,\n",
    "    neural_lr_start=0.12,\n",
    "    neural_lr_stop=0.001,\n",
    "    debug_iteration_point=debug_iteration_point,\n",
    "    shuffle=True,\n",
    ")"
   ]
  },
  {
   "cell_type": "code",
   "execution_count": null,
   "id": "c14ad5c0",
   "metadata": {},
   "outputs": [],
   "source": [
    "mpl.rcParams[\"xtick.labelsize\"] = 18\n",
    "mpl.rcParams[\"ytick.labelsize\"] = 18\n",
    "plot_convergence_plot(\n",
    "    model.SIR_list,\n",
    "    xlabel=\"Number of Iterations / {}\".format(debug_iteration_point),\n",
    "    ylabel=\"SINR (dB)\",\n",
    "    title=\"SINR Convergence Plot\",\n",
    "    colorcode=None,\n",
    "    linewidth=1.8,\n",
    ")\n",
    "\n",
    "print(\"Final SIR: {}\".format(np.array(model.SIR_list[-1])))"
   ]
  }
 ],
 "metadata": {
  "kernelspec": {
   "display_name": "Python 3 (ipykernel)",
   "language": "python",
   "name": "python3"
  },
  "language_info": {
   "codemirror_mode": {
    "name": "ipython",
    "version": 3
   },
   "file_extension": ".py",
   "mimetype": "text/x-python",
   "name": "python",
   "nbconvert_exporter": "python",
   "pygments_lexer": "ipython3",
   "version": "3.8.12"
  }
 },
 "nbformat": 4,
 "nbformat_minor": 5
}
