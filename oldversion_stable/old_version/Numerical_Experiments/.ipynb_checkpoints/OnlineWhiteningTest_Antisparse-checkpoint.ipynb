{
 "cells": [
  {
   "cell_type": "code",
   "execution_count": null,
   "id": "47f0acbc",
   "metadata": {},
   "outputs": [],
   "source": [
    "import sys\n",
    "import os\n",
    "\n",
    "os.chdir(\"..\")\n",
    "os.chdir(\"./src\")\n",
    "# sys.path.append(\"./src\")"
   ]
  },
  {
   "cell_type": "code",
   "execution_count": null,
   "id": "1172d21a",
   "metadata": {},
   "outputs": [],
   "source": [
    "from IPython import display\n",
    "from IPython.display import clear_output\n",
    "import pylab as pl\n",
    "import numpy as np\n",
    "import matplotlib.pyplot as plt\n",
    "from numba import njit, jit\n",
    "from time import time\n",
    "\n",
    "# from helpers import *\n",
    "from LDMIBSS import *\n",
    "\n",
    "# np.random.seed(13)\n",
    "%load_ext autoreload\n",
    "%autoreload 2"
   ]
  },
  {
   "cell_type": "code",
   "execution_count": null,
   "id": "62cd928f",
   "metadata": {},
   "outputs": [],
   "source": [
    "# Number of sources\n",
    "r = 5\n",
    "# Number of mixtures\n",
    "M = 10\n",
    "# Number of samples\n",
    "N = 500000\n",
    "# SNR level\n",
    "SNR = 30  # dB\n",
    "NoiseAmp = (10 ** (-SNR / 20)) * np.sqrt(r)\n",
    "\n",
    "# Define number of sampling points\n",
    "n_samples = N\n",
    "# Degrees of freedom\n",
    "df = 4\n",
    "\n",
    "S = generate_correlated_copula_sources(\n",
    "    rho=0.7, df=4, n_sources=r, size_sources=N, decreasing_correlation=True\n",
    ")\n",
    "S = 2 * S - 1\n",
    "#######################################################\n",
    "#              GENERATE MIXINGS                       #\n",
    "#######################################################\n",
    "# Generate Mxr random mixing from i.i.d N(0,1)\n",
    "Hm = np.random.randn(M, r)\n",
    "# Mixtures\n",
    "HS = np.dot(Hm, S)\n",
    "NoisePart = NoiseAmp * np.random.randn(HS.shape[0], HS.shape[1])\n",
    "X = HS + NoisePart\n",
    "SNRinp = 10 * np.log10(np.sum(np.var(HS, axis=1)) / np.sum(np.var(NoisePart, axis=1)))\n",
    "\n",
    "# Mean of Mixtures\n",
    "mX = np.mean(X, axis=1).reshape((M, 1))\n",
    "# Covariance of Mixtures\n",
    "Rxx = np.dot(X, X.T) / N - np.dot(mX, mX.T)\n",
    "# Eigenvalue Decomposition\n",
    "d, V = np.linalg.eig(Rxx)\n",
    "D = np.diag(d)\n",
    "# Sorting indexis for eigenvalues from large to small\n",
    "ie = np.argsort(-d)\n",
    "# Inverse square root of eigenvalues\n",
    "ddinv = 1 / np.sqrt(d[ie[:r]])\n",
    "# Prewhitining matrix\n",
    "Wpre = np.dot(np.diag(ddinv), V[:, ie[:r]].T) / np.sqrt(12)\n",
    "# Whitened Mixtures\n",
    "H = np.dot(Wpre, X)"
   ]
  },
  {
   "cell_type": "code",
   "execution_count": null,
   "id": "21a1f66e",
   "metadata": {},
   "outputs": [],
   "source": [
    "muW = 4e-3\n",
    "p = 1\n",
    "bet = 30\n",
    "\n",
    "debug_iteration_point = 500\n",
    "\n",
    "model = OnlineWhiten(s_dim=r, x_dim=M, muW=muW, p=p, bet=bet)"
   ]
  },
  {
   "cell_type": "code",
   "execution_count": null,
   "id": "6ec94bf7",
   "metadata": {},
   "outputs": [],
   "source": [
    "model.fit_batch_whiten(\n",
    "    X=X,\n",
    "    n_epochs=1,\n",
    "    neural_dynamic_iterations=150,\n",
    "    neural_lr_start=0.1,\n",
    "    neural_lr_stop=1e-3,\n",
    "    shuffle=True,\n",
    "    required_SIR=90,\n",
    "    debug_iteration_point=debug_iteration_point,\n",
    "    plot_in_jupyter=True,\n",
    ")"
   ]
  },
  {
   "cell_type": "code",
   "execution_count": null,
   "id": "64fc27e4",
   "metadata": {},
   "outputs": [],
   "source": [
    "display_matrix(np.corrcoef(X))"
   ]
  },
  {
   "cell_type": "code",
   "execution_count": null,
   "id": "5f4319dc",
   "metadata": {},
   "outputs": [],
   "source": [
    "display_matrix(np.corrcoef(model.Winv @ X))"
   ]
  },
  {
   "cell_type": "code",
   "execution_count": null,
   "id": "492a731f",
   "metadata": {},
   "outputs": [],
   "source": [
    "W = model.compute_overall_mapping()\n",
    "display_matrix(np.corrcoef(W @ X))"
   ]
  }
 ],
 "metadata": {
  "kernelspec": {
   "display_name": "Python 3 (ipykernel)",
   "language": "python",
   "name": "python3"
  },
  "language_info": {
   "codemirror_mode": {
    "name": "ipython",
    "version": 3
   },
   "file_extension": ".py",
   "mimetype": "text/x-python",
   "name": "python",
   "nbconvert_exporter": "python",
   "pygments_lexer": "ipython3",
   "version": "3.8.12"
  }
 },
 "nbformat": 4,
 "nbformat_minor": 5
}
