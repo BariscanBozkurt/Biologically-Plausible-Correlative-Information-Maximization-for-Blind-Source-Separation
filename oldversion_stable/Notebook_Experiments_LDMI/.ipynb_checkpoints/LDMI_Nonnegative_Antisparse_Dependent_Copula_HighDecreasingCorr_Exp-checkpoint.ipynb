{
 "cells": [
  {
   "cell_type": "markdown",
   "id": "4044f211",
   "metadata": {},
   "source": [
    "# Import Required Libraries"
   ]
  },
  {
   "cell_type": "code",
   "execution_count": null,
   "id": "1aaddea6",
   "metadata": {},
   "outputs": [],
   "source": [
    "import sys\n",
    "import os\n",
    "\n",
    "os.chdir(\"..\")\n",
    "os.chdir(\"./src\")\n",
    "# sys.path.append(\"./src\")"
   ]
  },
  {
   "cell_type": "code",
   "execution_count": null,
   "id": "ed297f83",
   "metadata": {},
   "outputs": [],
   "source": [
    "from IPython import display\n",
    "from IPython.display import clear_output\n",
    "import pylab as pl\n",
    "import numpy as np\n",
    "import matplotlib.pyplot as plt\n",
    "from numba import njit, jit\n",
    "from time import time\n",
    "\n",
    "# from helpers import *\n",
    "from LDMIBSS import *\n",
    "\n",
    "# np.random.seed(100)\n",
    "%load_ext autoreload\n",
    "%autoreload 2"
   ]
  },
  {
   "cell_type": "markdown",
   "id": "6ee1f394",
   "metadata": {},
   "source": [
    "# Source Generation and Mixing Scenario"
   ]
  },
  {
   "cell_type": "code",
   "execution_count": null,
   "id": "222a48b4",
   "metadata": {},
   "outputs": [],
   "source": [
    "N = 500000\n",
    "NumberofSources = 5\n",
    "NumberofMixtures = 10\n",
    "S = generate_correlated_copula_sources(\n",
    "    rho=0.7,\n",
    "    df=4,\n",
    "    n_sources=NumberofSources,\n",
    "    size_sources=N,\n",
    "    decreasing_correlation=False,\n",
    ")\n",
    "\n",
    "print(\"The following is the correlation matrix of sources\")\n",
    "display_matrix(np.corrcoef(S))\n",
    "\n",
    "# Generate Mxr random mixing from i.i.d N(0,1)\n",
    "A = np.random.randn(NumberofMixtures, NumberofSources)\n",
    "X = np.dot(A, S)\n",
    "\n",
    "SNR = 30\n",
    "X, NoisePart = addWGN(X, SNR, return_noise=True)\n",
    "\n",
    "SNRinp = 10 * np.log10(\n",
    "    np.sum(np.mean((X - NoisePart) ** 2, axis=1))\n",
    "    / np.sum(np.mean(NoisePart**2, axis=1))\n",
    ")\n",
    "print(\"The following is the mixture matrix A\")\n",
    "display_matrix(A)\n",
    "print(\"Input SNR is : {}\".format(SNRinp))"
   ]
  },
  {
   "cell_type": "markdown",
   "id": "d498be6c",
   "metadata": {},
   "source": [
    "# Visualize Generated Sources and Mixtures"
   ]
  },
  {
   "cell_type": "code",
   "execution_count": null,
   "id": "a496a13e",
   "metadata": {},
   "outputs": [],
   "source": [
    "subplot_1D_signals(\n",
    "    S.T[0:100], title=\"Original Signals\", figsize=(15.2, 9), colorcode=None\n",
    ")\n",
    "subplot_1D_signals(\n",
    "    X.T[0:100], title=\"Mixture Signals\", figsize=(15, 18), colorcode=None\n",
    ")"
   ]
  },
  {
   "cell_type": "markdown",
   "id": "3e093506",
   "metadata": {},
   "source": [
    "# Algorithm Hyperparameter Selection and Weight Initialization"
   ]
  },
  {
   "cell_type": "code",
   "execution_count": null,
   "id": "34669807",
   "metadata": {},
   "outputs": [],
   "source": [
    "lambday = 1 - 1e-1 / 10\n",
    "lambdae = 1 - 1e-1 / 10\n",
    "s_dim = S.shape[0]\n",
    "x_dim = X.shape[0]\n",
    "\n",
    "# Inverse output covariance\n",
    "By = 1 * np.eye(s_dim)\n",
    "# Inverse error covariance\n",
    "Be = 10000 * np.eye(s_dim)\n",
    "\n",
    "debug_iteration_point = 10000\n",
    "model = OnlineLDMIBSS(\n",
    "    s_dim=s_dim,\n",
    "    x_dim=x_dim,\n",
    "    muW=30 * 1e-3,\n",
    "    lambday=lambday,\n",
    "    lambdae=lambdae,\n",
    "    By=By,\n",
    "    Be=Be,\n",
    "    neural_OUTPUT_COMP_TOL=1e-6,\n",
    "    set_ground_truth=True,\n",
    "    S=S,\n",
    "    A=A,\n",
    ")"
   ]
  },
  {
   "cell_type": "markdown",
   "id": "d18d9462",
   "metadata": {},
   "source": [
    "# Run CorInfoMax Algorithm on Mixture Signals"
   ]
  },
  {
   "cell_type": "code",
   "execution_count": null,
   "id": "09e54b6e",
   "metadata": {},
   "outputs": [],
   "source": [
    "model.fit_batch_nnantisparse(\n",
    "    X=X,\n",
    "    n_epochs=1,\n",
    "    neural_dynamic_iterations=500,\n",
    "    plot_in_jupyter=True,\n",
    "    neural_lr_start=0.9,\n",
    "    neural_lr_stop=0.000001,\n",
    "    debug_iteration_point=debug_iteration_point,\n",
    "    shuffle=True,\n",
    ")"
   ]
  },
  {
   "cell_type": "markdown",
   "id": "d2034571",
   "metadata": {},
   "source": [
    "# Visualize SINR Convergence "
   ]
  },
  {
   "cell_type": "code",
   "execution_count": null,
   "id": "dd151425",
   "metadata": {},
   "outputs": [],
   "source": [
    "mpl.rcParams[\"xtick.labelsize\"] = 18\n",
    "mpl.rcParams[\"ytick.labelsize\"] = 18\n",
    "plot_convergence_plot(\n",
    "    model.SINR_list,\n",
    "    xlabel=\"Number of Iterations / {}\".format(debug_iteration_point),\n",
    "    ylabel=\"SINR (dB)\",\n",
    "    title=\"SINR Convergence Plot\",\n",
    "    colorcode=None,\n",
    "    linewidth=1.8,\n",
    ")\n",
    "\n",
    "print(\"Final SINR: {}\".format(np.array(model.SINR_list[-1])))"
   ]
  },
  {
   "cell_type": "markdown",
   "id": "334d45cc",
   "metadata": {},
   "source": [
    "# Calculate Resulting Component SNRs and Overall SINR"
   ]
  },
  {
   "cell_type": "code",
   "execution_count": null,
   "id": "8beebe39",
   "metadata": {},
   "outputs": [],
   "source": [
    "Wf = model.compute_overall_mapping(return_mapping=True)\n",
    "Y_ = Wf @ X\n",
    "Y_ = model.signed_and_permutation_corrected_sources(S.T, Y_.T)\n",
    "coef_ = (Y_ * S.T).sum(axis=0) / (Y_ * Y_).sum(axis=0)\n",
    "Y_ = coef_ * Y_\n",
    "\n",
    "print(\"Component SNR Values : {}\\n\".format(snr(S.T, Y_)))\n",
    "\n",
    "SINR = 10 * np.log10(model.CalculateSINR(Y_.T, S)[0])\n",
    "\n",
    "print(\"Overall SINR : {}\".format(SINR))"
   ]
  },
  {
   "cell_type": "markdown",
   "id": "46fd45df",
   "metadata": {},
   "source": [
    "# Vizualize Extracted Signals Compared to Original Sources"
   ]
  },
  {
   "cell_type": "code",
   "execution_count": null,
   "id": "6f8ca4cb",
   "metadata": {},
   "outputs": [],
   "source": [
    "Wf = model.compute_overall_mapping(return_mapping=True)\n",
    "Y = Wf @ X\n",
    "Y_ = model.signed_and_permutation_corrected_sources(S.T, Y.T).T\n",
    "Y_.shape, X.shape, S.shape"
   ]
  },
  {
   "cell_type": "code",
   "execution_count": null,
   "id": "6fb0a9c9",
   "metadata": {},
   "outputs": [],
   "source": [
    "subplot_1D_signals(\n",
    "    X=Y_.T[0:100],\n",
    "    title=\"Extracted Signals (Sign and Permutation Corrected)\",\n",
    "    figsize=(15.2, 9),\n",
    "    colorcode=None,\n",
    ")\n",
    "subplot_1D_signals(\n",
    "    X=S.T[0:100], title=\"Original Signals\", figsize=(15.2, 9), colorcode=None\n",
    ")"
   ]
  },
  {
   "cell_type": "code",
   "execution_count": null,
   "id": "737b5f84",
   "metadata": {},
   "outputs": [],
   "source": [
    "Wf = model.compute_overall_mapping(return_mapping=True)\n",
    "Y_ = Wf @ X\n",
    "Y_ = model.signed_and_permutation_corrected_sources(S.T, Y_.T)\n",
    "coef_ = (Y_ * S.T).sum(axis=0) / (Y_ * Y_).sum(axis=0)\n",
    "Y_ = coef_ * Y_\n",
    "snr(S.T.reshape(-1, 1), Y_.reshape(-1, 1))"
   ]
  },
  {
   "cell_type": "code",
   "execution_count": null,
   "id": "cd838586",
   "metadata": {},
   "outputs": [],
   "source": [
    "Out = Y_.T\n",
    "r = S.shape[0]\n",
    "G = np.dot(\n",
    "    Out - np.reshape(np.mean(Out, 1), (r, 1)),\n",
    "    np.linalg.pinv(S - np.reshape(np.mean(S, 1), (r, 1))),\n",
    ")\n",
    "indmax = np.argmax(np.abs(G), 1)\n",
    "indmax = np.mod(find_permutation_between_source_and_estimation(Out.T, S.T), r)\n",
    "# indmax = np.array([2,3,4,1,0])\n",
    "GG = np.zeros((r, r))\n",
    "for kk in range(r):\n",
    "    GG[kk, indmax[kk]] = np.dot(\n",
    "        Out[kk, :] - np.mean(Out[kk, :]), S[indmax[kk], :].T - np.mean(S[indmax[kk], :])\n",
    "    ) / np.dot(\n",
    "        S[indmax[kk], :] - np.mean(S[indmax[kk], :]),\n",
    "        S[indmax[kk], :].T - np.mean(S[indmax[kk], :]),\n",
    "    )  # (G[kk,indmax[kk]])\n",
    "ZZ = GG @ (S - np.reshape(np.mean(S, 1), (r, 1))) + np.reshape(np.mean(Out, 1), (r, 1))\n",
    "E = Out - ZZ\n",
    "MSE = np.linalg.norm(E, \"fro\") ** 2\n",
    "SigPow = np.linalg.norm(ZZ, \"fro\") ** 2\n",
    "SINR = SigPow / MSE"
   ]
  },
  {
   "cell_type": "code",
   "execution_count": null,
   "id": "3422e9a9",
   "metadata": {},
   "outputs": [],
   "source": [
    "10 * np.log10(SINR)"
   ]
  },
  {
   "cell_type": "code",
   "execution_count": null,
   "id": "46d466e8",
   "metadata": {},
   "outputs": [],
   "source": [
    "indmax = np.argmax(np.abs(G), 1)\n",
    "indmax = np.mod(find_permutation_between_source_and_estimation(Out.T, S.T), r)\n",
    "indmax"
   ]
  },
  {
   "cell_type": "code",
   "execution_count": null,
   "id": "64babf69",
   "metadata": {},
   "outputs": [],
   "source": [
    "display_matrix(G)"
   ]
  },
  {
   "cell_type": "code",
   "execution_count": null,
   "id": "2124bff6",
   "metadata": {},
   "outputs": [],
   "source": [
    "Y_.shape"
   ]
  },
  {
   "cell_type": "code",
   "execution_count": null,
   "id": "4f85e8c3",
   "metadata": {},
   "outputs": [],
   "source": [
    "snr(Y_[:, 3], Y_[:, 4])"
   ]
  },
  {
   "cell_type": "code",
   "execution_count": null,
   "id": "94e2184d",
   "metadata": {},
   "outputs": [],
   "source": [
    "10 * np.log10(SINR)"
   ]
  },
  {
   "cell_type": "code",
   "execution_count": null,
   "id": "e6779ca5",
   "metadata": {},
   "outputs": [],
   "source": [
    "find_permutation_between_source_and_estimation(Out.T, S.T)"
   ]
  },
  {
   "cell_type": "code",
   "execution_count": null,
   "id": "4c90fc65",
   "metadata": {},
   "outputs": [],
   "source": [
    "def find_permutation_between_source_and_estimation2(S, Y):\n",
    "    \"\"\"\n",
    "    S    : Original source matrix\n",
    "    Y    : Matrix of estimations of sources (after BSS or ICA algorithm)\n",
    "\n",
    "    return the permutation of the source seperation algorithm\n",
    "    \"\"\"\n",
    "\n",
    "    # perm = np.argmax(np.abs(np.corrcoef(S.T,Y.T) - np.eye(2*S.shape[1])),axis = 0)[S.shape[1]:]\n",
    "    perm = np.argmax(np.abs(np.corrcoef(Y.T, S.T) - np.eye(2 * S.shape[1])), axis=0)[\n",
    "        S.shape[1] :\n",
    "    ]\n",
    "    return perm"
   ]
  },
  {
   "cell_type": "code",
   "execution_count": null,
   "id": "1756288a",
   "metadata": {},
   "outputs": [],
   "source": [
    "np.mod(find_permutation_between_source_and_estimation2(Out.T, S.T), 5)"
   ]
  },
  {
   "cell_type": "code",
   "execution_count": null,
   "id": "b0a145ad",
   "metadata": {},
   "outputs": [],
   "source": [
    "10 * np.log10(SINR)"
   ]
  },
  {
   "cell_type": "code",
   "execution_count": null,
   "id": "e52dd029",
   "metadata": {},
   "outputs": [],
   "source": [
    "indmax"
   ]
  },
  {
   "cell_type": "code",
   "execution_count": null,
   "id": "fcf776f3",
   "metadata": {},
   "outputs": [],
   "source": [
    "10 * np.log10(model.CalculateSINR(Y_.T, S)[0])"
   ]
  },
  {
   "cell_type": "code",
   "execution_count": null,
   "id": "f341c461",
   "metadata": {},
   "outputs": [],
   "source": [
    "display_matrix(G)"
   ]
  },
  {
   "cell_type": "code",
   "execution_count": null,
   "id": "662544c4",
   "metadata": {},
   "outputs": [],
   "source": [
    "display_matrix(Wf @ A)"
   ]
  }
 ],
 "metadata": {
  "kernelspec": {
   "display_name": "Python 3",
   "language": "python",
   "name": "python3"
  },
  "language_info": {
   "codemirror_mode": {
    "name": "ipython",
    "version": 3
   },
   "file_extension": ".py",
   "mimetype": "text/x-python",
   "name": "python",
   "nbconvert_exporter": "python",
   "pygments_lexer": "ipython3",
   "version": "3.6.13"
  }
 },
 "nbformat": 4,
 "nbformat_minor": 5
}
