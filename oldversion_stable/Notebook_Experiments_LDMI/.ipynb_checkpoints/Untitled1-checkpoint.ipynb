{
 "cells": [
  {
   "cell_type": "code",
   "execution_count": 1,
   "id": "5ddbff1b",
   "metadata": {},
   "outputs": [],
   "source": [
    "import sys\n",
    "import os\n",
    "os.chdir(\"..\")\n",
    "os.chdir(\"./src\")\n",
    "# sys.path.append(\"./src\")"
   ]
  },
  {
   "cell_type": "code",
   "execution_count": 2,
   "id": "e8ef4025",
   "metadata": {},
   "outputs": [],
   "source": [
    "from IPython import display\n",
    "from IPython.display import clear_output\n",
    "import pylab as pl\n",
    "import numpy as np\n",
    "import matplotlib.pyplot as plt\n",
    "from numba import njit, jit\n",
    "from time import time\n",
    "# from helpers import *\n",
    "from LDMIBSS import *\n",
    "# np.random.seed(13)\n",
    "%load_ext autoreload\n",
    "%autoreload 2"
   ]
  },
  {
   "cell_type": "code",
   "execution_count": 3,
   "id": "4c392a8d",
   "metadata": {},
   "outputs": [],
   "source": [
    "# Number of sources\n",
    "r=5\n",
    "# Number of mixtures\n",
    "M=10\n",
    "# Number of samples\n",
    "N=500000\n",
    "# Number of Iterations\n",
    "NumberofIterations=5000\n",
    "# Number of Averages\n",
    "NumAverages=1\n",
    "# SNR level\n",
    "SNR=30 #dB\n",
    "NoiseAmp=(10**(-SNR/20))*np.sqrt(r)"
   ]
  },
  {
   "cell_type": "code",
   "execution_count": 4,
   "id": "09e8d028",
   "metadata": {},
   "outputs": [],
   "source": [
    "#Define number of sampling points\n",
    "n_samples = N\n",
    "#Degrees of freedom\n",
    "df = 4\n",
    "\n",
    "# Correlation values\n",
    "rholist=np.array([0.0, 0.1, 0.2,0.3,0.4,0.5,0.6,0.7])\n",
    "rholist=[0.5]\n",
    "SIRLDInfoMax=np.zeros((len(rholist),NumAverages))\n",
    "SIRLDInfoMaxW=np.zeros((len(rholist),NumAverages))\n",
    "SIRICAInfoMax=np.zeros((len(rholist),NumAverages))\n",
    "SIRLDInfoMaxList=np.zeros((NumAverages,NumberofIterations))"
   ]
  },
  {
   "cell_type": "code",
   "execution_count": 5,
   "id": "0ee904ec",
   "metadata": {},
   "outputs": [],
   "source": [
    "rho=0.5\n",
    "calib_correl_matrix = np.eye(r)*(1-rho)+rho*np.ones((r,r))\n",
    "mu = np.zeros(len(calib_correl_matrix))\n",
    "\n",
    "#######################################################\n",
    "#              GENERATE SOURCES                       #\n",
    "#######################################################\n",
    "s = chi2.rvs(df, size=n_samples)[:, np.newaxis] \n",
    "Z = np.random.multivariate_normal(mu, calib_correl_matrix,n_samples)\n",
    "X = np.sqrt(df/s)*Z #chi-square method\n",
    "# Copula-t distriution with df degrees of freedom\n",
    "U = t.cdf(X,df).T\n",
    "# Generate correlated unity variance sources\n",
    "S=U#*np.sqrt(12)\n",
    "S = 2*S - 1\n",
    "\n",
    "\n",
    "#######################################################\n",
    "#              GENERATE MIXINGS                       #\n",
    "#######################################################\n",
    "# Generate Mxr random mixing from i.i.d N(0,1)\n",
    "Hm=np.random.randn(M,r)\n",
    "# Mixtures\n",
    "HS=np.dot(Hm,S)\n",
    "NoisePart=NoiseAmp*np.random.randn(HS.shape[0],HS.shape[1])\n",
    "X=HS+NoisePart\n",
    "SNRinp=10*np.log10(np.sum(np.var(HS,axis=1))/np.sum(np.var(NoisePart,axis=1)))\n",
    "\n",
    "# Mean of Mixtures\n",
    "mX=np.mean(X,axis=1).reshape((M,1))\n",
    "# Covariance of Mixtures\n",
    "Rxx=np.dot(X,X.T)/N-np.dot(mX,mX.T)\n",
    "# Eigenvalue Decomposition\n",
    "d,V=np.linalg.eig(Rxx)\n",
    "D=np.diag(d)\n",
    "#Sorting indexis for eigenvalues from large to small\n",
    "ie=np.argsort(-d)\n",
    "# Inverse square root of eigenvalues\n",
    "ddinv=1/np.sqrt(d[ie[:r]])\n",
    "# Prewhitining matrix\n",
    "Wpre=np.dot(np.diag(ddinv),V[:,ie[:r]].T)/np.sqrt(12)\n",
    "# Whitened Mixtures\n",
    "H=np.dot(Wpre,X)"
   ]
  },
  {
   "cell_type": "code",
   "execution_count": 6,
   "id": "3835b7dc",
   "metadata": {},
   "outputs": [
    {
     "data": {
      "text/latex": [
       "$\\displaystyle \\begin{bmatrix} \n",
       " 1.000 & 0.000 & 0.000 & 0.000 & -0.000 & \\\\\n",
       " 0.000 & 1.000 & 0.000 & -0.000 & 0.000 & \\\\\n",
       " 0.000 & 0.000 & 1.000 & -0.000 & -0.000 & \\\\\n",
       " 0.000 & -0.000 & -0.000 & 1.000 & 0.000 & \\\\\n",
       " -0.000 & 0.000 & -0.000 & 0.000 & 1.000 & \\\\\n",
       "\\end{bmatrix}$"
      ],
      "text/plain": [
       "<IPython.core.display.Math object>"
      ]
     },
     "metadata": {},
     "output_type": "display_data"
    }
   ],
   "source": [
    "display_matrix(np.corrcoef(H))"
   ]
  },
  {
   "cell_type": "code",
   "execution_count": 7,
   "id": "ef57c04e",
   "metadata": {},
   "outputs": [],
   "source": [
    "X = H\n",
    "A = Wpre @ Hm"
   ]
  },
  {
   "cell_type": "code",
   "execution_count": 8,
   "id": "ac500763",
   "metadata": {},
   "outputs": [],
   "source": [
    "lambday = 1 - 1e-5/10\n",
    "lambdae = 1 - 1e-6/10\n",
    "\n",
    "s_dim = S.shape[0]\n",
    "x_dim = X.shape[0]\n",
    "\n",
    "# Inverse output covariance\n",
    "By = 5 * np.eye(s_dim)\n",
    "# Inverse error covariance\n",
    "Be = 50 * np.eye(s_dim)\n",
    "\n",
    "debug_iteration_point = 1000\n",
    "model = OnlineLDMIBSS(s_dim = s_dim, x_dim = x_dim, muW = 1e-3, lambday = lambday,\n",
    "                      lambdae = lambdae, By = By, Be = Be, neural_OUTPUT_COMP_TOL = 1e-7,\n",
    "                      set_ground_truth = True, S = S, A = A)"
   ]
  },
  {
   "cell_type": "code",
   "execution_count": null,
   "id": "67c9afb2",
   "metadata": {},
   "outputs": [
    {
     "data": {
      "image/png": "[encoded data removed]",
      "text/plain": [
       "<Figure size 432x288 with 1 Axes>"
      ]
     },
     "metadata": {},
     "output_type": "display_data"
    },
    {
     "name": "stderr",
     "output_type": "stream",
     "text": [
      " 11%|███▊                              | 55196/500000 [00:40<04:58, 1488.89it/s]"
     ]
    }
   ],
   "source": [
    "model.fit_batch_antisparse(X = X, n_epochs = 1, neural_dynamic_iterations = 250,\n",
    "                           plot_in_jupyter = True, neural_lr_start = .1,\n",
    "                           neural_lr_stop = 0.001, debug_iteration_point = debug_iteration_point, \n",
    "                          shuffle = True)"
   ]
  },
  {
   "cell_type": "code",
   "execution_count": null,
   "id": "e7821176",
   "metadata": {},
   "outputs": [],
   "source": []
  }
 ],
 "metadata": {
  "kernelspec": {
   "display_name": "Python 3 (ipykernel)",
   "language": "python",
   "name": "python3"
  },
  "language_info": {
   "codemirror_mode": {
    "name": "ipython",
    "version": 3
   },
   "file_extension": ".py",
   "mimetype": "text/x-python",
   "name": "python",
   "nbconvert_exporter": "python",
   "pygments_lexer": "ipython3",
   "version": "3.8.12"
  }
 },
 "nbformat": 4,
 "nbformat_minor": 5
}
