{
 "cells": [
  {
   "cell_type": "code",
   "execution_count": 1,
   "id": "278f8c75",
   "metadata": {},
   "outputs": [],
   "source": [
    "import sys\n",
    "import os\n",
    "# os.chdir(\"..\")\n",
    "# os.chdir(\"./src\")\n",
    "# # sys.path.append(\"./src\")"
   ]
  },
  {
   "cell_type": "code",
   "execution_count": 2,
   "id": "bb427b84",
   "metadata": {},
   "outputs": [],
   "source": [
    "from IPython import display\n",
    "from IPython.display import clear_output\n",
    "import pylab as pl\n",
    "import numpy as np\n",
    "import matplotlib.pyplot as plt\n",
    "from numba import njit, jit\n",
    "from time import time\n",
    "# from helpers import *\n",
    "from LDMIBSSv2 import *\n",
    "# np.random.seed(13)\n",
    "%load_ext autoreload\n",
    "%autoreload 2"
   ]
  },
  {
   "cell_type": "code",
   "execution_count": 3,
   "id": "2b535b29",
   "metadata": {},
   "outputs": [
    {
     "name": "stdout",
     "output_type": "stream",
     "text": [
      "The following is the correlation matrix of sources\n"
     ]
    },
    {
     "data": {
      "text/latex": [
       "$\\displaystyle \\begin{bmatrix} \n",
       " 1.000 & 0.667 & 0.457 & 0.319 & 0.221 & \\\\\n",
       " 0.667 & 1.000 & 0.669 & 0.460 & 0.319 & \\\\\n",
       " 0.457 & 0.669 & 1.000 & 0.669 & 0.461 & \\\\\n",
       " 0.319 & 0.460 & 0.669 & 1.000 & 0.669 & \\\\\n",
       " 0.221 & 0.319 & 0.461 & 0.669 & 1.000 & \\\\\n",
       "\\end{bmatrix}$"
      ],
      "text/plain": [
       "<IPython.core.display.Math object>"
      ]
     },
     "metadata": {},
     "output_type": "display_data"
    },
    {
     "name": "stdout",
     "output_type": "stream",
     "text": [
      "The following is the mixture matrix A\n"
     ]
    },
    {
     "data": {
      "text/latex": [
       "$\\displaystyle \\begin{bmatrix} \n",
       " -0.184 & 0.502 & -1.829 & 1.548 & 0.628 & \\\\\n",
       " 0.616 & -0.608 & 1.543 & -1.448 & -1.106 & \\\\\n",
       " -1.966 & 1.442 & -1.316 & -2.134 & -1.145 & \\\\\n",
       " -0.232 & 0.569 & 0.774 & -0.074 & 0.096 & \\\\\n",
       " 0.822 & -0.752 & -0.481 & 0.010 & 0.449 & \\\\\n",
       " -0.049 & 0.195 & 0.408 & -0.279 & -1.334 & \\\\\n",
       " -0.108 & -0.659 & -0.377 & 0.233 & 0.455 & \\\\\n",
       " -1.347 & 0.353 & -0.091 & -0.083 & 1.024 & \\\\\n",
       " -0.699 & 0.906 & 0.557 & -0.553 & 0.146 & \\\\\n",
       " -0.211 & 0.419 & -0.284 & -0.323 & -0.543 & \\\\\n",
       "\\end{bmatrix}$"
      ],
      "text/plain": [
       "<IPython.core.display.Math object>"
      ]
     },
     "metadata": {},
     "output_type": "display_data"
    }
   ],
   "source": [
    "N = 500000\n",
    "NumberofSources = 5\n",
    "NumberofMixtures = 10\n",
    "S = generate_correlated_copula_sources(rho = 0.6, df = 4, n_sources = NumberofSources, size_sources = N , decreasing_correlation = True)\n",
    "# S = 2 * S -1 \n",
    "print(\"The following is the correlation matrix of sources\")\n",
    "display_matrix(np.corrcoef(S))\n",
    "\n",
    "# Generate Mxr random mixing from i.i.d N(0,1)\n",
    "A = np.random.randn(NumberofMixtures,NumberofSources)\n",
    "X = np.dot(A,S)\n",
    "\n",
    "# SNR = 30 # dB\n",
    "# NoiseAmp = (10 ** (-SNR/20))# * np.sqrt(NumberofSources)\n",
    "# NoisePart = NoiseAmp * np.random.randn(X.shape[0], X.shape[1])\n",
    "# X = X  + NoisePart\n",
    "# SNRinp = 10 * np.log10(np.sum(np.var(X, axis = 1)) / np.sum(np.var(NoisePart, axis = 1)))\n",
    "# print(\"Input SNR is : {}\".format(SNRinp))\n",
    "print(\"The following is the mixture matrix A\")\n",
    "display_matrix(A)"
   ]
  },
  {
   "cell_type": "code",
   "execution_count": 4,
   "id": "1c8e53d5",
   "metadata": {},
   "outputs": [],
   "source": [
    "lambday = 1 - 1e-1/10\n",
    "lambdae = 1 - 1e-7/10\n",
    "beta = 30\n",
    "s_dim = S.shape[0]\n",
    "x_dim = X.shape[0]\n",
    "\n",
    "# Inverse output covariance\n",
    "By = 5 * np.eye(s_dim)\n",
    "# Inverse error covariance\n",
    "Be = 1 * np.eye(s_dim)\n",
    "\n",
    "debug_iteration_point = 1000\n",
    "model = OnlineLDMIBSS(s_dim = s_dim, x_dim = x_dim, muW = 1e-3, lambday = lambday,\n",
    "                      lambdae = lambdae, beta = beta, By = By, Be = Be, neural_OUTPUT_COMP_TOL = 1e-6,\n",
    "                      set_ground_truth = True, S = S, A = A)"
   ]
  },
  {
   "cell_type": "code",
   "execution_count": null,
   "id": "5e11b067",
   "metadata": {},
   "outputs": [
    {
     "data": {
      "image/png": "[encoded data removed]",
      "text/plain": [
       "<Figure size 432x288 with 1 Axes>"
      ]
     },
     "metadata": {},
     "output_type": "display_data"
    },
    {
     "name": "stderr",
     "output_type": "stream",
     "text": [
      "\r",
      " 59%|███████████████████▍             | 294001/500000 [00:55<00:38, 5368.28it/s]"
     ]
    }
   ],
   "source": [
    "model.fit_batch_nnantisparse(X = X, n_epochs = 1, neural_dynamic_iterations = 500,\n",
    "                             plot_in_jupyter = True, neural_lr_start = 0.5,\n",
    "                             neural_lr_stop = 0.001, debug_iteration_point = debug_iteration_point, \n",
    "                             shuffle = True)"
   ]
  }
 ],
 "metadata": {
  "kernelspec": {
   "display_name": "Python 3 (ipykernel)",
   "language": "python",
   "name": "python3"
  },
  "language_info": {
   "codemirror_mode": {
    "name": "ipython",
    "version": 3
   },
   "file_extension": ".py",
   "mimetype": "text/x-python",
   "name": "python",
   "nbconvert_exporter": "python",
   "pygments_lexer": "ipython3",
   "version": "3.8.12"
  }
 },
 "nbformat": 4,
 "nbformat_minor": 5
}
