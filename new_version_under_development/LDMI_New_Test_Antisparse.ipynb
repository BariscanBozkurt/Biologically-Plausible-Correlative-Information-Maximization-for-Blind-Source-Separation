{
 "cells": [
  {
   "cell_type": "code",
   "execution_count": 1,
   "id": "ac6d83a7",
   "metadata": {},
   "outputs": [],
   "source": [
    "import sys\n",
    "import os\n",
    "# os.chdir(\"..\")\n",
    "# os.chdir(\"./src\")\n",
    "# # sys.path.append(\"./src\")"
   ]
  },
  {
   "cell_type": "code",
   "execution_count": 2,
   "id": "dd76cae6",
   "metadata": {},
   "outputs": [],
   "source": [
    "from IPython import display\n",
    "from IPython.display import clear_output\n",
    "import pylab as pl\n",
    "import numpy as np\n",
    "import matplotlib.pyplot as plt\n",
    "from numba import njit, jit\n",
    "from time import time\n",
    "# from helpers import *\n",
    "from LDMIBSSv2 import *\n",
    "# np.random.seed(13)\n",
    "%load_ext autoreload\n",
    "%autoreload 2"
   ]
  },
  {
   "cell_type": "code",
   "execution_count": 3,
   "id": "40e38185",
   "metadata": {},
   "outputs": [
    {
     "name": "stdout",
     "output_type": "stream",
     "text": [
      "The following is the correlation matrix of sources\n"
     ]
    },
    {
     "data": {
      "text/latex": [
       "$\\displaystyle \\begin{bmatrix} \n",
       " 1.000 & 0.468 & 0.232 & 0.113 & 0.058 & \\\\\n",
       " 0.468 & 1.000 & 0.468 & 0.231 & 0.116 & \\\\\n",
       " 0.232 & 0.468 & 1.000 & 0.470 & 0.234 & \\\\\n",
       " 0.113 & 0.231 & 0.470 & 1.000 & 0.471 & \\\\\n",
       " 0.058 & 0.116 & 0.234 & 0.471 & 1.000 & \\\\\n",
       "\\end{bmatrix}$"
      ],
      "text/plain": [
       "<IPython.core.display.Math object>"
      ]
     },
     "metadata": {},
     "output_type": "display_data"
    },
    {
     "name": "stdout",
     "output_type": "stream",
     "text": [
      "The following is the mixture matrix A\n"
     ]
    },
    {
     "data": {
      "text/latex": [
       "$\\displaystyle \\begin{bmatrix} \n",
       " 0.928 & 0.325 & 0.301 & -0.520 & -1.539 & \\\\\n",
       " 1.353 & 2.807 & -0.207 & 0.206 & 0.467 & \\\\\n",
       " -1.215 & 0.231 & -1.499 & -0.204 & -0.560 & \\\\\n",
       " 0.321 & -0.246 & 0.184 & -1.743 & -0.582 & \\\\\n",
       " -0.883 & 0.332 & -0.942 & -0.730 & 1.372 & \\\\\n",
       " -0.780 & -1.160 & -0.585 & 0.351 & -1.364 & \\\\\n",
       " 1.053 & -0.719 & -0.506 & -0.575 & -0.095 & \\\\\n",
       " -0.538 & -0.625 & 0.555 & -0.712 & -0.617 & \\\\\n",
       "\\end{bmatrix}$"
      ],
      "text/plain": [
       "<IPython.core.display.Math object>"
      ]
     },
     "metadata": {},
     "output_type": "display_data"
    },
    {
     "name": "stdout",
     "output_type": "stream",
     "text": [
      "Input SNR is : 32.24599227198108\n"
     ]
    }
   ],
   "source": [
    "N = 500000\n",
    "NumberofSources = 5\n",
    "NumberofMixtures = 8\n",
    "S = generate_correlated_copula_sources(rho = 0.5, df = 4, n_sources = NumberofSources, size_sources = N , decreasing_correlation = True)\n",
    "S = 2 * S -1 \n",
    "print(\"The following is the correlation matrix of sources\")\n",
    "display_matrix(np.corrcoef(S))\n",
    "\n",
    "# Generate Mxr random mixing from i.i.d N(0,1)\n",
    "A = np.random.randn(NumberofMixtures,NumberofSources)\n",
    "X = np.dot(A,S)\n",
    "\n",
    "SNR = 30 # dB\n",
    "NoiseAmp = (10 ** (-SNR/20))# * np.sqrt(NumberofSources)\n",
    "NoisePart = NoiseAmp * np.random.randn(X.shape[0], X.shape[1])\n",
    "X = X  + NoisePart\n",
    "SNRinp = 10 * np.log10(np.sum(np.var(X, axis = 1)) / np.sum(np.var(NoisePart, axis = 1)))\n",
    "print(\"The following is the mixture matrix A\")\n",
    "display_matrix(A)\n",
    "print(\"Input SNR is : {}\".format(SNRinp))"
   ]
  },
  {
   "cell_type": "code",
   "execution_count": 4,
   "id": "520a439a",
   "metadata": {},
   "outputs": [],
   "source": [
    "lambday = 1 - 1e-1/10\n",
    "lambdae = 1 - 1e-6/10\n",
    "beta = 30\n",
    "s_dim = S.shape[0]\n",
    "x_dim = X.shape[0]\n",
    "\n",
    "# Inverse output covariance\n",
    "By = 5 * np.eye(s_dim)\n",
    "# Inverse error covariance\n",
    "Be = 1 * np.eye(s_dim)\n",
    "\n",
    "debug_iteration_point = 1000\n",
    "model = OnlineLDMIBSS(s_dim = s_dim, x_dim = x_dim, muW = 1e-3, lambday = lambday,\n",
    "                      lambdae = lambdae, beta = beta, By = By, Be = Be, neural_OUTPUT_COMP_TOL = 1e-6,\n",
    "                      set_ground_truth = True, S = S, A = A)"
   ]
  },
  {
   "cell_type": "code",
   "execution_count": null,
   "id": "c25df6e0",
   "metadata": {},
   "outputs": [
    {
     "data": {
      "image/png": "[encoded data removed]",
      "text/plain": [
       "<Figure size 432x288 with 1 Axes>"
      ]
     },
     "metadata": {},
     "output_type": "display_data"
    },
    {
     "name": "stderr",
     "output_type": "stream",
     "text": [
      "\r",
      " 93%|██████████████████████████████▋  | 465001/500000 [01:42<00:07, 4886.48it/s]"
     ]
    }
   ],
   "source": [
    "model.fit_batch_antisparse(X = X, n_epochs = 1, neural_dynamic_iterations = 500,\n",
    "                           plot_in_jupyter = True, neural_lr_start = 0.9,\n",
    "                           neural_lr_stop = 0.001, debug_iteration_point = debug_iteration_point, \n",
    "                           shuffle = True)"
   ]
  },
  {
   "cell_type": "code",
   "execution_count": null,
   "id": "bb37ad8e",
   "metadata": {},
   "outputs": [],
   "source": []
  }
 ],
 "metadata": {
  "kernelspec": {
   "display_name": "Python 3 (ipykernel)",
   "language": "python",
   "name": "python3"
  },
  "language_info": {
   "codemirror_mode": {
    "name": "ipython",
    "version": 3
   },
   "file_extension": ".py",
   "mimetype": "text/x-python",
   "name": "python",
   "nbconvert_exporter": "python",
   "pygments_lexer": "ipython3",
   "version": "3.8.12"
  }
 },
 "nbformat": 4,
 "nbformat_minor": 5
}
